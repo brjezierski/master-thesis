{
 "cells": [
  {
   "cell_type": "code",
   "execution_count": 1,
   "id": "2a04a764",
   "metadata": {
    "id": "2a04a764"
   },
   "outputs": [],
   "source": [
    "# Load dictionaries for companies\n",
    "import pickle\n",
    "import pandas as pd\n",
    "from sentence_transformers import SentenceTransformer\n",
    "import numpy as np\n",
    "\n",
    "def load_pickle_file(file_path):\n",
    "    with open(file_path, 'rb') as f:\n",
    "        data = pickle.load(f)\n",
    "    return data\n",
    "\n",
    "# Assuming the files are in the current directory\n",
    "company_kw_vec = load_pickle_file('../glanos-data/company.kw.vec')\n",
    "# company_kw_vec_hr = load_pickle_file('glanos-data/company.kw.vec.hr')\n",
    "company_short_definitions_kw_vec = load_pickle_file('../glanos-data/company_short_definitions.kw.vec')\n",
    "# company_short_definitions_kw_vec_hr = load_pickle_file('glanos-data/company_short_definitions.kw.vec.hr')"
   ]
  },
  {
   "cell_type": "code",
   "execution_count": 2,
   "id": "12fbc94d",
   "metadata": {
    "colab": {
     "base_uri": "https://localhost:8080/",
     "height": 624
    },
    "id": "12fbc94d",
    "outputId": "ee1d3c1f-7dd0-4798-88be-907536243a5b",
    "scrolled": true
   },
   "outputs": [
    {
     "data": {
      "text/html": [
       "<div>\n",
       "<style scoped>\n",
       "    .dataframe tbody tr th:only-of-type {\n",
       "        vertical-align: middle;\n",
       "    }\n",
       "\n",
       "    .dataframe tbody tr th {\n",
       "        vertical-align: top;\n",
       "    }\n",
       "\n",
       "    .dataframe thead th {\n",
       "        text-align: right;\n",
       "    }\n",
       "</style>\n",
       "<table border=\"1\" class=\"dataframe\">\n",
       "  <thead>\n",
       "    <tr style=\"text-align: right;\">\n",
       "      <th></th>\n",
       "      <th>occurances</th>\n",
       "      <th>company</th>\n",
       "      <th>country</th>\n",
       "      <th>definition</th>\n",
       "      <th>additional definitions</th>\n",
       "      <th>keywords</th>\n",
       "    </tr>\n",
       "  </thead>\n",
       "  <tbody>\n",
       "    <tr>\n",
       "      <th>0</th>\n",
       "      <td>1175619</td>\n",
       "      <td>Technavio</td>\n",
       "      <td>GB</td>\n",
       "      <td>technology research company</td>\n",
       "      <td>consultancy|technology research company</td>\n",
       "      <td>406:confident strategic decisions|403:healthca...</td>\n",
       "    </tr>\n",
       "    <tr>\n",
       "      <th>1</th>\n",
       "      <td>1111946</td>\n",
       "      <td>Cable News Network</td>\n",
       "      <td>US</td>\n",
       "      <td>NaN</td>\n",
       "      <td>WarnerMedia company</td>\n",
       "      <td>1111917:warnermedia|13:warner media|6:states|6...</td>\n",
       "    </tr>\n",
       "    <tr>\n",
       "      <th>2</th>\n",
       "      <td>336949</td>\n",
       "      <td>Iiroc</td>\n",
       "      <td>CA</td>\n",
       "      <td>self-regulatory company</td>\n",
       "      <td>self-regulatory company</td>\n",
       "      <td>336866:investment dealers|330014:equity market...</td>\n",
       "    </tr>\n",
       "    <tr>\n",
       "      <th>3</th>\n",
       "      <td>242464</td>\n",
       "      <td>Rosen</td>\n",
       "      <td>US</td>\n",
       "      <td>law company</td>\n",
       "      <td>investor rights law company</td>\n",
       "      <td>241104:global investor rights|200641:purchaser...</td>\n",
       "    </tr>\n",
       "    <tr>\n",
       "      <th>4</th>\n",
       "      <td>196238</td>\n",
       "      <td>Schall</td>\n",
       "      <td>US</td>\n",
       "      <td>NaN</td>\n",
       "      <td>shareholder rights litigation company</td>\n",
       "      <td>195736:national shareholder rights|179758:viol...</td>\n",
       "    </tr>\n",
       "    <tr>\n",
       "      <th>...</th>\n",
       "      <td>...</td>\n",
       "      <td>...</td>\n",
       "      <td>...</td>\n",
       "      <td>...</td>\n",
       "      <td>...</td>\n",
       "      <td>...</td>\n",
       "    </tr>\n",
       "    <tr>\n",
       "      <th>187934</th>\n",
       "      <td>50</td>\n",
       "      <td>Cdp North America</td>\n",
       "      <td>NaN</td>\n",
       "      <td>research company</td>\n",
       "      <td>disclosure platform research company|investmen...</td>\n",
       "      <td>136:major corporations|136:financial markets|4...</td>\n",
       "    </tr>\n",
       "    <tr>\n",
       "      <th>187935</th>\n",
       "      <td>50</td>\n",
       "      <td>Money Carer Foundation</td>\n",
       "      <td>NaN</td>\n",
       "      <td>social company</td>\n",
       "      <td>social company</td>\n",
       "      <td>33:own financial affairs|33:vulnerable adults|...</td>\n",
       "    </tr>\n",
       "    <tr>\n",
       "      <th>187936</th>\n",
       "      <td>50</td>\n",
       "      <td>Emerging Markets Private Equity</td>\n",
       "      <td>NaN</td>\n",
       "      <td>trade company</td>\n",
       "      <td>capital company|trade company|trade private in...</td>\n",
       "      <td>40:emerging markets|36:changes|6:private inves...</td>\n",
       "    </tr>\n",
       "    <tr>\n",
       "      <th>187937</th>\n",
       "      <td>50</td>\n",
       "      <td>Bryght Ai</td>\n",
       "      <td>NaN</td>\n",
       "      <td>intelligence company</td>\n",
       "      <td>conversational intelligence company|scoring pl...</td>\n",
       "      <td>2:research services</td>\n",
       "    </tr>\n",
       "    <tr>\n",
       "      <th>187938</th>\n",
       "      <td>50</td>\n",
       "      <td>Tmg360 Media</td>\n",
       "      <td>NaN</td>\n",
       "      <td>digital company</td>\n",
       "      <td>digital platform</td>\n",
       "      <td>50:strategic partnerships</td>\n",
       "    </tr>\n",
       "  </tbody>\n",
       "</table>\n",
       "<p>187939 rows × 6 columns</p>\n",
       "</div>"
      ],
      "text/plain": [
       "        occurances                          company country   \n",
       "0          1175619                        Technavio      GB  \\\n",
       "1          1111946               Cable News Network      US   \n",
       "2           336949                            Iiroc      CA   \n",
       "3           242464                            Rosen      US   \n",
       "4           196238                           Schall      US   \n",
       "...            ...                              ...     ...   \n",
       "187934          50                Cdp North America     NaN   \n",
       "187935          50           Money Carer Foundation     NaN   \n",
       "187936          50  Emerging Markets Private Equity     NaN   \n",
       "187937          50                        Bryght Ai     NaN   \n",
       "187938          50                     Tmg360 Media     NaN   \n",
       "\n",
       "                         definition   \n",
       "0       technology research company  \\\n",
       "1                               NaN   \n",
       "2           self-regulatory company   \n",
       "3                       law company   \n",
       "4                               NaN   \n",
       "...                             ...   \n",
       "187934             research company   \n",
       "187935               social company   \n",
       "187936                trade company   \n",
       "187937         intelligence company   \n",
       "187938              digital company   \n",
       "\n",
       "                                   additional definitions   \n",
       "0                 consultancy|technology research company  \\\n",
       "1                                     WarnerMedia company   \n",
       "2                                 self-regulatory company   \n",
       "3                             investor rights law company   \n",
       "4                   shareholder rights litigation company   \n",
       "...                                                   ...   \n",
       "187934  disclosure platform research company|investmen...   \n",
       "187935                                     social company   \n",
       "187936  capital company|trade company|trade private in...   \n",
       "187937  conversational intelligence company|scoring pl...   \n",
       "187938                                   digital platform   \n",
       "\n",
       "                                                 keywords  \n",
       "0       406:confident strategic decisions|403:healthca...  \n",
       "1       1111917:warnermedia|13:warner media|6:states|6...  \n",
       "2       336866:investment dealers|330014:equity market...  \n",
       "3       241104:global investor rights|200641:purchaser...  \n",
       "4       195736:national shareholder rights|179758:viol...  \n",
       "...                                                   ...  \n",
       "187934  136:major corporations|136:financial markets|4...  \n",
       "187935  33:own financial affairs|33:vulnerable adults|...  \n",
       "187936  40:emerging markets|36:changes|6:private inves...  \n",
       "187937                                2:research services  \n",
       "187938                          50:strategic partnerships  \n",
       "\n",
       "[187939 rows x 6 columns]"
      ]
     },
     "execution_count": 2,
     "metadata": {},
     "output_type": "execute_result"
    }
   ],
   "source": [
    "params = {\n",
    "    \"DEFINITION_WEIGHT\": 0.0,\n",
    "    \"MODEL\": \"sbert\", # sbert\n",
    "}\n",
    "cn_descriptors_df = pd.read_csv('../glanos-data/cn_descriptors_top.tsv', sep='\\t').drop(columns=['Unnamed: 6'])\n",
    "cn_descriptors_df"
   ]
  },
  {
   "cell_type": "code",
   "execution_count": 8,
   "id": "5194c8d9",
   "metadata": {
    "colab": {
     "base_uri": "https://localhost:8080/"
    },
    "id": "5194c8d9",
    "outputId": "76a04b4d-9899-469c-d215-70f300db8757"
   },
   "outputs": [],
   "source": [
    "import torch\n",
    "from tqdm import tqdm\n",
    "tqdm.pandas()\n",
    "\n",
    "sbert_model = SentenceTransformer('all-MiniLM-L12-v2', device='cuda' if torch.cuda.is_available() else 'cpu')\n",
    "sbert_dict = {}\n",
    "\n",
    "def sbert_encode(string_to_encode):\n",
    "    if string_to_encode in sbert_dict:\n",
    "        return sbert_dict[string_to_encode]\n",
    "    else:\n",
    "        encoding = sbert_model.encode(string_to_encode)\n",
    "        sbert_dict[string_to_encode] = encoding\n",
    "        return encoding\n",
    "    \n",
    "def aggregate_embeddings(keys, embeddings_dict):\n",
    "    embeddings = []\n",
    "    for key in keys:\n",
    "        embedding = sbert_encode(key) if params[\"MODEL\"] == \"sbert\" else embeddings_dict[key]\n",
    "        embeddings.append(embedding)\n",
    "    return np.mean(embeddings, axis=0)\n",
    "\n",
    "\n",
    "def get_embedding(row):\n",
    "    company, definition, additional_definitions = row['company'], row['definition'], row['additional definitions']\n",
    "    if pd.isna(additional_definitions) and pd.isna(definition):\n",
    "        return np.nan\n",
    "    if params[\"MODEL\"] != \"sbert\":\n",
    "        additional_definitions = additional_definitions.replace(' ', '-').split('|')\n",
    "    else:\n",
    "        additional_definitions = additional_definitions.split('|')\n",
    "    row['embedding_add_def'] = aggregate_embeddings(additional_definitions, company_kw_vec)\n",
    "    if pd.isna(definition):\n",
    "        row['embedding'] = row['embedding_add_def']\n",
    "        return row\n",
    "    if params[\"MODEL\"] != \"sbert\":\n",
    "        definition = definition.replace(' ', '-')\n",
    "    row['embedding_def'] = sbert_encode(definition) if params[\"MODEL\"] == \"sbert\" else np.array(company_kw_vec[definition])\n",
    "    row['embedding'] = (1-params[\"DEFINITION_WEIGHT\"])*row['embedding_add_def']+params[\"DEFINITION_WEIGHT\"]*row['embedding_def']\n",
    "    return row\n",
    "\n",
    "def save_embeddings():\n",
    "    company_embedding_dict = cn_descriptors_df.set_index('company')['embedding'].to_dict()\n",
    "    company_embedding_dict = {k: v for k, v in company_embedding_dict.items() if not pd.isna(k)}\n",
    "    company_embedding_dict = {k.lower(): v for k, v in company_embedding_dict.items()}\n",
    "    prefix = \"../glanos-data/embeddings/\"\n",
    "#     with open(f'../glanos-data/company.kw.sbert.vec', 'wb') as f:\n",
    "#         pickle.dump(sbert_dict, f)\n",
    "    with open(f'{prefix}company_embedding_dicts_{params[\"MODEL\"]}_{params[\"DEFINITION_WEIGHT\"]}.pickle', 'wb') as f:\n",
    "        pickle.dump(company_embedding_dict, f)"
   ]
  },
  {
   "cell_type": "code",
   "execution_count": 9,
   "id": "ee0e2774",
   "metadata": {},
   "outputs": [
    {
     "name": "stdout",
     "output_type": "stream",
     "text": [
      "definition_weight 0.1\n"
     ]
    },
    {
     "name": "stderr",
     "output_type": "stream",
     "text": [
      "100%|██████████████████████████████████████████████████████████| 187939/187939 [47:00<00:00, 66.64it/s]\n"
     ]
    },
    {
     "name": "stdout",
     "output_type": "stream",
     "text": [
      "definition_weight 0.2\n"
     ]
    },
    {
     "name": "stderr",
     "output_type": "stream",
     "text": [
      "100%|███████████████████████████████████████████████████████| 187939/187939 [00:11<00:00, 16953.94it/s]\n"
     ]
    },
    {
     "name": "stdout",
     "output_type": "stream",
     "text": [
      "definition_weight 0.30000000000000004\n"
     ]
    },
    {
     "name": "stderr",
     "output_type": "stream",
     "text": [
      "100%|███████████████████████████████████████████████████████| 187939/187939 [00:10<00:00, 17798.26it/s]\n"
     ]
    },
    {
     "name": "stdout",
     "output_type": "stream",
     "text": [
      "definition_weight 0.4\n"
     ]
    },
    {
     "name": "stderr",
     "output_type": "stream",
     "text": [
      "100%|███████████████████████████████████████████████████████| 187939/187939 [00:10<00:00, 17837.69it/s]\n"
     ]
    },
    {
     "name": "stdout",
     "output_type": "stream",
     "text": [
      "definition_weight 0.5\n"
     ]
    },
    {
     "name": "stderr",
     "output_type": "stream",
     "text": [
      "100%|███████████████████████████████████████████████████████| 187939/187939 [00:11<00:00, 16400.54it/s]\n"
     ]
    },
    {
     "name": "stdout",
     "output_type": "stream",
     "text": [
      "definition_weight 0.6\n"
     ]
    },
    {
     "name": "stderr",
     "output_type": "stream",
     "text": [
      "100%|███████████████████████████████████████████████████████| 187939/187939 [00:10<00:00, 17942.75it/s]\n"
     ]
    },
    {
     "name": "stdout",
     "output_type": "stream",
     "text": [
      "definition_weight 0.7000000000000001\n"
     ]
    },
    {
     "name": "stderr",
     "output_type": "stream",
     "text": [
      "100%|███████████████████████████████████████████████████████| 187939/187939 [00:10<00:00, 17783.30it/s]\n"
     ]
    },
    {
     "name": "stdout",
     "output_type": "stream",
     "text": [
      "definition_weight 0.8\n"
     ]
    },
    {
     "name": "stderr",
     "output_type": "stream",
     "text": [
      "100%|███████████████████████████████████████████████████████| 187939/187939 [00:13<00:00, 13815.32it/s]\n"
     ]
    },
    {
     "name": "stdout",
     "output_type": "stream",
     "text": [
      "definition_weight 0.9\n"
     ]
    },
    {
     "name": "stderr",
     "output_type": "stream",
     "text": [
      "100%|███████████████████████████████████████████████████████| 187939/187939 [00:12<00:00, 15088.98it/s]\n"
     ]
    },
    {
     "name": "stdout",
     "output_type": "stream",
     "text": [
      "definition_weight 1.0\n"
     ]
    },
    {
     "name": "stderr",
     "output_type": "stream",
     "text": [
      "100%|███████████████████████████████████████████████████████| 187939/187939 [00:10<00:00, 17900.33it/s]\n"
     ]
    }
   ],
   "source": [
    "for definition_weight in np.arange(0.1, 1.1, 0.1):\n",
    "    print('definition_weight', definition_weight)\n",
    "    params[\"DEFINITION_WEIGHT\"] = definition_weight\n",
    "    cn_descriptors_df = cn_descriptors_df.progress_apply(lambda row: get_embedding(row), axis=1)\n",
    "    save_embeddings()"
   ]
  },
  {
   "cell_type": "code",
   "execution_count": null,
   "id": "aa1e6567",
   "metadata": {},
   "outputs": [],
   "source": []
  }
 ],
 "metadata": {
  "accelerator": "GPU",
  "colab": {
   "provenance": []
  },
  "kernelspec": {
   "display_name": "Python 3 (ipykernel)",
   "language": "python",
   "name": "python3"
  },
  "language_info": {
   "codemirror_mode": {
    "name": "ipython",
    "version": 3
   },
   "file_extension": ".py",
   "mimetype": "text/x-python",
   "name": "python",
   "nbconvert_exporter": "python",
   "pygments_lexer": "ipython3",
   "version": "3.9.16"
  }
 },
 "nbformat": 4,
 "nbformat_minor": 5
}
