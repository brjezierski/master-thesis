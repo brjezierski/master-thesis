{
 "cells": [
  {
   "cell_type": "code",
   "execution_count": 8,
   "id": "a99f7069",
   "metadata": {},
   "outputs": [],
   "source": [
    "import importlib\n",
    "import classification_training_utils\n",
    "importlib.reload(classification_training_utils)\n",
    "import utils\n",
    "importlib.reload(utils)\n",
    "\n",
    "import sys\n",
    "sys.path.append('../')\n",
    "\n",
    "import pandas as pd\n",
    "from sentence_transformers import SentenceTransformer, LoggingHandler, losses, util\n",
    "from sentence_transformers.datasets import SentenceLabelDataset\n",
    "from sentence_transformers.readers import InputExample\n",
    "from sentence_transformers.evaluation import TripletEvaluator\n",
    "from sklearn.metrics.pairwise import cosine_similarity\n",
    "from utils import load_model, replace_nan_with, load_big_consulting_export, callback, create_replace_no_tags_embeddings\n",
    "import numpy as np\n",
    "import random\n",
    "from torch.utils.data import DataLoader\n",
    "from datetime import datetime\n",
    "import os\n",
    "from collections import defaultdict\n",
    "import S3BERT.src.model_freeze as freeze\n",
    "import matplotlib.pyplot as plt\n",
    "plt.style.use('ggplot')\n",
    "\n",
    "\n",
    "from classification_training_utils import get_big_consulting_df, collect_classification_labels, get_relevant_classifications, train, filter_relevant_classifications, get_top_values, get_news_df\n",
    "from transformers import EarlyStoppingCallback\n",
    "import math\n",
    "import torch\n",
    "from tqdm import tqdm\n",
    "tqdm.pandas()\n",
    "import pickle"
   ]
  },
  {
   "cell_type": "code",
   "execution_count": 9,
   "id": "e942478b",
   "metadata": {},
   "outputs": [],
   "source": [
    "params = {}\n",
    "params[\"EPOCHS\"] = 4\n",
    "params[\"USE_REPLACE_DATA\"] = True\n",
    "params[\"USE_ORIGINAL_DATA\"] = False\n",
    "params[\"UNFREEZE_LAYERS\"] = 2\n",
    "params[\"EXCLUDE_ENTITY_OTHER\"] = True\n",
    "params[\"INITIALIZED_MODEL\"] = None #\"brjezierski/S3BERT\" # \"intfloat/e5-small-v2\"\n",
    "params[\"OCCURENCE_CUTOFF\"] = 2\n",
    "params[\"CREATE_NEW_SPLIT\"] = False\n",
    "params[\"BATCH_SIZE\"] = 32\n",
    "\n",
    "dataset_dir = \"../classification-training-data/\" #5-9-23/\"\n",
    "sbert_model = load_model() if not params[\"INITIALIZED_MODEL\"] else load_model(\n",
    "        model=params[\"INITIALIZED_MODEL\"])"
   ]
  },
  {
   "cell_type": "code",
   "execution_count": 10,
   "id": "37b4a846",
   "metadata": {},
   "outputs": [
    {
     "name": "stdout",
     "output_type": "stream",
     "text": [
      "['LEADERSHIP', 'STAFFING-LAYOFFS', '^SELL-TO', 'STATE', 'SUPPLY', 'ACQUIRED', 'OP_LOC', '^EMPLOY', 'FIGHT-ABUSE-HUM', 'COWORK', 'DEAL', 'COMPETENCE', 'GROW-MARKET', 'PENALTY-IP', 'SELL', 'USE-PROD', 'MARKET_LOC', 'MEDIASCORE', '^USE', 'AGREEMENT', 'SUE-END', '^SELL', 'PRODUCT-ADV', 'PRODUCT', 'CAREER', 'REGULATORY', 'TECH-PATENT', 'RIGHTS', 'MARKET-COVERAGE', 'CLOSE-FACILITY', 'GROW-FORECAST', 'PROBLEM', 'DECLINE-MARKET', 'EMPLOY-STOP', 'FUNDING', 'GROW-PROD', 'FOUNDER', 'GROW-HIRE', 'PRODUCT-STOP', 'OPERATE-LAUNCH', '^SUPPLY', 'ACQUIRE', 'MARKET', 'DECLINE', 'EMPLOY', 'PARTNER_JV', 'SERVICE', 'EVENT', 'TECH', '^DEAL', 'PARTNER', 'STAFFING', 'EMPLOY-START', 'GENERAL', 'STRATEGY', 'ENTITY', 'GROW-FACILITY', 'ACTIVITY_LOC', 'ABUSE-LAW', 'ABUSE-BR', 'PENALTY', 'AWARD-SPONS', 'EFFICIENCY', 'INVEST', 'COMPETE', 'GROW', 'OTHER', '^SERVICE', 'PR', 'CRITIC', 'PROBLEM-SOLUTION', 'CHARITY', 'CORP_REPORT', 'LAUNCH', 'DECISION', 'GROW-NEUTRAL', 'AWARD', 'SUE-WIN', 'ACQUIRE-ASSET', 'INTERNAL', 'USE', 'PART_OF', 'LAUNCH-FACILITY', '^SUE', 'PRODUCT-LAUNCH', 'MONETARY', 'MILESTONE', '^INVEST', 'HIRE', 'REPORT', 'HQ_LOC', 'RATED']\n",
      "Share of rows with a non-empty list in 'classification': 2755\n",
      "Share of rows with a list of len 2 in 'classification': 21\n",
      "# of rows with a non-empty list in top_classification: 2755\n",
      "growneutral 537\n",
      "state 287\n",
      "employ 234\n",
      "product 229\n",
      "partner 187\n",
      "grow 78\n",
      "decline 68\n",
      "productlaunch 63\n",
      "acquire 62\n",
      "career 60\n",
      "employstart 55\n",
      "regulatory 53\n",
      "deal 51\n",
      "report 45\n",
      "problem 44\n",
      "general 42\n",
      "growprod 40\n",
      "employstop 34\n",
      "invest 33\n",
      "staffinglayoffs 32\n",
      "agreement 32\n",
      "use 31\n",
      "supply 30\n",
      "techpatent 26\n",
      "growmarket 24\n",
      "pr 21\n",
      "^sue 17\n",
      "service 16\n",
      "op_loc 15\n",
      "internal 14\n",
      "rated 14\n",
      "funding 13\n",
      "launchfacility 13\n",
      "market_loc 13\n",
      "cowork 12\n",
      "tech 12\n",
      "monetary 11\n",
      "staffing 11\n",
      "competence 11\n",
      "^service 10\n",
      "corp_report 10\n",
      "leadership 9\n",
      "^invest 9\n",
      "penalty 9\n",
      "part_of 8\n",
      "launch 8\n",
      "marketcoverage 7\n",
      "efficiency 7\n",
      "rights 6\n",
      "awardspons 6\n",
      "event 6\n",
      "founder 6\n",
      "award 6\n",
      "growfacility 5\n",
      "market 5\n",
      "acquireasset 5\n",
      "hq_loc 5\n",
      "growhire 4\n",
      "compete 4\n",
      "mediascore 4\n",
      "growforecast 3\n",
      "abuselaw 3\n",
      "^supply 3\n",
      "charity 3\n",
      "milestone 3\n",
      "strategy 2\n",
      "operatelaunch 2\n",
      "partner_jv 2\n",
      "productstop 2\n",
      "sell 2\n",
      "closefacility 2\n",
      "^use 2\n",
      "penaltyip 2\n",
      "declinemarket 2\n",
      "productadv 2\n",
      "decision 1\n",
      "critic 1\n",
      "acquired 1\n",
      "suewin 1\n",
      "^sellto 1\n",
      "^employ 1\n",
      "^deal 1\n",
      "useprod 1\n",
      "^sell 1\n",
      "abusebr 1\n",
      "sueend 1\n"
     ]
    }
   ],
   "source": [
    "\n",
    "\n",
    "prefix = \"../glanos-data/embeddings/\"\n",
    "\n",
    "with open(f'{prefix}big_consulting_2_snippet.pickle', 'rb') as f:\n",
    "# with open(f'{prefix}big_consulting_2_replace_no_tags.pickle', 'rb') as f:\n",
    "    replace_no_tags_embeddings = pickle.load(f)\n",
    "\n",
    "replace_data_path = '../glanos-data/datasets/big_consulting_export_replace.tsv'\n",
    "\n",
    "if os.path.exists(replace_data_path):\n",
    "    df = pd.read_csv(replace_data_path, sep='\\t')\n",
    "    df['embedding'] = df['snippet'].map(replace_no_tags_embeddings)\n",
    "#     df = create_replace_no_tags_embeddings(df, replace_no_tags_embeddings)\n",
    "#     df['embedding'] = df['replace_no_tags'].map(replace_no_tags_embeddings)\n",
    "\n",
    "df = collect_classification_labels(df, verbose=True)\n",
    "df = get_top_values(df, params)\n",
    "all_classifications, relevant_classifications = get_relevant_classifications(df, params)\n",
    "df, classifications = filter_relevant_classifications(df, all_classifications, relevant_classifications)\n"
   ]
  },
  {
   "cell_type": "code",
   "execution_count": 11,
   "id": "4c3fd023",
   "metadata": {},
   "outputs": [],
   "source": [
    "params[\"WARMUP_STEPS\"] = int(len(df) * params[\"EPOCHS\"] * 0.1)  # 10% of train data\n",
    "# df['snippet'] = df['replace_no_tags']"
   ]
  },
  {
   "cell_type": "code",
   "execution_count": 12,
   "id": "7bc72dc6",
   "metadata": {},
   "outputs": [
    {
     "name": "stdout",
     "output_type": "stream",
     "text": [
      "Training with one objective\n",
      "e=4 Using replacement data, unfreezing 2 last layers, excluding Entity and Other labels, only including words that occur at least 2 times, training data size2585\n",
      "\n",
      "Training data size 2585\n",
      "Validation data size 100\n",
      "Test data size 100\n",
      "Performance before fine-tuning:\n"
     ]
    },
    {
     "data": {
      "application/vnd.jupyter.widget-view+json": {
       "model_id": "28f8b5b3e1b344a6af1ea3fc67bc6fa4",
       "version_major": 2,
       "version_minor": 0
      },
      "text/plain": [
       "Epoch:   0%|          | 0/4 [00:00<?, ?it/s]"
      ]
     },
     "metadata": {},
     "output_type": "display_data"
    },
    {
     "data": {
      "application/vnd.jupyter.widget-view+json": {
       "model_id": "30beb0c67f044b92877f3523c6e47d2a",
       "version_major": 2,
       "version_minor": 0
      },
      "text/plain": [
       "Iteration:   0%|          | 0/80 [00:00<?, ?it/s]"
      ]
     },
     "metadata": {},
     "output_type": "display_data"
    },
    {
     "name": "stdout",
     "output_type": "stream",
     "text": [
      "Score at epoch 0, step -1: 0.78\n"
     ]
    },
    {
     "data": {
      "application/vnd.jupyter.widget-view+json": {
       "model_id": "cdcb4c7cb5644856965ff8207f934928",
       "version_major": 2,
       "version_minor": 0
      },
      "text/plain": [
       "Iteration:   0%|          | 0/80 [00:00<?, ?it/s]"
      ]
     },
     "metadata": {},
     "output_type": "display_data"
    },
    {
     "name": "stdout",
     "output_type": "stream",
     "text": [
      "Score at epoch 1, step -1: 0.8\n"
     ]
    },
    {
     "data": {
      "application/vnd.jupyter.widget-view+json": {
       "model_id": "5a99fa8055c94715adb929c4566fdeeb",
       "version_major": 2,
       "version_minor": 0
      },
      "text/plain": [
       "Iteration:   0%|          | 0/80 [00:00<?, ?it/s]"
      ]
     },
     "metadata": {},
     "output_type": "display_data"
    },
    {
     "name": "stdout",
     "output_type": "stream",
     "text": [
      "Score at epoch 2, step -1: 0.82\n"
     ]
    },
    {
     "data": {
      "application/vnd.jupyter.widget-view+json": {
       "model_id": "5e674c54fc1e4bcabe5e7f9491ae7b69",
       "version_major": 2,
       "version_minor": 0
      },
      "text/plain": [
       "Iteration:   0%|          | 0/80 [00:00<?, ?it/s]"
      ]
     },
     "metadata": {},
     "output_type": "display_data"
    },
    {
     "name": "stdout",
     "output_type": "stream",
     "text": [
      "Score at epoch 3, step -1: 0.84\n"
     ]
    }
   ],
   "source": [
    "model_fit, test_evaluator, sbert_model = train(df, classifications, params, dataset_dir, sbert_model)\n"
   ]
  },
  {
   "cell_type": "code",
   "execution_count": 13,
   "id": "d821744c",
   "metadata": {},
   "outputs": [
    {
     "data": {
      "text/plain": [
       "0.84"
      ]
     },
     "execution_count": 13,
     "metadata": {},
     "output_type": "execute_result"
    }
   ],
   "source": [
    "sbert_model.evaluate(test_evaluator)"
   ]
  },
  {
   "cell_type": "code",
   "execution_count": 14,
   "id": "132e9124",
   "metadata": {},
   "outputs": [
    {
     "data": {
      "text/plain": [
       "0.77"
      ]
     },
     "execution_count": 14,
     "metadata": {},
     "output_type": "execute_result"
    }
   ],
   "source": [
    "frozen_model = load_model()\n",
    "frozen_model.evaluate(test_evaluator)"
   ]
  },
  {
   "cell_type": "code",
   "execution_count": null,
   "id": "9be9d618",
   "metadata": {},
   "outputs": [],
   "source": []
  },
  {
   "cell_type": "code",
   "execution_count": null,
   "id": "d8907523",
   "metadata": {},
   "outputs": [],
   "source": []
  }
 ],
 "metadata": {
  "kernelspec": {
   "display_name": "Python 3 (ipykernel)",
   "language": "python",
   "name": "python3"
  },
  "language_info": {
   "codemirror_mode": {
    "name": "ipython",
    "version": 3
   },
   "file_extension": ".py",
   "mimetype": "text/x-python",
   "name": "python",
   "nbconvert_exporter": "python",
   "pygments_lexer": "ipython3",
   "version": "3.9.16"
  }
 },
 "nbformat": 4,
 "nbformat_minor": 5
}
