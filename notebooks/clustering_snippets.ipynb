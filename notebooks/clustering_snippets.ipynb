{
 "cells": [
  {
   "cell_type": "code",
   "execution_count": 16,
   "metadata": {},
   "outputs": [
    {
     "name": "stderr",
     "output_type": "stream",
     "text": [
      "[nltk_data] Downloading package stopwords to\n",
      "[nltk_data]     /Users/bartekjezierski/nltk_data...\n",
      "[nltk_data]   Package stopwords is already up-to-date!\n",
      "[nltk_data] Downloading package stopwords to\n",
      "[nltk_data]     /Users/bartekjezierski/nltk_data...\n",
      "[nltk_data]   Package stopwords is already up-to-date!\n"
     ]
    }
   ],
   "source": [
    "import sys\n",
    "import os\n",
    "import pickle\n",
    "\n",
    "import importlib\n",
    "import clustering_utils\n",
    "importlib.reload(clustering_utils)\n",
    "import utils\n",
    "importlib.reload(utils)\n",
    "sys.path.append('../chat-intents/chatintents')\n",
    "import chatintents\n",
    "importlib.reload(chatintents)\n",
    "\n",
    "import numpy as np\n",
    "import pandas as pd\n",
    "from hyperopt import hp\n",
    "from sentence_transformers import SentenceTransformer\n",
    "import json\n",
    "import argparse\n",
    "import yaml\n",
    "\n",
    "import plotly.express as px\n",
    "import matplotlib.pyplot as plt\n",
    "import umap\n",
    "import fast_hdbscan\n",
    "import time\n",
    "import torch\n",
    "import re\n",
    "from bertopic import BERTopic\n",
    "from sentence_transformers import SentenceTransformer\n",
    "from clustering_utils import remove_duplicates, get_bert_topics, get_chat_intents_topics, get_clustering_metrics, get_most_common_company, save_input_with_params, get_clustering_metrics, plot_best_clusters, save_embeddings, perform_clustering, remove_stopwords\n",
    "from clustering_utils import is_supervised_training, split_supervised_training_df\n",
    "from utils import load_model, create_replace_no_tags_embeddings\n",
    "from chatintents import ChatIntents\n",
    "\n",
    "from nltk.corpus import stopwords\n",
    "import nltk\n",
    "from bertopic.representation import MaximalMarginalRelevance\n",
    "import openai\n",
    "from bertopic.representation import OpenAI\n",
    "from sklearn.feature_extraction.text import CountVectorizer"
   ]
  },
  {
   "cell_type": "code",
   "execution_count": 17,
   "metadata": {},
   "outputs": [],
   "source": [
    "params = {}\n",
    "params['DROP_DUPLICATES'] = True\n",
    "params['TOPIC_MODEL'] = \"bert\" # \"chat_intents\"\n",
    "params['INPUT_DIR'] = '../glanos-data/clustering/input/'\n",
    "params['OUTPUT_DIR'] = '../glanos-data/clustering/output/'\n",
    "params['BAYESIAN_SEARCH_METRIC'] = 'topic_diversity+bert' # 'outliers', 'topic_overlap+bert', 'topic_diversity+bert'\n",
    "params['REMOVE_STOPWORDS'] = True\n",
    "params['KEEP_ONLY_BAD_LABELS'] = True\n",
    "params['INFERENCE_LABELS'] = ['OTHER|ENTITY', 'OTHER', 'ENTITY', 'ENTITY|OTHER']\n",
    "params['SEMI_SUPERVISED'] = True\n",
    "params['PENALTY'] = 'label_count' # ['label_count', 'outside_range']\n",
    "params['LABEL_RANGE'] = (28, 50) # applicable only if outside_range in PENALTY\n",
    "params['OUTSIDE_RANGE_PENALTY'] = 10 # applicable only if outside_range in PENALTY\n",
    "params['TOP_K_TOPICS'] = 10\n",
    "params['N_NEIGHBORS_RANGE'] = range(50, 80)\n",
    "params['N_COMPONENTS_RANGE'] = range(4, 15)\n",
    "params['MIN_CLUSTER_SIZE_RANGE'] = range(25, 60)\n",
    "params['MIN_SAMPLE_SIZE_RANGE'] = range(1, 4)\n",
    "params['MAX_EVALS'] = 15 # best: 20, only relevant for the hyperparameter search\n"
   ]
  },
  {
   "cell_type": "code",
   "execution_count": 18,
   "metadata": {},
   "outputs": [],
   "source": [
    "def run_bayesian_search(model, params, df=None, param_output_file_path=None):\n",
    "    hspace = {\n",
    "        \"n_neighbors\": hp.choice('n_neighbors', params['N_NEIGHBORS_RANGE']),\n",
    "        \"n_components\": hp.choice('n_components', params['N_COMPONENTS_RANGE']),\n",
    "        \"min_cluster_size\": hp.choice('min_cluster_size', params['MIN_CLUSTER_SIZE_RANGE']),\n",
    "        \"min_samples\": hp.choice('min_samples', params['MIN_SAMPLE_SIZE_RANGE']), # the higher it is, the more strict will clustering be and have more outliers\n",
    "        \"random_state\": 42\n",
    "    }\n",
    "\n",
    "    label_lower = params['LABEL_RANGE'][0]\n",
    "    label_upper = params['LABEL_RANGE'][1]\n",
    "    best_params, best_clusters, trials = model.bayesian_search(space=hspace,\n",
    "                          label_lower=label_lower,\n",
    "                          label_upper=label_upper,\n",
    "                          params=params,\n",
    "                          df=df\n",
    "                          )\n",
    "    if param_output_file_path:\n",
    "        save_input_with_params(best_params, df, param_output_file_path)\n",
    "    return best_params"
   ]
  },
  {
   "cell_type": "code",
   "execution_count": 19,
   "metadata": {},
   "outputs": [],
   "source": [
    "from contextualized_topic_models.models.ctm import CombinedTM\n",
    "from contextualized_topic_models.utils.data_preparation import TopicModelDataPreparation\n",
    "\n",
    "def cluster(input_file_name, params, hf_model_name=\"\", topic_model=params['TOPIC_MODEL']):\n",
    "    params['HF_MODEL_NAME'] = hf_model_name\n",
    "    input_file_path = params['INPUT_DIR'] + input_file_name\n",
    "    print('Input file', input_file_path)\n",
    "    \n",
    "    if \"data2\" in input_file_path and \"replace_no_tags\" in input_file_path and 'seb' in input_file_path:\n",
    "        dataset_file_path = '../glanos-data/clustering/big_consulting_export_replace_seb.tsv' \n",
    "    elif \"data2\" in input_file_path and \"replace_no_tags\" in input_file_path:\n",
    "        dataset_file_path = '../glanos-data/clustering/big_consulting_export_replace_no_duplicates.tsv' \n",
    "    elif \"data2\" in input_file_path:\n",
    "        dataset_file_path = '../glanos-data/clustering/big_consulting_export_data2_no_duplicates.tsv' \n",
    "    else:\n",
    "        dataset_file_path = '../glanos-data/clustering/big_consulting_export.tsv'\n",
    "        \n",
    "    if not os.path.exists(input_file_path):\n",
    "        if os.path.exists(input_file_path.replace('_params', '')):\n",
    "            input_file_path = input_file_path.replace('_params', '')\n",
    "        else:\n",
    "            save_embeddings(hf_model_name, \n",
    "                        dataset_file_path, \n",
    "                        input_file_path, \n",
    "                        \"snippet\" if not \"replace\" in input_file_path else (\"replace_no_tags\" if \"replace_no_tags\" in input_file_path else \"replace\"),\n",
    "                        params)\n",
    "\n",
    "    with open(input_file_path, 'r') as f:\n",
    "        data = json.load(f)\n",
    "\n",
    "    if 'items' in data:\n",
    "        df = pd.json_normalize(data['items'])\n",
    "        df = df.dropna()\n",
    "        if params['DROP_DUPLICATES']:\n",
    "            df = remove_duplicates(df)\n",
    "\n",
    "        params['SNIPPET_COLUMN_NAME'] = \"snippet\" if not \"replace_no_tags\" in input_file_path else \"replace_no_tags\"\n",
    "        snippets = df[params['SNIPPET_COLUMN_NAME']].tolist()\n",
    "        \n",
    "        model_name = globals()[\"model\"] if \"model\" in globals() else \"sbert\"\n",
    "        if 'embedding' in df.columns:\n",
    "            embeddings = df['embedding'].tolist()\n",
    "        else:\n",
    "            print('Embeddings snippets like ', snippets[0])\n",
    "            if model_name == \"sbert\":\n",
    "                embeddings = embed_sbert(snippets)\n",
    "            elif model_name == \"glove\":\n",
    "                embeddings = encode_glove(snippets)\n",
    "            else:\n",
    "                return \"Invalid data format.\", 400\n",
    "            df['embedding'] = embeddings.tolist()\n",
    "\n",
    "        if is_supervised_training(df, params):\n",
    "            print('Supervised')\n",
    "            training_df, inference_df = split_supervised_training_df(df, params)\n",
    "            training_embeddings = training_df[\"embedding\"].to_list()\n",
    "            training_titles = training_df[\"snippet\"].to_list()\n",
    "            inference_embeddings = inference_df[\"embedding\"].to_list()\n",
    "            inference_titles = inference_df[\"snippet\"].to_list()\n",
    "\n",
    "            model = ChatIntents(training_embeddings, inference_embeddings, training_df, inference_df, model_name)\n",
    "        else:\n",
    "            model = ChatIntents(embeddings, embeddings, df, df, model_name)\n",
    "            inference_df = df\n",
    "\n",
    "        if 'parameters' in data:\n",
    "            hdbscan_umap_params = data['parameters']\n",
    "#             hdbscan_umap_params = {\"min_cluster_size\": 38, \"min_samples\": 3, \"n_components\": 5, \"n_neighbors\": 51, \"outside_range_penalty\": 2, \"random_state\": 42}\n",
    "            if topic_model == \"chat_intents\":\n",
    "                hdbscan_clustering = perform_clustering(model, \n",
    "                                                    hdbscan_umap_params['n_neighbors'], \n",
    "                                                    hdbscan_umap_params['n_components'], \n",
    "                                                    hdbscan_umap_params['min_cluster_size'],\n",
    "                                                    hdbscan_umap_params['min_samples'] if 'min_samples' in hdbscan_umap_params else 1\n",
    "                                                )\n",
    "        else:\n",
    "            hdbscan_umap_params = run_bayesian_search(model, \n",
    "                                params,\n",
    "                                df=df, \n",
    "                                param_output_file_path=input_file_path.replace(\"_params\", \"\").replace(\".json\", \"_params.json\")\n",
    "                               )\n",
    "            print()\n",
    "            hdbscan_clustering = model.best_clusters\n",
    "        \n",
    "        params.update(hdbscan_umap_params)\n",
    "\n",
    "        start_time_topic_modelling = time.time()\n",
    "        if topic_model == \"chat_intents\":\n",
    "            print(\"Topic modelling method: ChatIntents\")\n",
    "            cluster_topics = get_chat_intents_topics(model, inference_df)\n",
    "            probabilities = hdbscan_clustering.probabilities_\n",
    "            cluster_labels = hdbscan_clustering.labels_\n",
    "#         elif topic_model == \"bert\":\n",
    "        else:\n",
    "            print(\"Topic modelling method: BERTopic\")\n",
    "            cluster_topics, inference_df, topic_model = get_bert_topics(df, params)\n",
    "            probabilities = inference_df['Probability'].to_numpy()\n",
    "            cluster_labels = inference_df['cluster_id'].to_numpy()\n",
    "\n",
    "        print(f\"Elapsed total time for topic modelling: {time.time() - start_time_topic_modelling} seconds\")\n",
    "        if len(inference_df) != len(cluster_labels):\n",
    "            print(f\"Cluster labels not collected correctly ({len(inference_df)} vs. {len(cluster_labels)})\")\n",
    "\n",
    "        label_count, cost = model.score_clusters(probabilities, cluster_labels)\n",
    "        print(f\"{model_name} results\")\n",
    "        print(f\"Label count: {label_count}\")\n",
    "        print(f\"Loss: {cost}\")\n",
    "        \n",
    "            \n",
    "        if \"SHOW\" in params and params[\"SHOW\"]:\n",
    "            if is_supervised_training(inference_df, params):\n",
    "                print(\"is supervised\")\n",
    "                umap_model_supervised = umap.UMAP(n_neighbors=10, n_components=2, min_dist=0.0, metric='cosine', random_state=42).fit(training_embeddings)\n",
    "                reduced_embeddings_supervised = umap_model_supervised.transform(inference_embeddings)\n",
    "                fig = topic_model.visualize_documents(inference_titles, reduced_embeddings=reduced_embeddings_supervised, custom_labels=True, hide_annotations=True)\n",
    "                fig.show()  \n",
    "            else:\n",
    "                df = plot_best_clusters(model, inference_df, cluster_labels, params, filename=input_file_name.replace('.json', ''))\n",
    "#         df = plot_best_clusters(model, inference_df, hdbscan_clustering.labels_, params, filename=input_file_name.replace('.json', ''))\n",
    "#         df['probability'] = hdbscan_clustering.probabilities_\n",
    "#         label_count = df['cluster_id'].nunique()\n",
    "\n",
    "        params.update({'label_count': label_count, 'cost': cost})\n",
    "\n",
    "        print(\"dataset_file_path\", dataset_file_path)\n",
    "        get_clustering_metrics(inference_df, cluster_topics, params, input_file=dataset_file_path)\n",
    "\n",
    "        return model, inference_df, cluster_topics, params, topic_model\n",
    "    else:\n",
    "        return jsonify({\"error_msg\": \"Invalid data format.\"})\n",
    "\n",
    "\n",
    "globals()[\"model\"] = \"sbert\""
   ]
  },
  {
   "cell_type": "code",
   "execution_count": 20,
   "metadata": {},
   "outputs": [],
   "source": [
    "def print_results(input_file):\n",
    "    if 'sbert_output_df' in globals():\n",
    "        print(\"Baseline SBERT:\")\n",
    "        sbert_overlaps = get_clustering_metrics(sbert_output_df, sbert_cluster_topics, sbert_params, input_file=input_file)\n",
    "\n",
    "    if 'baai_output_df' in globals():\n",
    "        print(\"Baseline BAAI:\")\n",
    "        baai_overlaps = get_clustering_metrics(baai_output_df, baai_cluster_topics, baai_params, input_file=input_file)\n",
    "\n",
    "\n",
    "    if 'similarity_baai_output_df' in globals():\n",
    "        print(\"Similarity (SBERT):\")\n",
    "        similarity_baai_overlaps = get_clustering_metrics(similarity_baai_output_df, similarity_baai_cluster_topics, similarity_baai_params, input_file=input_file)\n",
    "\n",
    "    if 'similarity_sbert_output_df' in globals():\n",
    "        print(\"Similarity (BAAI):\")\n",
    "        similarity_sbert_overlaps = get_clustering_metrics(similarity_sbert_output_df, similarity_sbert_cluster_topics, similarity_sbert_params, input_file=input_file)\n",
    "\n",
    "    print(\"Below only SBERT:\")\n",
    "\n",
    "    if 'similarity_ai_car_sbert_output_df' in globals():\n",
    "        print(\"Similarity trained on ai+car dataset:\")\n",
    "        similarity_ai_car_sbert_overlaps = get_clustering_metrics(similarity_ai_car_sbert_output_df, similarity_ai_car_sbert_cluster_topics, similarity_ai_car_sbert_params, input_file=input_file)\n",
    "\n",
    "    if 'similarity_distill_consistency_output_df' in globals():\n",
    "        print(\"Similarity distill-consistency model trained on consulting dataset:\")\n",
    "        similarity_distill_consistency_overlaps = get_clustering_metrics(similarity_distill_consistency_output_df, similarity_distill_consistency_cluster_topics, similarity_distill_consistency_params, input_file=input_file)\n",
    "\n",
    "    if 'similarity_ai_car_distill_consistency_output_df' in globals():\n",
    "        print(\"Similarity distill-consistency model trained on ai+car dataset:\")\n",
    "        similarity_ai_car_distill_consistency_overlaps = get_clustering_metrics(similarity_ai_car_distill_consistency_output_df, similarity_ai_car_distill_consistency_cluster_topics, similarity_ai_car_distill_consistency_params, input_file=input_file)\n",
    "\n",
    "\n",
    "    if 'classification_ai_car_sbert_output_df' in globals():\n",
    "        print(\"Classification on ai+car:\")\n",
    "        classification_ai_car_sbert_overlaps = get_clustering_metrics(classification_ai_car_sbert_output_df, classification_ai_car_sbert_cluster_topics, classification_ai_car_sbert_params, input_file=input_file)\n",
    "\n",
    "    if 'classification_output_df' in globals():\n",
    "        print(\"Classification on consulting:\")\n",
    "        classification_overlaps = get_clustering_metrics(classification_output_df, classification_cluster_topics, classification_params, input_file=input_file)\n",
    "\n",
    "\n",
    "    print(\"Combined training\")\n",
    "\n",
    "    if 'combined_ai_car_class_consulting_sim_output_df' in globals():\n",
    "        print(\"First classification on ai+car dataset, then similarity on consulting dataset:\")\n",
    "        combined_ai_car_class_consulting_sim_overlaps = get_clustering_metrics(combined_ai_car_class_consulting_sim_output_df, combined_ai_car_class_consulting_sim_cluster_topics, combined_ai_car_class_consulting_sim_params, input_file=input_file)\n",
    "\n",
    "    if 'combined_consulting_sim_ai_car_class_output_df' in globals():\n",
    "        print(\"First similarity on consulting dataset, then classification on ai+car dataset:\")\n",
    "        combined_consulting_sim_ai_car_class_overlaps = get_clustering_metrics(combined_consulting_sim_ai_car_class_output_df, combined_consulting_sim_ai_car_class_cluster_topics, combined_consulting_sim_ai_car_class_params, input_file=input_file)\n",
    "\n",
    "    if 'combined_consulting_sim_and_ai_car_class_output_df' in globals():\n",
    "        print(\"Together similarity on consulting dataset, and classification on ai+car dataset:\")\n",
    "        combined_consulting_sim_and_ai_car_class_overlaps = get_clustering_metrics(combined_consulting_sim_and_ai_car_class_output_df, combined_consulting_sim_and_ai_car_class_cluster_topics, combined_consulting_sim_and_ai_car_class_params, input_file=input_file)\n",
    "\n",
    "    if 'combined_ai_car_sim_and_class_output_df' in globals():\n",
    "        print(\"Together similarity and classification on ai+car dataset:\")\n",
    "        combined_ai_car_sim_and_class_overlaps = get_clustering_metrics(combined_ai_car_sim_and_class_output_df, combined_ai_car_sim_and_class_cluster_topics, combined_ai_car_sim_and_class_params, input_file=input_file)\n",
    "\n",
    "    if 'combined_ai_car_sim_class_output_df' in globals():\n",
    "        print(\"First similarity, then classification on ai+car dataset:\")\n",
    "        combined_ai_car_sim_class_overlaps = get_clustering_metrics(combined_ai_car_sim_class_output_df, combined_ai_car_sim_class_cluster_topics, combined_ai_car_sim_class_params, input_file=input_file)\n",
    "\n",
    "    if 'combined_ai_car_class_sim_output_df' in globals():\n",
    "        print(\"First classification, then similarity on ai+car dataset:\")\n",
    "        combined_ai_car_class_sim_overlaps = get_clustering_metrics(combined_ai_car_class_sim_output_df, combined_ai_car_class_sim_cluster_topics, combined_ai_car_class_sim_params, input_file=input_file)\n",
    "\n",
    "    if 'combined_consulting_output_df' in globals():\n",
    "        print(\"Together classification and similarity on consulting dataset:\")\n",
    "        combined_consulting_overlaps = get_clustering_metrics(combined_consulting_output_df, combined_consulting_cluster_topics, combined_consulting_params, input_file=input_file)\n",
    "        \n",
    "    if 'classification_ai_car_data_aug_output_df' in globals():\n",
    "        print(\"Classification on augmented dataset:\")\n",
    "        classification_ai_car_data_aug_overlaps = get_clustering_metrics(classification_ai_car_data_aug_output_df, classification_ai_car_data_aug_cluster_topics, classification_ai_car_data_aug_params, input_file=input_file)\n",
    "        "
   ]
  },
  {
   "cell_type": "markdown",
   "metadata": {},
   "source": [
    "# Experiment 1"
   ]
  },
  {
   "cell_type": "code",
   "execution_count": 24,
   "metadata": {},
   "outputs": [
    {
     "name": "stdout",
     "output_type": "stream",
     "text": [
      "Input file ../glanos-data/clustering/input/classification_ai_car_data_aug_data2_semi_replace_no_tags_td_params.json\n",
      "Supervised\n",
      "Topic modelling method: BERTopic\n",
      "Fitting the BERT model on 1278 snippets\n"
     ]
    },
    {
     "data": {
      "application/vnd.jupyter.widget-view+json": {
       "model_id": "374e5cb7da1c43baab345e2634a30d73",
       "version_major": 2,
       "version_minor": 0
      },
      "text/plain": [
       "Batches:   0%|          | 0/40 [00:00<?, ?it/s]"
      ]
     },
     "metadata": {},
     "output_type": "display_data"
    },
    {
     "name": "stderr",
     "output_type": "stream",
     "text": [
      "2023-10-27 18:25:34,792 - BERTopic - Transformed documents to Embeddings\n",
      "2023-10-27 18:25:37,268 - BERTopic - Reduced dimensionality\n",
      "2023-10-27 18:25:37,283 - BERTopic - Clustered reduced embeddings\n"
     ]
    },
    {
     "name": "stdout",
     "output_type": "stream",
     "text": [
      "BERT model labelling 3940 snippets\n",
      "inference_snippets 3940\n"
     ]
    },
    {
     "data": {
      "application/vnd.jupyter.widget-view+json": {
       "model_id": "eaea47c72c314d41a0024444f175d9f9",
       "version_major": 2,
       "version_minor": 0
      },
      "text/plain": [
       "Batches:   0%|          | 0/124 [00:00<?, ?it/s]"
      ]
     },
     "metadata": {},
     "output_type": "display_data"
    },
    {
     "name": "stderr",
     "output_type": "stream",
     "text": [
      "2023-10-27 18:26:13,425 - BERTopic - Reduced dimensionality\n",
      "2023-10-27 18:26:13,475 - BERTopic - Predicted clusters\n"
     ]
    },
    {
     "name": "stdout",
     "output_type": "stream",
     "text": [
      "Elapsed total time for topic modelling: 55.39846897125244 seconds\n",
      "sbert results\n",
      "Label count: 8\n",
      "Loss: 0.03807106598984772\n",
      "dataset_file_path ../glanos-data/clustering/big_consulting_export_replace_no_duplicates.tsv\n",
      "Overlap count of length 1: 1\n",
      "Overlap count of length 2: 2\n",
      "Overlap count of length 3: 0\n",
      "Overlap count of length 4 or more: 0\n",
      "Overlap loss:  0.28\n",
      "Diversity loss:  1.06\n",
      "Number of clusters: 8\n",
      "Avg cluster size: 437.77777777777777\n",
      "Median cluster size: 372.0 , standard deviation: 477.9167239820431\n",
      "Median top company occurence: 44.776119402985074\n",
      "Cost (outliers): 3.81%\n",
      "\n"
     ]
    }
   ],
   "source": [
    "# on replace_no_tags dataset\n",
    "# diversity loss\n",
    "\n",
    "data2_input_file = '../glanos-data/clustering/big_consulting_export_replace.tsv'\n",
    "params['BAYESIAN_SEARCH_METRIC'] = 'topic_diversity+bert'\n",
    "params[\"SHOW\"] = False\n",
    "\n",
    "# sbert_model, sbert_output_df, sbert_cluster_topics, sbert_params, sbert_topic_model = cluster('baseline_data2_semi_replace_no_tags_td_params.json', params, hf_model_name='sentence-transformers/all-MiniLM-L12-v2')\n",
    "# baai_model, baai_output_df, baai_cluster_topics, baai_params, baai_topic_model = cluster('baai_baseline_data2_semi_replace_no_tags_td_params.json', params, hf_model_name='BAAI/bge-base-en-v1.5')\n",
    "\n",
    "# similarity_sbert_model, similarity_sbert_output_df, similarity_sbert_cluster_topics, similarity_sbert_params, similarity_sbert_topic_model = cluster('similarity_data2_semi_replace_no_tags_td_params.json', params, hf_model_name=\"brjezierski/sentence-embeddings-similarity\")\n",
    "# similarity_baai_model, similarity_baai_output_df, similarity_baai_cluster_topics, similarity_baai_params, similarity_baai_topic_model = cluster('best_similarity_data2_semi_replace_no_tags_td_params.json', params, hf_model_name=\"brjezierski/sentence-embeddings-similarity-best-baai\")\n",
    "# similarity_ai_car_sbert_model, similarity_ai_car_sbert_output_df, similarity_ai_car_sbert_cluster_topics, similarity_ai_car_sbert_params, similarity_ai_car_sbert_topic_model = cluster('similarity_ai_car_data2_semi_replace_no_tags_td_params.json', params, hf_model_name='brjezierski/sentence-embeddings-similarity-ai-car')\n",
    "# similarity_distill_consistency_model, similarity_distill_consistency_output_df, similarity_distill_consistency_cluster_topics, similarity_distill_consistency_params, similarity_distill_consistency_topic_model = cluster('similarity_distill_consistency_data2_semi_replace_no_tags_td_params.json', params, hf_model_name='brjezierski/sentence-embeddings-similarity-distill-consistency')\n",
    "# similarity_ai_car_distill_consistency_model, similarity_ai_car_distill_consistency_output_df, similarity_ai_car_distill_consistency_cluster_topics, similarity_ai_car_distill_consistency_params, similarity_ai_car_distill_consistency_topic_model = cluster('similarity_ai_car_distill_consistency_data2_semi_replace_no_tags_td_params.json', params, hf_model_name='brjezierski/sentence-embeddings-similarity-ai_car-distill-consistency')\n",
    "\n",
    "\n",
    "# classification_model, classification_output_df, classification_cluster_topics, classification_params, classification_topic_model = cluster('classification_data2_semi_replace_no_tags_td_params.json', params, hf_model_name=\"brjezierski/sentence-embeddings-classification\")\n",
    "# classification_ai_car_sbert_model, classification_ai_car_sbert_output_df, classification_ai_car_sbert_cluster_topics, classification_ai_car_sbert_params, classification_ai_car_sbert_topic_model = cluster('classification_ai_car_sbert_data2_semi_replace_no_tags_td_params.json', params, hf_model_name=\"brjezierski/sentence-embeddings-classification-ai_car-sbert\")\n",
    "# combined_ai_car_class_consulting_sim_model, combined_ai_car_class_consulting_sim_output_df, combined_ai_car_class_consulting_sim_cluster_topics, combined_ai_car_class_consulting_sim_params, combined_ai_car_class_consulting_sim_topic_model = cluster('combined_ai_car_class_consulting_sim_data2_semi_replace_no_tags_td_params.json', params, hf_model_name=\"brjezierski/sentence-embeddings-combined-ai_car-class-consulting-sim\")\n",
    "# combined_consulting_sim_ai_car_class_model, combined_consulting_sim_ai_car_class_output_df, combined_consulting_sim_ai_car_class_cluster_topics, combined_consulting_sim_ai_car_class_params, combined_consulting_sim_ai_car_class_topic_model = cluster('combined_consulting_sim_ai_car_class_data2_semi_replace_no_tags_td_params.json', params, hf_model_name=\"brjezierski/sentence-embeddings-combined-consulting-sim-ai_car-class\")\n",
    "# combined_consulting_sim_and_ai_car_class_model, combined_consulting_sim_and_ai_car_class_output_df, combined_consulting_sim_and_ai_car_class_cluster_topics, combined_consulting_sim_and_ai_car_class_params, combined_consulting_sim_and_ai_car_class_topic_model = cluster('combined_consulting_sim_and_ai_car_class_data2_semi_replace_no_tags_td_params.json', params, hf_model_name=\"brjezierski/sentence-embeddings-combined-consulting-sim-and-ai_car-class\")\n",
    "# combined_ai_car_sim_and_class_model, combined_ai_car_sim_and_class_output_df, combined_ai_car_sim_and_class_cluster_topics, combined_ai_car_sim_and_class_params, combined_ai_car_sim_and_class_topic_model = cluster('combined_ai_car_sim_and_class_data2_semi_replace_no_tags_td_params.json', params, hf_model_name=\"brjezierski/sentence-embeddings-combined-ai_car-sim-and-class\")\n",
    "# combined_ai_car_sim_class_model, combined_ai_car_sim_class_output_df, combined_ai_car_sim_class_cluster_topics, combined_ai_car_sim_class_params, combined_ai_car_sim_class_topic_model = cluster('combined_ai_car_sim_class_data2_semi_replace_no_tags_td_params.json', params, hf_model_name=\"brjezierski/sentence-embeddings-combined-ai_car-sim-class\")\n",
    "# combined_ai_car_class_sim_model, combined_ai_car_class_sim_output_df, combined_ai_car_class_sim_cluster_topics, combined_ai_car_class_sim_params, combined_ai_car_class_sim_topic_model = cluster('combined_ai_car_class_sim_data2_semi_replace_no_tags_td_params.json', params, hf_model_name=\"brjezierski/sentence-embeddings-combined-ai_car-class-sim\")\n",
    "# combined_consulting_model, combined_consulting_output_df, combined_consulting_cluster_topics, combined_consulting_params, combined_consulting_topic_model = cluster('combined_consulting_data2_semi_replace_no_tags_td_params.json', params, hf_model_name=\"brjezierski/combined-consulting\")\n",
    "\n",
    "ex1_classification_ai_car_data_aug_model, ex1_classification_ai_car_data_aug_output_df, ex1_classification_ai_car_data_aug_cluster_topics, ex1_classification_ai_car_data_aug_params, ex1_classification_ai_car_data_aug_topic_model = cluster('classification_ai_car_data_aug_data2_semi_replace_no_tags_td_params.json', params, hf_model_name=\"brjezierski/sentence-embeddings-classification-ai_car-data_aug\")\n",
    "\n"
   ]
  },
  {
   "cell_type": "code",
   "execution_count": 27,
   "metadata": {},
   "outputs": [
    {
     "data": {
      "text/plain": [
       "([['fined',\n",
       "   'state',\n",
       "   'role',\n",
       "   'issued',\n",
       "   'consultancy',\n",
       "   'linked',\n",
       "   'welcomes opportunity',\n",
       "   'concerns',\n",
       "   'denying',\n",
       "   'didn raise'],\n",
       "  ['ai',\n",
       "   'cloud',\n",
       "   'announced',\n",
       "   'technology',\n",
       "   'partnership',\n",
       "   'platform',\n",
       "   'services',\n",
       "   'new',\n",
       "   'business',\n",
       "   'digital'],\n",
       "  ['results',\n",
       "   'reported',\n",
       "   'revenue',\n",
       "   'net',\n",
       "   'quarter',\n",
       "   'fiscal',\n",
       "   'year',\n",
       "   'growth',\n",
       "   'investment',\n",
       "   'share'],\n",
       "  ['served',\n",
       "   'prior',\n",
       "   'joining',\n",
       "   'prior joining',\n",
       "   'partner',\n",
       "   'years',\n",
       "   'practice',\n",
       "   'roles',\n",
       "   'spent',\n",
       "   'audit'],\n",
       "  ['acquisition',\n",
       "   'acquire',\n",
       "   'sustainability',\n",
       "   'announced',\n",
       "   'services',\n",
       "   'domus',\n",
       "   'green domus',\n",
       "   'sustainability consultancy',\n",
       "   'green',\n",
       "   'company'],\n",
       "  ['tax',\n",
       "   'law',\n",
       "   'laws',\n",
       "   'trade',\n",
       "   'tax laws',\n",
       "   'pay',\n",
       "   'scandal',\n",
       "   'agreed',\n",
       "   'information',\n",
       "   'confidential'],\n",
       "  ['tax',\n",
       "   'government',\n",
       "   'partners',\n",
       "   'confidential',\n",
       "   'treasury',\n",
       "   'leave',\n",
       "   'internal',\n",
       "   'confidential government',\n",
       "   'police',\n",
       "   'issued'],\n",
       "  ['patent',\n",
       "   'application',\n",
       "   'filed',\n",
       "   'method',\n",
       "   'patents',\n",
       "   'signed',\n",
       "   'channel',\n",
       "   'agreement',\n",
       "   'methods',\n",
       "   'analysis'],\n",
       "  ['contract',\n",
       "   'secures contract',\n",
       "   'secures',\n",
       "   'secured',\n",
       "   'contracts',\n",
       "   'based',\n",
       "   'current contracts',\n",
       "   'corporate',\n",
       "   'entered',\n",
       "   'current']],\n",
       " [['ibm',\n",
       "   'ai',\n",
       "   'consulting',\n",
       "   'technology',\n",
       "   'infosys',\n",
       "   'services',\n",
       "   'announced',\n",
       "   'cloud',\n",
       "   'wipro',\n",
       "   'business'],\n",
       "  ['mr',\n",
       "   'ernst',\n",
       "   'ernst young',\n",
       "   'young',\n",
       "   'prior',\n",
       "   'partner',\n",
       "   'llp',\n",
       "   'years',\n",
       "   'young llp',\n",
       "   'joining'],\n",
       "  ['pwc',\n",
       "   'contract',\n",
       "   'tax',\n",
       "   'million',\n",
       "   'secured',\n",
       "   'contracts',\n",
       "   'federal',\n",
       "   'based',\n",
       "   'secures',\n",
       "   'department'],\n",
       "  ['accenture',\n",
       "   'domus',\n",
       "   'sustainability',\n",
       "   'green domus',\n",
       "   'acquisition',\n",
       "   'green',\n",
       "   'acquire',\n",
       "   'based',\n",
       "   'digital',\n",
       "   'announced'],\n",
       "  ['fti',\n",
       "   'appointed',\n",
       "   'managing director',\n",
       "   'director',\n",
       "   'managing',\n",
       "   'fti consulting',\n",
       "   'tax',\n",
       "   'jobs',\n",
       "   'pwc',\n",
       "   'joins'],\n",
       "  ['patent',\n",
       "   'application',\n",
       "   'filed',\n",
       "   'tata consultancy',\n",
       "   'tata',\n",
       "   'consultancy services',\n",
       "   'consultancy',\n",
       "   'services',\n",
       "   'patents',\n",
       "   'method'],\n",
       "  ['microsoft',\n",
       "   'salesforce',\n",
       "   'leave',\n",
       "   'employees',\n",
       "   'ibm',\n",
       "   'jobs',\n",
       "   '000',\n",
       "   'pwc',\n",
       "   'reportedly',\n",
       "   'layoffs']])"
      ]
     },
     "execution_count": 27,
     "metadata": {},
     "output_type": "execute_result"
    }
   ],
   "source": [
    "ex1_classification_ai_car_data_aug_cluster_topics, ex3_classification_ai_car_data_aug_cluster_topics"
   ]
  },
  {
   "cell_type": "code",
   "execution_count": 7,
   "metadata": {},
   "outputs": [
    {
     "name": "stdout",
     "output_type": "stream",
     "text": [
      "Baseline SBERT:\n",
      "Overlap count of length 1: 11\n",
      "Overlap count of length 2: 4\n",
      "Overlap count of length 3: 2\n",
      "Overlap count of length 4 or more: 0\n",
      "Overlap loss:  1.84\n",
      "Diversity loss:  1.15\n",
      "Number of clusters: 8\n",
      "Median cluster size: 137.0 , standard deviation: 392.4709189509743\n",
      "Median top company occurence: 46.875\n",
      "Cost (outliers): 3.81%\n",
      "\n",
      "Baseline BAAI:\n",
      "Overlap count of length 1: 9\n",
      "Overlap count of length 2: 2\n",
      "Overlap count of length 3: 1\n",
      "Overlap count of length 4 or more: 1\n",
      "Overlap loss:  2.03\n",
      "Diversity loss:  1.15\n",
      "Number of clusters: 8\n",
      "Median cluster size: 142.0 , standard deviation: 499.85835863594895\n",
      "Median top company occurence: 31.164209456024405\n",
      "Cost (outliers): 3.81%\n",
      "\n",
      "Similarity (SBERT):\n",
      "Overlap count of length 1: 9\n",
      "Overlap count of length 2: 4\n",
      "Overlap count of length 3: 1\n",
      "Overlap count of length 4 or more: 1\n",
      "Overlap loss:  2.28\n",
      "Diversity loss:  1.18\n",
      "Number of clusters: 8\n",
      "Median cluster size: 145.0 , standard deviation: 397.3414461795686\n",
      "Median top company occurence: 28.205128205128204\n",
      "Cost (outliers): 3.81%\n",
      "\n",
      "Similarity (BAAI):\n",
      "Overlap count of length 1: 7\n",
      "Overlap count of length 2: 5\n",
      "Overlap count of length 3: 0\n",
      "Overlap count of length 4 or more: 1\n",
      "Overlap loss:  1.84\n",
      "Diversity loss:  1.13\n",
      "Number of clusters: 8\n",
      "Median cluster size: 111.5 , standard deviation: 444.0748414893035\n",
      "Median top company occurence: 39.920112781954884\n",
      "Cost (outliers): 3.81%\n",
      "\n",
      "Below only SBERT:\n",
      "Similarity trained on ai+car dataset:\n",
      "Overlap count of length 1: 9\n",
      "Overlap count of length 2: 6\n",
      "Overlap count of length 3: 2\n",
      "Overlap count of length 4 or more: 1\n",
      "Overlap loss:  3.03\n",
      "Diversity loss:  1.17\n",
      "Number of clusters: 8\n",
      "Median cluster size: 110.0 , standard deviation: 375.2145314838942\n",
      "Median top company occurence: 42.857142857142854\n",
      "Cost (outliers): 3.81%\n",
      "\n",
      "Similarity distill-consistency model trained on consulting dataset:\n",
      "Overlap count of length 1: 8\n",
      "Overlap count of length 2: 2\n",
      "Overlap count of length 3: 2\n",
      "Overlap count of length 4 or more: 2\n",
      "Overlap loss:  3.50\n",
      "Diversity loss:  1.19\n",
      "Number of clusters: 8\n",
      "Median cluster size: 105.0 , standard deviation: 421.1541763258277\n",
      "Median top company occurence: 30.23255813953488\n",
      "Cost (outliers): 3.81%\n",
      "\n",
      "Similarity distill-consistency model trained on ai+car dataset:\n",
      "Overlap count of length 1: 13\n",
      "Overlap count of length 2: 5\n",
      "Overlap count of length 3: 3\n",
      "Overlap count of length 4 or more: 2\n",
      "Overlap loss:  4.53\n",
      "Diversity loss:  1.27\n",
      "Number of clusters: 8\n",
      "Median cluster size: 119.0 , standard deviation: 563.5627685385543\n",
      "Median top company occurence: 34.93449781659388\n",
      "Cost (outliers): 3.81%\n",
      "\n",
      "Classification on ai+car:\n",
      "Overlap count of length 1: 9\n",
      "Overlap count of length 2: 5\n",
      "Overlap count of length 3: 4\n",
      "Overlap count of length 4 or more: 1\n",
      "Overlap loss:  3.91\n",
      "Diversity loss:  1.20\n",
      "Number of clusters: 8\n",
      "Median cluster size: 151.0 , standard deviation: 249.5342790106884\n",
      "Median top company occurence: 33.33333333333333\n",
      "Cost (outliers): 3.81%\n",
      "\n",
      "Classification on consulting:\n",
      "Overlap count of length 1: 8\n",
      "Overlap count of length 2: 2\n",
      "Overlap count of length 3: 1\n",
      "Overlap count of length 4 or more: 0\n",
      "Overlap loss:  1.00\n",
      "Diversity loss:  1.12\n",
      "Number of clusters: 8\n",
      "Median cluster size: 295.0 , standard deviation: 318.38875608287424\n",
      "Median top company occurence: 36.845006485084305\n",
      "Cost (outliers): 3.81%\n",
      "\n",
      "Combined training\n",
      "First classification on ai+car dataset, then similarity on consulting dataset:\n",
      "Overlap count of length 1: 7\n",
      "Overlap count of length 2: 3\n",
      "Overlap count of length 3: 1\n",
      "Overlap count of length 4 or more: 0\n",
      "Overlap loss:  1.09\n",
      "Diversity loss:  1.11\n",
      "Number of clusters: 8\n",
      "Median cluster size: 152.0 , standard deviation: 258.5100687039129\n",
      "Median top company occurence: 34.39153439153439\n",
      "Cost (outliers): 3.81%\n",
      "\n",
      "First similarity on consulting dataset, then classification on ai+car dataset:\n",
      "Overlap count of length 1: 9\n",
      "Overlap count of length 2: 5\n",
      "Overlap count of length 3: 3\n",
      "Overlap count of length 4 or more: 1\n",
      "Overlap loss:  3.41\n",
      "Diversity loss:  1.20\n",
      "Number of clusters: 8\n",
      "Median cluster size: 141.5 , standard deviation: 329.33498236938766\n",
      "Median top company occurence: 31.731307706667046\n",
      "Cost (outliers): 3.81%\n",
      "\n",
      "Together similarity on consulting dataset, and classification on ai+car dataset:\n",
      "Overlap count of length 1: 10\n",
      "Overlap count of length 2: 5\n",
      "Overlap count of length 3: 2\n",
      "Overlap count of length 4 or more: 0\n",
      "Overlap loss:  1.94\n",
      "Diversity loss:  1.15\n",
      "Number of clusters: 8\n",
      "Median cluster size: 143.0 , standard deviation: 328.594718291224\n",
      "Median top company occurence: 34.375\n",
      "Cost (outliers): 3.81%\n",
      "\n",
      "Together similarity and classification on ai+car dataset:\n",
      "Overlap count of length 1: 12\n",
      "Overlap count of length 2: 6\n",
      "Overlap count of length 3: 2\n",
      "Overlap count of length 4 or more: 0\n",
      "Overlap loss:  2.12\n",
      "Diversity loss:  1.16\n",
      "Number of clusters: 8\n",
      "Median cluster size: 135.0 , standard deviation: 332.42809372855356\n",
      "Median top company occurence: 42.12439513749558\n",
      "Cost (outliers): 3.81%\n",
      "\n",
      "First similarity, then classification on ai+car dataset:\n",
      "Overlap count of length 1: 20\n",
      "Overlap count of length 2: 3\n",
      "Overlap count of length 3: 0\n",
      "Overlap count of length 4 or more: 1\n",
      "Overlap loss:  2.00\n",
      "Diversity loss:  1.16\n",
      "Number of clusters: 8\n",
      "Median cluster size: 53.0 , standard deviation: 345.2568573943965\n",
      "Median top company occurence: 31.2807881773399\n",
      "Cost (outliers): 3.81%\n",
      "\n",
      "First classification, then similarity on ai+car dataset:\n",
      "Overlap count of length 1: 8\n",
      "Overlap count of length 2: 4\n",
      "Overlap count of length 3: 3\n",
      "Overlap count of length 4 or more: 0\n",
      "Overlap loss:  2.25\n",
      "Diversity loss:  1.16\n",
      "Number of clusters: 8\n",
      "Median cluster size: 112.0 , standard deviation: 453.9460255171756\n",
      "Median top company occurence: 36.607142857142854\n",
      "Cost (outliers): 3.81%\n",
      "\n",
      "Together classification and similarity on consulting dataset:\n",
      "Overlap count of length 1: 16\n",
      "Overlap count of length 2: 6\n",
      "Overlap count of length 3: 3\n",
      "Overlap count of length 4 or more: 1\n",
      "Overlap loss:  3.75\n",
      "Diversity loss:  1.21\n",
      "Number of clusters: 8\n",
      "Median cluster size: 123.0 , standard deviation: 375.79179614308094\n",
      "Median top company occurence: 37.735849056603776\n",
      "Cost (outliers): 3.81%\n",
      "\n",
      "Classification on augmented dataset:\n",
      "Overlap count of length 1: 1\n",
      "Overlap count of length 2: 2\n",
      "Overlap count of length 3: 0\n",
      "Overlap count of length 4 or more: 0\n",
      "Overlap loss:  0.28\n",
      "Diversity loss:  1.06\n",
      "Number of clusters: 8\n",
      "Median cluster size: 372.0 , standard deviation: 477.9167239820431\n",
      "Median top company occurence: 44.776119402985074\n",
      "Cost (outliers): 3.81%\n",
      "\n"
     ]
    }
   ],
   "source": [
    "data2_input_file = '../glanos-data/clustering/big_consulting_export_replace_no_duplicates.tsv'\n",
    "print_results(input_file=data2_input_file)\n"
   ]
  },
  {
   "cell_type": "markdown",
   "metadata": {},
   "source": [
    "# Experiment 2"
   ]
  },
  {
   "cell_type": "code",
   "execution_count": 6,
   "metadata": {},
   "outputs": [
    {
     "name": "stdout",
     "output_type": "stream",
     "text": [
      "Input file ../glanos-data/clustering/input/baseline_data2_semi_replace_no_tags_to_params.json\n",
      "Supervised\n",
      "Topic modelling method: BERTopic\n",
      "Fitting the BERT model on 1278 snippets\n"
     ]
    },
    {
     "data": {
      "application/vnd.jupyter.widget-view+json": {
       "model_id": "",
       "version_major": 2,
       "version_minor": 0
      },
      "text/plain": [
       "Batches:   0%|          | 0/40 [00:00<?, ?it/s]"
      ]
     },
     "metadata": {},
     "output_type": "display_data"
    },
    {
     "name": "stderr",
     "output_type": "stream",
     "text": [
      "2023-10-26 19:21:45,668 - BERTopic - Transformed documents to Embeddings\n",
      "2023-10-26 19:21:50,092 - BERTopic - Reduced dimensionality\n",
      "2023-10-26 19:21:50,116 - BERTopic - Clustered reduced embeddings\n"
     ]
    },
    {
     "name": "stdout",
     "output_type": "stream",
     "text": [
      "BERT model labelling 3940 snippets\n",
      "inference_snippets 3940\n"
     ]
    },
    {
     "data": {
      "application/vnd.jupyter.widget-view+json": {
       "model_id": "",
       "version_major": 2,
       "version_minor": 0
      },
      "text/plain": [
       "Batches:   0%|          | 0/124 [00:00<?, ?it/s]"
      ]
     },
     "metadata": {},
     "output_type": "display_data"
    },
    {
     "name": "stderr",
     "output_type": "stream",
     "text": [
      "2023-10-26 19:22:34,941 - BERTopic - Reduced dimensionality\n",
      "2023-10-26 19:22:34,999 - BERTopic - Predicted clusters\n"
     ]
    },
    {
     "name": "stdout",
     "output_type": "stream",
     "text": [
      "Elapsed total time for topic modelling: 67.38714694976807 seconds\n",
      "sbert results\n",
      "Label count: 9\n",
      "Loss: 0.4012690355329949\n",
      "dataset_file_path ../glanos-data/clustering/big_consulting_export_replace_no_duplicates.tsv\n",
      "Overlap count of length 1: 6\n",
      "Overlap count of length 2: 4\n",
      "Overlap count of length 3: 0\n",
      "Overlap count of length 4 or more: 0\n",
      "Overlap loss:  0.61\n",
      "Diversity loss:  1.15\n",
      "Number of clusters: 9\n",
      "Median cluster size: 175.0 , standard deviation: 462.2328417583502\n",
      "Median top company occurence: 35.81002331002331\n",
      "Cost (outliers): 40.13%\n",
      "\n",
      "Input file ../glanos-data/clustering/input/baai_baseline_data2_semi_replace_no_tags_to_params.json\n",
      "Supervised\n",
      "Topic modelling method: BERTopic\n",
      "Fitting the BERT model on 1278 snippets\n"
     ]
    },
    {
     "data": {
      "application/vnd.jupyter.widget-view+json": {
       "model_id": "",
       "version_major": 2,
       "version_minor": 0
      },
      "text/plain": [
       "Batches:   0%|          | 0/40 [00:00<?, ?it/s]"
      ]
     },
     "metadata": {},
     "output_type": "display_data"
    },
    {
     "name": "stderr",
     "output_type": "stream",
     "text": [
      "2023-10-26 19:23:02,939 - BERTopic - Transformed documents to Embeddings\n",
      "2023-10-26 19:23:05,843 - BERTopic - Reduced dimensionality\n",
      "2023-10-26 19:23:05,859 - BERTopic - Clustered reduced embeddings\n"
     ]
    },
    {
     "name": "stdout",
     "output_type": "stream",
     "text": [
      "BERT model labelling 3940 snippets\n",
      "inference_snippets 3940\n"
     ]
    },
    {
     "data": {
      "application/vnd.jupyter.widget-view+json": {
       "model_id": "",
       "version_major": 2,
       "version_minor": 0
      },
      "text/plain": [
       "Batches:   0%|          | 0/124 [00:00<?, ?it/s]"
      ]
     },
     "metadata": {},
     "output_type": "display_data"
    },
    {
     "name": "stderr",
     "output_type": "stream",
     "text": [
      "2023-10-26 19:24:07,887 - BERTopic - Reduced dimensionality\n",
      "2023-10-26 19:24:07,944 - BERTopic - Predicted clusters\n"
     ]
    },
    {
     "name": "stdout",
     "output_type": "stream",
     "text": [
      "Elapsed total time for topic modelling: 92.07394003868103 seconds\n",
      "sbert results\n",
      "Label count: 10\n",
      "Loss: 0.3522842639593909\n",
      "dataset_file_path ../glanos-data/clustering/big_consulting_export_replace_no_duplicates.tsv\n",
      "Overlap count of length 1: 6\n",
      "Overlap count of length 2: 3\n",
      "Overlap count of length 3: 0\n",
      "Overlap count of length 4 or more: 1\n",
      "Overlap loss:  1.25\n",
      "Diversity loss:  1.15\n",
      "Number of clusters: 10\n",
      "Median cluster size: 177.0 , standard deviation: 406.4347914111457\n",
      "Median top company occurence: 46.835443037974684\n",
      "Cost (outliers): 35.23%\n",
      "\n",
      "Input file ../glanos-data/clustering/input/similarity_data2_semi_replace_no_tags_to_params.json\n",
      "Supervised\n",
      "Topic modelling method: BERTopic\n",
      "Fitting the BERT model on 1278 snippets\n"
     ]
    },
    {
     "data": {
      "application/vnd.jupyter.widget-view+json": {
       "model_id": "",
       "version_major": 2,
       "version_minor": 0
      },
      "text/plain": [
       "Batches:   0%|          | 0/40 [00:00<?, ?it/s]"
      ]
     },
     "metadata": {},
     "output_type": "display_data"
    },
    {
     "name": "stderr",
     "output_type": "stream",
     "text": [
      "2023-10-26 19:24:25,902 - BERTopic - Transformed documents to Embeddings\n",
      "2023-10-26 19:24:28,672 - BERTopic - Reduced dimensionality\n",
      "2023-10-26 19:24:28,691 - BERTopic - Clustered reduced embeddings\n"
     ]
    },
    {
     "name": "stdout",
     "output_type": "stream",
     "text": [
      "BERT model labelling 3940 snippets\n",
      "inference_snippets 3940\n"
     ]
    },
    {
     "data": {
      "application/vnd.jupyter.widget-view+json": {
       "model_id": "",
       "version_major": 2,
       "version_minor": 0
      },
      "text/plain": [
       "Batches:   0%|          | 0/124 [00:00<?, ?it/s]"
      ]
     },
     "metadata": {},
     "output_type": "display_data"
    },
    {
     "name": "stderr",
     "output_type": "stream",
     "text": [
      "2023-10-26 19:25:23,605 - BERTopic - Reduced dimensionality\n",
      "2023-10-26 19:25:23,669 - BERTopic - Predicted clusters\n"
     ]
    },
    {
     "name": "stdout",
     "output_type": "stream",
     "text": [
      "Elapsed total time for topic modelling: 75.07845997810364 seconds\n",
      "sbert results\n",
      "Label count: 11\n",
      "Loss: 0.4873096446700508\n",
      "dataset_file_path ../glanos-data/clustering/big_consulting_export_replace_no_duplicates.tsv\n",
      "Overlap count of length 1: 9\n",
      "Overlap count of length 2: 7\n",
      "Overlap count of length 3: 0\n",
      "Overlap count of length 4 or more: 0\n",
      "Overlap loss:  0.84\n",
      "Diversity loss:  1.18\n",
      "Number of clusters: 11\n",
      "Median cluster size: 188.5 , standard deviation: 496.83017442806573\n",
      "Median top company occurence: 28.63467261904762\n",
      "Cost (outliers): 48.73%\n",
      "\n",
      "Input file ../glanos-data/clustering/input/best_similarity_data2_semi_replace_no_tags_to_params.json\n",
      "Supervised\n",
      "Topic modelling method: BERTopic\n",
      "Fitting the BERT model on 1278 snippets\n"
     ]
    },
    {
     "data": {
      "application/vnd.jupyter.widget-view+json": {
       "model_id": "",
       "version_major": 2,
       "version_minor": 0
      },
      "text/plain": [
       "Batches:   0%|          | 0/40 [00:00<?, ?it/s]"
      ]
     },
     "metadata": {},
     "output_type": "display_data"
    },
    {
     "name": "stderr",
     "output_type": "stream",
     "text": [
      "2023-10-26 19:25:50,982 - BERTopic - Transformed documents to Embeddings\n",
      "2023-10-26 19:25:53,829 - BERTopic - Reduced dimensionality\n",
      "2023-10-26 19:25:53,846 - BERTopic - Clustered reduced embeddings\n"
     ]
    },
    {
     "name": "stdout",
     "output_type": "stream",
     "text": [
      "BERT model labelling 3940 snippets\n",
      "inference_snippets 3940\n"
     ]
    },
    {
     "data": {
      "application/vnd.jupyter.widget-view+json": {
       "model_id": "",
       "version_major": 2,
       "version_minor": 0
      },
      "text/plain": [
       "Batches:   0%|          | 0/124 [00:00<?, ?it/s]"
      ]
     },
     "metadata": {},
     "output_type": "display_data"
    },
    {
     "name": "stderr",
     "output_type": "stream",
     "text": [
      "2023-10-26 19:26:57,437 - BERTopic - Reduced dimensionality\n",
      "2023-10-26 19:26:57,490 - BERTopic - Predicted clusters\n"
     ]
    },
    {
     "name": "stdout",
     "output_type": "stream",
     "text": [
      "Elapsed total time for topic modelling: 92.65459609031677 seconds\n",
      "sbert results\n",
      "Label count: 8\n",
      "Loss: 0.4289340101522843\n",
      "dataset_file_path ../glanos-data/clustering/big_consulting_export_replace_no_duplicates.tsv\n",
      "Overlap count of length 1: 6\n",
      "Overlap count of length 2: 4\n",
      "Overlap count of length 3: 0\n",
      "Overlap count of length 4 or more: 0\n",
      "Overlap loss:  0.69\n",
      "Diversity loss:  1.14\n",
      "Number of clusters: 8\n",
      "Median cluster size: 352.0 , standard deviation: 470.36788859071146\n",
      "Median top company occurence: 26.50887573964497\n",
      "Cost (outliers): 42.89%\n",
      "\n",
      "Input file ../glanos-data/clustering/input/similarity_ai_car_data2_semi_replace_no_tags_to_params.json\n",
      "Supervised\n",
      "Topic modelling method: BERTopic\n",
      "Fitting the BERT model on 1278 snippets\n"
     ]
    },
    {
     "data": {
      "application/vnd.jupyter.widget-view+json": {
       "model_id": "",
       "version_major": 2,
       "version_minor": 0
      },
      "text/plain": [
       "Batches:   0%|          | 0/40 [00:00<?, ?it/s]"
      ]
     },
     "metadata": {},
     "output_type": "display_data"
    },
    {
     "name": "stderr",
     "output_type": "stream",
     "text": [
      "2023-10-26 19:27:15,097 - BERTopic - Transformed documents to Embeddings\n",
      "2023-10-26 19:27:18,107 - BERTopic - Reduced dimensionality\n",
      "2023-10-26 19:27:18,125 - BERTopic - Clustered reduced embeddings\n"
     ]
    },
    {
     "name": "stdout",
     "output_type": "stream",
     "text": [
      "BERT model labelling 3940 snippets\n",
      "inference_snippets 3940\n"
     ]
    },
    {
     "data": {
      "application/vnd.jupyter.widget-view+json": {
       "model_id": "",
       "version_major": 2,
       "version_minor": 0
      },
      "text/plain": [
       "Batches:   0%|          | 0/124 [00:00<?, ?it/s]"
      ]
     },
     "metadata": {},
     "output_type": "display_data"
    },
    {
     "name": "stderr",
     "output_type": "stream",
     "text": [
      "2023-10-26 19:28:09,720 - BERTopic - Reduced dimensionality\n",
      "2023-10-26 19:28:09,790 - BERTopic - Predicted clusters\n"
     ]
    },
    {
     "name": "stdout",
     "output_type": "stream",
     "text": [
      "Elapsed total time for topic modelling: 71.70980715751648 seconds\n",
      "sbert results\n",
      "Label count: 12\n",
      "Loss: 0.4289340101522843\n",
      "dataset_file_path ../glanos-data/clustering/big_consulting_export_replace_no_duplicates.tsv\n",
      "Overlap count of length 1: 15\n",
      "Overlap count of length 2: 4\n",
      "Overlap count of length 3: 2\n",
      "Overlap count of length 4 or more: 0\n",
      "Overlap loss:  1.31\n",
      "Diversity loss:  1.18\n",
      "Number of clusters: 12\n",
      "Median cluster size: 171.0 , standard deviation: 424.8307285602044\n",
      "Median top company occurence: 54.45544554455446\n",
      "Cost (outliers): 42.89%\n",
      "\n",
      "Input file ../glanos-data/clustering/input/similarity_distill_consistency_data2_semi_replace_no_tags_to_params.json\n",
      "Supervised\n",
      "Topic modelling method: BERTopic\n",
      "Fitting the BERT model on 1278 snippets\n"
     ]
    },
    {
     "data": {
      "application/vnd.jupyter.widget-view+json": {
       "model_id": "",
       "version_major": 2,
       "version_minor": 0
      },
      "text/plain": [
       "Batches:   0%|          | 0/40 [00:00<?, ?it/s]"
      ]
     },
     "metadata": {},
     "output_type": "display_data"
    },
    {
     "name": "stderr",
     "output_type": "stream",
     "text": [
      "2023-10-26 19:28:27,548 - BERTopic - Transformed documents to Embeddings\n",
      "2023-10-26 19:28:30,107 - BERTopic - Reduced dimensionality\n",
      "2023-10-26 19:28:30,124 - BERTopic - Clustered reduced embeddings\n"
     ]
    },
    {
     "name": "stdout",
     "output_type": "stream",
     "text": [
      "BERT model labelling 3940 snippets\n",
      "inference_snippets 3940\n"
     ]
    },
    {
     "data": {
      "application/vnd.jupyter.widget-view+json": {
       "model_id": "",
       "version_major": 2,
       "version_minor": 0
      },
      "text/plain": [
       "Batches:   0%|          | 0/124 [00:00<?, ?it/s]"
      ]
     },
     "metadata": {},
     "output_type": "display_data"
    },
    {
     "name": "stderr",
     "output_type": "stream",
     "text": [
      "2023-10-26 19:29:15,126 - BERTopic - Reduced dimensionality\n",
      "2023-10-26 19:29:15,189 - BERTopic - Predicted clusters\n"
     ]
    },
    {
     "name": "stdout",
     "output_type": "stream",
     "text": [
      "Elapsed total time for topic modelling: 64.81055498123169 seconds\n",
      "sbert results\n",
      "Label count: 17\n",
      "Loss: 0.33375634517766495\n",
      "dataset_file_path ../glanos-data/clustering/big_consulting_export_replace_no_duplicates.tsv\n",
      "Overlap count of length 1: 12\n",
      "Overlap count of length 2: 7\n",
      "Overlap count of length 3: 1\n",
      "Overlap count of length 4 or more: 1\n",
      "Overlap loss:  1.29\n",
      "Diversity loss:  1.15\n",
      "Number of clusters: 17\n",
      "Median cluster size: 108.0 , standard deviation: 333.8803659477929\n",
      "Median top company occurence: 43.27380952380952\n",
      "Cost (outliers): 33.38%\n",
      "\n",
      "Input file ../glanos-data/clustering/input/similarity_ai_car_distill_consistency_data2_semi_replace_no_tags_to_params.json\n",
      "Supervised\n",
      "Topic modelling method: BERTopic\n",
      "Fitting the BERT model on 1278 snippets\n"
     ]
    },
    {
     "data": {
      "application/vnd.jupyter.widget-view+json": {
       "model_id": "",
       "version_major": 2,
       "version_minor": 0
      },
      "text/plain": [
       "Batches:   0%|          | 0/40 [00:00<?, ?it/s]"
      ]
     },
     "metadata": {},
     "output_type": "display_data"
    },
    {
     "name": "stderr",
     "output_type": "stream",
     "text": [
      "2023-10-26 19:29:32,502 - BERTopic - Transformed documents to Embeddings\n",
      "2023-10-26 19:29:34,840 - BERTopic - Reduced dimensionality\n",
      "2023-10-26 19:29:34,855 - BERTopic - Clustered reduced embeddings\n"
     ]
    },
    {
     "name": "stdout",
     "output_type": "stream",
     "text": [
      "BERT model labelling 3940 snippets\n",
      "inference_snippets 3940\n"
     ]
    },
    {
     "data": {
      "application/vnd.jupyter.widget-view+json": {
       "model_id": "",
       "version_major": 2,
       "version_minor": 0
      },
      "text/plain": [
       "Batches:   0%|          | 0/124 [00:00<?, ?it/s]"
      ]
     },
     "metadata": {},
     "output_type": "display_data"
    },
    {
     "name": "stderr",
     "output_type": "stream",
     "text": [
      "2023-10-26 19:30:13,596 - BERTopic - Reduced dimensionality\n",
      "2023-10-26 19:30:13,649 - BERTopic - Predicted clusters\n"
     ]
    },
    {
     "name": "stdout",
     "output_type": "stream",
     "text": [
      "Elapsed total time for topic modelling: 57.93068313598633 seconds\n",
      "sbert results\n",
      "Label count: 9\n",
      "Loss: 0.04568527918781726\n",
      "dataset_file_path ../glanos-data/clustering/big_consulting_export_replace_no_duplicates.tsv\n",
      "Overlap count of length 1: 6\n",
      "Overlap count of length 2: 4\n",
      "Overlap count of length 3: 4\n",
      "Overlap count of length 4 or more: 0\n",
      "Overlap loss:  2.39\n",
      "Diversity loss:  1.27\n",
      "Number of clusters: 9\n",
      "Median cluster size: 210.0 , standard deviation: 617.1361276088121\n",
      "Median top company occurence: 31.74119241192412\n",
      "Cost (outliers): 4.57%\n",
      "\n",
      "Input file ../glanos-data/clustering/input/classification_data2_semi_replace_no_tags_to_params.json\n",
      "Supervised\n",
      "Topic modelling method: BERTopic\n",
      "Fitting the BERT model on 1278 snippets\n"
     ]
    },
    {
     "data": {
      "application/vnd.jupyter.widget-view+json": {
       "model_id": "",
       "version_major": 2,
       "version_minor": 0
      },
      "text/plain": [
       "Batches:   0%|          | 0/40 [00:00<?, ?it/s]"
      ]
     },
     "metadata": {},
     "output_type": "display_data"
    },
    {
     "name": "stderr",
     "output_type": "stream",
     "text": [
      "2023-10-26 19:30:31,978 - BERTopic - Transformed documents to Embeddings\n",
      "2023-10-26 19:30:34,632 - BERTopic - Reduced dimensionality\n",
      "2023-10-26 19:30:34,650 - BERTopic - Clustered reduced embeddings\n"
     ]
    },
    {
     "name": "stdout",
     "output_type": "stream",
     "text": [
      "BERT model labelling 3940 snippets\n",
      "inference_snippets 3940\n"
     ]
    },
    {
     "data": {
      "application/vnd.jupyter.widget-view+json": {
       "model_id": "",
       "version_major": 2,
       "version_minor": 0
      },
      "text/plain": [
       "Batches:   0%|          | 0/124 [00:00<?, ?it/s]"
      ]
     },
     "metadata": {},
     "output_type": "display_data"
    },
    {
     "name": "stderr",
     "output_type": "stream",
     "text": [
      "2023-10-26 19:31:14,562 - BERTopic - Reduced dimensionality\n",
      "2023-10-26 19:31:14,618 - BERTopic - Predicted clusters\n"
     ]
    },
    {
     "name": "stdout",
     "output_type": "stream",
     "text": [
      "Elapsed total time for topic modelling: 60.4031879901886 seconds\n",
      "sbert results\n",
      "Label count: 9\n",
      "Loss: 0.27715736040609135\n",
      "dataset_file_path ../glanos-data/clustering/big_consulting_export_replace_no_duplicates.tsv\n",
      "Overlap count of length 1: 7\n",
      "Overlap count of length 2: 1\n",
      "Overlap count of length 3: 1\n",
      "Overlap count of length 4 or more: 0\n",
      "Overlap loss:  0.75\n",
      "Diversity loss:  1.10\n",
      "Number of clusters: 9\n",
      "Median cluster size: 276.5 , standard deviation: 306.5426560855764\n",
      "Median top company occurence: 32.85588021212436\n",
      "Cost (outliers): 27.72%\n",
      "\n",
      "Input file ../glanos-data/clustering/input/classification_ai_car_sbert_data2_semi_replace_no_tags_to_params.json\n",
      "Supervised\n",
      "Topic modelling method: BERTopic\n",
      "Fitting the BERT model on 1278 snippets\n"
     ]
    },
    {
     "data": {
      "application/vnd.jupyter.widget-view+json": {
       "model_id": "",
       "version_major": 2,
       "version_minor": 0
      },
      "text/plain": [
       "Batches:   0%|          | 0/40 [00:00<?, ?it/s]"
      ]
     },
     "metadata": {},
     "output_type": "display_data"
    },
    {
     "name": "stderr",
     "output_type": "stream",
     "text": [
      "2023-10-26 19:31:31,702 - BERTopic - Transformed documents to Embeddings\n",
      "2023-10-26 19:31:34,188 - BERTopic - Reduced dimensionality\n",
      "2023-10-26 19:31:34,202 - BERTopic - Clustered reduced embeddings\n"
     ]
    },
    {
     "name": "stdout",
     "output_type": "stream",
     "text": [
      "BERT model labelling 3940 snippets\n",
      "inference_snippets 3940\n"
     ]
    },
    {
     "data": {
      "application/vnd.jupyter.widget-view+json": {
       "model_id": "",
       "version_major": 2,
       "version_minor": 0
      },
      "text/plain": [
       "Batches:   0%|          | 0/124 [00:00<?, ?it/s]"
      ]
     },
     "metadata": {},
     "output_type": "display_data"
    },
    {
     "name": "stderr",
     "output_type": "stream",
     "text": [
      "2023-10-26 19:32:07,557 - BERTopic - Reduced dimensionality\n",
      "2023-10-26 19:32:07,609 - BERTopic - Predicted clusters\n"
     ]
    },
    {
     "name": "stdout",
     "output_type": "stream",
     "text": [
      "Elapsed total time for topic modelling: 52.457539796829224 seconds\n",
      "sbert results\n",
      "Label count: 7\n",
      "Loss: 0.011421319796954314\n",
      "dataset_file_path ../glanos-data/clustering/big_consulting_export_replace_no_duplicates.tsv\n",
      "Overlap count of length 1: 4\n",
      "Overlap count of length 2: 1\n",
      "Overlap count of length 3: 1\n",
      "Overlap count of length 4 or more: 0\n",
      "Overlap loss:  0.86\n",
      "Diversity loss:  1.11\n",
      "Number of clusters: 7\n",
      "Median cluster size: 257.5 , standard deviation: 482.22738412495823\n",
      "Median top company occurence: 32.43432452503249\n",
      "Cost (outliers): 1.14%\n",
      "\n",
      "Input file ../glanos-data/clustering/input/combined_ai_car_class_consulting_sim_data2_semi_replace_no_tags_to_params.json\n",
      "Supervised\n",
      "Topic modelling method: BERTopic\n",
      "Fitting the BERT model on 1278 snippets\n"
     ]
    },
    {
     "data": {
      "application/vnd.jupyter.widget-view+json": {
       "model_id": "",
       "version_major": 2,
       "version_minor": 0
      },
      "text/plain": [
       "Batches:   0%|          | 0/40 [00:00<?, ?it/s]"
      ]
     },
     "metadata": {},
     "output_type": "display_data"
    },
    {
     "name": "stderr",
     "output_type": "stream",
     "text": [
      "2023-10-26 19:32:24,582 - BERTopic - Transformed documents to Embeddings\n",
      "2023-10-26 19:32:27,496 - BERTopic - Reduced dimensionality\n",
      "2023-10-26 19:32:27,513 - BERTopic - Clustered reduced embeddings\n"
     ]
    },
    {
     "name": "stdout",
     "output_type": "stream",
     "text": [
      "BERT model labelling 3940 snippets\n",
      "inference_snippets 3940\n"
     ]
    },
    {
     "data": {
      "application/vnd.jupyter.widget-view+json": {
       "model_id": "",
       "version_major": 2,
       "version_minor": 0
      },
      "text/plain": [
       "Batches:   0%|          | 0/124 [00:00<?, ?it/s]"
      ]
     },
     "metadata": {},
     "output_type": "display_data"
    },
    {
     "name": "stderr",
     "output_type": "stream",
     "text": [
      "2023-10-26 19:33:07,396 - BERTopic - Reduced dimensionality\n",
      "2023-10-26 19:33:07,453 - BERTopic - Predicted clusters\n"
     ]
    },
    {
     "name": "stdout",
     "output_type": "stream",
     "text": [
      "Elapsed total time for topic modelling: 59.30124807357788 seconds\n",
      "sbert results\n",
      "Label count: 15\n",
      "Loss: 0.25862944162436546\n",
      "dataset_file_path ../glanos-data/clustering/big_consulting_export_replace_no_duplicates.tsv\n",
      "Overlap count of length 1: 7\n",
      "Overlap count of length 2: 3\n",
      "Overlap count of length 3: 1\n",
      "Overlap count of length 4 or more: 0\n",
      "Overlap loss:  0.58\n",
      "Diversity loss:  1.10\n",
      "Number of clusters: 15\n",
      "Median cluster size: 117.0 , standard deviation: 292.41355560233524\n",
      "Median top company occurence: 32.47126436781609\n",
      "Cost (outliers): 25.86%\n",
      "\n",
      "Input file ../glanos-data/clustering/input/combined_consulting_sim_ai_car_class_data2_semi_replace_no_tags_to_params.json\n",
      "Supervised\n",
      "Topic modelling method: BERTopic\n",
      "Fitting the BERT model on 1278 snippets\n"
     ]
    },
    {
     "data": {
      "application/vnd.jupyter.widget-view+json": {
       "model_id": "",
       "version_major": 2,
       "version_minor": 0
      },
      "text/plain": [
       "Batches:   0%|          | 0/40 [00:00<?, ?it/s]"
      ]
     },
     "metadata": {},
     "output_type": "display_data"
    },
    {
     "name": "stderr",
     "output_type": "stream",
     "text": [
      "2023-10-26 19:33:24,419 - BERTopic - Transformed documents to Embeddings\n",
      "2023-10-26 19:33:26,973 - BERTopic - Reduced dimensionality\n",
      "2023-10-26 19:33:26,986 - BERTopic - Clustered reduced embeddings\n"
     ]
    },
    {
     "name": "stdout",
     "output_type": "stream",
     "text": [
      "BERT model labelling 3940 snippets\n",
      "inference_snippets 3940\n"
     ]
    },
    {
     "data": {
      "application/vnd.jupyter.widget-view+json": {
       "model_id": "",
       "version_major": 2,
       "version_minor": 0
      },
      "text/plain": [
       "Batches:   0%|          | 0/124 [00:00<?, ?it/s]"
      ]
     },
     "metadata": {},
     "output_type": "display_data"
    },
    {
     "name": "stderr",
     "output_type": "stream",
     "text": [
      "2023-10-26 19:34:01,924 - BERTopic - Reduced dimensionality\n",
      "2023-10-26 19:34:01,972 - BERTopic - Predicted clusters\n"
     ]
    },
    {
     "name": "stdout",
     "output_type": "stream",
     "text": [
      "Elapsed total time for topic modelling: 53.80828285217285 seconds\n",
      "sbert results\n",
      "Label count: 7\n",
      "Loss: 0.01903553299492386\n",
      "dataset_file_path ../glanos-data/clustering/big_consulting_export_replace_no_duplicates.tsv\n",
      "Overlap count of length 1: 6\n",
      "Overlap count of length 2: 1\n",
      "Overlap count of length 3: 0\n",
      "Overlap count of length 4 or more: 0\n",
      "Overlap loss:  0.36\n",
      "Diversity loss:  1.10\n",
      "Number of clusters: 7\n",
      "Median cluster size: 260.5 , standard deviation: 437.01201356484466\n",
      "Median top company occurence: 28.633197213547923\n",
      "Cost (outliers): 1.90%\n",
      "\n",
      "Input file ../glanos-data/clustering/input/combined_consulting_sim_and_ai_car_class_data2_semi_replace_no_tags_to_params.json\n",
      "Supervised\n",
      "Topic modelling method: BERTopic\n",
      "Fitting the BERT model on 1278 snippets\n"
     ]
    },
    {
     "data": {
      "application/vnd.jupyter.widget-view+json": {
       "model_id": "",
       "version_major": 2,
       "version_minor": 0
      },
      "text/plain": [
       "Batches:   0%|          | 0/40 [00:00<?, ?it/s]"
      ]
     },
     "metadata": {},
     "output_type": "display_data"
    },
    {
     "name": "stderr",
     "output_type": "stream",
     "text": [
      "2023-10-26 19:34:19,314 - BERTopic - Transformed documents to Embeddings\n",
      "2023-10-26 19:34:21,728 - BERTopic - Reduced dimensionality\n",
      "2023-10-26 19:34:21,741 - BERTopic - Clustered reduced embeddings\n"
     ]
    },
    {
     "name": "stdout",
     "output_type": "stream",
     "text": [
      "BERT model labelling 3940 snippets\n",
      "inference_snippets 3940\n"
     ]
    },
    {
     "data": {
      "application/vnd.jupyter.widget-view+json": {
       "model_id": "",
       "version_major": 2,
       "version_minor": 0
      },
      "text/plain": [
       "Batches:   0%|          | 0/124 [00:00<?, ?it/s]"
      ]
     },
     "metadata": {},
     "output_type": "display_data"
    },
    {
     "name": "stderr",
     "output_type": "stream",
     "text": [
      "2023-10-26 19:34:53,217 - BERTopic - Reduced dimensionality\n",
      "2023-10-26 19:34:53,267 - BERTopic - Predicted clusters\n"
     ]
    },
    {
     "name": "stdout",
     "output_type": "stream",
     "text": [
      "Elapsed total time for topic modelling: 50.71807384490967 seconds\n",
      "sbert results\n",
      "Label count: 8\n",
      "Loss: 0.3725888324873096\n",
      "dataset_file_path ../glanos-data/clustering/big_consulting_export_replace_no_duplicates.tsv\n",
      "Overlap count of length 1: 3\n",
      "Overlap count of length 2: 4\n",
      "Overlap count of length 3: 0\n",
      "Overlap count of length 4 or more: 0\n",
      "Overlap loss:  0.59\n",
      "Diversity loss:  1.12\n",
      "Number of clusters: 8\n",
      "Median cluster size: 347.0 , standard deviation: 381.3035471402389\n",
      "Median top company occurence: 30.701754385964914\n",
      "Cost (outliers): 37.26%\n",
      "\n",
      "Input file ../glanos-data/clustering/input/combined_ai_car_sim_and_class_data2_semi_replace_no_tags_to_params.json\n",
      "Supervised\n",
      "Topic modelling method: BERTopic\n",
      "Fitting the BERT model on 1278 snippets\n"
     ]
    },
    {
     "data": {
      "application/vnd.jupyter.widget-view+json": {
       "model_id": "",
       "version_major": 2,
       "version_minor": 0
      },
      "text/plain": [
       "Batches:   0%|          | 0/40 [00:00<?, ?it/s]"
      ]
     },
     "metadata": {},
     "output_type": "display_data"
    },
    {
     "name": "stderr",
     "output_type": "stream",
     "text": [
      "2023-10-26 19:35:11,203 - BERTopic - Transformed documents to Embeddings\n",
      "2023-10-26 19:35:13,651 - BERTopic - Reduced dimensionality\n",
      "2023-10-26 19:35:13,665 - BERTopic - Clustered reduced embeddings\n"
     ]
    },
    {
     "name": "stdout",
     "output_type": "stream",
     "text": [
      "BERT model labelling 3940 snippets\n",
      "inference_snippets 3940\n"
     ]
    },
    {
     "data": {
      "application/vnd.jupyter.widget-view+json": {
       "model_id": "",
       "version_major": 2,
       "version_minor": 0
      },
      "text/plain": [
       "Batches:   0%|          | 0/124 [00:00<?, ?it/s]"
      ]
     },
     "metadata": {},
     "output_type": "display_data"
    },
    {
     "name": "stderr",
     "output_type": "stream",
     "text": [
      "2023-10-26 19:35:45,421 - BERTopic - Reduced dimensionality\n",
      "2023-10-26 19:35:45,473 - BERTopic - Predicted clusters\n"
     ]
    },
    {
     "name": "stdout",
     "output_type": "stream",
     "text": [
      "Elapsed total time for topic modelling: 51.22251582145691 seconds\n",
      "sbert results\n",
      "Label count: 8\n",
      "Loss: 0.4482233502538071\n",
      "dataset_file_path ../glanos-data/clustering/big_consulting_export_replace_no_duplicates.tsv\n",
      "Overlap count of length 1: 4\n",
      "Overlap count of length 2: 4\n",
      "Overlap count of length 3: 0\n",
      "Overlap count of length 4 or more: 0\n",
      "Overlap loss:  0.62\n",
      "Diversity loss:  1.15\n",
      "Number of clusters: 8\n",
      "Median cluster size: 256.0 , standard deviation: 503.63253309835113\n",
      "Median top company occurence: 31.874999999999996\n",
      "Cost (outliers): 44.82%\n",
      "\n",
      "Input file ../glanos-data/clustering/input/combined_ai_car_sim_class_data2_semi_replace_no_tags_to_params.json\n",
      "Supervised\n",
      "Topic modelling method: BERTopic\n",
      "Fitting the BERT model on 1278 snippets\n"
     ]
    },
    {
     "data": {
      "application/vnd.jupyter.widget-view+json": {
       "model_id": "",
       "version_major": 2,
       "version_minor": 0
      },
      "text/plain": [
       "Batches:   0%|          | 0/40 [00:00<?, ?it/s]"
      ]
     },
     "metadata": {},
     "output_type": "display_data"
    },
    {
     "name": "stderr",
     "output_type": "stream",
     "text": [
      "2023-10-26 19:36:02,800 - BERTopic - Transformed documents to Embeddings\n",
      "2023-10-26 19:36:05,509 - BERTopic - Reduced dimensionality\n",
      "2023-10-26 19:36:05,524 - BERTopic - Clustered reduced embeddings\n"
     ]
    },
    {
     "name": "stdout",
     "output_type": "stream",
     "text": [
      "BERT model labelling 3940 snippets\n",
      "inference_snippets 3940\n"
     ]
    },
    {
     "data": {
      "application/vnd.jupyter.widget-view+json": {
       "model_id": "",
       "version_major": 2,
       "version_minor": 0
      },
      "text/plain": [
       "Batches:   0%|          | 0/124 [00:00<?, ?it/s]"
      ]
     },
     "metadata": {},
     "output_type": "display_data"
    },
    {
     "name": "stderr",
     "output_type": "stream",
     "text": [
      "2023-10-26 19:36:46,816 - BERTopic - Reduced dimensionality\n",
      "2023-10-26 19:36:46,866 - BERTopic - Predicted clusters\n"
     ]
    },
    {
     "name": "stdout",
     "output_type": "stream",
     "text": [
      "Elapsed total time for topic modelling: 60.810145139694214 seconds\n",
      "sbert results\n",
      "Label count: 6\n",
      "Loss: 0.014213197969543147\n",
      "dataset_file_path ../glanos-data/clustering/big_consulting_export_replace_no_duplicates.tsv\n",
      "Overlap count of length 1: 2\n",
      "Overlap count of length 2: 0\n",
      "Overlap count of length 3: 1\n",
      "Overlap count of length 4 or more: 0\n",
      "Overlap loss:  0.75\n",
      "Diversity loss:  1.08\n",
      "Number of clusters: 6\n",
      "Median cluster size: 349.0 , standard deviation: 461.90426607729887\n",
      "Median top company occurence: 28.08022922636103\n",
      "Cost (outliers): 1.42%\n",
      "\n",
      "Input file ../glanos-data/clustering/input/combined1_data2_semi_replace_no_tags_to_params.json\n",
      "Supervised\n",
      "Topic modelling method: BERTopic\n",
      "Fitting the BERT model on 1278 snippets\n"
     ]
    },
    {
     "data": {
      "application/vnd.jupyter.widget-view+json": {
       "model_id": "",
       "version_major": 2,
       "version_minor": 0
      },
      "text/plain": [
       "Batches:   0%|          | 0/40 [00:00<?, ?it/s]"
      ]
     },
     "metadata": {},
     "output_type": "display_data"
    },
    {
     "name": "stderr",
     "output_type": "stream",
     "text": [
      "2023-10-26 19:37:03,759 - BERTopic - Transformed documents to Embeddings\n",
      "2023-10-26 19:37:06,470 - BERTopic - Reduced dimensionality\n",
      "2023-10-26 19:37:06,487 - BERTopic - Clustered reduced embeddings\n"
     ]
    },
    {
     "name": "stdout",
     "output_type": "stream",
     "text": [
      "BERT model labelling 3940 snippets\n",
      "inference_snippets 3940\n"
     ]
    },
    {
     "data": {
      "application/vnd.jupyter.widget-view+json": {
       "model_id": "",
       "version_major": 2,
       "version_minor": 0
      },
      "text/plain": [
       "Batches:   0%|          | 0/124 [00:00<?, ?it/s]"
      ]
     },
     "metadata": {},
     "output_type": "display_data"
    },
    {
     "name": "stderr",
     "output_type": "stream",
     "text": [
      "2023-10-26 19:37:58,634 - BERTopic - Reduced dimensionality\n",
      "2023-10-26 19:37:58,691 - BERTopic - Predicted clusters\n"
     ]
    },
    {
     "name": "stdout",
     "output_type": "stream",
     "text": [
      "Elapsed total time for topic modelling: 71.2484118938446 seconds\n",
      "sbert results\n",
      "Label count: 8\n",
      "Loss: 0.014467005076142132\n",
      "dataset_file_path ../glanos-data/clustering/big_consulting_export_replace_no_duplicates.tsv\n",
      "Overlap count of length 1: 7\n",
      "Overlap count of length 2: 2\n",
      "Overlap count of length 3: 1\n",
      "Overlap count of length 4 or more: 0\n",
      "Overlap loss:  0.97\n",
      "Diversity loss:  1.14\n",
      "Number of clusters: 8\n",
      "Median cluster size: 159.0 , standard deviation: 450.22161895319897\n",
      "Median top company occurence: 27.77777777777778\n",
      "Cost (outliers): 1.45%\n",
      "\n",
      "Input file ../glanos-data/clustering/input/combined_ai_car_class_sim_data2_semi_replace_no_tags_to_params.json\n",
      "Supervised\n",
      "Topic modelling method: BERTopic\n",
      "Fitting the BERT model on 1278 snippets\n"
     ]
    },
    {
     "data": {
      "application/vnd.jupyter.widget-view+json": {
       "model_id": "",
       "version_major": 2,
       "version_minor": 0
      },
      "text/plain": [
       "Batches:   0%|          | 0/40 [00:00<?, ?it/s]"
      ]
     },
     "metadata": {},
     "output_type": "display_data"
    },
    {
     "name": "stderr",
     "output_type": "stream",
     "text": [
      "2023-10-26 19:38:15,927 - BERTopic - Transformed documents to Embeddings\n",
      "2023-10-26 19:38:18,640 - BERTopic - Reduced dimensionality\n",
      "2023-10-26 19:38:18,659 - BERTopic - Clustered reduced embeddings\n"
     ]
    },
    {
     "name": "stdout",
     "output_type": "stream",
     "text": [
      "BERT model labelling 3940 snippets\n",
      "inference_snippets 3940\n"
     ]
    },
    {
     "data": {
      "application/vnd.jupyter.widget-view+json": {
       "model_id": "",
       "version_major": 2,
       "version_minor": 0
      },
      "text/plain": [
       "Batches:   0%|          | 0/124 [00:00<?, ?it/s]"
      ]
     },
     "metadata": {},
     "output_type": "display_data"
    },
    {
     "name": "stderr",
     "output_type": "stream",
     "text": [
      "2023-10-26 19:39:07,063 - BERTopic - Reduced dimensionality\n",
      "2023-10-26 19:39:07,124 - BERTopic - Predicted clusters\n"
     ]
    },
    {
     "name": "stdout",
     "output_type": "stream",
     "text": [
      "Elapsed total time for topic modelling: 67.91767597198486 seconds\n",
      "sbert results\n",
      "Label count: 15\n",
      "Loss: 0.40939086294416244\n",
      "dataset_file_path ../glanos-data/clustering/big_consulting_export_replace_no_duplicates.tsv\n",
      "Overlap count of length 1: 12\n",
      "Overlap count of length 2: 8\n",
      "Overlap count of length 3: 1\n",
      "Overlap count of length 4 or more: 0\n",
      "Overlap loss:  1.00\n",
      "Diversity loss:  1.17\n",
      "Number of clusters: 15\n",
      "Median cluster size: 97.5 , standard deviation: 388.9142739730698\n",
      "Median top company occurence: 37.643493761140824\n",
      "Cost (outliers): 40.94%\n",
      "\n",
      "Input file ../glanos-data/clustering/input/combined_consulting_data2_semi_replace_no_tags_to_params.json\n",
      "Supervised\n",
      "Topic modelling method: BERTopic\n",
      "Fitting the BERT model on 1278 snippets\n"
     ]
    },
    {
     "data": {
      "application/vnd.jupyter.widget-view+json": {
       "model_id": "",
       "version_major": 2,
       "version_minor": 0
      },
      "text/plain": [
       "Batches:   0%|          | 0/40 [00:00<?, ?it/s]"
      ]
     },
     "metadata": {},
     "output_type": "display_data"
    },
    {
     "name": "stderr",
     "output_type": "stream",
     "text": [
      "2023-10-26 19:39:23,976 - BERTopic - Transformed documents to Embeddings\n",
      "2023-10-26 19:39:26,486 - BERTopic - Reduced dimensionality\n",
      "2023-10-26 19:39:26,499 - BERTopic - Clustered reduced embeddings\n"
     ]
    },
    {
     "name": "stdout",
     "output_type": "stream",
     "text": [
      "BERT model labelling 3940 snippets\n",
      "inference_snippets 3940\n"
     ]
    },
    {
     "data": {
      "application/vnd.jupyter.widget-view+json": {
       "model_id": "",
       "version_major": 2,
       "version_minor": 0
      },
      "text/plain": [
       "Batches:   0%|          | 0/124 [00:00<?, ?it/s]"
      ]
     },
     "metadata": {},
     "output_type": "display_data"
    },
    {
     "name": "stderr",
     "output_type": "stream",
     "text": [
      "2023-10-26 19:39:58,335 - BERTopic - Reduced dimensionality\n",
      "2023-10-26 19:39:58,391 - BERTopic - Predicted clusters\n"
     ]
    },
    {
     "name": "stdout",
     "output_type": "stream",
     "text": [
      "Elapsed total time for topic modelling: 50.70572519302368 seconds\n",
      "sbert results\n",
      "Label count: 14\n",
      "Loss: 0.3426395939086294\n",
      "dataset_file_path ../glanos-data/clustering/big_consulting_export_replace_no_duplicates.tsv\n",
      "Overlap count of length 1: 9\n",
      "Overlap count of length 2: 5\n",
      "Overlap count of length 3: 3\n",
      "Overlap count of length 4 or more: 0\n",
      "Overlap loss:  1.38\n",
      "Diversity loss:  1.19\n",
      "Number of clusters: 14\n",
      "Median cluster size: 140.0 , standard deviation: 358.67230478839895\n",
      "Median top company occurence: 40.0\n",
      "Cost (outliers): 34.26%\n",
      "\n",
      "Input file ../glanos-data/clustering/input/classification_ai_car_data_aug_data2_semi_replace_no_tags_to_params.json\n",
      "Supervised\n",
      "Fitting the BERT model on 1278 snippets                                        \n",
      "  0%|                                   | 0/15 [00:11<?, ?trial/s, best loss=?]"
     ]
    },
    {
     "data": {
      "application/vnd.jupyter.widget-view+json": {
       "model_id": "",
       "version_major": 2,
       "version_minor": 0
      },
      "text/plain": [
       "Batches:   0%|          | 0/40 [00:00<?, ?it/s]"
      ]
     },
     "metadata": {},
     "output_type": "display_data"
    },
    {
     "name": "stderr",
     "output_type": "stream",
     "text": [
      "2023-10-26 19:40:15,768 - BERTopic - Transformed documents to Embeddings\n",
      "2023-10-26 19:40:18,931 - BERTopic - Reduced dimensionality\n",
      "2023-10-26 19:40:18,944 - BERTopic - Clustered reduced embeddings\n"
     ]
    },
    {
     "name": "stdout",
     "output_type": "stream",
     "text": [
      "BERT model labelling 3940 snippets                                             \n",
      "inference_snippets                                                             \n",
      "3940                                                                           \n",
      "  0%|                                   | 0/15 [00:20<?, ?trial/s, best loss=?]"
     ]
    },
    {
     "data": {
      "application/vnd.jupyter.widget-view+json": {
       "model_id": "",
       "version_major": 2,
       "version_minor": 0
      },
      "text/plain": [
       "Batches:   0%|          | 0/124 [00:00<?, ?it/s]"
      ]
     },
     "metadata": {},
     "output_type": "display_data"
    },
    {
     "name": "stderr",
     "output_type": "stream",
     "text": [
      "2023-10-26 19:40:54,989 - BERTopic - Reduced dimensionality\n",
      "2023-10-26 19:40:55,035 - BERTopic - Predicted clusters\n",
      "job exception: 'cluster_id'\n",
      "\n"
     ]
    },
    {
     "name": "stdout",
     "output_type": "stream",
     "text": [
      "  0%|                                   | 0/15 [00:56<?, ?trial/s, best loss=?]\n"
     ]
    },
    {
     "ename": "KeyError",
     "evalue": "'cluster_id'",
     "output_type": "error",
     "traceback": [
      "\u001b[0;31m---------------------------------------------------------------------------\u001b[0m",
      "\u001b[0;31mKeyError\u001b[0m                                  Traceback (most recent call last)",
      "Cell \u001b[0;32mIn[6], line 28\u001b[0m\n\u001b[1;32m     25\u001b[0m combined_ai_car_class_sim_model, combined_ai_car_class_sim_output_df, combined_ai_car_class_sim_cluster_topics, combined_ai_car_class_sim_params, combined_ai_car_class_sim_topic_model \u001b[38;5;241m=\u001b[39m cluster(\u001b[38;5;124m'\u001b[39m\u001b[38;5;124mcombined_ai_car_class_sim_data2_semi_replace_no_tags_to_params.json\u001b[39m\u001b[38;5;124m'\u001b[39m, params, hf_model_name\u001b[38;5;241m=\u001b[39m\u001b[38;5;124m\"\u001b[39m\u001b[38;5;124mbrjezierski/sentence-embeddings-combined-ai_car-class-sim\u001b[39m\u001b[38;5;124m\"\u001b[39m)\n\u001b[1;32m     26\u001b[0m combined_consulting_model, combined_consulting_output_df, combined_consulting_cluster_topics, combined_consulting_params, combined_consulting_topic_model \u001b[38;5;241m=\u001b[39m cluster(\u001b[38;5;124m'\u001b[39m\u001b[38;5;124mcombined_consulting_data2_semi_replace_no_tags_to_params.json\u001b[39m\u001b[38;5;124m'\u001b[39m, params, hf_model_name\u001b[38;5;241m=\u001b[39m\u001b[38;5;124m\"\u001b[39m\u001b[38;5;124mbrjezierski/combined-consulting\u001b[39m\u001b[38;5;124m\"\u001b[39m)\n\u001b[0;32m---> 28\u001b[0m classification_ai_car_data_aug_model, classification_ai_car_data_aug_output_df, classification_ai_car_data_aug_cluster_topics, classification_ai_car_data_aug_params, classification_ai_car_data_aug_topic_model \u001b[38;5;241m=\u001b[39m \u001b[43mcluster\u001b[49m\u001b[43m(\u001b[49m\u001b[38;5;124;43m'\u001b[39;49m\u001b[38;5;124;43mclassification_ai_car_data_aug_data2_semi_replace_no_tags_to_params.json\u001b[39;49m\u001b[38;5;124;43m'\u001b[39;49m\u001b[43m,\u001b[49m\u001b[43m \u001b[49m\u001b[43mparams\u001b[49m\u001b[43m,\u001b[49m\u001b[43m \u001b[49m\u001b[43mhf_model_name\u001b[49m\u001b[38;5;241;43m=\u001b[39;49m\u001b[38;5;124;43m\"\u001b[39;49m\u001b[38;5;124;43mbrjezierski/sentence-embeddings-classification-ai_car-data_aug\u001b[39;49m\u001b[38;5;124;43m\"\u001b[39;49m\u001b[43m)\u001b[49m\n",
      "Cell \u001b[0;32mIn[4], line 77\u001b[0m, in \u001b[0;36mcluster\u001b[0;34m(input_file_name, params, hf_model_name, topic_model)\u001b[0m\n\u001b[1;32m     70\u001b[0m         hdbscan_clustering \u001b[38;5;241m=\u001b[39m perform_clustering(model, \n\u001b[1;32m     71\u001b[0m                                             hdbscan_umap_params[\u001b[38;5;124m'\u001b[39m\u001b[38;5;124mn_neighbors\u001b[39m\u001b[38;5;124m'\u001b[39m], \n\u001b[1;32m     72\u001b[0m                                             hdbscan_umap_params[\u001b[38;5;124m'\u001b[39m\u001b[38;5;124mn_components\u001b[39m\u001b[38;5;124m'\u001b[39m], \n\u001b[1;32m     73\u001b[0m                                             hdbscan_umap_params[\u001b[38;5;124m'\u001b[39m\u001b[38;5;124mmin_cluster_size\u001b[39m\u001b[38;5;124m'\u001b[39m],\n\u001b[1;32m     74\u001b[0m                                             hdbscan_umap_params[\u001b[38;5;124m'\u001b[39m\u001b[38;5;124mmin_samples\u001b[39m\u001b[38;5;124m'\u001b[39m] \u001b[38;5;28;01mif\u001b[39;00m \u001b[38;5;124m'\u001b[39m\u001b[38;5;124mmin_samples\u001b[39m\u001b[38;5;124m'\u001b[39m \u001b[38;5;129;01min\u001b[39;00m hdbscan_umap_params \u001b[38;5;28;01melse\u001b[39;00m \u001b[38;5;241m1\u001b[39m\n\u001b[1;32m     75\u001b[0m                                         )\n\u001b[1;32m     76\u001b[0m \u001b[38;5;28;01melse\u001b[39;00m:\n\u001b[0;32m---> 77\u001b[0m     hdbscan_umap_params \u001b[38;5;241m=\u001b[39m \u001b[43mrun_bayesian_search\u001b[49m\u001b[43m(\u001b[49m\u001b[43mmodel\u001b[49m\u001b[43m,\u001b[49m\u001b[43m \u001b[49m\n\u001b[1;32m     78\u001b[0m \u001b[43m                        \u001b[49m\u001b[43mparams\u001b[49m\u001b[43m,\u001b[49m\n\u001b[1;32m     79\u001b[0m \u001b[43m                        \u001b[49m\u001b[43mdf\u001b[49m\u001b[38;5;241;43m=\u001b[39;49m\u001b[43mdf\u001b[49m\u001b[43m,\u001b[49m\u001b[43m \u001b[49m\n\u001b[1;32m     80\u001b[0m \u001b[43m                        \u001b[49m\u001b[43mparam_output_file_path\u001b[49m\u001b[38;5;241;43m=\u001b[39;49m\u001b[43minput_file_path\u001b[49m\u001b[38;5;241;43m.\u001b[39;49m\u001b[43mreplace\u001b[49m\u001b[43m(\u001b[49m\u001b[38;5;124;43m\"\u001b[39;49m\u001b[38;5;124;43m_params\u001b[39;49m\u001b[38;5;124;43m\"\u001b[39;49m\u001b[43m,\u001b[49m\u001b[43m \u001b[49m\u001b[38;5;124;43m\"\u001b[39;49m\u001b[38;5;124;43m\"\u001b[39;49m\u001b[43m)\u001b[49m\u001b[38;5;241;43m.\u001b[39;49m\u001b[43mreplace\u001b[49m\u001b[43m(\u001b[49m\u001b[38;5;124;43m\"\u001b[39;49m\u001b[38;5;124;43m.json\u001b[39;49m\u001b[38;5;124;43m\"\u001b[39;49m\u001b[43m,\u001b[49m\u001b[43m \u001b[49m\u001b[38;5;124;43m\"\u001b[39;49m\u001b[38;5;124;43m_params.json\u001b[39;49m\u001b[38;5;124;43m\"\u001b[39;49m\u001b[43m)\u001b[49m\n\u001b[1;32m     81\u001b[0m \u001b[43m                       \u001b[49m\u001b[43m)\u001b[49m\n\u001b[1;32m     82\u001b[0m     \u001b[38;5;28mprint\u001b[39m()\n\u001b[1;32m     83\u001b[0m     hdbscan_clustering \u001b[38;5;241m=\u001b[39m model\u001b[38;5;241m.\u001b[39mbest_clusters\n",
      "Cell \u001b[0;32mIn[3], line 12\u001b[0m, in \u001b[0;36mrun_bayesian_search\u001b[0;34m(model, params, df, param_output_file_path)\u001b[0m\n\u001b[1;32m     10\u001b[0m label_lower \u001b[38;5;241m=\u001b[39m params[\u001b[38;5;124m'\u001b[39m\u001b[38;5;124mLABEL_RANGE\u001b[39m\u001b[38;5;124m'\u001b[39m][\u001b[38;5;241m0\u001b[39m]\n\u001b[1;32m     11\u001b[0m label_upper \u001b[38;5;241m=\u001b[39m params[\u001b[38;5;124m'\u001b[39m\u001b[38;5;124mLABEL_RANGE\u001b[39m\u001b[38;5;124m'\u001b[39m][\u001b[38;5;241m1\u001b[39m]\n\u001b[0;32m---> 12\u001b[0m best_params, best_clusters, trials \u001b[38;5;241m=\u001b[39m \u001b[43mmodel\u001b[49m\u001b[38;5;241;43m.\u001b[39;49m\u001b[43mbayesian_search\u001b[49m\u001b[43m(\u001b[49m\u001b[43mspace\u001b[49m\u001b[38;5;241;43m=\u001b[39;49m\u001b[43mhspace\u001b[49m\u001b[43m,\u001b[49m\n\u001b[1;32m     13\u001b[0m \u001b[43m                      \u001b[49m\u001b[43mlabel_lower\u001b[49m\u001b[38;5;241;43m=\u001b[39;49m\u001b[43mlabel_lower\u001b[49m\u001b[43m,\u001b[49m\n\u001b[1;32m     14\u001b[0m \u001b[43m                      \u001b[49m\u001b[43mlabel_upper\u001b[49m\u001b[38;5;241;43m=\u001b[39;49m\u001b[43mlabel_upper\u001b[49m\u001b[43m,\u001b[49m\n\u001b[1;32m     15\u001b[0m \u001b[43m                      \u001b[49m\u001b[43mparams\u001b[49m\u001b[38;5;241;43m=\u001b[39;49m\u001b[43mparams\u001b[49m\u001b[43m,\u001b[49m\n\u001b[1;32m     16\u001b[0m \u001b[43m                      \u001b[49m\u001b[43mdf\u001b[49m\u001b[38;5;241;43m=\u001b[39;49m\u001b[43mdf\u001b[49m\n\u001b[1;32m     17\u001b[0m \u001b[43m                      \u001b[49m\u001b[43m)\u001b[49m\n\u001b[1;32m     18\u001b[0m \u001b[38;5;28;01mif\u001b[39;00m param_output_file_path:\n\u001b[1;32m     19\u001b[0m     save_input_with_params(best_params, df, param_output_file_path)\n",
      "File \u001b[0;32m~/Desktop/master-thesis/notebooks/../chat-intents/chatintents/chatintents.py:280\u001b[0m, in \u001b[0;36mChatIntents.bayesian_search\u001b[0;34m(self, space, label_lower, label_upper, params, df)\u001b[0m\n\u001b[1;32m    272\u001b[0m trials \u001b[38;5;241m=\u001b[39m Trials()\n\u001b[1;32m    273\u001b[0m fmin_objective \u001b[38;5;241m=\u001b[39m partial(\u001b[38;5;28mself\u001b[39m\u001b[38;5;241m.\u001b[39m_objective,\n\u001b[1;32m    274\u001b[0m                          params\u001b[38;5;241m=\u001b[39mparams,\n\u001b[1;32m    275\u001b[0m                          label_lower\u001b[38;5;241m=\u001b[39mlabel_lower,\n\u001b[1;32m    276\u001b[0m                          label_upper\u001b[38;5;241m=\u001b[39mlabel_upper,\n\u001b[1;32m    277\u001b[0m                          metric\u001b[38;5;241m=\u001b[39mparams[\u001b[38;5;124m'\u001b[39m\u001b[38;5;124mBAYESIAN_SEARCH_METRIC\u001b[39m\u001b[38;5;124m'\u001b[39m],\n\u001b[1;32m    278\u001b[0m                          df\u001b[38;5;241m=\u001b[39mdf)\n\u001b[0;32m--> 280\u001b[0m best \u001b[38;5;241m=\u001b[39m \u001b[43mfmin\u001b[49m\u001b[43m(\u001b[49m\u001b[43mfmin_objective\u001b[49m\u001b[43m,\u001b[49m\n\u001b[1;32m    281\u001b[0m \u001b[43m            \u001b[49m\u001b[43mspace\u001b[49m\u001b[38;5;241;43m=\u001b[39;49m\u001b[43mspace\u001b[49m\u001b[43m,\u001b[49m\n\u001b[1;32m    282\u001b[0m \u001b[43m            \u001b[49m\u001b[43malgo\u001b[49m\u001b[38;5;241;43m=\u001b[39;49m\u001b[43mtpe\u001b[49m\u001b[38;5;241;43m.\u001b[39;49m\u001b[43msuggest\u001b[49m\u001b[43m,\u001b[49m\n\u001b[1;32m    283\u001b[0m \u001b[43m            \u001b[49m\u001b[43mmax_evals\u001b[49m\u001b[38;5;241;43m=\u001b[39;49m\u001b[43mparams\u001b[49m\u001b[43m[\u001b[49m\u001b[38;5;124;43m'\u001b[39;49m\u001b[38;5;124;43mMAX_EVALS\u001b[39;49m\u001b[38;5;124;43m'\u001b[39;49m\u001b[43m]\u001b[49m\u001b[43m,\u001b[49m\n\u001b[1;32m    284\u001b[0m \u001b[43m            \u001b[49m\u001b[43mtrials\u001b[49m\u001b[38;5;241;43m=\u001b[39;49m\u001b[43mtrials\u001b[49m\u001b[43m)\u001b[49m\n\u001b[1;32m    286\u001b[0m best_params \u001b[38;5;241m=\u001b[39m space_eval(space, best)\n\u001b[1;32m    287\u001b[0m \u001b[38;5;28mprint\u001b[39m(\u001b[38;5;124m'\u001b[39m\u001b[38;5;124mbest:\u001b[39m\u001b[38;5;124m'\u001b[39m)\n",
      "File \u001b[0;32m~/miniforge3/envs/ml/lib/python3.9/site-packages/hyperopt/fmin.py:540\u001b[0m, in \u001b[0;36mfmin\u001b[0;34m(fn, space, algo, max_evals, timeout, loss_threshold, trials, rstate, allow_trials_fmin, pass_expr_memo_ctrl, catch_eval_exceptions, verbose, return_argmin, points_to_evaluate, max_queue_len, show_progressbar, early_stop_fn, trials_save_file)\u001b[0m\n\u001b[1;32m    537\u001b[0m     fn \u001b[38;5;241m=\u001b[39m __objective_fmin_wrapper(fn)\n\u001b[1;32m    539\u001b[0m \u001b[38;5;28;01mif\u001b[39;00m allow_trials_fmin \u001b[38;5;129;01mand\u001b[39;00m \u001b[38;5;28mhasattr\u001b[39m(trials, \u001b[38;5;124m\"\u001b[39m\u001b[38;5;124mfmin\u001b[39m\u001b[38;5;124m\"\u001b[39m):\n\u001b[0;32m--> 540\u001b[0m     \u001b[38;5;28;01mreturn\u001b[39;00m \u001b[43mtrials\u001b[49m\u001b[38;5;241;43m.\u001b[39;49m\u001b[43mfmin\u001b[49m\u001b[43m(\u001b[49m\n\u001b[1;32m    541\u001b[0m \u001b[43m        \u001b[49m\u001b[43mfn\u001b[49m\u001b[43m,\u001b[49m\n\u001b[1;32m    542\u001b[0m \u001b[43m        \u001b[49m\u001b[43mspace\u001b[49m\u001b[43m,\u001b[49m\n\u001b[1;32m    543\u001b[0m \u001b[43m        \u001b[49m\u001b[43malgo\u001b[49m\u001b[38;5;241;43m=\u001b[39;49m\u001b[43malgo\u001b[49m\u001b[43m,\u001b[49m\n\u001b[1;32m    544\u001b[0m \u001b[43m        \u001b[49m\u001b[43mmax_evals\u001b[49m\u001b[38;5;241;43m=\u001b[39;49m\u001b[43mmax_evals\u001b[49m\u001b[43m,\u001b[49m\n\u001b[1;32m    545\u001b[0m \u001b[43m        \u001b[49m\u001b[43mtimeout\u001b[49m\u001b[38;5;241;43m=\u001b[39;49m\u001b[43mtimeout\u001b[49m\u001b[43m,\u001b[49m\n\u001b[1;32m    546\u001b[0m \u001b[43m        \u001b[49m\u001b[43mloss_threshold\u001b[49m\u001b[38;5;241;43m=\u001b[39;49m\u001b[43mloss_threshold\u001b[49m\u001b[43m,\u001b[49m\n\u001b[1;32m    547\u001b[0m \u001b[43m        \u001b[49m\u001b[43mmax_queue_len\u001b[49m\u001b[38;5;241;43m=\u001b[39;49m\u001b[43mmax_queue_len\u001b[49m\u001b[43m,\u001b[49m\n\u001b[1;32m    548\u001b[0m \u001b[43m        \u001b[49m\u001b[43mrstate\u001b[49m\u001b[38;5;241;43m=\u001b[39;49m\u001b[43mrstate\u001b[49m\u001b[43m,\u001b[49m\n\u001b[1;32m    549\u001b[0m \u001b[43m        \u001b[49m\u001b[43mpass_expr_memo_ctrl\u001b[49m\u001b[38;5;241;43m=\u001b[39;49m\u001b[43mpass_expr_memo_ctrl\u001b[49m\u001b[43m,\u001b[49m\n\u001b[1;32m    550\u001b[0m \u001b[43m        \u001b[49m\u001b[43mverbose\u001b[49m\u001b[38;5;241;43m=\u001b[39;49m\u001b[43mverbose\u001b[49m\u001b[43m,\u001b[49m\n\u001b[1;32m    551\u001b[0m \u001b[43m        \u001b[49m\u001b[43mcatch_eval_exceptions\u001b[49m\u001b[38;5;241;43m=\u001b[39;49m\u001b[43mcatch_eval_exceptions\u001b[49m\u001b[43m,\u001b[49m\n\u001b[1;32m    552\u001b[0m \u001b[43m        \u001b[49m\u001b[43mreturn_argmin\u001b[49m\u001b[38;5;241;43m=\u001b[39;49m\u001b[43mreturn_argmin\u001b[49m\u001b[43m,\u001b[49m\n\u001b[1;32m    553\u001b[0m \u001b[43m        \u001b[49m\u001b[43mshow_progressbar\u001b[49m\u001b[38;5;241;43m=\u001b[39;49m\u001b[43mshow_progressbar\u001b[49m\u001b[43m,\u001b[49m\n\u001b[1;32m    554\u001b[0m \u001b[43m        \u001b[49m\u001b[43mearly_stop_fn\u001b[49m\u001b[38;5;241;43m=\u001b[39;49m\u001b[43mearly_stop_fn\u001b[49m\u001b[43m,\u001b[49m\n\u001b[1;32m    555\u001b[0m \u001b[43m        \u001b[49m\u001b[43mtrials_save_file\u001b[49m\u001b[38;5;241;43m=\u001b[39;49m\u001b[43mtrials_save_file\u001b[49m\u001b[43m,\u001b[49m\n\u001b[1;32m    556\u001b[0m \u001b[43m    \u001b[49m\u001b[43m)\u001b[49m\n\u001b[1;32m    558\u001b[0m \u001b[38;5;28;01mif\u001b[39;00m trials \u001b[38;5;129;01mis\u001b[39;00m \u001b[38;5;28;01mNone\u001b[39;00m:\n\u001b[1;32m    559\u001b[0m     \u001b[38;5;28;01mif\u001b[39;00m os\u001b[38;5;241m.\u001b[39mpath\u001b[38;5;241m.\u001b[39mexists(trials_save_file):\n",
      "File \u001b[0;32m~/miniforge3/envs/ml/lib/python3.9/site-packages/hyperopt/base.py:671\u001b[0m, in \u001b[0;36mTrials.fmin\u001b[0;34m(self, fn, space, algo, max_evals, timeout, loss_threshold, max_queue_len, rstate, verbose, pass_expr_memo_ctrl, catch_eval_exceptions, return_argmin, show_progressbar, early_stop_fn, trials_save_file)\u001b[0m\n\u001b[1;32m    666\u001b[0m \u001b[38;5;66;03m# -- Stop-gap implementation!\u001b[39;00m\n\u001b[1;32m    667\u001b[0m \u001b[38;5;66;03m#    fmin should have been a Trials method in the first place\u001b[39;00m\n\u001b[1;32m    668\u001b[0m \u001b[38;5;66;03m#    but for now it's still sitting in another file.\u001b[39;00m\n\u001b[1;32m    669\u001b[0m \u001b[38;5;28;01mfrom\u001b[39;00m \u001b[38;5;21;01m.\u001b[39;00m\u001b[38;5;21;01mfmin\u001b[39;00m \u001b[38;5;28;01mimport\u001b[39;00m fmin\n\u001b[0;32m--> 671\u001b[0m \u001b[38;5;28;01mreturn\u001b[39;00m \u001b[43mfmin\u001b[49m\u001b[43m(\u001b[49m\n\u001b[1;32m    672\u001b[0m \u001b[43m    \u001b[49m\u001b[43mfn\u001b[49m\u001b[43m,\u001b[49m\n\u001b[1;32m    673\u001b[0m \u001b[43m    \u001b[49m\u001b[43mspace\u001b[49m\u001b[43m,\u001b[49m\n\u001b[1;32m    674\u001b[0m \u001b[43m    \u001b[49m\u001b[43malgo\u001b[49m\u001b[38;5;241;43m=\u001b[39;49m\u001b[43malgo\u001b[49m\u001b[43m,\u001b[49m\n\u001b[1;32m    675\u001b[0m \u001b[43m    \u001b[49m\u001b[43mmax_evals\u001b[49m\u001b[38;5;241;43m=\u001b[39;49m\u001b[43mmax_evals\u001b[49m\u001b[43m,\u001b[49m\n\u001b[1;32m    676\u001b[0m \u001b[43m    \u001b[49m\u001b[43mtimeout\u001b[49m\u001b[38;5;241;43m=\u001b[39;49m\u001b[43mtimeout\u001b[49m\u001b[43m,\u001b[49m\n\u001b[1;32m    677\u001b[0m \u001b[43m    \u001b[49m\u001b[43mloss_threshold\u001b[49m\u001b[38;5;241;43m=\u001b[39;49m\u001b[43mloss_threshold\u001b[49m\u001b[43m,\u001b[49m\n\u001b[1;32m    678\u001b[0m \u001b[43m    \u001b[49m\u001b[43mtrials\u001b[49m\u001b[38;5;241;43m=\u001b[39;49m\u001b[38;5;28;43mself\u001b[39;49m\u001b[43m,\u001b[49m\n\u001b[1;32m    679\u001b[0m \u001b[43m    \u001b[49m\u001b[43mrstate\u001b[49m\u001b[38;5;241;43m=\u001b[39;49m\u001b[43mrstate\u001b[49m\u001b[43m,\u001b[49m\n\u001b[1;32m    680\u001b[0m \u001b[43m    \u001b[49m\u001b[43mverbose\u001b[49m\u001b[38;5;241;43m=\u001b[39;49m\u001b[43mverbose\u001b[49m\u001b[43m,\u001b[49m\n\u001b[1;32m    681\u001b[0m \u001b[43m    \u001b[49m\u001b[43mmax_queue_len\u001b[49m\u001b[38;5;241;43m=\u001b[39;49m\u001b[43mmax_queue_len\u001b[49m\u001b[43m,\u001b[49m\n\u001b[1;32m    682\u001b[0m \u001b[43m    \u001b[49m\u001b[43mallow_trials_fmin\u001b[49m\u001b[38;5;241;43m=\u001b[39;49m\u001b[38;5;28;43;01mFalse\u001b[39;49;00m\u001b[43m,\u001b[49m\u001b[43m  \u001b[49m\u001b[38;5;66;43;03m# -- prevent recursion\u001b[39;49;00m\n\u001b[1;32m    683\u001b[0m \u001b[43m    \u001b[49m\u001b[43mpass_expr_memo_ctrl\u001b[49m\u001b[38;5;241;43m=\u001b[39;49m\u001b[43mpass_expr_memo_ctrl\u001b[49m\u001b[43m,\u001b[49m\n\u001b[1;32m    684\u001b[0m \u001b[43m    \u001b[49m\u001b[43mcatch_eval_exceptions\u001b[49m\u001b[38;5;241;43m=\u001b[39;49m\u001b[43mcatch_eval_exceptions\u001b[49m\u001b[43m,\u001b[49m\n\u001b[1;32m    685\u001b[0m \u001b[43m    \u001b[49m\u001b[43mreturn_argmin\u001b[49m\u001b[38;5;241;43m=\u001b[39;49m\u001b[43mreturn_argmin\u001b[49m\u001b[43m,\u001b[49m\n\u001b[1;32m    686\u001b[0m \u001b[43m    \u001b[49m\u001b[43mshow_progressbar\u001b[49m\u001b[38;5;241;43m=\u001b[39;49m\u001b[43mshow_progressbar\u001b[49m\u001b[43m,\u001b[49m\n\u001b[1;32m    687\u001b[0m \u001b[43m    \u001b[49m\u001b[43mearly_stop_fn\u001b[49m\u001b[38;5;241;43m=\u001b[39;49m\u001b[43mearly_stop_fn\u001b[49m\u001b[43m,\u001b[49m\n\u001b[1;32m    688\u001b[0m \u001b[43m    \u001b[49m\u001b[43mtrials_save_file\u001b[49m\u001b[38;5;241;43m=\u001b[39;49m\u001b[43mtrials_save_file\u001b[49m\u001b[43m,\u001b[49m\n\u001b[1;32m    689\u001b[0m \u001b[43m\u001b[49m\u001b[43m)\u001b[49m\n",
      "File \u001b[0;32m~/miniforge3/envs/ml/lib/python3.9/site-packages/hyperopt/fmin.py:586\u001b[0m, in \u001b[0;36mfmin\u001b[0;34m(fn, space, algo, max_evals, timeout, loss_threshold, trials, rstate, allow_trials_fmin, pass_expr_memo_ctrl, catch_eval_exceptions, verbose, return_argmin, points_to_evaluate, max_queue_len, show_progressbar, early_stop_fn, trials_save_file)\u001b[0m\n\u001b[1;32m    583\u001b[0m rval\u001b[38;5;241m.\u001b[39mcatch_eval_exceptions \u001b[38;5;241m=\u001b[39m catch_eval_exceptions\n\u001b[1;32m    585\u001b[0m \u001b[38;5;66;03m# next line is where the fmin is actually executed\u001b[39;00m\n\u001b[0;32m--> 586\u001b[0m \u001b[43mrval\u001b[49m\u001b[38;5;241;43m.\u001b[39;49m\u001b[43mexhaust\u001b[49m\u001b[43m(\u001b[49m\u001b[43m)\u001b[49m\n\u001b[1;32m    588\u001b[0m \u001b[38;5;28;01mif\u001b[39;00m return_argmin:\n\u001b[1;32m    589\u001b[0m     \u001b[38;5;28;01mif\u001b[39;00m \u001b[38;5;28mlen\u001b[39m(trials\u001b[38;5;241m.\u001b[39mtrials) \u001b[38;5;241m==\u001b[39m \u001b[38;5;241m0\u001b[39m:\n",
      "File \u001b[0;32m~/miniforge3/envs/ml/lib/python3.9/site-packages/hyperopt/fmin.py:364\u001b[0m, in \u001b[0;36mFMinIter.exhaust\u001b[0;34m(self)\u001b[0m\n\u001b[1;32m    362\u001b[0m \u001b[38;5;28;01mdef\u001b[39;00m \u001b[38;5;21mexhaust\u001b[39m(\u001b[38;5;28mself\u001b[39m):\n\u001b[1;32m    363\u001b[0m     n_done \u001b[38;5;241m=\u001b[39m \u001b[38;5;28mlen\u001b[39m(\u001b[38;5;28mself\u001b[39m\u001b[38;5;241m.\u001b[39mtrials)\n\u001b[0;32m--> 364\u001b[0m     \u001b[38;5;28;43mself\u001b[39;49m\u001b[38;5;241;43m.\u001b[39;49m\u001b[43mrun\u001b[49m\u001b[43m(\u001b[49m\u001b[38;5;28;43mself\u001b[39;49m\u001b[38;5;241;43m.\u001b[39;49m\u001b[43mmax_evals\u001b[49m\u001b[43m \u001b[49m\u001b[38;5;241;43m-\u001b[39;49m\u001b[43m \u001b[49m\u001b[43mn_done\u001b[49m\u001b[43m,\u001b[49m\u001b[43m \u001b[49m\u001b[43mblock_until_done\u001b[49m\u001b[38;5;241;43m=\u001b[39;49m\u001b[38;5;28;43mself\u001b[39;49m\u001b[38;5;241;43m.\u001b[39;49m\u001b[43masynchronous\u001b[49m\u001b[43m)\u001b[49m\n\u001b[1;32m    365\u001b[0m     \u001b[38;5;28mself\u001b[39m\u001b[38;5;241m.\u001b[39mtrials\u001b[38;5;241m.\u001b[39mrefresh()\n\u001b[1;32m    366\u001b[0m     \u001b[38;5;28;01mreturn\u001b[39;00m \u001b[38;5;28mself\u001b[39m\n",
      "File \u001b[0;32m~/miniforge3/envs/ml/lib/python3.9/site-packages/hyperopt/fmin.py:300\u001b[0m, in \u001b[0;36mFMinIter.run\u001b[0;34m(self, N, block_until_done)\u001b[0m\n\u001b[1;32m    297\u001b[0m     time\u001b[38;5;241m.\u001b[39msleep(\u001b[38;5;28mself\u001b[39m\u001b[38;5;241m.\u001b[39mpoll_interval_secs)\n\u001b[1;32m    298\u001b[0m \u001b[38;5;28;01melse\u001b[39;00m:\n\u001b[1;32m    299\u001b[0m     \u001b[38;5;66;03m# -- loop over trials and do the jobs directly\u001b[39;00m\n\u001b[0;32m--> 300\u001b[0m     \u001b[38;5;28;43mself\u001b[39;49m\u001b[38;5;241;43m.\u001b[39;49m\u001b[43mserial_evaluate\u001b[49m\u001b[43m(\u001b[49m\u001b[43m)\u001b[49m\n\u001b[1;32m    302\u001b[0m \u001b[38;5;28mself\u001b[39m\u001b[38;5;241m.\u001b[39mtrials\u001b[38;5;241m.\u001b[39mrefresh()\n\u001b[1;32m    303\u001b[0m \u001b[38;5;28;01mif\u001b[39;00m \u001b[38;5;28mself\u001b[39m\u001b[38;5;241m.\u001b[39mtrials_save_file \u001b[38;5;241m!=\u001b[39m \u001b[38;5;124m\"\u001b[39m\u001b[38;5;124m\"\u001b[39m:\n",
      "File \u001b[0;32m~/miniforge3/envs/ml/lib/python3.9/site-packages/hyperopt/fmin.py:178\u001b[0m, in \u001b[0;36mFMinIter.serial_evaluate\u001b[0;34m(self, N)\u001b[0m\n\u001b[1;32m    176\u001b[0m ctrl \u001b[38;5;241m=\u001b[39m base\u001b[38;5;241m.\u001b[39mCtrl(\u001b[38;5;28mself\u001b[39m\u001b[38;5;241m.\u001b[39mtrials, current_trial\u001b[38;5;241m=\u001b[39mtrial)\n\u001b[1;32m    177\u001b[0m \u001b[38;5;28;01mtry\u001b[39;00m:\n\u001b[0;32m--> 178\u001b[0m     result \u001b[38;5;241m=\u001b[39m \u001b[38;5;28;43mself\u001b[39;49m\u001b[38;5;241;43m.\u001b[39;49m\u001b[43mdomain\u001b[49m\u001b[38;5;241;43m.\u001b[39;49m\u001b[43mevaluate\u001b[49m\u001b[43m(\u001b[49m\u001b[43mspec\u001b[49m\u001b[43m,\u001b[49m\u001b[43m \u001b[49m\u001b[43mctrl\u001b[49m\u001b[43m)\u001b[49m\n\u001b[1;32m    179\u001b[0m \u001b[38;5;28;01mexcept\u001b[39;00m \u001b[38;5;167;01mException\u001b[39;00m \u001b[38;5;28;01mas\u001b[39;00m e:\n\u001b[1;32m    180\u001b[0m     logger\u001b[38;5;241m.\u001b[39merror(\u001b[38;5;124m\"\u001b[39m\u001b[38;5;124mjob exception: \u001b[39m\u001b[38;5;132;01m%s\u001b[39;00m\u001b[38;5;124m\"\u001b[39m \u001b[38;5;241m%\u001b[39m \u001b[38;5;28mstr\u001b[39m(e))\n",
      "File \u001b[0;32m~/miniforge3/envs/ml/lib/python3.9/site-packages/hyperopt/base.py:892\u001b[0m, in \u001b[0;36mDomain.evaluate\u001b[0;34m(self, config, ctrl, attach_attachments)\u001b[0m\n\u001b[1;32m    883\u001b[0m \u001b[38;5;28;01melse\u001b[39;00m:\n\u001b[1;32m    884\u001b[0m     \u001b[38;5;66;03m# -- the \"work\" of evaluating `config` can be written\u001b[39;00m\n\u001b[1;32m    885\u001b[0m     \u001b[38;5;66;03m#    either into the pyll part (self.expr)\u001b[39;00m\n\u001b[1;32m    886\u001b[0m     \u001b[38;5;66;03m#    or the normal Python part (self.fn)\u001b[39;00m\n\u001b[1;32m    887\u001b[0m     pyll_rval \u001b[38;5;241m=\u001b[39m pyll\u001b[38;5;241m.\u001b[39mrec_eval(\n\u001b[1;32m    888\u001b[0m         \u001b[38;5;28mself\u001b[39m\u001b[38;5;241m.\u001b[39mexpr,\n\u001b[1;32m    889\u001b[0m         memo\u001b[38;5;241m=\u001b[39mmemo,\n\u001b[1;32m    890\u001b[0m         print_node_on_error\u001b[38;5;241m=\u001b[39m\u001b[38;5;28mself\u001b[39m\u001b[38;5;241m.\u001b[39mrec_eval_print_node_on_error,\n\u001b[1;32m    891\u001b[0m     )\n\u001b[0;32m--> 892\u001b[0m     rval \u001b[38;5;241m=\u001b[39m \u001b[38;5;28;43mself\u001b[39;49m\u001b[38;5;241;43m.\u001b[39;49m\u001b[43mfn\u001b[49m\u001b[43m(\u001b[49m\u001b[43mpyll_rval\u001b[49m\u001b[43m)\u001b[49m\n\u001b[1;32m    894\u001b[0m \u001b[38;5;28;01mif\u001b[39;00m \u001b[38;5;28misinstance\u001b[39m(rval, (\u001b[38;5;28mfloat\u001b[39m, \u001b[38;5;28mint\u001b[39m, np\u001b[38;5;241m.\u001b[39mnumber)):\n\u001b[1;32m    895\u001b[0m     dict_rval \u001b[38;5;241m=\u001b[39m {\u001b[38;5;124m\"\u001b[39m\u001b[38;5;124mloss\u001b[39m\u001b[38;5;124m\"\u001b[39m: \u001b[38;5;28mfloat\u001b[39m(rval), \u001b[38;5;124m\"\u001b[39m\u001b[38;5;124mstatus\u001b[39m\u001b[38;5;124m\"\u001b[39m: STATUS_OK}\n",
      "File \u001b[0;32m~/Desktop/master-thesis/notebooks/../chat-intents/chatintents/chatintents.py:224\u001b[0m, in \u001b[0;36mChatIntents._objective\u001b[0;34m(self, space, params, label_lower, label_upper, metric, df)\u001b[0m\n\u001b[1;32m    220\u001b[0m     \u001b[38;5;28;01mraise\u001b[39;00m \u001b[38;5;167;01mValueError\u001b[39;00m(\n\u001b[1;32m    221\u001b[0m         \u001b[38;5;124mf\u001b[39m\u001b[38;5;124m\"\u001b[39m\u001b[38;5;124mtopic_model \u001b[39m\u001b[38;5;132;01m{\u001b[39;00mtopic_model\u001b[38;5;132;01m}\u001b[39;00m\u001b[38;5;124m not supported\u001b[39m\u001b[38;5;124m\"\u001b[39m)\n\u001b[1;32m    223\u001b[0m \u001b[38;5;28;01mif\u001b[39;00m metric\u001b[38;5;241m.\u001b[39mstartswith(\u001b[38;5;124m'\u001b[39m\u001b[38;5;124mtopic_overlap\u001b[39m\u001b[38;5;124m'\u001b[39m):\n\u001b[0;32m--> 224\u001b[0m     loss \u001b[38;5;241m=\u001b[39m \u001b[43mget_overlap_loss\u001b[49m\u001b[43m(\u001b[49m\n\u001b[1;32m    225\u001b[0m \u001b[43m        \u001b[49m\u001b[38;5;28;43mself\u001b[39;49m\u001b[38;5;241;43m.\u001b[39;49m\u001b[43minference_df\u001b[49m\u001b[43m,\u001b[49m\u001b[43m \u001b[49m\u001b[43mcluster_topics\u001b[49m\u001b[43m,\u001b[49m\u001b[43m \u001b[49m\u001b[43mlabel_count\u001b[49m\u001b[43m)\u001b[49m\n\u001b[1;32m    226\u001b[0m \u001b[38;5;28;01melif\u001b[39;00m metric\u001b[38;5;241m.\u001b[39mstartswith(\u001b[38;5;124m'\u001b[39m\u001b[38;5;124mtopic_diversity\u001b[39m\u001b[38;5;124m'\u001b[39m):\n\u001b[1;32m    227\u001b[0m     loss \u001b[38;5;241m=\u001b[39m get_diversity_loss(cluster_topics, params)\n",
      "File \u001b[0;32m~/Desktop/master-thesis/notebooks/clustering_utils.py:225\u001b[0m, in \u001b[0;36mget_overlap_loss\u001b[0;34m(df, topics_list, label_count, verbose)\u001b[0m\n\u001b[1;32m    223\u001b[0m overlaps \u001b[38;5;241m=\u001b[39m {}\n\u001b[1;32m    224\u001b[0m overlap_count \u001b[38;5;241m=\u001b[39m [\u001b[38;5;241m0\u001b[39m] \u001b[38;5;241m*\u001b[39m \u001b[38;5;241m4\u001b[39m\n\u001b[0;32m--> 225\u001b[0m cluster_id_to_ids_map \u001b[38;5;241m=\u001b[39m \u001b[43mdf\u001b[49m\u001b[38;5;241;43m.\u001b[39;49m\u001b[43mgroupby\u001b[49m\u001b[43m(\u001b[49m\n\u001b[1;32m    226\u001b[0m \u001b[43m    \u001b[49m\u001b[38;5;124;43m'\u001b[39;49m\u001b[38;5;124;43mcluster_id\u001b[39;49m\u001b[38;5;124;43m'\u001b[39;49m\u001b[43m)\u001b[49m[\u001b[38;5;124m'\u001b[39m\u001b[38;5;124mid\u001b[39m\u001b[38;5;124m'\u001b[39m]\u001b[38;5;241m.\u001b[39mapply(\u001b[38;5;28mlist\u001b[39m)\u001b[38;5;241m.\u001b[39mto_dict()\n\u001b[1;32m    228\u001b[0m \u001b[38;5;28;01mfor\u001b[39;00m i, lst1 \u001b[38;5;129;01min\u001b[39;00m \u001b[38;5;28menumerate\u001b[39m(topics_list):\n\u001b[1;32m    229\u001b[0m     \u001b[38;5;28;01mif\u001b[39;00m i \u001b[38;5;241m-\u001b[39m \u001b[38;5;241m1\u001b[39m \u001b[38;5;129;01min\u001b[39;00m cluster_id_to_ids_map\u001b[38;5;241m.\u001b[39mkeys():\n",
      "File \u001b[0;32m~/miniforge3/envs/ml/lib/python3.9/site-packages/pandas/core/frame.py:8262\u001b[0m, in \u001b[0;36mDataFrame.groupby\u001b[0;34m(self, by, axis, level, as_index, sort, group_keys, observed, dropna)\u001b[0m\n\u001b[1;32m   8259\u001b[0m     \u001b[38;5;28;01mraise\u001b[39;00m \u001b[38;5;167;01mTypeError\u001b[39;00m(\u001b[38;5;124m\"\u001b[39m\u001b[38;5;124mYou have to supply one of \u001b[39m\u001b[38;5;124m'\u001b[39m\u001b[38;5;124mby\u001b[39m\u001b[38;5;124m'\u001b[39m\u001b[38;5;124m and \u001b[39m\u001b[38;5;124m'\u001b[39m\u001b[38;5;124mlevel\u001b[39m\u001b[38;5;124m'\u001b[39m\u001b[38;5;124m\"\u001b[39m)\n\u001b[1;32m   8260\u001b[0m axis \u001b[38;5;241m=\u001b[39m \u001b[38;5;28mself\u001b[39m\u001b[38;5;241m.\u001b[39m_get_axis_number(axis)\n\u001b[0;32m-> 8262\u001b[0m \u001b[38;5;28;01mreturn\u001b[39;00m \u001b[43mDataFrameGroupBy\u001b[49m\u001b[43m(\u001b[49m\n\u001b[1;32m   8263\u001b[0m \u001b[43m    \u001b[49m\u001b[43mobj\u001b[49m\u001b[38;5;241;43m=\u001b[39;49m\u001b[38;5;28;43mself\u001b[39;49m\u001b[43m,\u001b[49m\n\u001b[1;32m   8264\u001b[0m \u001b[43m    \u001b[49m\u001b[43mkeys\u001b[49m\u001b[38;5;241;43m=\u001b[39;49m\u001b[43mby\u001b[49m\u001b[43m,\u001b[49m\n\u001b[1;32m   8265\u001b[0m \u001b[43m    \u001b[49m\u001b[43maxis\u001b[49m\u001b[38;5;241;43m=\u001b[39;49m\u001b[43maxis\u001b[49m\u001b[43m,\u001b[49m\n\u001b[1;32m   8266\u001b[0m \u001b[43m    \u001b[49m\u001b[43mlevel\u001b[49m\u001b[38;5;241;43m=\u001b[39;49m\u001b[43mlevel\u001b[49m\u001b[43m,\u001b[49m\n\u001b[1;32m   8267\u001b[0m \u001b[43m    \u001b[49m\u001b[43mas_index\u001b[49m\u001b[38;5;241;43m=\u001b[39;49m\u001b[43mas_index\u001b[49m\u001b[43m,\u001b[49m\n\u001b[1;32m   8268\u001b[0m \u001b[43m    \u001b[49m\u001b[43msort\u001b[49m\u001b[38;5;241;43m=\u001b[39;49m\u001b[43msort\u001b[49m\u001b[43m,\u001b[49m\n\u001b[1;32m   8269\u001b[0m \u001b[43m    \u001b[49m\u001b[43mgroup_keys\u001b[49m\u001b[38;5;241;43m=\u001b[39;49m\u001b[43mgroup_keys\u001b[49m\u001b[43m,\u001b[49m\n\u001b[1;32m   8270\u001b[0m \u001b[43m    \u001b[49m\u001b[43mobserved\u001b[49m\u001b[38;5;241;43m=\u001b[39;49m\u001b[43mobserved\u001b[49m\u001b[43m,\u001b[49m\n\u001b[1;32m   8271\u001b[0m \u001b[43m    \u001b[49m\u001b[43mdropna\u001b[49m\u001b[38;5;241;43m=\u001b[39;49m\u001b[43mdropna\u001b[49m\u001b[43m,\u001b[49m\n\u001b[1;32m   8272\u001b[0m \u001b[43m\u001b[49m\u001b[43m)\u001b[49m\n",
      "File \u001b[0;32m~/miniforge3/envs/ml/lib/python3.9/site-packages/pandas/core/groupby/groupby.py:931\u001b[0m, in \u001b[0;36mGroupBy.__init__\u001b[0;34m(self, obj, keys, axis, level, grouper, exclusions, selection, as_index, sort, group_keys, observed, dropna)\u001b[0m\n\u001b[1;32m    928\u001b[0m \u001b[38;5;28mself\u001b[39m\u001b[38;5;241m.\u001b[39mdropna \u001b[38;5;241m=\u001b[39m dropna\n\u001b[1;32m    930\u001b[0m \u001b[38;5;28;01mif\u001b[39;00m grouper \u001b[38;5;129;01mis\u001b[39;00m \u001b[38;5;28;01mNone\u001b[39;00m:\n\u001b[0;32m--> 931\u001b[0m     grouper, exclusions, obj \u001b[38;5;241m=\u001b[39m \u001b[43mget_grouper\u001b[49m\u001b[43m(\u001b[49m\n\u001b[1;32m    932\u001b[0m \u001b[43m        \u001b[49m\u001b[43mobj\u001b[49m\u001b[43m,\u001b[49m\n\u001b[1;32m    933\u001b[0m \u001b[43m        \u001b[49m\u001b[43mkeys\u001b[49m\u001b[43m,\u001b[49m\n\u001b[1;32m    934\u001b[0m \u001b[43m        \u001b[49m\u001b[43maxis\u001b[49m\u001b[38;5;241;43m=\u001b[39;49m\u001b[43maxis\u001b[49m\u001b[43m,\u001b[49m\n\u001b[1;32m    935\u001b[0m \u001b[43m        \u001b[49m\u001b[43mlevel\u001b[49m\u001b[38;5;241;43m=\u001b[39;49m\u001b[43mlevel\u001b[49m\u001b[43m,\u001b[49m\n\u001b[1;32m    936\u001b[0m \u001b[43m        \u001b[49m\u001b[43msort\u001b[49m\u001b[38;5;241;43m=\u001b[39;49m\u001b[43msort\u001b[49m\u001b[43m,\u001b[49m\n\u001b[1;32m    937\u001b[0m \u001b[43m        \u001b[49m\u001b[43mobserved\u001b[49m\u001b[38;5;241;43m=\u001b[39;49m\u001b[43mobserved\u001b[49m\u001b[43m,\u001b[49m\n\u001b[1;32m    938\u001b[0m \u001b[43m        \u001b[49m\u001b[43mdropna\u001b[49m\u001b[38;5;241;43m=\u001b[39;49m\u001b[38;5;28;43mself\u001b[39;49m\u001b[38;5;241;43m.\u001b[39;49m\u001b[43mdropna\u001b[49m\u001b[43m,\u001b[49m\n\u001b[1;32m    939\u001b[0m \u001b[43m    \u001b[49m\u001b[43m)\u001b[49m\n\u001b[1;32m    941\u001b[0m \u001b[38;5;28mself\u001b[39m\u001b[38;5;241m.\u001b[39mobj \u001b[38;5;241m=\u001b[39m obj\n\u001b[1;32m    942\u001b[0m \u001b[38;5;28mself\u001b[39m\u001b[38;5;241m.\u001b[39maxis \u001b[38;5;241m=\u001b[39m obj\u001b[38;5;241m.\u001b[39m_get_axis_number(axis)\n",
      "File \u001b[0;32m~/miniforge3/envs/ml/lib/python3.9/site-packages/pandas/core/groupby/grouper.py:985\u001b[0m, in \u001b[0;36mget_grouper\u001b[0;34m(obj, key, axis, level, sort, observed, validate, dropna)\u001b[0m\n\u001b[1;32m    983\u001b[0m         in_axis, level, gpr \u001b[38;5;241m=\u001b[39m \u001b[38;5;28;01mFalse\u001b[39;00m, gpr, \u001b[38;5;28;01mNone\u001b[39;00m\n\u001b[1;32m    984\u001b[0m     \u001b[38;5;28;01melse\u001b[39;00m:\n\u001b[0;32m--> 985\u001b[0m         \u001b[38;5;28;01mraise\u001b[39;00m \u001b[38;5;167;01mKeyError\u001b[39;00m(gpr)\n\u001b[1;32m    986\u001b[0m \u001b[38;5;28;01melif\u001b[39;00m \u001b[38;5;28misinstance\u001b[39m(gpr, Grouper) \u001b[38;5;129;01mand\u001b[39;00m gpr\u001b[38;5;241m.\u001b[39mkey \u001b[38;5;129;01mis\u001b[39;00m \u001b[38;5;129;01mnot\u001b[39;00m \u001b[38;5;28;01mNone\u001b[39;00m:\n\u001b[1;32m    987\u001b[0m     \u001b[38;5;66;03m# Add key to exclusions\u001b[39;00m\n\u001b[1;32m    988\u001b[0m     exclusions\u001b[38;5;241m.\u001b[39madd(gpr\u001b[38;5;241m.\u001b[39mkey)\n",
      "\u001b[0;31mKeyError\u001b[0m: 'cluster_id'"
     ]
    }
   ],
   "source": [
    "# on replace_no_tags dataset\n",
    "# overlap loss\n",
    "\n",
    "data2_input_file = '../glanos-data/clustering/big_consulting_export_replace.tsv'\n",
    "params['BAYESIAN_SEARCH_METRIC'] = 'topic_overlap+bert'\n",
    "\n",
    "sbert_model, sbert_output_df, sbert_cluster_topics, sbert_params, sbert_topic_model = cluster('baseline_data2_semi_replace_no_tags_to_params.json', params, hf_model_name='sentence-transformers/all-MiniLM-L12-v2')\n",
    "baai_model, baai_output_df, baai_cluster_topics, baai_params, baai_topic_model = cluster('baai_baseline_data2_semi_replace_no_tags_to_params.json', params, hf_model_name='BAAI/bge-base-en-v1.5')\n",
    "\n",
    "similarity_sbert_model, similarity_sbert_output_df, similarity_sbert_cluster_topics, similarity_sbert_params, similarity_sbert_topic_model = cluster('similarity_data2_semi_replace_no_tags_to_params.json', params, hf_model_name=\"brjezierski/sentence-embeddings-similarity\")\n",
    "similarity_baai_model, similarity_baai_output_df, similarity_baai_cluster_topics, similarity_baai_params, similarity_baai_topic_model = cluster('best_similarity_data2_semi_replace_no_tags_to_params.json', params, hf_model_name=\"brjezierski/sentence-embeddings-similarity-best-baai\")\n",
    "similarity_ai_car_sbert_model, similarity_ai_car_sbert_output_df, similarity_ai_car_sbert_cluster_topics, similarity_ai_car_sbert_params, similarity_ai_car_sbert_topic_model = cluster('similarity_ai_car_data2_semi_replace_no_tags_to_params.json', params, hf_model_name='brjezierski/sentence-embeddings-similarity-ai-car')\n",
    "similarity_distill_consistency_model, similarity_distill_consistency_output_df, similarity_distill_consistency_cluster_topics, similarity_distill_consistency_params, similarity_distill_consistency_topic_model = cluster('similarity_distill_consistency_data2_semi_replace_no_tags_to_params.json', params, hf_model_name='brjezierski/sentence-embeddings-similarity-distill-consistency')\n",
    "similarity_ai_car_distill_consistency_model, similarity_ai_car_distill_consistency_output_df, similarity_ai_car_distill_consistency_cluster_topics, similarity_ai_car_distill_consistency_params, similarity_ai_car_distill_consistency_topic_model = cluster('similarity_ai_car_distill_consistency_data2_semi_replace_no_tags_to_params.json', params, hf_model_name='brjezierski/sentence-embeddings-similarity-ai_car-distill-consistency')\n",
    "\n",
    "\n",
    "classification_model, classification_output_df, classification_cluster_topics, classification_params, classification_topic_model = cluster('classification_data2_semi_replace_no_tags_to_params.json', params, hf_model_name=\"brjezierski/sentence-embeddings-classification\")\n",
    "classification_ai_car_sbert_model, classification_ai_car_sbert_output_df, classification_ai_car_sbert_cluster_topics, classification_ai_car_sbert_params, classification_ai_car_sbert_topic_model = cluster('classification_ai_car_sbert_data2_semi_replace_no_tags_to_params.json', params, hf_model_name=\"brjezierski/sentence-embeddings-classification-ai_car-sbert\")\n",
    "combined_ai_car_class_consulting_sim_model, combined_ai_car_class_consulting_sim_output_df, combined_ai_car_class_consulting_sim_cluster_topics, combined_ai_car_class_consulting_sim_params, combined_ai_car_class_consulting_sim_topic_model = cluster('combined_ai_car_class_consulting_sim_data2_semi_replace_no_tags_to_params.json', params, hf_model_name=\"brjezierski/sentence-embeddings-combined-ai_car-class-consulting-sim\")\n",
    "combined_consulting_sim_ai_car_class_model, combined_consulting_sim_ai_car_class_output_df, combined_consulting_sim_ai_car_class_cluster_topics, combined_consulting_sim_ai_car_class_params, combined_consulting_sim_ai_car_class_topic_model = cluster('combined_consulting_sim_ai_car_class_data2_semi_replace_no_tags_to_params.json', params, hf_model_name=\"brjezierski/sentence-embeddings-combined-consulting-sim-ai_car-class\")\n",
    "combined_consulting_sim_and_ai_car_class_model, combined_consulting_sim_and_ai_car_class_output_df, combined_consulting_sim_and_ai_car_class_cluster_topics, combined_consulting_sim_and_ai_car_class_params, combined_consulting_sim_and_ai_car_class_topic_model = cluster('combined_consulting_sim_and_ai_car_class_data2_semi_replace_no_tags_to_params.json', params, hf_model_name=\"brjezierski/sentence-embeddings-combined-consulting-sim-and-ai_car-class\")\n",
    "combined_ai_car_sim_and_class_model, combined_ai_car_sim_and_class_output_df, combined_ai_car_sim_and_class_cluster_topics, combined_ai_car_sim_and_class_params, combined_ai_car_sim_and_class_topic_model = cluster('combined_ai_car_sim_and_class_data2_semi_replace_no_tags_to_params.json', params, hf_model_name=\"brjezierski/sentence-embeddings-combined-ai_car-sim-and-class\")\n",
    "combined_ai_car_sim_class_model, combined_ai_car_sim_class_output_df, combined_ai_car_sim_class_cluster_topics, combined_ai_car_sim_class_params, combined_ai_car_sim_class_topic_model = cluster('combined_ai_car_sim_class_data2_semi_replace_no_tags_to_params.json', params, hf_model_name=\"brjezierski/sentence-embeddings-combined-ai_car-sim-class\")\n",
    "combined_ai_car_class_sim_model, combined_ai_car_class_sim_output_df, combined_ai_car_class_sim_cluster_topics, combined_ai_car_class_sim_params, combined_ai_car_class_sim_topic_model = cluster('combined_ai_car_class_sim_data2_semi_replace_no_tags_to_params.json', params, hf_model_name=\"brjezierski/sentence-embeddings-combined-ai_car-class-sim\")\n",
    "combined_consulting_model, combined_consulting_output_df, combined_consulting_cluster_topics, combined_consulting_params, combined_consulting_topic_model = cluster('combined_consulting_data2_semi_replace_no_tags_to_params.json', params, hf_model_name=\"brjezierski/combined-consulting\")\n",
    "classification_ai_car_data_aug_model, classification_ai_car_data_aug_output_df, classification_ai_car_data_aug_cluster_topics, classification_ai_car_data_aug_params, classification_ai_car_data_aug_topic_model = cluster('classification_ai_car_data_aug_data2_semi_replace_no_tags_to_params.json', params, hf_model_name=\"brjezierski/sentence-embeddings-classification-ai_car-data_aug\")\n",
    "\n"
   ]
  },
  {
   "cell_type": "code",
   "execution_count": 12,
   "metadata": {},
   "outputs": [
    {
     "name": "stdout",
     "output_type": "stream",
     "text": [
      "Input file ../glanos-data/clustering/input/classification_ai_car_data_aug_data2_semi_replace_no_tags_to_params.json\n",
      "Supervised\n",
      "Fitting the BERT model on 1278 snippets                                        \n",
      "  0%|                                   | 0/15 [00:11<?, ?trial/s, best loss=?]"
     ]
    },
    {
     "data": {
      "application/vnd.jupyter.widget-view+json": {
       "model_id": "",
       "version_major": 2,
       "version_minor": 0
      },
      "text/plain": [
       "Batches:   0%|          | 0/40 [00:00<?, ?it/s]"
      ]
     },
     "metadata": {},
     "output_type": "display_data"
    },
    {
     "name": "stderr",
     "output_type": "stream",
     "text": [
      "2023-10-26 21:04:35,163 - BERTopic - Transformed documents to Embeddings\n",
      "2023-10-26 21:04:39,002 - BERTopic - Reduced dimensionality\n",
      "2023-10-26 21:04:39,021 - BERTopic - Clustered reduced embeddings\n"
     ]
    },
    {
     "name": "stdout",
     "output_type": "stream",
     "text": [
      "BERT model labelling 3940 snippets                                             \n",
      "inference_snippets                                                             \n",
      "3940                                                                           \n",
      "  0%|                                   | 0/15 [00:22<?, ?trial/s, best loss=?]"
     ]
    },
    {
     "data": {
      "application/vnd.jupyter.widget-view+json": {
       "model_id": "",
       "version_major": 2,
       "version_minor": 0
      },
      "text/plain": [
       "Batches:   0%|          | 0/124 [00:00<?, ?it/s]"
      ]
     },
     "metadata": {},
     "output_type": "display_data"
    },
    {
     "name": "stderr",
     "output_type": "stream",
     "text": [
      "2023-10-26 21:05:18,426 - BERTopic - Reduced dimensionality\n",
      "2023-10-26 21:05:18,477 - BERTopic - Predicted clusters\n"
     ]
    },
    {
     "name": "stdout",
     "output_type": "stream",
     "text": [
      "Loss: 1.3333333333333335 (penalty: 0.2222222222222222), Label_count: 9, Metric: topic_overlap+bert\n",
      "Fitting the BERT model on 1278 snippets                                        \n",
      "  7%|▌        | 1/15 [01:12<14:08, 60.60s/trial, best loss: 1.3333333333333335]"
     ]
    },
    {
     "data": {
      "application/vnd.jupyter.widget-view+json": {
       "model_id": "",
       "version_major": 2,
       "version_minor": 0
      },
      "text/plain": [
       "Batches:   0%|          | 0/40 [00:00<?, ?it/s]"
      ]
     },
     "metadata": {},
     "output_type": "display_data"
    },
    {
     "name": "stderr",
     "output_type": "stream",
     "text": [
      "2023-10-26 21:05:35,818 - BERTopic - Transformed documents to Embeddings\n",
      "2023-10-26 21:05:38,319 - BERTopic - Reduced dimensionality\n",
      "2023-10-26 21:05:38,334 - BERTopic - Clustered reduced embeddings\n"
     ]
    },
    {
     "name": "stdout",
     "output_type": "stream",
     "text": [
      "BERT model labelling 3940 snippets                                             \n",
      "inference_snippets                                                             \n",
      "3940                                                                           \n",
      "  7%|▌        | 1/15 [01:21<14:08, 60.60s/trial, best loss: 1.3333333333333335]"
     ]
    },
    {
     "data": {
      "application/vnd.jupyter.widget-view+json": {
       "model_id": "",
       "version_major": 2,
       "version_minor": 0
      },
      "text/plain": [
       "Batches:   0%|          | 0/124 [00:00<?, ?it/s]"
      ]
     },
     "metadata": {},
     "output_type": "display_data"
    },
    {
     "name": "stderr",
     "output_type": "stream",
     "text": [
      "2023-10-26 21:06:17,162 - BERTopic - Reduced dimensionality\n",
      "2023-10-26 21:06:17,214 - BERTopic - Predicted clusters\n"
     ]
    },
    {
     "name": "stdout",
     "output_type": "stream",
     "text": [
      "Loss: 1.4166666666666665 (penalty: 0.2222222222222222), Label_count: 9, Metric: topic_overlap+bert\n",
      "Fitting the BERT model on 1278 snippets                                        \n",
      " 13%|█▏       | 2/15 [02:10<12:53, 59.50s/trial, best loss: 1.3333333333333335]"
     ]
    },
    {
     "data": {
      "application/vnd.jupyter.widget-view+json": {
       "model_id": "",
       "version_major": 2,
       "version_minor": 0
      },
      "text/plain": [
       "Batches:   0%|          | 0/40 [00:00<?, ?it/s]"
      ]
     },
     "metadata": {},
     "output_type": "display_data"
    },
    {
     "name": "stderr",
     "output_type": "stream",
     "text": [
      "2023-10-26 21:06:33,959 - BERTopic - Transformed documents to Embeddings\n",
      "2023-10-26 21:06:36,661 - BERTopic - Reduced dimensionality\n",
      "2023-10-26 21:06:36,677 - BERTopic - Clustered reduced embeddings\n"
     ]
    },
    {
     "name": "stdout",
     "output_type": "stream",
     "text": [
      "BERT model labelling 3940 snippets                                             \n",
      "inference_snippets                                                             \n",
      "3940                                                                           \n",
      " 13%|█▏       | 2/15 [02:19<12:53, 59.50s/trial, best loss: 1.3333333333333335]"
     ]
    },
    {
     "data": {
      "application/vnd.jupyter.widget-view+json": {
       "model_id": "",
       "version_major": 2,
       "version_minor": 0
      },
      "text/plain": [
       "Batches:   0%|          | 0/124 [00:00<?, ?it/s]"
      ]
     },
     "metadata": {},
     "output_type": "display_data"
    },
    {
     "name": "stderr",
     "output_type": "stream",
     "text": [
      "2023-10-26 21:07:29,901 - BERTopic - Reduced dimensionality\n",
      "2023-10-26 21:07:29,952 - BERTopic - Predicted clusters\n"
     ]
    },
    {
     "name": "stdout",
     "output_type": "stream",
     "text": [
      "Loss: 0.7 (penalty: 0.4), Label_count: 5, Metric: topic_overlap+bert           \n",
      "Fitting the BERT model on 1278 snippets                                        \n",
      " 20%|████▊                   | 3/15 [03:23<13:06, 65.54s/trial, best loss: 0.7]"
     ]
    },
    {
     "data": {
      "application/vnd.jupyter.widget-view+json": {
       "model_id": "",
       "version_major": 2,
       "version_minor": 0
      },
      "text/plain": [
       "Batches:   0%|          | 0/40 [00:00<?, ?it/s]"
      ]
     },
     "metadata": {},
     "output_type": "display_data"
    },
    {
     "name": "stderr",
     "output_type": "stream",
     "text": [
      "2023-10-26 21:07:47,098 - BERTopic - Transformed documents to Embeddings\n",
      "2023-10-26 21:07:49,764 - BERTopic - Reduced dimensionality\n",
      "2023-10-26 21:07:49,780 - BERTopic - Clustered reduced embeddings\n"
     ]
    },
    {
     "name": "stdout",
     "output_type": "stream",
     "text": [
      "BERT model labelling 3940 snippets                                             \n",
      "inference_snippets                                                             \n",
      "3940                                                                           \n",
      " 20%|████▊                   | 3/15 [03:32<13:06, 65.54s/trial, best loss: 0.7]"
     ]
    },
    {
     "data": {
      "application/vnd.jupyter.widget-view+json": {
       "model_id": "",
       "version_major": 2,
       "version_minor": 0
      },
      "text/plain": [
       "Batches:   0%|          | 0/124 [00:00<?, ?it/s]"
      ]
     },
     "metadata": {},
     "output_type": "display_data"
    },
    {
     "name": "stderr",
     "output_type": "stream",
     "text": [
      "2023-10-26 21:08:42,028 - BERTopic - Reduced dimensionality\n",
      "2023-10-26 21:08:42,079 - BERTopic - Predicted clusters\n"
     ]
    },
    {
     "name": "stdout",
     "output_type": "stream",
     "text": [
      "Loss: 0.7 (penalty: 0.4), Label_count: 5, Metric: topic_overlap+bert           \n",
      "Fitting the BERT model on 1278 snippets                                        \n",
      " 27%|██████▍                 | 4/15 [04:35<12:29, 68.14s/trial, best loss: 0.7]"
     ]
    },
    {
     "data": {
      "application/vnd.jupyter.widget-view+json": {
       "model_id": "",
       "version_major": 2,
       "version_minor": 0
      },
      "text/plain": [
       "Batches:   0%|          | 0/40 [00:00<?, ?it/s]"
      ]
     },
     "metadata": {},
     "output_type": "display_data"
    },
    {
     "name": "stderr",
     "output_type": "stream",
     "text": [
      "2023-10-26 21:08:58,858 - BERTopic - Transformed documents to Embeddings\n",
      "2023-10-26 21:09:02,389 - BERTopic - Reduced dimensionality\n",
      "2023-10-26 21:09:02,402 - BERTopic - Clustered reduced embeddings\n"
     ]
    },
    {
     "name": "stdout",
     "output_type": "stream",
     "text": [
      "BERT model labelling 3940 snippets                                             \n",
      "inference_snippets                                                             \n",
      "3940                                                                           \n",
      " 27%|██████▍                 | 4/15 [04:45<12:29, 68.14s/trial, best loss: 0.7]"
     ]
    },
    {
     "data": {
      "application/vnd.jupyter.widget-view+json": {
       "model_id": "",
       "version_major": 2,
       "version_minor": 0
      },
      "text/plain": [
       "Batches:   0%|          | 0/124 [00:00<?, ?it/s]"
      ]
     },
     "metadata": {},
     "output_type": "display_data"
    },
    {
     "name": "stderr",
     "output_type": "stream",
     "text": [
      "2023-10-26 21:09:33,653 - BERTopic - Reduced dimensionality\n",
      "2023-10-26 21:09:33,699 - BERTopic - Predicted clusters\n"
     ]
    },
    {
     "name": "stdout",
     "output_type": "stream",
     "text": [
      "Loss: 0.6000000000000001 (penalty: 0.4), Label_count: 5, Metric: topic_overlap+bert\n",
      "Fitting the BERT model on 1278 snippets                                        \n",
      " 33%|███      | 5/15 [05:27<10:21, 62.18s/trial, best loss: 0.6000000000000001]"
     ]
    },
    {
     "data": {
      "application/vnd.jupyter.widget-view+json": {
       "model_id": "",
       "version_major": 2,
       "version_minor": 0
      },
      "text/plain": [
       "Batches:   0%|          | 0/40 [00:00<?, ?it/s]"
      ]
     },
     "metadata": {},
     "output_type": "display_data"
    },
    {
     "name": "stderr",
     "output_type": "stream",
     "text": [
      "2023-10-26 21:09:50,604 - BERTopic - Transformed documents to Embeddings\n",
      "2023-10-26 21:09:52,916 - BERTopic - Reduced dimensionality\n",
      "2023-10-26 21:09:52,929 - BERTopic - Clustered reduced embeddings\n"
     ]
    },
    {
     "name": "stdout",
     "output_type": "stream",
     "text": [
      "BERT model labelling 3940 snippets                                             \n",
      "inference_snippets                                                             \n",
      "3940                                                                           \n",
      " 33%|███      | 5/15 [05:35<10:21, 62.18s/trial, best loss: 0.6000000000000001]"
     ]
    },
    {
     "data": {
      "application/vnd.jupyter.widget-view+json": {
       "model_id": "",
       "version_major": 2,
       "version_minor": 0
      },
      "text/plain": [
       "Batches:   0%|          | 0/124 [00:00<?, ?it/s]"
      ]
     },
     "metadata": {},
     "output_type": "display_data"
    },
    {
     "name": "stderr",
     "output_type": "stream",
     "text": [
      "2023-10-26 21:10:22,464 - BERTopic - Reduced dimensionality\n",
      "2023-10-26 21:10:22,510 - BERTopic - Predicted clusters\n"
     ]
    },
    {
     "name": "stdout",
     "output_type": "stream",
     "text": [
      "Loss: 0.5 (penalty: 0.3333333333333333), Label_count: 6, Metric: topic_overlap+bert\n",
      "Fitting the BERT model on 1278 snippets                                        \n",
      " 40%|█████████▌              | 6/15 [06:16<08:38, 57.64s/trial, best loss: 0.5]"
     ]
    },
    {
     "data": {
      "application/vnd.jupyter.widget-view+json": {
       "model_id": "",
       "version_major": 2,
       "version_minor": 0
      },
      "text/plain": [
       "Batches:   0%|          | 0/40 [00:00<?, ?it/s]"
      ]
     },
     "metadata": {},
     "output_type": "display_data"
    },
    {
     "name": "stderr",
     "output_type": "stream",
     "text": [
      "2023-10-26 21:10:39,175 - BERTopic - Transformed documents to Embeddings\n",
      "2023-10-26 21:10:41,847 - BERTopic - Reduced dimensionality\n",
      "2023-10-26 21:10:41,862 - BERTopic - Clustered reduced embeddings\n"
     ]
    },
    {
     "name": "stdout",
     "output_type": "stream",
     "text": [
      "BERT model labelling 3940 snippets                                             \n",
      "inference_snippets                                                             \n",
      "3940                                                                           \n",
      " 40%|█████████▌              | 6/15 [06:24<08:38, 57.64s/trial, best loss: 0.5]"
     ]
    },
    {
     "data": {
      "application/vnd.jupyter.widget-view+json": {
       "model_id": "",
       "version_major": 2,
       "version_minor": 0
      },
      "text/plain": [
       "Batches:   0%|          | 0/124 [00:00<?, ?it/s]"
      ]
     },
     "metadata": {},
     "output_type": "display_data"
    },
    {
     "name": "stderr",
     "output_type": "stream",
     "text": [
      "2023-10-26 21:11:33,156 - BERTopic - Reduced dimensionality\n",
      "2023-10-26 21:11:33,211 - BERTopic - Predicted clusters\n"
     ]
    },
    {
     "name": "stdout",
     "output_type": "stream",
     "text": [
      "Loss: 0.6000000000000001 (penalty: 0.4), Label_count: 5, Metric: topic_overlap+bert\n",
      "Fitting the BERT model on 1278 snippets                                        \n",
      " 47%|███████████▏            | 7/15 [07:27<08:15, 61.91s/trial, best loss: 0.5]"
     ]
    },
    {
     "data": {
      "application/vnd.jupyter.widget-view+json": {
       "model_id": "",
       "version_major": 2,
       "version_minor": 0
      },
      "text/plain": [
       "Batches:   0%|          | 0/40 [00:00<?, ?it/s]"
      ]
     },
     "metadata": {},
     "output_type": "display_data"
    },
    {
     "name": "stderr",
     "output_type": "stream",
     "text": [
      "2023-10-26 21:11:50,603 - BERTopic - Transformed documents to Embeddings\n",
      "2023-10-26 21:11:53,297 - BERTopic - Reduced dimensionality\n",
      "2023-10-26 21:11:53,313 - BERTopic - Clustered reduced embeddings\n"
     ]
    },
    {
     "name": "stdout",
     "output_type": "stream",
     "text": [
      "BERT model labelling 3940 snippets                                             \n",
      "inference_snippets                                                             \n",
      "3940                                                                           \n",
      " 47%|███████████▏            | 7/15 [07:36<08:15, 61.91s/trial, best loss: 0.5]"
     ]
    },
    {
     "data": {
      "application/vnd.jupyter.widget-view+json": {
       "model_id": "",
       "version_major": 2,
       "version_minor": 0
      },
      "text/plain": [
       "Batches:   0%|          | 0/124 [00:00<?, ?it/s]"
      ]
     },
     "metadata": {},
     "output_type": "display_data"
    },
    {
     "name": "stderr",
     "output_type": "stream",
     "text": [
      "2023-10-26 21:12:47,705 - BERTopic - Reduced dimensionality\n",
      "2023-10-26 21:12:47,759 - BERTopic - Predicted clusters\n"
     ]
    },
    {
     "name": "stdout",
     "output_type": "stream",
     "text": [
      "Loss: 1.25 (penalty: 0.2222222222222222), Label_count: 9, Metric: topic_overlap+bert\n",
      "Fitting the BERT model on 1278 snippets                                        \n",
      " 53%|████████████▊           | 8/15 [08:41<07:41, 65.94s/trial, best loss: 0.5]"
     ]
    },
    {
     "data": {
      "application/vnd.jupyter.widget-view+json": {
       "model_id": "",
       "version_major": 2,
       "version_minor": 0
      },
      "text/plain": [
       "Batches:   0%|          | 0/40 [00:00<?, ?it/s]"
      ]
     },
     "metadata": {},
     "output_type": "display_data"
    },
    {
     "name": "stderr",
     "output_type": "stream",
     "text": [
      "2023-10-26 21:13:05,198 - BERTopic - Transformed documents to Embeddings\n",
      "2023-10-26 21:13:09,034 - BERTopic - Reduced dimensionality\n",
      "2023-10-26 21:13:09,050 - BERTopic - Clustered reduced embeddings\n"
     ]
    },
    {
     "name": "stdout",
     "output_type": "stream",
     "text": [
      "BERT model labelling 3940 snippets                                             \n",
      "inference_snippets                                                             \n",
      "3940                                                                           \n",
      " 53%|████████████▊           | 8/15 [08:52<07:41, 65.94s/trial, best loss: 0.5]"
     ]
    },
    {
     "data": {
      "application/vnd.jupyter.widget-view+json": {
       "model_id": "",
       "version_major": 2,
       "version_minor": 0
      },
      "text/plain": [
       "Batches:   0%|          | 0/124 [00:00<?, ?it/s]"
      ]
     },
     "metadata": {},
     "output_type": "display_data"
    },
    {
     "name": "stderr",
     "output_type": "stream",
     "text": [
      "2023-10-26 21:13:52,027 - BERTopic - Reduced dimensionality\n",
      "2023-10-26 21:13:52,079 - BERTopic - Predicted clusters\n"
     ]
    },
    {
     "name": "stdout",
     "output_type": "stream",
     "text": [
      "Loss: 0.5714285714285714 (penalty: 0.2857142857142857), Label_count: 7, Metric: topic_overlap+bert\n",
      "Fitting the BERT model on 1278 snippets                                        \n",
      " 60%|██████████████▍         | 9/15 [09:45<06:32, 65.43s/trial, best loss: 0.5]"
     ]
    },
    {
     "data": {
      "application/vnd.jupyter.widget-view+json": {
       "model_id": "",
       "version_major": 2,
       "version_minor": 0
      },
      "text/plain": [
       "Batches:   0%|          | 0/40 [00:00<?, ?it/s]"
      ]
     },
     "metadata": {},
     "output_type": "display_data"
    },
    {
     "name": "stderr",
     "output_type": "stream",
     "text": [
      "2023-10-26 21:14:09,036 - BERTopic - Transformed documents to Embeddings\n",
      "2023-10-26 21:14:11,556 - BERTopic - Reduced dimensionality\n",
      "2023-10-26 21:14:11,571 - BERTopic - Clustered reduced embeddings\n"
     ]
    },
    {
     "name": "stdout",
     "output_type": "stream",
     "text": [
      "BERT model labelling 3940 snippets                                             \n",
      "inference_snippets                                                             \n",
      "3940                                                                           \n",
      " 60%|██████████████▍         | 9/15 [09:54<06:32, 65.43s/trial, best loss: 0.5]"
     ]
    },
    {
     "data": {
      "application/vnd.jupyter.widget-view+json": {
       "model_id": "",
       "version_major": 2,
       "version_minor": 0
      },
      "text/plain": [
       "Batches:   0%|          | 0/124 [00:00<?, ?it/s]"
      ]
     },
     "metadata": {},
     "output_type": "display_data"
    },
    {
     "name": "stderr",
     "output_type": "stream",
     "text": [
      "2023-10-26 21:14:52,631 - BERTopic - Reduced dimensionality\n",
      "2023-10-26 21:14:52,679 - BERTopic - Predicted clusters\n"
     ]
    },
    {
     "name": "stdout",
     "output_type": "stream",
     "text": [
      "Loss: 1.7142857142857144 (penalty: 0.2857142857142857), Label_count: 7, Metric: topic_overlap+bert\n",
      "Fitting the BERT model on 1278 snippets                                        \n",
      " 67%|███████████████▎       | 10/15 [10:46<05:19, 63.94s/trial, best loss: 0.5]"
     ]
    },
    {
     "data": {
      "application/vnd.jupyter.widget-view+json": {
       "model_id": "",
       "version_major": 2,
       "version_minor": 0
      },
      "text/plain": [
       "Batches:   0%|          | 0/40 [00:00<?, ?it/s]"
      ]
     },
     "metadata": {},
     "output_type": "display_data"
    },
    {
     "name": "stderr",
     "output_type": "stream",
     "text": [
      "2023-10-26 21:15:09,103 - BERTopic - Transformed documents to Embeddings\n",
      "2023-10-26 21:15:11,583 - BERTopic - Reduced dimensionality\n",
      "2023-10-26 21:15:11,598 - BERTopic - Clustered reduced embeddings\n"
     ]
    },
    {
     "name": "stdout",
     "output_type": "stream",
     "text": [
      "BERT model labelling 3940 snippets                                             \n",
      "inference_snippets                                                             \n",
      "3940                                                                           \n",
      " 67%|███████████████▎       | 10/15 [10:54<05:19, 63.94s/trial, best loss: 0.5]"
     ]
    },
    {
     "data": {
      "application/vnd.jupyter.widget-view+json": {
       "model_id": "",
       "version_major": 2,
       "version_minor": 0
      },
      "text/plain": [
       "Batches:   0%|          | 0/124 [00:00<?, ?it/s]"
      ]
     },
     "metadata": {},
     "output_type": "display_data"
    },
    {
     "name": "stderr",
     "output_type": "stream",
     "text": [
      "2023-10-26 21:15:50,659 - BERTopic - Reduced dimensionality\n",
      "2023-10-26 21:15:50,712 - BERTopic - Predicted clusters\n"
     ]
    },
    {
     "name": "stdout",
     "output_type": "stream",
     "text": [
      "Loss: 0.53125 (penalty: 0.25), Label_count: 8, Metric: topic_overlap+bert      \n",
      "Fitting the BERT model on 1278 snippets                                        \n",
      " 73%|████████████████▊      | 11/15 [11:44<04:08, 62.13s/trial, best loss: 0.5]"
     ]
    },
    {
     "data": {
      "application/vnd.jupyter.widget-view+json": {
       "model_id": "",
       "version_major": 2,
       "version_minor": 0
      },
      "text/plain": [
       "Batches:   0%|          | 0/40 [00:00<?, ?it/s]"
      ]
     },
     "metadata": {},
     "output_type": "display_data"
    },
    {
     "name": "stderr",
     "output_type": "stream",
     "text": [
      "2023-10-26 21:16:07,230 - BERTopic - Transformed documents to Embeddings\n",
      "2023-10-26 21:16:09,832 - BERTopic - Reduced dimensionality\n",
      "2023-10-26 21:16:09,846 - BERTopic - Clustered reduced embeddings\n"
     ]
    },
    {
     "name": "stdout",
     "output_type": "stream",
     "text": [
      "BERT model labelling 3940 snippets                                             \n",
      "inference_snippets                                                             \n",
      "3940                                                                           \n",
      " 73%|████████████████▊      | 11/15 [11:52<04:08, 62.13s/trial, best loss: 0.5]"
     ]
    },
    {
     "data": {
      "application/vnd.jupyter.widget-view+json": {
       "model_id": "",
       "version_major": 2,
       "version_minor": 0
      },
      "text/plain": [
       "Batches:   0%|          | 0/124 [00:00<?, ?it/s]"
      ]
     },
     "metadata": {},
     "output_type": "display_data"
    },
    {
     "name": "stderr",
     "output_type": "stream",
     "text": [
      "2023-10-26 21:16:57,963 - BERTopic - Reduced dimensionality\n",
      "2023-10-26 21:16:58,094 - BERTopic - Predicted clusters\n"
     ]
    },
    {
     "name": "stdout",
     "output_type": "stream",
     "text": [
      "Loss: 0.7 (penalty: 0.4), Label_count: 5, Metric: topic_overlap+bert           \n",
      "Fitting the BERT model on 1278 snippets                                        \n",
      " 80%|██████████████████▍    | 12/15 [12:53<03:11, 63.73s/trial, best loss: 0.5]"
     ]
    },
    {
     "data": {
      "application/vnd.jupyter.widget-view+json": {
       "model_id": "",
       "version_major": 2,
       "version_minor": 0
      },
      "text/plain": [
       "Batches:   0%|          | 0/40 [00:00<?, ?it/s]"
      ]
     },
     "metadata": {},
     "output_type": "display_data"
    },
    {
     "name": "stderr",
     "output_type": "stream",
     "text": [
      "2023-10-26 21:17:16,701 - BERTopic - Transformed documents to Embeddings\n",
      "2023-10-26 21:17:20,526 - BERTopic - Reduced dimensionality\n",
      "2023-10-26 21:17:20,541 - BERTopic - Clustered reduced embeddings\n"
     ]
    },
    {
     "name": "stdout",
     "output_type": "stream",
     "text": [
      "BERT model labelling 3940 snippets                                             \n",
      "inference_snippets                                                             \n",
      "3940                                                                           \n",
      " 80%|██████████████████▍    | 12/15 [13:03<03:11, 63.73s/trial, best loss: 0.5]"
     ]
    },
    {
     "data": {
      "application/vnd.jupyter.widget-view+json": {
       "model_id": "",
       "version_major": 2,
       "version_minor": 0
      },
      "text/plain": [
       "Batches:   0%|          | 0/124 [00:00<?, ?it/s]"
      ]
     },
     "metadata": {},
     "output_type": "display_data"
    },
    {
     "name": "stderr",
     "output_type": "stream",
     "text": [
      "2023-10-26 21:18:04,924 - BERTopic - Reduced dimensionality\n",
      "2023-10-26 21:18:04,972 - BERTopic - Predicted clusters\n"
     ]
    },
    {
     "name": "stdout",
     "output_type": "stream",
     "text": [
      "Loss: 0.7 (penalty: 0.4), Label_count: 5, Metric: topic_overlap+bert           \n",
      "Fitting the BERT model on 1278 snippets                                        \n",
      " 87%|███████████████████▉   | 13/15 [13:58<02:09, 64.68s/trial, best loss: 0.5]"
     ]
    },
    {
     "data": {
      "application/vnd.jupyter.widget-view+json": {
       "model_id": "",
       "version_major": 2,
       "version_minor": 0
      },
      "text/plain": [
       "Batches:   0%|          | 0/40 [00:00<?, ?it/s]"
      ]
     },
     "metadata": {},
     "output_type": "display_data"
    },
    {
     "name": "stderr",
     "output_type": "stream",
     "text": [
      "2023-10-26 21:18:21,863 - BERTopic - Transformed documents to Embeddings\n",
      "2023-10-26 21:18:24,374 - BERTopic - Reduced dimensionality\n",
      "2023-10-26 21:18:24,388 - BERTopic - Clustered reduced embeddings\n"
     ]
    },
    {
     "name": "stdout",
     "output_type": "stream",
     "text": [
      "BERT model labelling 3940 snippets                                             \n",
      "inference_snippets                                                             \n",
      "3940                                                                           \n",
      " 87%|███████████████████▉   | 13/15 [14:07<02:09, 64.68s/trial, best loss: 0.5]"
     ]
    },
    {
     "data": {
      "application/vnd.jupyter.widget-view+json": {
       "model_id": "",
       "version_major": 2,
       "version_minor": 0
      },
      "text/plain": [
       "Batches:   0%|          | 0/124 [00:00<?, ?it/s]"
      ]
     },
     "metadata": {},
     "output_type": "display_data"
    },
    {
     "name": "stderr",
     "output_type": "stream",
     "text": [
      "2023-10-26 21:19:07,692 - BERTopic - Reduced dimensionality\n",
      "2023-10-26 21:19:07,779 - BERTopic - Predicted clusters\n"
     ]
    },
    {
     "name": "stdout",
     "output_type": "stream",
     "text": [
      "Loss: 1.6428571428571428 (penalty: 0.2857142857142857), Label_count: 7, Metric: topic_overlap+bert\n",
      "Fitting the BERT model on 1278 snippets                                        \n",
      " 93%|█████████████████████▍ | 14/15 [15:01<01:04, 64.11s/trial, best loss: 0.5]"
     ]
    },
    {
     "data": {
      "application/vnd.jupyter.widget-view+json": {
       "model_id": "",
       "version_major": 2,
       "version_minor": 0
      },
      "text/plain": [
       "Batches:   0%|          | 0/40 [00:00<?, ?it/s]"
      ]
     },
     "metadata": {},
     "output_type": "display_data"
    },
    {
     "name": "stderr",
     "output_type": "stream",
     "text": [
      "2023-10-26 21:19:25,293 - BERTopic - Transformed documents to Embeddings\n",
      "2023-10-26 21:19:27,779 - BERTopic - Reduced dimensionality\n",
      "2023-10-26 21:19:27,794 - BERTopic - Clustered reduced embeddings\n"
     ]
    },
    {
     "name": "stdout",
     "output_type": "stream",
     "text": [
      "BERT model labelling 3940 snippets                                             \n",
      "inference_snippets                                                             \n",
      "3940                                                                           \n",
      " 93%|█████████████████████▍ | 14/15 [15:10<01:04, 64.11s/trial, best loss: 0.5]"
     ]
    },
    {
     "data": {
      "application/vnd.jupyter.widget-view+json": {
       "model_id": "",
       "version_major": 2,
       "version_minor": 0
      },
      "text/plain": [
       "Batches:   0%|          | 0/124 [00:00<?, ?it/s]"
      ]
     },
     "metadata": {},
     "output_type": "display_data"
    },
    {
     "name": "stderr",
     "output_type": "stream",
     "text": [
      "2023-10-26 21:20:03,605 - BERTopic - Reduced dimensionality\n",
      "2023-10-26 21:20:03,652 - BERTopic - Predicted clusters\n"
     ]
    },
    {
     "name": "stdout",
     "output_type": "stream",
     "text": [
      "Loss: 1.75 (penalty: 0.2857142857142857), Label_count: 7, Metric: topic_overlap+bert\n",
      "100%|███████████████████████| 15/15 [15:45<00:00, 63.05s/trial, best loss: 0.5]\n",
      "best:\n",
      "{'min_cluster_size': 33, 'min_samples': 2, 'n_components': 4, 'n_neighbors': 64, 'random_state': 42}\n",
      "label count: 6\n",
      "\n",
      "Topic modelling method: BERTopic\n",
      "Fitting the BERT model on 1278 snippets\n"
     ]
    },
    {
     "data": {
      "application/vnd.jupyter.widget-view+json": {
       "model_id": "",
       "version_major": 2,
       "version_minor": 0
      },
      "text/plain": [
       "Batches:   0%|          | 0/40 [00:00<?, ?it/s]"
      ]
     },
     "metadata": {},
     "output_type": "display_data"
    },
    {
     "name": "stderr",
     "output_type": "stream",
     "text": [
      "2023-10-26 21:20:41,219 - BERTopic - Transformed documents to Embeddings\n",
      "2023-10-26 21:20:44,623 - BERTopic - Reduced dimensionality\n",
      "2023-10-26 21:20:44,636 - BERTopic - Clustered reduced embeddings\n"
     ]
    },
    {
     "name": "stdout",
     "output_type": "stream",
     "text": [
      "BERT model labelling 3940 snippets\n",
      "inference_snippets 3940\n"
     ]
    },
    {
     "data": {
      "application/vnd.jupyter.widget-view+json": {
       "model_id": "",
       "version_major": 2,
       "version_minor": 0
      },
      "text/plain": [
       "Batches:   0%|          | 0/124 [00:00<?, ?it/s]"
      ]
     },
     "metadata": {},
     "output_type": "display_data"
    },
    {
     "name": "stderr",
     "output_type": "stream",
     "text": [
      "2023-10-26 21:21:14,640 - BERTopic - Reduced dimensionality\n",
      "2023-10-26 21:21:14,687 - BERTopic - Predicted clusters\n"
     ]
    },
    {
     "name": "stdout",
     "output_type": "stream",
     "text": [
      "Elapsed total time for topic modelling: 50.21725106239319 seconds\n",
      "sbert results\n",
      "Label count: 6\n",
      "Loss: 0.003045685279187817\n",
      "dataset_file_path ../glanos-data/clustering/big_consulting_export_replace_no_duplicates.tsv\n",
      "Overlap count of length 1: 0\n",
      "Overlap count of length 2: 1\n",
      "Overlap count of length 3: 0\n",
      "Overlap count of length 4 or more: 0\n",
      "Overlap loss:  0.17\n",
      "Diversity loss:  1.03\n",
      "Number of clusters: 6\n",
      "Median cluster size: 586.0 , standard deviation: 554.6841944345949\n",
      "Median top company occurence: 33.666666666666664\n",
      "Cost (outliers): 0.30%\n",
      "\n"
     ]
    }
   ],
   "source": [
    "# TODO run\n",
    "params['BAYESIAN_SEARCH_METRIC'] = 'topic_overlap+bert'\n",
    "\n"
   ]
  },
  {
   "cell_type": "code",
   "execution_count": null,
   "metadata": {},
   "outputs": [],
   "source": [
    "data2_input_file = '../glanos-data/clustering/big_consulting_export_replace_no_duplicates.tsv'\n",
    "print_results(input_file=data2_input_file)\n"
   ]
  },
  {
   "cell_type": "markdown",
   "metadata": {},
   "source": [
    "# Experiment 3"
   ]
  },
  {
   "cell_type": "code",
   "execution_count": 23,
   "metadata": {},
   "outputs": [
    {
     "name": "stdout",
     "output_type": "stream",
     "text": [
      "Input file ../glanos-data/clustering/input/classification_ai_car_data_aug_data2_semi_td_params.json\n",
      "Supervised\n",
      "Topic modelling method: BERTopic\n",
      "Fitting the BERT model on 1278 snippets\n"
     ]
    },
    {
     "data": {
      "application/vnd.jupyter.widget-view+json": {
       "model_id": "5151e922f2434ce9801935b08e33ca98",
       "version_major": 2,
       "version_minor": 0
      },
      "text/plain": [
       "Batches:   0%|          | 0/40 [00:00<?, ?it/s]"
      ]
     },
     "metadata": {},
     "output_type": "display_data"
    },
    {
     "name": "stderr",
     "output_type": "stream",
     "text": [
      "2023-10-27 18:24:28,329 - BERTopic - Transformed documents to Embeddings\n",
      "2023-10-27 18:24:30,865 - BERTopic - Reduced dimensionality\n",
      "2023-10-27 18:24:30,881 - BERTopic - Clustered reduced embeddings\n"
     ]
    },
    {
     "name": "stdout",
     "output_type": "stream",
     "text": [
      "BERT model labelling 3940 snippets\n",
      "inference_snippets 3940\n"
     ]
    },
    {
     "data": {
      "application/vnd.jupyter.widget-view+json": {
       "model_id": "44e9a685480d4d2dbc55ee8b3e731c99",
       "version_major": 2,
       "version_minor": 0
      },
      "text/plain": [
       "Batches:   0%|          | 0/124 [00:00<?, ?it/s]"
      ]
     },
     "metadata": {},
     "output_type": "display_data"
    },
    {
     "name": "stderr",
     "output_type": "stream",
     "text": [
      "2023-10-27 18:25:17,313 - BERTopic - Reduced dimensionality\n",
      "2023-10-27 18:25:17,366 - BERTopic - Predicted clusters\n"
     ]
    },
    {
     "name": "stdout",
     "output_type": "stream",
     "text": [
      "Elapsed total time for topic modelling: 67.36825299263 seconds\n",
      "sbert results\n",
      "Label count: 7\n",
      "Loss: 0.006852791878172589\n",
      "dataset_file_path ../glanos-data/clustering/big_consulting_export_data2_no_duplicates.tsv\n",
      "Overlap count of length 1: 5\n",
      "Overlap count of length 2: 2\n",
      "Overlap count of length 3: 0\n",
      "Overlap count of length 4 or more: 0\n",
      "Overlap loss:  0.46\n",
      "Diversity loss:  1.13\n",
      "Number of clusters: 7\n",
      "Avg cluster size: 544.5714285714286\n",
      "Median cluster size: 169.0 , standard deviation: 706.8539669636473\n",
      "Median top company occurence: 28.50678733031674\n",
      "Cost (outliers): 0.69%\n",
      "\n"
     ]
    }
   ],
   "source": [
    "# on 'snippet' column\n",
    "params['BAYESIAN_SEARCH_METRIC'] = 'topic_diversity+bert'\n",
    "params['MAX_EVALS'] = 15\n",
    "params[\"SHOW\"] = False\n",
    "\n",
    "# sbert_model, sbert_output_df, sbert_cluster_topics, sbert_params, sbert_topic_model = cluster('baseline_data2_semi_td_temp_params.json', params, hf_model_name='sentence-transformers/all-MiniLM-L12-v2')\n",
    "# baai_model, baai_output_df, baai_cluster_topics, baai_params, baai_topic_model = cluster('baai_baseline_data2_semi_td_params.json', params, hf_model_name='BAAI/bge-base-en-v1.5')\n",
    "\n",
    "# similarity_sbert_model, similarity_sbert_output_df, similarity_sbert_cluster_topics, similarity_sbert_params, similarity_sbert_topic_model = cluster('similarity_data2_semi_td_params.json', params, hf_model_name=\"brjezierski/sentence-embeddings-similarity\")\n",
    "# similarity_baai_model, similarity_baai_output_df, similarity_baai_cluster_topics, similarity_baai_params, similarity_baai_topic_model = cluster('best_similarity_data2_semi_td_params.json', params, hf_model_name=\"brjezierski/sentence-embeddings-similarity-best-baai\")\n",
    "# similarity_ai_car_sbert_model, similarity_ai_car_sbert_output_df, similarity_ai_car_sbert_cluster_topics, similarity_ai_car_sbert_params, similarity_ai_car_sbert_topic_model = cluster('similarity_ai_car_data2_semi_td_params.json', params, hf_model_name='brjezierski/sentence-embeddings-similarity-ai-car')\n",
    "# similarity_distill_consistency_model, similarity_distill_consistency_output_df, similarity_distill_consistency_cluster_topics, similarity_distill_consistency_params, similarity_distill_consistency_topic_model = cluster('similarity_distill_consistency_data2_semi_td_params.json', params, hf_model_name='brjezierski/sentence-embeddings-similarity-distill-consistency')\n",
    "# similarity_ai_car_distill_consistency_model, similarity_ai_car_distill_consistency_output_df, similarity_ai_car_distill_consistency_cluster_topics, similarity_ai_car_distill_consistency_params, similarity_ai_car_distill_consistency_topic_model = cluster('similarity_ai_car_distill_consistency_data2_semi_td_params.json', params, hf_model_name='brjezierski/sentence-embeddings-similarity-ai_car-distill-consistency')\n",
    "\n",
    "# classification_model, classification_output_df, classification_cluster_topics, classification_params, classification_topic_model = cluster('classification_data2_semi_td_params.json', params, hf_model_name=\"brjezierski/sentence-embeddings-classification\")\n",
    "# classification_ai_car_sbert_model, classification_ai_car_sbert_output_df, classification_ai_car_sbert_cluster_topics, classification_ai_car_sbert_params, classification_ai_car_sbert_topic_model = cluster('classification_ai_car_sbert_data2_semi_td_params.json', params, hf_model_name=\"brjezierski/sentence-embeddings-classification-ai_car-sbert\")\n",
    "# combined_ai_car_class_consulting_sim_model, combined_ai_car_class_consulting_sim_output_df, combined_ai_car_class_consulting_sim_cluster_topics, combined_ai_car_class_consulting_sim_params, combined_ai_car_class_consulting_sim_topic_model = cluster('combined_ai_car_class_consulting_sim_data2_semi_td_params.json', params, hf_model_name=\"brjezierski/sentence-embeddings-combined-ai_car-class-consulting-sim\")\n",
    "# combined_consulting_sim_ai_car_class_model, combined_consulting_sim_ai_car_class_output_df, combined_consulting_sim_ai_car_class_cluster_topics, combined_consulting_sim_ai_car_class_params, combined_consulting_sim_ai_car_class_topic_model = cluster('combined_consulting_sim_ai_car_class_data2_semi_td_params.json', params, hf_model_name=\"brjezierski/sentence-embeddings-combined-consulting-sim-ai_car-class\")\n",
    "# combined_consulting_sim_and_ai_car_class_model, combined_consulting_sim_and_ai_car_class_output_df, combined_consulting_sim_and_ai_car_class_cluster_topics, combined_consulting_sim_and_ai_car_class_params, combined_consulting_sim_and_ai_car_class_topic_model = cluster('combined_consulting_sim_and_ai_car_class_data2_semi_td_params.json', params, hf_model_name=\"brjezierski/sentence-embeddings-combined-consulting-sim-and-ai_car-class\")\n",
    "# combined_ai_car_sim_and_class_model, combined_ai_car_sim_and_class_output_df, combined_ai_car_sim_and_class_cluster_topics, combined_ai_car_sim_and_class_params, combined_ai_car_sim_and_class_topic_model = cluster('combined_ai_car_sim_and_class_data2_semi_td_params.json', params, hf_model_name=\"brjezierski/sentence-embeddings-combined-ai_car-sim-and-class\")\n",
    "# combined_ai_car_sim_class_model, combined_ai_car_sim_class_output_df, combined_ai_car_sim_class_cluster_topics, combined_ai_car_sim_class_params, combined_ai_car_sim_class_topic_model = cluster('combined_ai_car_sim_class_data2_semi_td_params.json', params, hf_model_name=\"brjezierski/sentence-embeddings-combined-ai_car-sim-class\")\n",
    "# combined_ai_car_class_sim_model, combined_ai_car_class_sim_output_df, combined_ai_car_class_sim_cluster_topics, combined_ai_car_class_sim_params, combined_ai_car_class_sim_topic_model = cluster('combined_ai_car_class_sim_data2_semi_td_params.json', params, hf_model_name=\"brjezierski/sentence-embeddings-combined-ai_car-class-sim\")\n",
    "# combined_consulting_model, combined_consulting_output_df, combined_consulting_cluster_topics, combined_consulting_params, combined_consulting_topic_model = cluster('combined_consulting_data2_semi_td_params.json', params, hf_model_name=\"brjezierski/combined-consulting\")\n",
    "\n",
    "ex3_classification_ai_car_data_aug_model, ex3_classification_ai_car_data_aug_output_df, ex3_classification_ai_car_data_aug_cluster_topics, ex3_classification_ai_car_data_aug_params, ex3_classification_ai_car_data_aug_topic_model = cluster('classification_ai_car_data_aug_data2_semi_td_params.json', params, hf_model_name=\"brjezierski/sentence-embeddings-classification-ai_car-data_aug\")\n"
   ]
  },
  {
   "cell_type": "code",
   "execution_count": 22,
   "metadata": {},
   "outputs": [
    {
     "data": {
      "text/plain": [
       "[['ibm',\n",
       "  'ai',\n",
       "  'consulting',\n",
       "  'technology',\n",
       "  'infosys',\n",
       "  'services',\n",
       "  'announced',\n",
       "  'cloud',\n",
       "  'wipro',\n",
       "  'business'],\n",
       " ['mr',\n",
       "  'ernst',\n",
       "  'ernst young',\n",
       "  'young',\n",
       "  'prior',\n",
       "  'partner',\n",
       "  'llp',\n",
       "  'years',\n",
       "  'young llp',\n",
       "  'joining'],\n",
       " ['pwc',\n",
       "  'contract',\n",
       "  'tax',\n",
       "  'million',\n",
       "  'secured',\n",
       "  'contracts',\n",
       "  'federal',\n",
       "  'based',\n",
       "  'secures',\n",
       "  'department'],\n",
       " ['accenture',\n",
       "  'domus',\n",
       "  'sustainability',\n",
       "  'green domus',\n",
       "  'acquisition',\n",
       "  'green',\n",
       "  'acquire',\n",
       "  'based',\n",
       "  'digital',\n",
       "  'announced'],\n",
       " ['fti',\n",
       "  'appointed',\n",
       "  'managing director',\n",
       "  'director',\n",
       "  'managing',\n",
       "  'fti consulting',\n",
       "  'tax',\n",
       "  'jobs',\n",
       "  'pwc',\n",
       "  'joins'],\n",
       " ['patent',\n",
       "  'application',\n",
       "  'filed',\n",
       "  'tata consultancy',\n",
       "  'tata',\n",
       "  'consultancy services',\n",
       "  'consultancy',\n",
       "  'services',\n",
       "  'patents',\n",
       "  'method'],\n",
       " ['microsoft',\n",
       "  'salesforce',\n",
       "  'leave',\n",
       "  'employees',\n",
       "  'ibm',\n",
       "  'jobs',\n",
       "  '000',\n",
       "  'pwc',\n",
       "  'reportedly',\n",
       "  'layoffs']]"
      ]
     },
     "execution_count": 22,
     "metadata": {},
     "output_type": "execute_result"
    }
   ],
   "source": [
    "classification_ai_car_data_aug_cluster_topics"
   ]
  },
  {
   "cell_type": "code",
   "execution_count": null,
   "metadata": {},
   "outputs": [],
   "source": [
    "data2_input_file = '../glanos-data/clustering/big_consulting_export_replace_no_duplicates.tsv'\n",
    "print_results(input_file=data2_input_file)"
   ]
  },
  {
   "cell_type": "markdown",
   "metadata": {},
   "source": [
    "# Experiment 4"
   ]
  },
  {
   "cell_type": "code",
   "execution_count": 15,
   "metadata": {},
   "outputs": [
    {
     "name": "stdout",
     "output_type": "stream",
     "text": [
      "Input file ../glanos-data/clustering/input/baseline_data2_semi_replace_no_tags_to_ci_params.json\n",
      "Supervised\n",
      "Topic modelling method: BERTopic\n",
      "Fitting the BERT model on 1278 snippets\n"
     ]
    },
    {
     "data": {
      "application/vnd.jupyter.widget-view+json": {
       "model_id": "930c593145d84e989182c30f09ccdecf",
       "version_major": 2,
       "version_minor": 0
      },
      "text/plain": [
       "Batches:   0%|          | 0/40 [00:00<?, ?it/s]"
      ]
     },
     "metadata": {},
     "output_type": "display_data"
    },
    {
     "name": "stderr",
     "output_type": "stream",
     "text": [
      "2023-10-26 23:36:28,364 - BERTopic - Transformed documents to Embeddings\n",
      "2023-10-26 23:36:30,976 - BERTopic - Reduced dimensionality\n",
      "2023-10-26 23:36:30,995 - BERTopic - Clustered reduced embeddings\n"
     ]
    },
    {
     "name": "stdout",
     "output_type": "stream",
     "text": [
      "BERT model labelling 3940 snippets\n",
      "inference_snippets 3940\n"
     ]
    },
    {
     "data": {
      "application/vnd.jupyter.widget-view+json": {
       "model_id": "584177bd790b43d58128c84979b87835",
       "version_major": 2,
       "version_minor": 0
      },
      "text/plain": [
       "Batches:   0%|          | 0/124 [00:00<?, ?it/s]"
      ]
     },
     "metadata": {},
     "output_type": "display_data"
    },
    {
     "name": "stderr",
     "output_type": "stream",
     "text": [
      "2023-10-26 23:37:12,591 - BERTopic - Reduced dimensionality\n",
      "2023-10-26 23:37:12,650 - BERTopic - Predicted clusters\n"
     ]
    },
    {
     "name": "stdout",
     "output_type": "stream",
     "text": [
      "Elapsed total time for topic modelling: 62.191986083984375 seconds\n",
      "sbert results\n",
      "Label count: 8\n",
      "Loss: 0.5068527918781726\n",
      "dataset_file_path ../glanos-data/clustering/big_consulting_export_replace_no_duplicates.tsv\n",
      "Overlap count of length 1: 5\n",
      "Overlap count of length 2: 5\n",
      "Overlap count of length 3: 0\n",
      "Overlap count of length 4 or more: 0\n",
      "Overlap loss:  0.78\n",
      "Diversity loss:  1.22\n",
      "Number of clusters: 8\n",
      "Avg cluster size: 437.77777777777777\n",
      "Median cluster size: 209.0 , standard deviation: 580.5916097257613\n",
      "Median top company occurence: 29.166666666666668\n",
      "Cost (outliers): 50.69%\n",
      "\n",
      "Input file ../glanos-data/clustering/input/baai_baseline_data2_semi_replace_no_tags_to_ci_params.json\n",
      "Supervised\n",
      "Topic modelling method: BERTopic\n",
      "Fitting the BERT model on 1278 snippets\n"
     ]
    },
    {
     "data": {
      "application/vnd.jupyter.widget-view+json": {
       "model_id": "a0b80dee3007434ca45abf34e34597c8",
       "version_major": 2,
       "version_minor": 0
      },
      "text/plain": [
       "Batches:   0%|          | 0/40 [00:00<?, ?it/s]"
      ]
     },
     "metadata": {},
     "output_type": "display_data"
    },
    {
     "name": "stderr",
     "output_type": "stream",
     "text": [
      "2023-10-26 23:37:40,632 - BERTopic - Transformed documents to Embeddings\n",
      "2023-10-26 23:37:43,587 - BERTopic - Reduced dimensionality\n",
      "2023-10-26 23:37:43,605 - BERTopic - Clustered reduced embeddings\n"
     ]
    },
    {
     "name": "stdout",
     "output_type": "stream",
     "text": [
      "BERT model labelling 3940 snippets\n",
      "inference_snippets 3940\n"
     ]
    },
    {
     "data": {
      "application/vnd.jupyter.widget-view+json": {
       "model_id": "a63248dc8925410896f75681ff3db2b9",
       "version_major": 2,
       "version_minor": 0
      },
      "text/plain": [
       "Batches:   0%|          | 0/124 [00:00<?, ?it/s]"
      ]
     },
     "metadata": {},
     "output_type": "display_data"
    },
    {
     "name": "stderr",
     "output_type": "stream",
     "text": [
      "2023-10-26 23:38:41,839 - BERTopic - Reduced dimensionality\n",
      "2023-10-26 23:38:41,896 - BERTopic - Predicted clusters\n"
     ]
    },
    {
     "name": "stdout",
     "output_type": "stream",
     "text": [
      "Elapsed total time for topic modelling: 88.19851088523865 seconds\n",
      "sbert results\n",
      "Label count: 7\n",
      "Loss: 0.3238578680203046\n",
      "dataset_file_path ../glanos-data/clustering/big_consulting_export_replace_no_duplicates.tsv\n",
      "Overlap count of length 1: 3\n",
      "Overlap count of length 2: 3\n",
      "Overlap count of length 3: 1\n",
      "Overlap count of length 4 or more: 0\n",
      "Overlap loss:  1.11\n",
      "Diversity loss:  1.14\n",
      "Number of clusters: 7\n",
      "Avg cluster size: 492.5\n",
      "Median cluster size: 364.5 , standard deviation: 392.73623464101195\n",
      "Median top company occurence: 28.362639872116922\n",
      "Cost (outliers): 32.39%\n",
      "\n",
      "Input file ../glanos-data/clustering/input/similarity_data2_semi_replace_no_tags_to_ci_params.json\n",
      "Supervised\n",
      "Topic modelling method: BERTopic\n",
      "Fitting the BERT model on 1278 snippets\n"
     ]
    },
    {
     "data": {
      "application/vnd.jupyter.widget-view+json": {
       "model_id": "34e74c3e82ab4a6d858b95b9f32a8344",
       "version_major": 2,
       "version_minor": 0
      },
      "text/plain": [
       "Batches:   0%|          | 0/40 [00:00<?, ?it/s]"
      ]
     },
     "metadata": {},
     "output_type": "display_data"
    },
    {
     "name": "stderr",
     "output_type": "stream",
     "text": [
      "2023-10-26 23:38:59,400 - BERTopic - Transformed documents to Embeddings\n",
      "2023-10-26 23:39:01,971 - BERTopic - Reduced dimensionality\n",
      "2023-10-26 23:39:01,986 - BERTopic - Clustered reduced embeddings\n"
     ]
    },
    {
     "name": "stdout",
     "output_type": "stream",
     "text": [
      "BERT model labelling 3940 snippets\n",
      "inference_snippets 3940\n"
     ]
    },
    {
     "data": {
      "application/vnd.jupyter.widget-view+json": {
       "model_id": "700cea32a0484cc5a1c3365cc0f9aa28",
       "version_major": 2,
       "version_minor": 0
      },
      "text/plain": [
       "Batches:   0%|          | 0/124 [00:00<?, ?it/s]"
      ]
     },
     "metadata": {},
     "output_type": "display_data"
    },
    {
     "name": "stderr",
     "output_type": "stream",
     "text": [
      "2023-10-26 23:39:40,159 - BERTopic - Reduced dimensionality\n",
      "2023-10-26 23:39:40,214 - BERTopic - Predicted clusters\n"
     ]
    },
    {
     "name": "stdout",
     "output_type": "stream",
     "text": [
      "Elapsed total time for topic modelling: 57.53597807884216 seconds\n",
      "sbert results\n",
      "Label count: 9\n",
      "Loss: 0.4588832487309645\n",
      "dataset_file_path ../glanos-data/clustering/big_consulting_export_replace_no_duplicates.tsv\n",
      "Overlap count of length 1: 9\n",
      "Overlap count of length 2: 5\n",
      "Overlap count of length 3: 0\n",
      "Overlap count of length 4 or more: 0\n",
      "Overlap loss:  0.81\n",
      "Diversity loss:  1.19\n",
      "Number of clusters: 9\n",
      "Avg cluster size: 394.0\n",
      "Median cluster size: 206.5 , standard deviation: 515.5294365989201\n",
      "Median top company occurence: 28.04232804232804\n",
      "Cost (outliers): 45.89%\n",
      "\n",
      "Input file ../glanos-data/clustering/input/best_similarity_data2_semi_replace_no_tags_to_ci_params.json\n",
      "Supervised\n",
      "Topic modelling method: BERTopic\n",
      "Fitting the BERT model on 1278 snippets\n"
     ]
    },
    {
     "data": {
      "application/vnd.jupyter.widget-view+json": {
       "model_id": "5fafa8261e324cb1b8e0bad2cf01483a",
       "version_major": 2,
       "version_minor": 0
      },
      "text/plain": [
       "Batches:   0%|          | 0/40 [00:00<?, ?it/s]"
      ]
     },
     "metadata": {},
     "output_type": "display_data"
    },
    {
     "name": "stderr",
     "output_type": "stream",
     "text": [
      "2023-10-26 23:40:07,524 - BERTopic - Transformed documents to Embeddings\n",
      "2023-10-26 23:40:10,311 - BERTopic - Reduced dimensionality\n",
      "2023-10-26 23:40:10,324 - BERTopic - Clustered reduced embeddings\n"
     ]
    },
    {
     "name": "stdout",
     "output_type": "stream",
     "text": [
      "BERT model labelling 3940 snippets\n",
      "inference_snippets 3940\n"
     ]
    },
    {
     "data": {
      "application/vnd.jupyter.widget-view+json": {
       "model_id": "2959fa73e8fa4205af7265214ec3a2c6",
       "version_major": 2,
       "version_minor": 0
      },
      "text/plain": [
       "Batches:   0%|          | 0/124 [00:00<?, ?it/s]"
      ]
     },
     "metadata": {},
     "output_type": "display_data"
    },
    {
     "name": "stderr",
     "output_type": "stream",
     "text": [
      "2023-10-26 23:41:05,001 - BERTopic - Reduced dimensionality\n",
      "2023-10-26 23:41:05,055 - BERTopic - Predicted clusters\n"
     ]
    },
    {
     "name": "stdout",
     "output_type": "stream",
     "text": [
      "Elapsed total time for topic modelling: 83.78383493423462 seconds\n",
      "sbert results\n",
      "Label count: 9\n",
      "Loss: 0.45253807106598987\n",
      "dataset_file_path ../glanos-data/clustering/big_consulting_export_replace_no_duplicates.tsv\n",
      "Overlap count of length 1: 7\n",
      "Overlap count of length 2: 5\n",
      "Overlap count of length 3: 1\n",
      "Overlap count of length 4 or more: 1\n",
      "Overlap loss:  2.08\n",
      "Diversity loss:  1.27\n",
      "Number of clusters: 9\n",
      "Avg cluster size: 394.0\n",
      "Median cluster size: 181.0 , standard deviation: 496.4046736282808\n",
      "Median top company occurence: 31.432511356262168\n",
      "Cost (outliers): 45.25%\n",
      "\n",
      "Input file ../glanos-data/clustering/input/similarity_ai_car_data2_semi_replace_no_tags_to_ci_params.json\n",
      "Supervised\n",
      "Topic modelling method: BERTopic\n",
      "Fitting the BERT model on 1278 snippets\n"
     ]
    },
    {
     "data": {
      "application/vnd.jupyter.widget-view+json": {
       "model_id": "413f4e48820a4f1a8e0714be176a8378",
       "version_major": 2,
       "version_minor": 0
      },
      "text/plain": [
       "Batches:   0%|          | 0/40 [00:00<?, ?it/s]"
      ]
     },
     "metadata": {},
     "output_type": "display_data"
    },
    {
     "name": "stderr",
     "output_type": "stream",
     "text": [
      "2023-10-26 23:41:22,304 - BERTopic - Transformed documents to Embeddings\n",
      "2023-10-26 23:41:24,980 - BERTopic - Reduced dimensionality\n",
      "2023-10-26 23:41:24,998 - BERTopic - Clustered reduced embeddings\n"
     ]
    },
    {
     "name": "stdout",
     "output_type": "stream",
     "text": [
      "BERT model labelling 3940 snippets\n",
      "inference_snippets 3940\n"
     ]
    },
    {
     "data": {
      "application/vnd.jupyter.widget-view+json": {
       "model_id": "d427a8b9616345fcabb9016a0b95024c",
       "version_major": 2,
       "version_minor": 0
      },
      "text/plain": [
       "Batches:   0%|          | 0/124 [00:00<?, ?it/s]"
      ]
     },
     "metadata": {},
     "output_type": "display_data"
    },
    {
     "name": "stderr",
     "output_type": "stream",
     "text": [
      "2023-10-26 23:42:08,108 - BERTopic - Reduced dimensionality\n",
      "2023-10-26 23:42:08,169 - BERTopic - Predicted clusters\n"
     ]
    },
    {
     "name": "stdout",
     "output_type": "stream",
     "text": [
      "Elapsed total time for topic modelling: 62.37531113624573 seconds\n",
      "sbert results\n",
      "Label count: 9\n",
      "Loss: 0.4733502538071066\n",
      "dataset_file_path ../glanos-data/clustering/big_consulting_export_replace_no_duplicates.tsv\n",
      "Overlap count of length 1: 4\n",
      "Overlap count of length 2: 5\n",
      "Overlap count of length 3: 1\n",
      "Overlap count of length 4 or more: 1\n",
      "Overlap loss:  2.00\n",
      "Diversity loss:  1.19\n",
      "Number of clusters: 9\n",
      "Avg cluster size: 394.0\n",
      "Median cluster size: 177.0 , standard deviation: 515.6114816409736\n",
      "Median top company occurence: 41.22463331324091\n",
      "Cost (outliers): 47.34%\n",
      "\n",
      "Input file ../glanos-data/clustering/input/similarity_distill_consistency_data2_semi_replace_no_tags_to_ci_params.json\n",
      "Supervised\n",
      "Topic modelling method: BERTopic\n",
      "Fitting the BERT model on 1278 snippets\n"
     ]
    },
    {
     "data": {
      "application/vnd.jupyter.widget-view+json": {
       "model_id": "de2ff09abdf449b78cae6d63dd0fb1d7",
       "version_major": 2,
       "version_minor": 0
      },
      "text/plain": [
       "Batches:   0%|          | 0/40 [00:00<?, ?it/s]"
      ]
     },
     "metadata": {},
     "output_type": "display_data"
    },
    {
     "name": "stderr",
     "output_type": "stream",
     "text": [
      "2023-10-26 23:42:26,166 - BERTopic - Transformed documents to Embeddings\n",
      "2023-10-26 23:42:28,694 - BERTopic - Reduced dimensionality\n",
      "2023-10-26 23:42:28,708 - BERTopic - Clustered reduced embeddings\n"
     ]
    },
    {
     "name": "stdout",
     "output_type": "stream",
     "text": [
      "BERT model labelling 3940 snippets\n",
      "inference_snippets 3940\n"
     ]
    },
    {
     "data": {
      "application/vnd.jupyter.widget-view+json": {
       "model_id": "d66b571bbe7b4e66921c93ab1ea9ed2a",
       "version_major": 2,
       "version_minor": 0
      },
      "text/plain": [
       "Batches:   0%|          | 0/124 [00:00<?, ?it/s]"
      ]
     },
     "metadata": {},
     "output_type": "display_data"
    },
    {
     "name": "stderr",
     "output_type": "stream",
     "text": [
      "2023-10-26 23:43:06,362 - BERTopic - Reduced dimensionality\n",
      "2023-10-26 23:43:06,418 - BERTopic - Predicted clusters\n"
     ]
    },
    {
     "name": "stdout",
     "output_type": "stream",
     "text": [
      "Elapsed total time for topic modelling: 57.54538702964783 seconds\n",
      "sbert results\n",
      "Label count: 9\n",
      "Loss: 0.45355329949238576\n",
      "dataset_file_path ../glanos-data/clustering/big_consulting_export_replace_no_duplicates.tsv\n",
      "Overlap count of length 1: 7\n",
      "Overlap count of length 2: 3\n",
      "Overlap count of length 3: 1\n",
      "Overlap count of length 4 or more: 2\n",
      "Overlap loss:  2.75\n",
      "Diversity loss:  1.23\n",
      "Number of clusters: 9\n",
      "Avg cluster size: 394.0\n",
      "Median cluster size: 170.0 , standard deviation: 547.8561855085694\n",
      "Median top company occurence: 34.31372549019608\n",
      "Cost (outliers): 45.36%\n",
      "\n",
      "Input file ../glanos-data/clustering/input/similarity_ai_car_distill_consistency_data2_semi_replace_no_tags_to_ci_params.json\n",
      "Supervised\n",
      "Topic modelling method: BERTopic\n",
      "Fitting the BERT model on 1278 snippets\n"
     ]
    },
    {
     "data": {
      "application/vnd.jupyter.widget-view+json": {
       "model_id": "b1ac2f3793534f12820b9e82bd28fc6a",
       "version_major": 2,
       "version_minor": 0
      },
      "text/plain": [
       "Batches:   0%|          | 0/40 [00:00<?, ?it/s]"
      ]
     },
     "metadata": {},
     "output_type": "display_data"
    },
    {
     "name": "stderr",
     "output_type": "stream",
     "text": [
      "2023-10-26 23:43:24,379 - BERTopic - Transformed documents to Embeddings\n",
      "2023-10-26 23:43:26,808 - BERTopic - Reduced dimensionality\n",
      "2023-10-26 23:43:26,825 - BERTopic - Clustered reduced embeddings\n"
     ]
    },
    {
     "name": "stdout",
     "output_type": "stream",
     "text": [
      "BERT model labelling 3940 snippets\n",
      "inference_snippets 3940\n"
     ]
    },
    {
     "data": {
      "application/vnd.jupyter.widget-view+json": {
       "model_id": "35c74e9464f1446da0285157aed6b042",
       "version_major": 2,
       "version_minor": 0
      },
      "text/plain": [
       "Batches:   0%|          | 0/124 [00:00<?, ?it/s]"
      ]
     },
     "metadata": {},
     "output_type": "display_data"
    },
    {
     "name": "stderr",
     "output_type": "stream",
     "text": [
      "2023-10-26 23:44:10,183 - BERTopic - Reduced dimensionality\n",
      "2023-10-26 23:44:10,243 - BERTopic - Predicted clusters\n"
     ]
    },
    {
     "name": "stdout",
     "output_type": "stream",
     "text": [
      "Elapsed total time for topic modelling: 63.08823823928833 seconds\n",
      "sbert results\n",
      "Label count: 10\n",
      "Loss: 0.05862944162436548\n",
      "dataset_file_path ../glanos-data/clustering/big_consulting_export_replace_no_duplicates.tsv\n",
      "Overlap count of length 1: 11\n",
      "Overlap count of length 2: 6\n",
      "Overlap count of length 3: 5\n",
      "Overlap count of length 4 or more: 1\n",
      "Overlap loss:  3.67\n",
      "Diversity loss:  1.33\n",
      "Number of clusters: 10\n",
      "Avg cluster size: 358.1818181818182\n",
      "Median cluster size: 192.0 , standard deviation: 599.6433513016972\n",
      "Median top company occurence: 30.927835051546392\n",
      "Cost (outliers): 5.86%\n",
      "\n",
      "Input file ../glanos-data/clustering/input/classification_data2_semi_replace_no_tags_to_ci_params.json\n",
      "Supervised\n",
      "Topic modelling method: BERTopic\n",
      "Fitting the BERT model on 1278 snippets\n"
     ]
    },
    {
     "data": {
      "application/vnd.jupyter.widget-view+json": {
       "model_id": "e1f223f995414af28001fd2dd9408596",
       "version_major": 2,
       "version_minor": 0
      },
      "text/plain": [
       "Batches:   0%|          | 0/40 [00:00<?, ?it/s]"
      ]
     },
     "metadata": {},
     "output_type": "display_data"
    },
    {
     "name": "stderr",
     "output_type": "stream",
     "text": [
      "2023-10-26 23:44:27,362 - BERTopic - Transformed documents to Embeddings\n",
      "2023-10-26 23:44:29,952 - BERTopic - Reduced dimensionality\n",
      "2023-10-26 23:44:29,967 - BERTopic - Clustered reduced embeddings\n"
     ]
    },
    {
     "name": "stdout",
     "output_type": "stream",
     "text": [
      "BERT model labelling 3940 snippets\n",
      "inference_snippets 3940\n"
     ]
    },
    {
     "data": {
      "application/vnd.jupyter.widget-view+json": {
       "model_id": "47e7cb51b65346d5a68c2443d146405d",
       "version_major": 2,
       "version_minor": 0
      },
      "text/plain": [
       "Batches:   0%|          | 0/124 [00:00<?, ?it/s]"
      ]
     },
     "metadata": {},
     "output_type": "display_data"
    },
    {
     "name": "stderr",
     "output_type": "stream",
     "text": [
      "2023-10-26 23:45:05,018 - BERTopic - Reduced dimensionality\n",
      "2023-10-26 23:45:05,073 - BERTopic - Predicted clusters\n"
     ]
    },
    {
     "name": "stdout",
     "output_type": "stream",
     "text": [
      "Elapsed total time for topic modelling: 54.14522910118103 seconds\n",
      "sbert results\n",
      "Label count: 11\n",
      "Loss: 0.30710659898477155\n",
      "dataset_file_path ../glanos-data/clustering/big_consulting_export_replace_no_duplicates.tsv\n",
      "Overlap count of length 1: 6\n",
      "Overlap count of length 2: 2\n",
      "Overlap count of length 3: 1\n",
      "Overlap count of length 4 or more: 0\n",
      "Overlap loss:  0.68\n",
      "Diversity loss:  1.11\n",
      "Number of clusters: 11\n",
      "Avg cluster size: 328.3333333333333\n",
      "Median cluster size: 188.5 , standard deviation: 342.6646400718282\n",
      "Median top company occurence: 29.655990510083036\n",
      "Cost (outliers): 30.71%\n",
      "\n",
      "Input file ../glanos-data/clustering/input/classification_ai_car_sbert_data2_semi_replace_no_tags_to_ci_params.json\n",
      "Supervised\n",
      "Topic modelling method: BERTopic\n",
      "Fitting the BERT model on 1278 snippets\n"
     ]
    },
    {
     "data": {
      "application/vnd.jupyter.widget-view+json": {
       "model_id": "e32a58952b1447508ce769cfd8e11a66",
       "version_major": 2,
       "version_minor": 0
      },
      "text/plain": [
       "Batches:   0%|          | 0/40 [00:00<?, ?it/s]"
      ]
     },
     "metadata": {},
     "output_type": "display_data"
    },
    {
     "name": "stderr",
     "output_type": "stream",
     "text": [
      "2023-10-26 23:45:22,130 - BERTopic - Transformed documents to Embeddings\n",
      "2023-10-26 23:45:24,684 - BERTopic - Reduced dimensionality\n",
      "2023-10-26 23:45:24,698 - BERTopic - Clustered reduced embeddings\n"
     ]
    },
    {
     "name": "stdout",
     "output_type": "stream",
     "text": [
      "BERT model labelling 3940 snippets\n",
      "inference_snippets 3940\n"
     ]
    },
    {
     "data": {
      "application/vnd.jupyter.widget-view+json": {
       "model_id": "024e81a09217435487802222b768a6f9",
       "version_major": 2,
       "version_minor": 0
      },
      "text/plain": [
       "Batches:   0%|          | 0/124 [00:00<?, ?it/s]"
      ]
     },
     "metadata": {},
     "output_type": "display_data"
    },
    {
     "name": "stderr",
     "output_type": "stream",
     "text": [
      "2023-10-26 23:46:02,226 - BERTopic - Reduced dimensionality\n",
      "2023-10-26 23:46:02,279 - BERTopic - Predicted clusters\n"
     ]
    },
    {
     "name": "stdout",
     "output_type": "stream",
     "text": [
      "Elapsed total time for topic modelling: 56.54367017745972 seconds\n",
      "sbert results\n",
      "Label count: 13\n",
      "Loss: 0.15050761421319797\n",
      "dataset_file_path ../glanos-data/clustering/big_consulting_export_replace_no_duplicates.tsv\n",
      "Overlap count of length 1: 18\n",
      "Overlap count of length 2: 2\n",
      "Overlap count of length 3: 3\n",
      "Overlap count of length 4 or more: 1\n",
      "Overlap loss:  2.04\n",
      "Diversity loss:  1.23\n",
      "Number of clusters: 13\n",
      "Avg cluster size: 281.42857142857144\n",
      "Median cluster size: 168.5 , standard deviation: 261.69740276174866\n",
      "Median top company occurence: 34.16478520397118\n",
      "Cost (outliers): 15.05%\n",
      "\n",
      "Input file ../glanos-data/clustering/input/combined_ai_car_class_consulting_sim_data2_semi_replace_no_tags_to_ci_params.json\n",
      "Supervised\n",
      "Topic modelling method: BERTopic\n",
      "Fitting the BERT model on 1278 snippets\n"
     ]
    },
    {
     "data": {
      "application/vnd.jupyter.widget-view+json": {
       "model_id": "5127bee168494c7495442086d374ccb7",
       "version_major": 2,
       "version_minor": 0
      },
      "text/plain": [
       "Batches:   0%|          | 0/40 [00:00<?, ?it/s]"
      ]
     },
     "metadata": {},
     "output_type": "display_data"
    },
    {
     "name": "stderr",
     "output_type": "stream",
     "text": [
      "2023-10-26 23:46:20,008 - BERTopic - Transformed documents to Embeddings\n",
      "2023-10-26 23:46:22,471 - BERTopic - Reduced dimensionality\n",
      "2023-10-26 23:46:22,484 - BERTopic - Clustered reduced embeddings\n"
     ]
    },
    {
     "name": "stdout",
     "output_type": "stream",
     "text": [
      "BERT model labelling 3940 snippets\n",
      "inference_snippets 3940\n"
     ]
    },
    {
     "data": {
      "application/vnd.jupyter.widget-view+json": {
       "model_id": "65dd7b24fcc8454d8f832bd865287f69",
       "version_major": 2,
       "version_minor": 0
      },
      "text/plain": [
       "Batches:   0%|          | 0/124 [00:00<?, ?it/s]"
      ]
     },
     "metadata": {},
     "output_type": "display_data"
    },
    {
     "name": "stderr",
     "output_type": "stream",
     "text": [
      "2023-10-26 23:46:53,742 - BERTopic - Reduced dimensionality\n",
      "2023-10-26 23:46:53,791 - BERTopic - Predicted clusters\n"
     ]
    },
    {
     "name": "stdout",
     "output_type": "stream",
     "text": [
      "Elapsed total time for topic modelling: 50.88553214073181 seconds\n",
      "sbert results\n",
      "Label count: 10\n",
      "Loss: 0.14720812182741116\n",
      "dataset_file_path ../glanos-data/clustering/big_consulting_export_replace_no_duplicates.tsv\n",
      "Overlap count of length 1: 6\n",
      "Overlap count of length 2: 2\n",
      "Overlap count of length 3: 2\n",
      "Overlap count of length 4 or more: 0\n",
      "Overlap loss:  1.15\n",
      "Diversity loss:  1.13\n",
      "Number of clusters: 10\n",
      "Avg cluster size: 358.1818181818182\n",
      "Median cluster size: 212.0 , standard deviation: 290.9194884505515\n",
      "Median top company occurence: 29.523809523809526\n",
      "Cost (outliers): 14.72%\n",
      "\n",
      "Input file ../glanos-data/clustering/input/combined_consulting_sim_ai_car_class_data2_semi_replace_no_tags_to_ci_params.json\n",
      "Supervised\n",
      "Topic modelling method: BERTopic\n",
      "Fitting the BERT model on 1278 snippets\n"
     ]
    },
    {
     "data": {
      "application/vnd.jupyter.widget-view+json": {
       "model_id": "cfa9052d576e4947a7e0846e20370360",
       "version_major": 2,
       "version_minor": 0
      },
      "text/plain": [
       "Batches:   0%|          | 0/40 [00:00<?, ?it/s]"
      ]
     },
     "metadata": {},
     "output_type": "display_data"
    },
    {
     "name": "stderr",
     "output_type": "stream",
     "text": [
      "2023-10-26 23:47:10,712 - BERTopic - Transformed documents to Embeddings\n",
      "2023-10-26 23:47:13,458 - BERTopic - Reduced dimensionality\n",
      "2023-10-26 23:47:13,475 - BERTopic - Clustered reduced embeddings\n"
     ]
    },
    {
     "name": "stdout",
     "output_type": "stream",
     "text": [
      "BERT model labelling 3940 snippets\n",
      "inference_snippets 3940\n"
     ]
    },
    {
     "data": {
      "application/vnd.jupyter.widget-view+json": {
       "model_id": "9cfb382c939b449eb0de6742cfd29266",
       "version_major": 2,
       "version_minor": 0
      },
      "text/plain": [
       "Batches:   0%|          | 0/124 [00:00<?, ?it/s]"
      ]
     },
     "metadata": {},
     "output_type": "display_data"
    },
    {
     "name": "stderr",
     "output_type": "stream",
     "text": [
      "2023-10-26 23:48:04,634 - BERTopic - Reduced dimensionality\n",
      "2023-10-26 23:48:04,694 - BERTopic - Predicted clusters\n"
     ]
    },
    {
     "name": "stdout",
     "output_type": "stream",
     "text": [
      "Elapsed total time for topic modelling: 70.3375141620636 seconds\n",
      "sbert results\n",
      "Label count: 11\n",
      "Loss: 0.0583756345177665\n",
      "dataset_file_path ../glanos-data/clustering/big_consulting_export_replace_no_duplicates.tsv\n",
      "Overlap count of length 1: 12\n",
      "Overlap count of length 2: 1\n",
      "Overlap count of length 3: 1\n",
      "Overlap count of length 4 or more: 2\n",
      "Overlap loss:  2.18\n",
      "Diversity loss:  1.24\n",
      "Number of clusters: 11\n",
      "Avg cluster size: 328.3333333333333\n",
      "Median cluster size: 119.5 , standard deviation: 401.49934274195545\n",
      "Median top company occurence: 32.42285237698082\n",
      "Cost (outliers): 5.84%\n",
      "\n",
      "Input file ../glanos-data/clustering/input/combined_consulting_sim_and_ai_car_class_data2_semi_replace_no_tags_to_ci_params.json\n",
      "Supervised\n",
      "Topic modelling method: BERTopic\n",
      "Fitting the BERT model on 1278 snippets\n"
     ]
    },
    {
     "data": {
      "application/vnd.jupyter.widget-view+json": {
       "model_id": "60b41b8c962a45549d6f50f325b72fcd",
       "version_major": 2,
       "version_minor": 0
      },
      "text/plain": [
       "Batches:   0%|          | 0/40 [00:00<?, ?it/s]"
      ]
     },
     "metadata": {},
     "output_type": "display_data"
    },
    {
     "name": "stderr",
     "output_type": "stream",
     "text": [
      "2023-10-26 23:48:22,419 - BERTopic - Transformed documents to Embeddings\n",
      "2023-10-26 23:48:26,170 - BERTopic - Reduced dimensionality\n",
      "2023-10-26 23:48:26,187 - BERTopic - Clustered reduced embeddings\n"
     ]
    },
    {
     "name": "stdout",
     "output_type": "stream",
     "text": [
      "BERT model labelling 3940 snippets\n",
      "inference_snippets 3940\n"
     ]
    },
    {
     "data": {
      "application/vnd.jupyter.widget-view+json": {
       "model_id": "4407cadffafb4a7bb77edf99a2f96fa9",
       "version_major": 2,
       "version_minor": 0
      },
      "text/plain": [
       "Batches:   0%|          | 0/124 [00:00<?, ?it/s]"
      ]
     },
     "metadata": {},
     "output_type": "display_data"
    },
    {
     "name": "stderr",
     "output_type": "stream",
     "text": [
      "2023-10-26 23:49:08,682 - BERTopic - Reduced dimensionality\n",
      "2023-10-26 23:49:08,740 - BERTopic - Predicted clusters\n"
     ]
    },
    {
     "name": "stdout",
     "output_type": "stream",
     "text": [
      "Elapsed total time for topic modelling: 63.36781597137451 seconds\n",
      "sbert results\n",
      "Label count: 12\n",
      "Loss: 0.34949238578680203\n",
      "dataset_file_path ../glanos-data/clustering/big_consulting_export_replace_no_duplicates.tsv\n",
      "Overlap count of length 1: 16\n",
      "Overlap count of length 2: 4\n",
      "Overlap count of length 3: 3\n",
      "Overlap count of length 4 or more: 0\n",
      "Overlap loss:  1.67\n",
      "Diversity loss:  1.19\n",
      "Number of clusters: 12\n",
      "Avg cluster size: 303.0769230769231\n",
      "Median cluster size: 229.0 , standard deviation: 346.7005938488538\n",
      "Median top company occurence: 35.55555555555556\n",
      "Cost (outliers): 34.95%\n",
      "\n",
      "Input file ../glanos-data/clustering/input/combined_ai_car_sim_and_class_data2_semi_replace_no_tags_to_ci_params.json\n",
      "Supervised\n",
      "Topic modelling method: BERTopic\n",
      "Fitting the BERT model on 1278 snippets\n"
     ]
    },
    {
     "data": {
      "application/vnd.jupyter.widget-view+json": {
       "model_id": "ddd2fdd7224440ddbc0df24ca256bdf0",
       "version_major": 2,
       "version_minor": 0
      },
      "text/plain": [
       "Batches:   0%|          | 0/40 [00:00<?, ?it/s]"
      ]
     },
     "metadata": {},
     "output_type": "display_data"
    },
    {
     "name": "stderr",
     "output_type": "stream",
     "text": [
      "2023-10-26 23:49:26,628 - BERTopic - Transformed documents to Embeddings\n",
      "2023-10-26 23:49:29,244 - BERTopic - Reduced dimensionality\n",
      "2023-10-26 23:49:29,261 - BERTopic - Clustered reduced embeddings\n"
     ]
    },
    {
     "name": "stdout",
     "output_type": "stream",
     "text": [
      "BERT model labelling 3940 snippets\n",
      "inference_snippets 3940\n"
     ]
    },
    {
     "data": {
      "application/vnd.jupyter.widget-view+json": {
       "model_id": "9bca22be5e204f2c999f88aef2a15570",
       "version_major": 2,
       "version_minor": 0
      },
      "text/plain": [
       "Batches:   0%|          | 0/124 [00:00<?, ?it/s]"
      ]
     },
     "metadata": {},
     "output_type": "display_data"
    },
    {
     "name": "stderr",
     "output_type": "stream",
     "text": [
      "2023-10-26 23:50:09,594 - BERTopic - Reduced dimensionality\n",
      "2023-10-26 23:50:09,652 - BERTopic - Predicted clusters\n"
     ]
    },
    {
     "name": "stdout",
     "output_type": "stream",
     "text": [
      "Elapsed total time for topic modelling: 60.301599979400635 seconds\n",
      "sbert results\n",
      "Label count: 8\n",
      "Loss: 0.3223350253807107\n",
      "dataset_file_path ../glanos-data/clustering/big_consulting_export_replace_no_duplicates.tsv\n",
      "Overlap count of length 1: 3\n",
      "Overlap count of length 2: 2\n",
      "Overlap count of length 3: 1\n",
      "Overlap count of length 4 or more: 0\n",
      "Overlap loss:  0.84\n",
      "Diversity loss:  1.12\n",
      "Number of clusters: 8\n",
      "Avg cluster size: 437.77777777777777\n",
      "Median cluster size: 306.0 , standard deviation: 336.6738539753529\n",
      "Median top company occurence: 29.559748427672954\n",
      "Cost (outliers): 32.23%\n",
      "\n",
      "Input file ../glanos-data/clustering/input/combined_ai_car_sim_class_data2_semi_replace_no_tags_to_ci_params.json\n",
      "Supervised\n",
      "Topic modelling method: BERTopic\n",
      "Fitting the BERT model on 1278 snippets\n"
     ]
    },
    {
     "data": {
      "application/vnd.jupyter.widget-view+json": {
       "model_id": "c6244f878154454bb9882689b44cacb9",
       "version_major": 2,
       "version_minor": 0
      },
      "text/plain": [
       "Batches:   0%|          | 0/40 [00:00<?, ?it/s]"
      ]
     },
     "metadata": {},
     "output_type": "display_data"
    },
    {
     "name": "stderr",
     "output_type": "stream",
     "text": [
      "2023-10-26 23:50:27,407 - BERTopic - Transformed documents to Embeddings\n",
      "2023-10-26 23:50:30,135 - BERTopic - Reduced dimensionality\n",
      "2023-10-26 23:50:30,151 - BERTopic - Clustered reduced embeddings\n"
     ]
    },
    {
     "name": "stdout",
     "output_type": "stream",
     "text": [
      "BERT model labelling 3940 snippets\n",
      "inference_snippets 3940\n"
     ]
    },
    {
     "data": {
      "application/vnd.jupyter.widget-view+json": {
       "model_id": "ae293d069e46455a9640f1678a7f9d05",
       "version_major": 2,
       "version_minor": 0
      },
      "text/plain": [
       "Batches:   0%|          | 0/124 [00:00<?, ?it/s]"
      ]
     },
     "metadata": {},
     "output_type": "display_data"
    },
    {
     "name": "stderr",
     "output_type": "stream",
     "text": [
      "2023-10-26 23:51:17,497 - BERTopic - Reduced dimensionality\n",
      "2023-10-26 23:51:17,550 - BERTopic - Predicted clusters\n"
     ]
    },
    {
     "name": "stdout",
     "output_type": "stream",
     "text": [
      "Elapsed total time for topic modelling: 67.21248579025269 seconds\n",
      "sbert results\n",
      "Label count: 6\n",
      "Loss: 0.013705583756345178\n",
      "dataset_file_path ../glanos-data/clustering/big_consulting_export_replace_no_duplicates.tsv\n",
      "Overlap count of length 1: 2\n",
      "Overlap count of length 2: 0\n",
      "Overlap count of length 3: 1\n",
      "Overlap count of length 4 or more: 0\n",
      "Overlap loss:  0.75\n",
      "Diversity loss:  1.08\n",
      "Number of clusters: 6\n",
      "Avg cluster size: 562.8571428571429\n",
      "Median cluster size: 352.0 , standard deviation: 458.17227844413924\n",
      "Median top company occurence: 28.693181818181817\n",
      "Cost (outliers): 1.37%\n",
      "\n",
      "Input file ../glanos-data/clustering/input/combined_ai_car_class_sim_data2_semi_replace_no_tags_to_ci_params.json\n",
      "Supervised\n",
      "Topic modelling method: BERTopic\n",
      "Fitting the BERT model on 1278 snippets\n"
     ]
    },
    {
     "data": {
      "application/vnd.jupyter.widget-view+json": {
       "model_id": "9a9920c5c2624fa3afb42134d2613b77",
       "version_major": 2,
       "version_minor": 0
      },
      "text/plain": [
       "Batches:   0%|          | 0/40 [00:00<?, ?it/s]"
      ]
     },
     "metadata": {},
     "output_type": "display_data"
    },
    {
     "name": "stderr",
     "output_type": "stream",
     "text": [
      "2023-10-26 23:51:34,880 - BERTopic - Transformed documents to Embeddings\n",
      "2023-10-26 23:51:38,472 - BERTopic - Reduced dimensionality\n",
      "2023-10-26 23:51:38,486 - BERTopic - Clustered reduced embeddings\n"
     ]
    },
    {
     "name": "stdout",
     "output_type": "stream",
     "text": [
      "BERT model labelling 3940 snippets\n",
      "inference_snippets 3940\n"
     ]
    },
    {
     "data": {
      "application/vnd.jupyter.widget-view+json": {
       "model_id": "89942f7b2391406ba3e6bd95b342f5ae",
       "version_major": 2,
       "version_minor": 0
      },
      "text/plain": [
       "Batches:   0%|          | 0/124 [00:00<?, ?it/s]"
      ]
     },
     "metadata": {},
     "output_type": "display_data"
    },
    {
     "name": "stderr",
     "output_type": "stream",
     "text": [
      "2023-10-26 23:52:14,187 - BERTopic - Reduced dimensionality\n",
      "2023-10-26 23:52:14,240 - BERTopic - Predicted clusters\n"
     ]
    },
    {
     "name": "stdout",
     "output_type": "stream",
     "text": [
      "Elapsed total time for topic modelling: 56.096415996551514 seconds\n",
      "sbert results\n",
      "Label count: 10\n",
      "Loss: 0.3934010152284264\n",
      "dataset_file_path ../glanos-data/clustering/big_consulting_export_replace_no_duplicates.tsv\n",
      "Overlap count of length 1: 6\n",
      "Overlap count of length 2: 5\n",
      "Overlap count of length 3: 3\n",
      "Overlap count of length 4 or more: 0\n",
      "Overlap loss:  1.85\n",
      "Diversity loss:  1.20\n",
      "Number of clusters: 10\n",
      "Avg cluster size: 358.1818181818182\n",
      "Median cluster size: 172.0 , standard deviation: 451.97019575547193\n",
      "Median top company occurence: 30.952380952380953\n",
      "Cost (outliers): 39.34%\n",
      "\n",
      "Input file ../glanos-data/clustering/input/combined_consulting_data2_semi_replace_no_tags_to_ci_params.json\n",
      "Supervised\n",
      "Topic modelling method: BERTopic\n",
      "Fitting the BERT model on 1278 snippets\n"
     ]
    },
    {
     "data": {
      "application/vnd.jupyter.widget-view+json": {
       "model_id": "349ead8225e340c9ac8e324090cb87b5",
       "version_major": 2,
       "version_minor": 0
      },
      "text/plain": [
       "Batches:   0%|          | 0/40 [00:00<?, ?it/s]"
      ]
     },
     "metadata": {},
     "output_type": "display_data"
    },
    {
     "name": "stderr",
     "output_type": "stream",
     "text": [
      "2023-10-26 23:52:31,674 - BERTopic - Transformed documents to Embeddings\n",
      "2023-10-26 23:52:34,258 - BERTopic - Reduced dimensionality\n",
      "2023-10-26 23:52:34,272 - BERTopic - Clustered reduced embeddings\n"
     ]
    },
    {
     "name": "stdout",
     "output_type": "stream",
     "text": [
      "BERT model labelling 3940 snippets\n",
      "inference_snippets 3940\n"
     ]
    },
    {
     "data": {
      "application/vnd.jupyter.widget-view+json": {
       "model_id": "37e656ecc7ad4692a21dd76950aecb53",
       "version_major": 2,
       "version_minor": 0
      },
      "text/plain": [
       "Batches:   0%|          | 0/124 [00:00<?, ?it/s]"
      ]
     },
     "metadata": {},
     "output_type": "display_data"
    },
    {
     "name": "stderr",
     "output_type": "stream",
     "text": [
      "2023-10-26 23:53:06,930 - BERTopic - Reduced dimensionality\n",
      "2023-10-26 23:53:06,981 - BERTopic - Predicted clusters\n"
     ]
    },
    {
     "name": "stdout",
     "output_type": "stream",
     "text": [
      "Elapsed total time for topic modelling: 52.1260929107666 seconds\n",
      "sbert results\n",
      "Label count: 10\n",
      "Loss: 0.2652284263959391\n",
      "dataset_file_path ../glanos-data/clustering/big_consulting_export_replace_no_duplicates.tsv\n",
      "Overlap count of length 1: 10\n",
      "Overlap count of length 2: 3\n",
      "Overlap count of length 3: 5\n",
      "Overlap count of length 4 or more: 0\n",
      "Overlap loss:  2.55\n",
      "Diversity loss:  1.24\n",
      "Number of clusters: 10\n",
      "Avg cluster size: 358.1818181818182\n",
      "Median cluster size: 217.0 , standard deviation: 328.9080607049548\n",
      "Median top company occurence: 40.21164021164021\n",
      "Cost (outliers): 26.52%\n",
      "\n",
      "Input file ../glanos-data/clustering/input/classification_ai_car_data_aug_data2_semi_replace_no_tags_to_ci_params.json\n",
      "Supervised\n",
      "Topic modelling method: BERTopic\n",
      "Fitting the BERT model on 1278 snippets\n"
     ]
    },
    {
     "data": {
      "application/vnd.jupyter.widget-view+json": {
       "model_id": "0a09372e3b584b8781d8cc70ecfea6b6",
       "version_major": 2,
       "version_minor": 0
      },
      "text/plain": [
       "Batches:   0%|          | 0/40 [00:00<?, ?it/s]"
      ]
     },
     "metadata": {},
     "output_type": "display_data"
    },
    {
     "name": "stderr",
     "output_type": "stream",
     "text": [
      "2023-10-26 23:53:24,368 - BERTopic - Transformed documents to Embeddings\n",
      "2023-10-26 23:53:26,675 - BERTopic - Reduced dimensionality\n",
      "2023-10-26 23:53:26,687 - BERTopic - Clustered reduced embeddings\n"
     ]
    },
    {
     "name": "stdout",
     "output_type": "stream",
     "text": [
      "BERT model labelling 3940 snippets\n",
      "inference_snippets 3940\n"
     ]
    },
    {
     "data": {
      "application/vnd.jupyter.widget-view+json": {
       "model_id": "95524d848c9c405c838daa6e218051f7",
       "version_major": 2,
       "version_minor": 0
      },
      "text/plain": [
       "Batches:   0%|          | 0/124 [00:00<?, ?it/s]"
      ]
     },
     "metadata": {},
     "output_type": "display_data"
    },
    {
     "name": "stderr",
     "output_type": "stream",
     "text": [
      "2023-10-26 23:53:56,804 - BERTopic - Reduced dimensionality\n",
      "2023-10-26 23:53:56,849 - BERTopic - Predicted clusters\n"
     ]
    },
    {
     "name": "stdout",
     "output_type": "stream",
     "text": [
      "Elapsed total time for topic modelling: 49.1462767124176 seconds\n",
      "sbert results\n",
      "Label count: 6\n",
      "Loss: 0.0025380710659898475\n",
      "dataset_file_path ../glanos-data/clustering/big_consulting_export_replace_no_duplicates.tsv\n",
      "Overlap count of length 1: 0\n",
      "Overlap count of length 2: 1\n",
      "Overlap count of length 3: 0\n",
      "Overlap count of length 4 or more: 0\n",
      "Overlap loss:  0.17\n",
      "Diversity loss:  1.03\n",
      "Number of clusters: 6\n",
      "Avg cluster size: 640.1666666666666\n",
      "Median cluster size: 583.0 , standard deviation: 549.8100934767284\n",
      "Median top company occurence: 31.967871485943775\n",
      "Cost (outliers): 0.25%\n",
      "\n"
     ]
    }
   ],
   "source": [
    "# on replace_no_tags dataset\n",
    "# overlap loss\n",
    "\n",
    "data2_input_file = '../glanos-data/clustering/big_consulting_export_replace.tsv'\n",
    "params['BAYESIAN_SEARCH_METRIC'] = 'topic_overlap+chat_intents'\n",
    "params['MAX_EVALS'] = 15\n",
    "\n",
    "sbert_model, sbert_output_df, sbert_cluster_topics, sbert_params, sbert_topic_model = cluster('baseline_data2_semi_replace_no_tags_to_ci_params.json', params, hf_model_name='sentence-transformers/all-MiniLM-L12-v2')\n",
    "baai_model, baai_output_df, baai_cluster_topics, baai_params, baai_topic_model = cluster('baai_baseline_data2_semi_replace_no_tags_to_ci_params.json', params, hf_model_name='BAAI/bge-base-en-v1.5')\n",
    "\n",
    "similarity_sbert_model, similarity_sbert_output_df, similarity_sbert_cluster_topics, similarity_sbert_params, similarity_sbert_topic_model = cluster('similarity_data2_semi_replace_no_tags_to_ci_params.json', params, hf_model_name=\"brjezierski/sentence-embeddings-similarity\")\n",
    "similarity_baai_model, similarity_baai_output_df, similarity_baai_cluster_topics, similarity_baai_params, similarity_baai_topic_model = cluster('best_similarity_data2_semi_replace_no_tags_to_ci_params.json', params, hf_model_name=\"brjezierski/sentence-embeddings-similarity-best-baai\")\n",
    "similarity_ai_car_sbert_model, similarity_ai_car_sbert_output_df, similarity_ai_car_sbert_cluster_topics, similarity_ai_car_sbert_params, similarity_ai_car_sbert_topic_model = cluster('similarity_ai_car_data2_semi_replace_no_tags_to_ci_params.json', params, hf_model_name='brjezierski/sentence-embeddings-similarity-ai-car')\n",
    "similarity_distill_consistency_model, similarity_distill_consistency_output_df, similarity_distill_consistency_cluster_topics, similarity_distill_consistency_params, similarity_distill_consistency_topic_model = cluster('similarity_distill_consistency_data2_semi_replace_no_tags_to_ci_params.json', params, hf_model_name='brjezierski/sentence-embeddings-similarity-distill-consistency')\n",
    "similarity_ai_car_distill_consistency_model, similarity_ai_car_distill_consistency_output_df, similarity_ai_car_distill_consistency_cluster_topics, similarity_ai_car_distill_consistency_params, similarity_ai_car_distill_consistency_topic_model = cluster('similarity_ai_car_distill_consistency_data2_semi_replace_no_tags_to_ci_params.json', params, hf_model_name='brjezierski/sentence-embeddings-similarity-ai_car-distill-consistency')\n",
    "\n",
    "\n",
    "classification_model, classification_output_df, classification_cluster_topics, classification_params, classification_topic_model = cluster('classification_data2_semi_replace_no_tags_to_ci_params.json', params, hf_model_name=\"brjezierski/sentence-embeddings-classification\")\n",
    "classification_ai_car_sbert_model, classification_ai_car_sbert_output_df, classification_ai_car_sbert_cluster_topics, classification_ai_car_sbert_params, classification_ai_car_sbert_topic_model = cluster('classification_ai_car_sbert_data2_semi_replace_no_tags_to_ci_params.json', params, hf_model_name=\"brjezierski/sentence-embeddings-classification-ai_car-sbert\")\n",
    "combined_ai_car_class_consulting_sim_model, combined_ai_car_class_consulting_sim_output_df, combined_ai_car_class_consulting_sim_cluster_topics, combined_ai_car_class_consulting_sim_params, combined_ai_car_class_consulting_sim_topic_model = cluster('combined_ai_car_class_consulting_sim_data2_semi_replace_no_tags_to_ci_params.json', params, hf_model_name=\"brjezierski/sentence-embeddings-combined-ai_car-class-consulting-sim\")\n",
    "combined_consulting_sim_ai_car_class_model, combined_consulting_sim_ai_car_class_output_df, combined_consulting_sim_ai_car_class_cluster_topics, combined_consulting_sim_ai_car_class_params, combined_consulting_sim_ai_car_class_topic_model = cluster('combined_consulting_sim_ai_car_class_data2_semi_replace_no_tags_to_ci_params.json', params, hf_model_name=\"brjezierski/sentence-embeddings-combined-consulting-sim-ai_car-class\")\n",
    "combined_consulting_sim_and_ai_car_class_model, combined_consulting_sim_and_ai_car_class_output_df, combined_consulting_sim_and_ai_car_class_cluster_topics, combined_consulting_sim_and_ai_car_class_params, combined_consulting_sim_and_ai_car_class_topic_model = cluster('combined_consulting_sim_and_ai_car_class_data2_semi_replace_no_tags_to_ci_params.json', params, hf_model_name=\"brjezierski/sentence-embeddings-combined-consulting-sim-and-ai_car-class\")\n",
    "combined_ai_car_sim_and_class_model, combined_ai_car_sim_and_class_output_df, combined_ai_car_sim_and_class_cluster_topics, combined_ai_car_sim_and_class_params, combined_ai_car_sim_and_class_topic_model = cluster('combined_ai_car_sim_and_class_data2_semi_replace_no_tags_to_ci_params.json', params, hf_model_name=\"brjezierski/sentence-embeddings-combined-ai_car-sim-and-class\")\n",
    "combined_ai_car_sim_class_model, combined_ai_car_sim_class_output_df, combined_ai_car_sim_class_cluster_topics, combined_ai_car_sim_class_params, combined_ai_car_sim_class_topic_model = cluster('combined_ai_car_sim_class_data2_semi_replace_no_tags_to_ci_params.json', params, hf_model_name=\"brjezierski/sentence-embeddings-combined-ai_car-sim-class\")\n",
    "combined_ai_car_class_sim_model, combined_ai_car_class_sim_output_df, combined_ai_car_class_sim_cluster_topics, combined_ai_car_class_sim_params, combined_ai_car_class_sim_topic_model = cluster('combined_ai_car_class_sim_data2_semi_replace_no_tags_to_ci_params.json', params, hf_model_name=\"brjezierski/sentence-embeddings-combined-ai_car-class-sim\")\n",
    "combined_consulting_model, combined_consulting_output_df, combined_consulting_cluster_topics, combined_consulting_params, combined_consulting_topic_model = cluster('combined_consulting_data2_semi_replace_no_tags_to_ci_params.json', params, hf_model_name=\"brjezierski/combined-consulting\")\n",
    "\n",
    "classification_ai_car_data_aug_model, classification_ai_car_data_aug_output_df, classification_ai_car_data_aug_cluster_topics, classification_ai_car_data_aug_params, classification_ai_car_data_aug_topic_model = cluster('classification_ai_car_data_aug_data2_semi_replace_no_tags_to_ci_params.json', params, hf_model_name=\"brjezierski/sentence-embeddings-classification-ai_car-data_aug\")"
   ]
  },
  {
   "cell_type": "code",
   "execution_count": null,
   "metadata": {},
   "outputs": [],
   "source": [
    "print_results(input_file=data2_input_file)"
   ]
  },
  {
   "cell_type": "code",
   "execution_count": null,
   "metadata": {},
   "outputs": [],
   "source": []
  }
 ],
 "metadata": {
  "kernelspec": {
   "display_name": "Python 3 (ipykernel)",
   "language": "python",
   "name": "python3"
  },
  "language_info": {
   "codemirror_mode": {
    "name": "ipython",
    "version": 3
   },
   "file_extension": ".py",
   "mimetype": "text/x-python",
   "name": "python",
   "nbconvert_exporter": "python",
   "pygments_lexer": "ipython3",
   "version": "3.9.16"
  }
 },
 "nbformat": 4,
 "nbformat_minor": 2
}
