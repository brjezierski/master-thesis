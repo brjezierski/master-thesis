{
 "cells": [
  {
   "cell_type": "code",
   "execution_count": 8,
   "id": "4d9af719",
   "metadata": {},
   "outputs": [],
   "source": [
    "import pickle\n",
    "import pandas as pd\n",
    "import plotly.offline as pyo\n",
    "import plotly.express as px\n",
    "import dimensionality_reduction\n",
    "import json \n",
    "import random\n",
    "import numpy as np"
   ]
  },
  {
   "cell_type": "code",
   "execution_count": 9,
   "id": "c9b9a136",
   "metadata": {},
   "outputs": [],
   "source": [
    "import pycountry\n",
    "from sentence_transformers import SentenceTransformer\n",
    "import pickle\n",
    "from utils import country_code_map\n",
    "\n",
    "code_map = country_code_map()"
   ]
  },
  {
   "cell_type": "code",
   "execution_count": 10,
   "id": "e257dbd6",
   "metadata": {},
   "outputs": [],
   "source": [
    "country_regions = {\n",
    "    \"Aruba\": \"Caribbean\",\n",
    "    \"Afghanistan\": \"Central Asia\",\n",
    "    \"Angola\": \"Southern Africa\",\n",
    "    \"Anguilla\": \"Caribbean\",\n",
    "    \"Åland Islands\": \"Northern Europe\",\n",
    "    \"Albania\": \"Southern Europe\",\n",
    "    \"Andorra\": \"Southern Europe\",\n",
    "    \"United Arab Emirates\": \"Middle East\",\n",
    "    \"Argentina\": \"South America\",\n",
    "    \"Armenia\": \"Central Asia\",\n",
    "    \"American Samoa\": \"Australia and Oceania\",\n",
    "    \"Antarctica\": \"Antarctica\",\n",
    "    \"French Southern Territories\": \"Antarctica\",\n",
    "    \"Antigua and Barbuda\": \"Caribbean\",\n",
    "    \"Australia\": \"Australia and Oceania\",\n",
    "    \"Austria\": \"Western Europe\",\n",
    "    \"Azerbaijan\": \"Central Asia\",\n",
    "    \"Burundi\": \"Eastern Africa\",\n",
    "    \"Belgium\": \"Western Europe\",\n",
    "    \"Benin\": \"Western Africa\",\n",
    "    \"Bonaire, Sint Eustatius and Saba\": \"Caribbean\",\n",
    "    \"Burkina Faso\": \"Western Africa\",\n",
    "    \"Bangladesh\": \"South Asia\",\n",
    "    \"Bulgaria\": \"Eastern Europe\",\n",
    "    \"Bahrain\": \"Middle East\",\n",
    "    \"Bahamas\": \"Caribbean\",\n",
    "    \"Bosnia and Herzegovina\": \"Southern Europe\",\n",
    "    \"Saint Barthélemy\": \"Caribbean\",\n",
    "    \"Belarus\": \"Eastern Europe\",\n",
    "    \"Belize\": \"Central America\",\n",
    "    \"Bermuda\": \"North America\",\n",
    "    \"Bolivia, Plurinational State of\": \"South America\",\n",
    "    \"Brazil\": \"South America\",\n",
    "    \"Barbados\": \"Caribbean\",\n",
    "    \"Brunei Darussalam\": \"Southeastern Asia\",\n",
    "    \"Bhutan\": \"South Asia\",\n",
    "    \"Bouvet Island\": \"Antarctica\",\n",
    "    \"Botswana\": \"Southern Africa\",\n",
    "    \"Central African Republic\": \"Central Africa\",\n",
    "    \"Canada\": \"North America\",\n",
    "    \"Cocos (Keeling) Islands\": \"Australia and Oceania\",\n",
    "    \"Switzerland\": \"Western Europe\",\n",
    "    \"Chile\": \"South America\",\n",
    "    \"China\": \"Northeastern Asia\",\n",
    "    \"Côte d'Ivoire\": \"Western Africa\",\n",
    "    \"Cameroon\": \"Central Africa\",\n",
    "    \"Congo, The Democratic Republic of the\": \"Central Africa\",\n",
    "    \"Congo\": \"Central Africa\",\n",
    "    \"Cook Islands\": \"Australia and Oceania\",\n",
    "    \"Colombia\": \"South America\",\n",
    "    \"Comoros\": \"Eastern Africa\",\n",
    "    \"Cabo Verde\": \"Western Africa\",\n",
    "    \"Costa Rica\": \"Central America\",\n",
    "    \"Cuba\": \"Caribbean\",\n",
    "    \"Curaçao\": \"Caribbean\",\n",
    "    \"Christmas Island\": \"Australia and Oceania\",\n",
    "    \"Cayman Islands\": \"Caribbean\",\n",
    "    \"Cyprus\": \"Middle East\",\n",
    "    \"Czechia\": \"Eastern Europe\",\n",
    "    \"Germany\": \"Western Europe\",\n",
    "    \"Djibouti\": \"Eastern Africa\",\n",
    "    \"Dominica\": \"Caribbean\",\n",
    "    \"Denmark\": \"Northern Europe\",\n",
    "    \"Dominican Republic\": \"Caribbean\",\n",
    "    \"Algeria\": \"Northern Africa\",\n",
    "    \"Ecuador\": \"South America\",\n",
    "    \"Egypt\": \"Middle East\",\n",
    "    \"Eritrea\": \"Eastern Africa\",\n",
    "    \"Western Sahara\": \"Northern Africa\",\n",
    "    \"Spain\": \"Southern Europe\",\n",
    "    \"Estonia\": \"Northern Europe\",\n",
    "    \"Ethiopia\": \"Eastern Africa\",\n",
    "    \"Finland\": \"Northern Europe\",\n",
    "    \"Fiji\": \"Australia and Oceania\",\n",
    "    \"Falkland Islands (Malvinas)\": \"South America\",\n",
    "    \"France\": \"Western Europe\",\n",
    "    \"Faroe Islands\": \"Northern Europe\",\n",
    "    \"Micronesia, Federated States of\": \"Australia and Oceania\",\n",
    "    \"Gabon\": \"Central Africa\",\n",
    "    \"United Kingdom\": \"Northern Europe\",\n",
    "    \"Georgia\": \"Central Asia\",\n",
    "    \"Guernsey\": \"Northern Europe\",\n",
    "    \"Ghana\": \"Western Africa\",\n",
    "    \"Gibraltar\": \"Southern Europe\",\n",
    "    \"Guinea\": \"Western Africa\",\n",
    "    \"Guadeloupe\": \"Caribbean\",\n",
    "    \"Gambia\": \"Western Africa\",\n",
    "    \"Guinea-Bissau\": \"Western Africa\",\n",
    "    \"Equatorial Guinea\": \"Central Africa\",\n",
    "    \"Greece\": \"Southern Europe\",\n",
    "    \"Grenada\": \"Caribbean\",\n",
    "    \"Greenland\": \"North America\",\n",
    "    \"Guatemala\": \"Central America\",\n",
    "    \"French Guiana\": \"South America\",\n",
    "    \"Guam\": \"Australia and Oceania\",\n",
    "    \"Guyana\": \"South America\",\n",
    "    \"Hong Kong\": \"Southeastern Asia\",\n",
    "    \"Heard Island and McDonald Islands\": \"Antarctica\",\n",
    "    \"Honduras\": \"Central America\",\n",
    "    \"Croatia\": \"Southern Europe\",\n",
    "    \"Haiti\": \"Caribbean\",\n",
    "    \"Hungary\": \"Eastern Europe\",\n",
    "    \"Indonesia\": \"Southeastern Asia\",\n",
    "    \"Isle of Man\": \"Northern Europe\",\n",
    "    \"India\": \"South Asia\",\n",
    "    \"British Indian Ocean Territory\": \"Asia\",\n",
    "    \"Ireland\": \"Northern Europe\",\n",
    "    \"Iran, Islamic Republic of\": \"Middle East\",\n",
    "    \"Iraq\": \"Middle East\",\n",
    "    \"Iceland\": \"Northern Europe\",\n",
    "    \"Israel\": \"Middle East\",\n",
    "    \"Italy\": \"Southern Europe\",\n",
    "    \"Jamaica\": \"Caribbean\",\n",
    "    \"Jersey\": \"Northern Europe\",\n",
    "    \"Jordan\": \"Middle East\",\n",
    "    \"Japan\": \"Northeastern Asia\",\n",
    "    \"Kazakhstan\": \"Central Asia\",\n",
    "    \"Kenya\": \"Eastern Africa\",\n",
    "    \"Kyrgyzstan\": \"Central Asia\",\n",
    "    \"Cambodia\": \"Southeastern Asia\",\n",
    "    \"Kiribati\": \"Australia and Oceania\",\n",
    "    \"Saint Kitts and Nevis\": \"Caribbean\",\n",
    "    \"Korea, Republic of\": \"Northeastern Asia\",\n",
    "    \"Kuwait\": \"Middle East\",\n",
    "    \"Lao People's Democratic Republic\": \"Southeastern Asia\",\n",
    "    \"Lebanon\": \"Middle East\",\n",
    "    \"Liberia\": \"Western Africa\",\n",
    "    \"Libya\": \"Northern Africa\",\n",
    "    \"Saint Lucia\": \"Caribbean\",\n",
    "    \"Liechtenstein\": \"Western Europe\",\n",
    "    \"Sri Lanka\": \"South Asia\",\n",
    "    \"Lesotho\": \"Southern Africa\",\n",
    "    \"Lithuania\": \"Northern Europe\",\n",
    "    \"Luxembourg\": \"Western Europe\",\n",
    "    \"Latvia\": \"Northern Europe\",\n",
    "    \"Macao\": \"Southeastern Asia\",\n",
    "    \"Saint Martin (French part)\": \"Caribbean\",\n",
    "    \"Morocco\": \"Northern Africa\",\n",
    "    \"Monaco\": \"Western Europe\",\n",
    "    \"Moldova, Republic of\": \"Eastern Europe\",\n",
    "    \"Madagascar\": \"Eastern Africa\",\n",
    "    \"Maldives\": \"South Asia\",\n",
    "    \"Mexico\": \"Central America\",\n",
    "    \"Marshall Islands\": \"Australia and Oceania\",\n",
    "    \"North Macedonia\": \"Southern Europe\",\n",
    "    \"Mali\": \"Western Africa\",\n",
    "    \"Malta\": \"Southern Europe\",\n",
    "    \"Myanmar\": \"Southeastern Asia\",\n",
    "    \"Montenegro\": \"Southern Europe\",\n",
    "    \"Mongolia\": \"Central Asia\",\n",
    "    \"Northern Mariana Islands\": \"Australia and Oceania\",\n",
    "    \"Mozambique\": \"Eastern Africa\",\n",
    "    \"Mauritania\": \"Western Africa\",\n",
    "    \"Montserrat\": \"Caribbean\",\n",
    "    \"Martinique\": \"Caribbean\",\n",
    "    \"Mauritius\": \"Eastern Africa\",\n",
    "    \"Malawi\": \"Eastern Africa\",\n",
    "    \"Malaysia\": \"Southeastern Asia\",\n",
    "    \"Mayotte\": \"Eastern Africa\",\n",
    "    \"Namibia\": \"Southern Africa\",\n",
    "    \"New Caledonia\": \"Australia and Oceania\",\n",
    "    \"Niger\": \"Western Africa\",\n",
    "    \"Norfolk Island\": \"Australia and Oceania\",\n",
    "    \"Nigeria\": \"Western Africa\",\n",
    "    \"Nicaragua\": \"Central America\",\n",
    "    \"Niue\": \"Australia and Oceania\",\n",
    "    \"Netherlands\": \"Western Europe\",\n",
    "    \"Norway\": \"Northern Europe\",\n",
    "    \"Nepal\": \"South Asia\",\n",
    "    \"Nauru\": \"Australia and Oceania\",\n",
    "    \"New Zealand\": \"Australia and Oceania\",\n",
    "    \"Oman\": \"Middle East\",\n",
    "    \"Pakistan\": \"South Asia\",\n",
    "    \"Panama\": \"Central America\",\n",
    "    \"Pitcairn\": \"Australia and Oceania\",\n",
    "    \"Peru\": \"South America\",\n",
    "    \"Philippines\": \"Southeastern Asia\",\n",
    "    \"Palau\": \"Australia and Oceania\",\n",
    "    \"Papua New Guinea\": \"Australia and Oceania\",\n",
    "    \"Poland\": \"Eastern Europe\",\n",
    "    \"Puerto Rico\": \"Caribbean\",\n",
    "    \"Korea, Democratic People's Republic of\": \"Northeastern Asia\",\n",
    "    \"Portugal\": \"Southern Europe\",\n",
    "    \"Paraguay\": \"South America\",\n",
    "    \"Palestine, State of\": \"Middle East\",\n",
    "    \"French Polynesia\": \"Australia and Oceania\",\n",
    "    \"Qatar\": \"Middle East\",\n",
    "    \"Réunion\": \"Eastern Africa\",\n",
    "    \"Romania\": \"Eastern Europe\",\n",
    "    \"Russian Federation\": \"Eastern Europe\",\n",
    "    \"Rwanda\": \"Eastern Africa\",\n",
    "    \"Saudi Arabia\": \"Middle East\",\n",
    "    \"Sudan\": \"Northern Africa\",\n",
    "    \"Senegal\": \"Western Africa\",\n",
    "    \"Singapore\": \"Southeastern Asia\",\n",
    "    \"South Georgia and the South Sandwich Islands\": \"South America\",\n",
    "    \"Saint Helena, Ascension and Tristan da Cunha\": \"Western Africa\",\n",
    "    \"Svalbard and Jan Mayen\": \"Northern Europe\",\n",
    "    \"Solomon Islands\": \"Australia and Oceania\",\n",
    "    \"Sierra Leone\": \"Western Africa\",\n",
    "    \"El Salvador\": \"Central America\",\n",
    "    \"San Marino\": \"Southern Europe\",\n",
    "    \"Somalia\": \"Eastern Africa\",\n",
    "    \"Saint Pierre and Miquelon\": \"North America\",\n",
    "    \"Serbia\": \"Southern Europe\",\n",
    "    \"South Sudan\": \"Eastern Africa\",\n",
    "    \"Sao Tome and Principe\": \"Western Africa\",\n",
    "    \"Suriname\": \"South America\",\n",
    "    \"Slovakia\": \"Eastern Europe\",\n",
    "    \"Slovenia\": \"Southern Europe\",\n",
    "    \"Sweden\": \"Northern Europe\",\n",
    "    \"Eswatini\": \"Southern Africa\",\n",
    "    \"Sint Maarten (Dutch part)\": \"Caribbean\",\n",
    "    \"Seychelles\": \"Eastern Africa\",\n",
    "    \"Syrian Arab Republic\": \"Middle East\",\n",
    "    \"Turks and Caicos Islands\": \"Caribbean\",\n",
    "    \"Chad\": \"Central Africa\",\n",
    "    \"Togo\": \"Western Africa\",\n",
    "    \"Thailand\": \"Southeastern Asia\",\n",
    "    \"Tajikistan\": \"Central Asia\",\n",
    "    \"Tokelau\": \"Australia and Oceania\",\n",
    "    \"Turkmenistan\": \"Central Asia\",\n",
    "    \"Timor-Leste\": \"Southeastern Asia\",\n",
    "    \"Tonga\": \"Australia and Oceania\",\n",
    "    \"Trinidad and Tobago\": \"Caribbean\",\n",
    "    \"Tunisia\": \"Northern Africa\",\n",
    "    \"Turkey\": \"Middle East\",\n",
    "    \"Tuvalu\": \"Australia and Oceania\",\n",
    "    \"Taiwan, Province of China\": \"Southeastern Asia\",\n",
    "    \"Tanzania, United Republic of\": \"Eastern Africa\",\n",
    "    \"Uganda\": \"Eastern Africa\",\n",
    "    \"Ukraine\": \"Eastern Europe\",\n",
    "    \"United States Minor Outlying Islands\": \"North America\",\n",
    "    \"Uruguay\": \"South America\",\n",
    "    \"United States\": \"North America\",\n",
    "    \"Uzbekistan\": \"Central Asia\",\n",
    "    \"Holy See (Vatican City State)\": \"Southern Europe\",\n",
    "    \"Saint Vincent and the Grenadines\": \"Caribbean\",\n",
    "    \"Venezuela, Bolivarian Republic of\": \"South America\",\n",
    "    \"Virgin Islands, British\": \"Caribbean\",\n",
    "    \"Virgin Islands, U.S.\": \"Caribbean\",\n",
    "    \"Viet Nam\": \"Southeastern Asia\",\n",
    "    \"Vanuatu\": \"Australia and Oceania\",\n",
    "    \"Wallis and Futuna\": \"Australia and Oceania\",\n",
    "    \"Samoa\": \"Australia and Oceania\",\n",
    "    \"Yemen\": \"Middle East\",\n",
    "    \"South Africa\": \"Southern Africa\",\n",
    "    \"Zambia\": \"Eastern Africa\",\n",
    "    \"Zimbabwe\": \"Southern Africa\"\n",
    "}\n"
   ]
  },
  {
   "cell_type": "code",
   "execution_count": 12,
   "id": "e0db60c1",
   "metadata": {},
   "outputs": [],
   "source": [
    "alt_names = {\n",
    "    'Bolivia, Plurinational State of': ['Bolivia'],\n",
    "    'Micronesia, Federated States of': ['Micronesia'],\n",
    "    'Iran, Islamic Republic of': ['Iran', 'Persia'],\n",
    "    'Korea, Democratic People\\'s Republic of': ['North Korea', 'DPRK'],\n",
    "    'Moldova, Republic of': ['Moldova'],\n",
    "    'Korea, Republic of': ['South Korea'],\n",
    "    'Lao People\\'s Democratic Republic': ['Laos'],\n",
    "    'Palestine, State of': ['Palestine'],\n",
    "    'Syrian Arab Republic': ['Syria'],\n",
    "    'Taiwan, Province of China': ['Taiwan', 'ROC'],\n",
    "    'Tanzania, United Republic of': ['Tanzania'],\n",
    "    'Venezuela, Bolivarian Republic of': ['Venezuela'],\n",
    "    'United States': ['USA', 'the U.S.', 'America', 'the United States of America'],\n",
    "    'United Kingdom': ['UK', 'Britain', 'Great Britain', 'England'],\n",
    "    'Netherlands': ['Holland'],\n",
    "    'Russian Federation': ['Russia'],\n",
    "    'China': ['People\\'s Republic of China', 'PRC'],\n",
    "    'Taiwan, Province of China': ['Taiwan'],\n",
    "}"
   ]
  },
  {
   "cell_type": "code",
   "execution_count": 13,
   "id": "06d5c2cc",
   "metadata": {},
   "outputs": [],
   "source": [
    "country_sentences = [\"Renowned for its diverse landscapes and rich cultural traditions, {country} significantly contributes to the global economy and international diplomacy.\",\n",
    "                     \"{country}, with its vibrant cultural history and varied geography, is a key player in worldwide economic activities and diplomatic endeavors.\",\n",
    "                     \"{country}, celebrated for its cultural richness and geographical diversity, has an impactful role in global commerce and international diplomatic affairs.\",\n",
    "                     \"Recognized for its diverse terrains and cultural wealth, {country} actively participates in global economic exchanges and diplomacy.\",\n",
    "                     \"Country {country}, distinguished by its cultural variety and broad-ranging landscapes, is an essential contributor to the international economy and diplomacy.\",\n",
    "                     \"{country}, known for its rich cultural heritage and diverse landscapes, plays a crucial role in the global community through its economic contributions and diplomatic relations.\"\n",
    "]"
   ]
  },
  {
   "cell_type": "code",
   "execution_count": 65,
   "id": "bbfd0c28",
   "metadata": {},
   "outputs": [],
   "source": [
    "region_colors = {\n",
    "    \"North America\": \"darkred\",\n",
    "    \"Central America\": \"brown\",\n",
    "    \"Caribbean\": \"firebrick\",\n",
    "    \"South America\": \"red\", #orangered\n",
    "    \"Western Africa\": \"limegreen\",\n",
    "    \"Eastern Africa\": \"darkgreen\",\n",
    "    \"Southern Africa\": \"green\",\n",
    "    \"Central Africa\": \"forestgreen\",\n",
    "    \"Northern Africa\": \"mediumaquamarine\",\n",
    "    \"Middle East\": \"skyblue\",\n",
    "    \"Central Asia\": \"lightsteelblue\",\n",
    "    \"South Asia\": \"midnightblue\",\n",
    "    \"Southeastern Asia\": \"blue\",\n",
    "    \"Northeastern Asia\": \"cyan\",\n",
    "    \"Northern Europe\": \"purple\",\n",
    "    \"Southern Europe\": \"violet\",\n",
    "    \"Eastern Europe\": \"indigo\",\n",
    "    \"Western Europe\": \"blueviolet\",\n",
    "    \"Australia and Oceania\": \"gold\",\n",
    "    \"Antarctica\": \"white\"\n",
    "}\n"
   ]
  },
  {
   "cell_type": "code",
   "execution_count": 94,
   "id": "2d5204fa",
   "metadata": {},
   "outputs": [],
   "source": [
    "sbert_model = SentenceTransformer(\"sentence-transformers/all-MiniLM-L12-v2\")\n",
    "\n"
   ]
  },
  {
   "cell_type": "code",
   "execution_count": 184,
   "id": "a7f7a358",
   "metadata": {},
   "outputs": [],
   "source": [
    "params = {\n",
    "    \"INCLUDE_COUNTRY_NAMES\": True,\n",
    "    \"INCLUDE_ABBREV\": False,\n",
    "    \"USE_IN_SENTENCE\": True,\n",
    "    \"INCLUDE_ALT_NAMES\": False,\n",
    "    \"USE_VAR_SENT\": False,\n",
    "}"
   ]
  },
  {
   "cell_type": "code",
   "execution_count": 190,
   "id": "43c1ffc3",
   "metadata": {},
   "outputs": [
    {
     "name": "stdout",
     "output_type": "stream",
     "text": [
      "Aruba, known for its rich cultural heritage and diverse landscapes, plays a crucial role in the global community through its economic contributions and diplomatic relations.\n",
      "Afghanistan, known for its rich cultural heritage and diverse landscapes, plays a crucial role in the global community through its economic contributions and diplomatic relations.\n",
      "Angola, known for its rich cultural heritage and diverse landscapes, plays a crucial role in the global community through its economic contributions and diplomatic relations.\n",
      "Anguilla, known for its rich cultural heritage and diverse landscapes, plays a crucial role in the global community through its economic contributions and diplomatic relations.\n",
      "Åland Islands, known for its rich cultural heritage and diverse landscapes, plays a crucial role in the global community through its economic contributions and diplomatic relations.\n",
      "Albania, known for its rich cultural heritage and diverse landscapes, plays a crucial role in the global community through its economic contributions and diplomatic relations.\n",
      "Andorra, known for its rich cultural heritage and diverse landscapes, plays a crucial role in the global community through its economic contributions and diplomatic relations.\n",
      "United Arab Emirates, known for its rich cultural heritage and diverse landscapes, plays a crucial role in the global community through its economic contributions and diplomatic relations.\n",
      "Argentina, known for its rich cultural heritage and diverse landscapes, plays a crucial role in the global community through its economic contributions and diplomatic relations.\n",
      "Armenia, known for its rich cultural heritage and diverse landscapes, plays a crucial role in the global community through its economic contributions and diplomatic relations.\n",
      "American Samoa, known for its rich cultural heritage and diverse landscapes, plays a crucial role in the global community through its economic contributions and diplomatic relations.\n",
      "Antarctica, known for its rich cultural heritage and diverse landscapes, plays a crucial role in the global community through its economic contributions and diplomatic relations.\n",
      "French Southern Territories, known for its rich cultural heritage and diverse landscapes, plays a crucial role in the global community through its economic contributions and diplomatic relations.\n",
      "Antigua and Barbuda, known for its rich cultural heritage and diverse landscapes, plays a crucial role in the global community through its economic contributions and diplomatic relations.\n",
      "Australia, known for its rich cultural heritage and diverse landscapes, plays a crucial role in the global community through its economic contributions and diplomatic relations.\n",
      "Austria, known for its rich cultural heritage and diverse landscapes, plays a crucial role in the global community through its economic contributions and diplomatic relations.\n",
      "Azerbaijan, known for its rich cultural heritage and diverse landscapes, plays a crucial role in the global community through its economic contributions and diplomatic relations.\n",
      "Burundi, known for its rich cultural heritage and diverse landscapes, plays a crucial role in the global community through its economic contributions and diplomatic relations.\n",
      "Belgium, known for its rich cultural heritage and diverse landscapes, plays a crucial role in the global community through its economic contributions and diplomatic relations.\n",
      "Benin, known for its rich cultural heritage and diverse landscapes, plays a crucial role in the global community through its economic contributions and diplomatic relations.\n",
      "Bonaire, Sint Eustatius and Saba, known for its rich cultural heritage and diverse landscapes, plays a crucial role in the global community through its economic contributions and diplomatic relations.\n",
      "Burkina Faso, known for its rich cultural heritage and diverse landscapes, plays a crucial role in the global community through its economic contributions and diplomatic relations.\n",
      "Bangladesh, known for its rich cultural heritage and diverse landscapes, plays a crucial role in the global community through its economic contributions and diplomatic relations.\n",
      "Bulgaria, known for its rich cultural heritage and diverse landscapes, plays a crucial role in the global community through its economic contributions and diplomatic relations.\n",
      "Bahrain, known for its rich cultural heritage and diverse landscapes, plays a crucial role in the global community through its economic contributions and diplomatic relations.\n",
      "Bahamas, known for its rich cultural heritage and diverse landscapes, plays a crucial role in the global community through its economic contributions and diplomatic relations.\n",
      "Bosnia and Herzegovina, known for its rich cultural heritage and diverse landscapes, plays a crucial role in the global community through its economic contributions and diplomatic relations.\n",
      "Saint Barthélemy, known for its rich cultural heritage and diverse landscapes, plays a crucial role in the global community through its economic contributions and diplomatic relations.\n",
      "Belarus, known for its rich cultural heritage and diverse landscapes, plays a crucial role in the global community through its economic contributions and diplomatic relations.\n",
      "Belize, known for its rich cultural heritage and diverse landscapes, plays a crucial role in the global community through its economic contributions and diplomatic relations.\n",
      "Bermuda, known for its rich cultural heritage and diverse landscapes, plays a crucial role in the global community through its economic contributions and diplomatic relations.\n",
      "Bolivia, Plurinational State of, known for its rich cultural heritage and diverse landscapes, plays a crucial role in the global community through its economic contributions and diplomatic relations.\n",
      "Brazil, known for its rich cultural heritage and diverse landscapes, plays a crucial role in the global community through its economic contributions and diplomatic relations.\n",
      "Barbados, known for its rich cultural heritage and diverse landscapes, plays a crucial role in the global community through its economic contributions and diplomatic relations.\n",
      "Brunei Darussalam, known for its rich cultural heritage and diverse landscapes, plays a crucial role in the global community through its economic contributions and diplomatic relations.\n",
      "Bhutan, known for its rich cultural heritage and diverse landscapes, plays a crucial role in the global community through its economic contributions and diplomatic relations.\n",
      "Bouvet Island, known for its rich cultural heritage and diverse landscapes, plays a crucial role in the global community through its economic contributions and diplomatic relations.\n",
      "Botswana, known for its rich cultural heritage and diverse landscapes, plays a crucial role in the global community through its economic contributions and diplomatic relations.\n",
      "Central African Republic, known for its rich cultural heritage and diverse landscapes, plays a crucial role in the global community through its economic contributions and diplomatic relations.\n",
      "Canada, known for its rich cultural heritage and diverse landscapes, plays a crucial role in the global community through its economic contributions and diplomatic relations.\n",
      "Cocos (Keeling) Islands, known for its rich cultural heritage and diverse landscapes, plays a crucial role in the global community through its economic contributions and diplomatic relations.\n",
      "Switzerland, known for its rich cultural heritage and diverse landscapes, plays a crucial role in the global community through its economic contributions and diplomatic relations.\n",
      "Chile, known for its rich cultural heritage and diverse landscapes, plays a crucial role in the global community through its economic contributions and diplomatic relations.\n",
      "China, known for its rich cultural heritage and diverse landscapes, plays a crucial role in the global community through its economic contributions and diplomatic relations.\n",
      "Côte d'Ivoire, known for its rich cultural heritage and diverse landscapes, plays a crucial role in the global community through its economic contributions and diplomatic relations.\n",
      "Cameroon, known for its rich cultural heritage and diverse landscapes, plays a crucial role in the global community through its economic contributions and diplomatic relations.\n",
      "Congo, The Democratic Republic of the, known for its rich cultural heritage and diverse landscapes, plays a crucial role in the global community through its economic contributions and diplomatic relations.\n",
      "Congo, known for its rich cultural heritage and diverse landscapes, plays a crucial role in the global community through its economic contributions and diplomatic relations.\n",
      "Cook Islands, known for its rich cultural heritage and diverse landscapes, plays a crucial role in the global community through its economic contributions and diplomatic relations.\n",
      "Colombia, known for its rich cultural heritage and diverse landscapes, plays a crucial role in the global community through its economic contributions and diplomatic relations.\n",
      "Comoros, known for its rich cultural heritage and diverse landscapes, plays a crucial role in the global community through its economic contributions and diplomatic relations.\n",
      "Cabo Verde, known for its rich cultural heritage and diverse landscapes, plays a crucial role in the global community through its economic contributions and diplomatic relations.\n",
      "Costa Rica, known for its rich cultural heritage and diverse landscapes, plays a crucial role in the global community through its economic contributions and diplomatic relations.\n",
      "Cuba, known for its rich cultural heritage and diverse landscapes, plays a crucial role in the global community through its economic contributions and diplomatic relations.\n"
     ]
    },
    {
     "name": "stdout",
     "output_type": "stream",
     "text": [
      "Curaçao, known for its rich cultural heritage and diverse landscapes, plays a crucial role in the global community through its economic contributions and diplomatic relations.\n",
      "Christmas Island, known for its rich cultural heritage and diverse landscapes, plays a crucial role in the global community through its economic contributions and diplomatic relations.\n",
      "Cayman Islands, known for its rich cultural heritage and diverse landscapes, plays a crucial role in the global community through its economic contributions and diplomatic relations.\n",
      "Cyprus, known for its rich cultural heritage and diverse landscapes, plays a crucial role in the global community through its economic contributions and diplomatic relations.\n",
      "Czechia, known for its rich cultural heritage and diverse landscapes, plays a crucial role in the global community through its economic contributions and diplomatic relations.\n",
      "Germany, known for its rich cultural heritage and diverse landscapes, plays a crucial role in the global community through its economic contributions and diplomatic relations.\n",
      "Djibouti, known for its rich cultural heritage and diverse landscapes, plays a crucial role in the global community through its economic contributions and diplomatic relations.\n",
      "Dominica, known for its rich cultural heritage and diverse landscapes, plays a crucial role in the global community through its economic contributions and diplomatic relations.\n",
      "Denmark, known for its rich cultural heritage and diverse landscapes, plays a crucial role in the global community through its economic contributions and diplomatic relations.\n",
      "Dominican Republic, known for its rich cultural heritage and diverse landscapes, plays a crucial role in the global community through its economic contributions and diplomatic relations.\n",
      "Algeria, known for its rich cultural heritage and diverse landscapes, plays a crucial role in the global community through its economic contributions and diplomatic relations.\n",
      "Ecuador, known for its rich cultural heritage and diverse landscapes, plays a crucial role in the global community through its economic contributions and diplomatic relations.\n",
      "Egypt, known for its rich cultural heritage and diverse landscapes, plays a crucial role in the global community through its economic contributions and diplomatic relations.\n",
      "Eritrea, known for its rich cultural heritage and diverse landscapes, plays a crucial role in the global community through its economic contributions and diplomatic relations.\n",
      "Western Sahara, known for its rich cultural heritage and diverse landscapes, plays a crucial role in the global community through its economic contributions and diplomatic relations.\n",
      "Spain, known for its rich cultural heritage and diverse landscapes, plays a crucial role in the global community through its economic contributions and diplomatic relations.\n",
      "Estonia, known for its rich cultural heritage and diverse landscapes, plays a crucial role in the global community through its economic contributions and diplomatic relations.\n",
      "Ethiopia, known for its rich cultural heritage and diverse landscapes, plays a crucial role in the global community through its economic contributions and diplomatic relations.\n",
      "Finland, known for its rich cultural heritage and diverse landscapes, plays a crucial role in the global community through its economic contributions and diplomatic relations.\n",
      "Fiji, known for its rich cultural heritage and diverse landscapes, plays a crucial role in the global community through its economic contributions and diplomatic relations.\n",
      "Falkland Islands (Malvinas), known for its rich cultural heritage and diverse landscapes, plays a crucial role in the global community through its economic contributions and diplomatic relations.\n",
      "France, known for its rich cultural heritage and diverse landscapes, plays a crucial role in the global community through its economic contributions and diplomatic relations.\n",
      "Faroe Islands, known for its rich cultural heritage and diverse landscapes, plays a crucial role in the global community through its economic contributions and diplomatic relations.\n",
      "Micronesia, Federated States of, known for its rich cultural heritage and diverse landscapes, plays a crucial role in the global community through its economic contributions and diplomatic relations.\n",
      "Gabon, known for its rich cultural heritage and diverse landscapes, plays a crucial role in the global community through its economic contributions and diplomatic relations.\n",
      "United Kingdom, known for its rich cultural heritage and diverse landscapes, plays a crucial role in the global community through its economic contributions and diplomatic relations.\n",
      "Georgia, known for its rich cultural heritage and diverse landscapes, plays a crucial role in the global community through its economic contributions and diplomatic relations.\n",
      "Guernsey, known for its rich cultural heritage and diverse landscapes, plays a crucial role in the global community through its economic contributions and diplomatic relations.\n",
      "Ghana, known for its rich cultural heritage and diverse landscapes, plays a crucial role in the global community through its economic contributions and diplomatic relations.\n",
      "Gibraltar, known for its rich cultural heritage and diverse landscapes, plays a crucial role in the global community through its economic contributions and diplomatic relations.\n",
      "Guinea, known for its rich cultural heritage and diverse landscapes, plays a crucial role in the global community through its economic contributions and diplomatic relations.\n",
      "Guadeloupe, known for its rich cultural heritage and diverse landscapes, plays a crucial role in the global community through its economic contributions and diplomatic relations.\n",
      "Gambia, known for its rich cultural heritage and diverse landscapes, plays a crucial role in the global community through its economic contributions and diplomatic relations.\n",
      "Guinea-Bissau, known for its rich cultural heritage and diverse landscapes, plays a crucial role in the global community through its economic contributions and diplomatic relations.\n",
      "Equatorial Guinea, known for its rich cultural heritage and diverse landscapes, plays a crucial role in the global community through its economic contributions and diplomatic relations.\n",
      "Greece, known for its rich cultural heritage and diverse landscapes, plays a crucial role in the global community through its economic contributions and diplomatic relations.\n",
      "Grenada, known for its rich cultural heritage and diverse landscapes, plays a crucial role in the global community through its economic contributions and diplomatic relations.\n",
      "Greenland, known for its rich cultural heritage and diverse landscapes, plays a crucial role in the global community through its economic contributions and diplomatic relations.\n",
      "Guatemala, known for its rich cultural heritage and diverse landscapes, plays a crucial role in the global community through its economic contributions and diplomatic relations.\n",
      "French Guiana, known for its rich cultural heritage and diverse landscapes, plays a crucial role in the global community through its economic contributions and diplomatic relations.\n",
      "Guam, known for its rich cultural heritage and diverse landscapes, plays a crucial role in the global community through its economic contributions and diplomatic relations.\n",
      "Guyana, known for its rich cultural heritage and diverse landscapes, plays a crucial role in the global community through its economic contributions and diplomatic relations.\n",
      "Hong Kong, known for its rich cultural heritage and diverse landscapes, plays a crucial role in the global community through its economic contributions and diplomatic relations.\n",
      "Heard Island and McDonald Islands, known for its rich cultural heritage and diverse landscapes, plays a crucial role in the global community through its economic contributions and diplomatic relations.\n",
      "Honduras, known for its rich cultural heritage and diverse landscapes, plays a crucial role in the global community through its economic contributions and diplomatic relations.\n",
      "Croatia, known for its rich cultural heritage and diverse landscapes, plays a crucial role in the global community through its economic contributions and diplomatic relations.\n",
      "Haiti, known for its rich cultural heritage and diverse landscapes, plays a crucial role in the global community through its economic contributions and diplomatic relations.\n",
      "Hungary, known for its rich cultural heritage and diverse landscapes, plays a crucial role in the global community through its economic contributions and diplomatic relations.\n",
      "Indonesia, known for its rich cultural heritage and diverse landscapes, plays a crucial role in the global community through its economic contributions and diplomatic relations.\n",
      "Isle of Man, known for its rich cultural heritage and diverse landscapes, plays a crucial role in the global community through its economic contributions and diplomatic relations.\n",
      "India, known for its rich cultural heritage and diverse landscapes, plays a crucial role in the global community through its economic contributions and diplomatic relations.\n",
      "British Indian Ocean Territory, known for its rich cultural heritage and diverse landscapes, plays a crucial role in the global community through its economic contributions and diplomatic relations.\n",
      "Ireland, known for its rich cultural heritage and diverse landscapes, plays a crucial role in the global community through its economic contributions and diplomatic relations.\n",
      "Iran, Islamic Republic of, known for its rich cultural heritage and diverse landscapes, plays a crucial role in the global community through its economic contributions and diplomatic relations.\n",
      "Iraq, known for its rich cultural heritage and diverse landscapes, plays a crucial role in the global community through its economic contributions and diplomatic relations.\n"
     ]
    },
    {
     "name": "stdout",
     "output_type": "stream",
     "text": [
      "Iceland, known for its rich cultural heritage and diverse landscapes, plays a crucial role in the global community through its economic contributions and diplomatic relations.\n",
      "Israel, known for its rich cultural heritage and diverse landscapes, plays a crucial role in the global community through its economic contributions and diplomatic relations.\n",
      "Italy, known for its rich cultural heritage and diverse landscapes, plays a crucial role in the global community through its economic contributions and diplomatic relations.\n",
      "Jamaica, known for its rich cultural heritage and diverse landscapes, plays a crucial role in the global community through its economic contributions and diplomatic relations.\n",
      "Jersey, known for its rich cultural heritage and diverse landscapes, plays a crucial role in the global community through its economic contributions and diplomatic relations.\n",
      "Jordan, known for its rich cultural heritage and diverse landscapes, plays a crucial role in the global community through its economic contributions and diplomatic relations.\n",
      "Japan, known for its rich cultural heritage and diverse landscapes, plays a crucial role in the global community through its economic contributions and diplomatic relations.\n",
      "Kazakhstan, known for its rich cultural heritage and diverse landscapes, plays a crucial role in the global community through its economic contributions and diplomatic relations.\n",
      "Kenya, known for its rich cultural heritage and diverse landscapes, plays a crucial role in the global community through its economic contributions and diplomatic relations.\n",
      "Kyrgyzstan, known for its rich cultural heritage and diverse landscapes, plays a crucial role in the global community through its economic contributions and diplomatic relations.\n",
      "Cambodia, known for its rich cultural heritage and diverse landscapes, plays a crucial role in the global community through its economic contributions and diplomatic relations.\n",
      "Kiribati, known for its rich cultural heritage and diverse landscapes, plays a crucial role in the global community through its economic contributions and diplomatic relations.\n",
      "Saint Kitts and Nevis, known for its rich cultural heritage and diverse landscapes, plays a crucial role in the global community through its economic contributions and diplomatic relations.\n",
      "Korea, Republic of, known for its rich cultural heritage and diverse landscapes, plays a crucial role in the global community through its economic contributions and diplomatic relations.\n",
      "Kuwait, known for its rich cultural heritage and diverse landscapes, plays a crucial role in the global community through its economic contributions and diplomatic relations.\n",
      "Lao People's Democratic Republic, known for its rich cultural heritage and diverse landscapes, plays a crucial role in the global community through its economic contributions and diplomatic relations.\n",
      "Lebanon, known for its rich cultural heritage and diverse landscapes, plays a crucial role in the global community through its economic contributions and diplomatic relations.\n",
      "Liberia, known for its rich cultural heritage and diverse landscapes, plays a crucial role in the global community through its economic contributions and diplomatic relations.\n",
      "Libya, known for its rich cultural heritage and diverse landscapes, plays a crucial role in the global community through its economic contributions and diplomatic relations.\n",
      "Saint Lucia, known for its rich cultural heritage and diverse landscapes, plays a crucial role in the global community through its economic contributions and diplomatic relations.\n",
      "Liechtenstein, known for its rich cultural heritage and diverse landscapes, plays a crucial role in the global community through its economic contributions and diplomatic relations.\n",
      "Sri Lanka, known for its rich cultural heritage and diverse landscapes, plays a crucial role in the global community through its economic contributions and diplomatic relations.\n",
      "Lesotho, known for its rich cultural heritage and diverse landscapes, plays a crucial role in the global community through its economic contributions and diplomatic relations.\n",
      "Lithuania, known for its rich cultural heritage and diverse landscapes, plays a crucial role in the global community through its economic contributions and diplomatic relations.\n",
      "Luxembourg, known for its rich cultural heritage and diverse landscapes, plays a crucial role in the global community through its economic contributions and diplomatic relations.\n",
      "Latvia, known for its rich cultural heritage and diverse landscapes, plays a crucial role in the global community through its economic contributions and diplomatic relations.\n",
      "Macao, known for its rich cultural heritage and diverse landscapes, plays a crucial role in the global community through its economic contributions and diplomatic relations.\n",
      "Saint Martin (French part), known for its rich cultural heritage and diverse landscapes, plays a crucial role in the global community through its economic contributions and diplomatic relations.\n",
      "Morocco, known for its rich cultural heritage and diverse landscapes, plays a crucial role in the global community through its economic contributions and diplomatic relations.\n",
      "Monaco, known for its rich cultural heritage and diverse landscapes, plays a crucial role in the global community through its economic contributions and diplomatic relations.\n",
      "Moldova, Republic of, known for its rich cultural heritage and diverse landscapes, plays a crucial role in the global community through its economic contributions and diplomatic relations.\n",
      "Madagascar, known for its rich cultural heritage and diverse landscapes, plays a crucial role in the global community through its economic contributions and diplomatic relations.\n",
      "Maldives, known for its rich cultural heritage and diverse landscapes, plays a crucial role in the global community through its economic contributions and diplomatic relations.\n",
      "Mexico, known for its rich cultural heritage and diverse landscapes, plays a crucial role in the global community through its economic contributions and diplomatic relations.\n",
      "Marshall Islands, known for its rich cultural heritage and diverse landscapes, plays a crucial role in the global community through its economic contributions and diplomatic relations.\n",
      "North Macedonia, known for its rich cultural heritage and diverse landscapes, plays a crucial role in the global community through its economic contributions and diplomatic relations.\n",
      "Mali, known for its rich cultural heritage and diverse landscapes, plays a crucial role in the global community through its economic contributions and diplomatic relations.\n",
      "Malta, known for its rich cultural heritage and diverse landscapes, plays a crucial role in the global community through its economic contributions and diplomatic relations.\n",
      "Myanmar, known for its rich cultural heritage and diverse landscapes, plays a crucial role in the global community through its economic contributions and diplomatic relations.\n",
      "Montenegro, known for its rich cultural heritage and diverse landscapes, plays a crucial role in the global community through its economic contributions and diplomatic relations.\n",
      "Mongolia, known for its rich cultural heritage and diverse landscapes, plays a crucial role in the global community through its economic contributions and diplomatic relations.\n",
      "Northern Mariana Islands, known for its rich cultural heritage and diverse landscapes, plays a crucial role in the global community through its economic contributions and diplomatic relations.\n",
      "Mozambique, known for its rich cultural heritage and diverse landscapes, plays a crucial role in the global community through its economic contributions and diplomatic relations.\n",
      "Mauritania, known for its rich cultural heritage and diverse landscapes, plays a crucial role in the global community through its economic contributions and diplomatic relations.\n",
      "Montserrat, known for its rich cultural heritage and diverse landscapes, plays a crucial role in the global community through its economic contributions and diplomatic relations.\n",
      "Martinique, known for its rich cultural heritage and diverse landscapes, plays a crucial role in the global community through its economic contributions and diplomatic relations.\n",
      "Mauritius, known for its rich cultural heritage and diverse landscapes, plays a crucial role in the global community through its economic contributions and diplomatic relations.\n",
      "Malawi, known for its rich cultural heritage and diverse landscapes, plays a crucial role in the global community through its economic contributions and diplomatic relations.\n",
      "Malaysia, known for its rich cultural heritage and diverse landscapes, plays a crucial role in the global community through its economic contributions and diplomatic relations.\n",
      "Mayotte, known for its rich cultural heritage and diverse landscapes, plays a crucial role in the global community through its economic contributions and diplomatic relations.\n",
      "Namibia, known for its rich cultural heritage and diverse landscapes, plays a crucial role in the global community through its economic contributions and diplomatic relations.\n",
      "New Caledonia, known for its rich cultural heritage and diverse landscapes, plays a crucial role in the global community through its economic contributions and diplomatic relations.\n",
      "Niger, known for its rich cultural heritage and diverse landscapes, plays a crucial role in the global community through its economic contributions and diplomatic relations.\n",
      "Norfolk Island, known for its rich cultural heritage and diverse landscapes, plays a crucial role in the global community through its economic contributions and diplomatic relations.\n",
      "Nigeria, known for its rich cultural heritage and diverse landscapes, plays a crucial role in the global community through its economic contributions and diplomatic relations.\n",
      "Nicaragua, known for its rich cultural heritage and diverse landscapes, plays a crucial role in the global community through its economic contributions and diplomatic relations.\n"
     ]
    },
    {
     "name": "stdout",
     "output_type": "stream",
     "text": [
      "Niue, known for its rich cultural heritage and diverse landscapes, plays a crucial role in the global community through its economic contributions and diplomatic relations.\n",
      "Netherlands, known for its rich cultural heritage and diverse landscapes, plays a crucial role in the global community through its economic contributions and diplomatic relations.\n",
      "Norway, known for its rich cultural heritage and diverse landscapes, plays a crucial role in the global community through its economic contributions and diplomatic relations.\n",
      "Nepal, known for its rich cultural heritage and diverse landscapes, plays a crucial role in the global community through its economic contributions and diplomatic relations.\n",
      "Nauru, known for its rich cultural heritage and diverse landscapes, plays a crucial role in the global community through its economic contributions and diplomatic relations.\n",
      "New Zealand, known for its rich cultural heritage and diverse landscapes, plays a crucial role in the global community through its economic contributions and diplomatic relations.\n",
      "Oman, known for its rich cultural heritage and diverse landscapes, plays a crucial role in the global community through its economic contributions and diplomatic relations.\n",
      "Pakistan, known for its rich cultural heritage and diverse landscapes, plays a crucial role in the global community through its economic contributions and diplomatic relations.\n",
      "Panama, known for its rich cultural heritage and diverse landscapes, plays a crucial role in the global community through its economic contributions and diplomatic relations.\n",
      "Pitcairn, known for its rich cultural heritage and diverse landscapes, plays a crucial role in the global community through its economic contributions and diplomatic relations.\n",
      "Peru, known for its rich cultural heritage and diverse landscapes, plays a crucial role in the global community through its economic contributions and diplomatic relations.\n",
      "Philippines, known for its rich cultural heritage and diverse landscapes, plays a crucial role in the global community through its economic contributions and diplomatic relations.\n",
      "Palau, known for its rich cultural heritage and diverse landscapes, plays a crucial role in the global community through its economic contributions and diplomatic relations.\n",
      "Papua New Guinea, known for its rich cultural heritage and diverse landscapes, plays a crucial role in the global community through its economic contributions and diplomatic relations.\n",
      "Poland, known for its rich cultural heritage and diverse landscapes, plays a crucial role in the global community through its economic contributions and diplomatic relations.\n",
      "Puerto Rico, known for its rich cultural heritage and diverse landscapes, plays a crucial role in the global community through its economic contributions and diplomatic relations.\n",
      "Korea, Democratic People's Republic of, known for its rich cultural heritage and diverse landscapes, plays a crucial role in the global community through its economic contributions and diplomatic relations.\n",
      "Portugal, known for its rich cultural heritage and diverse landscapes, plays a crucial role in the global community through its economic contributions and diplomatic relations.\n",
      "Paraguay, known for its rich cultural heritage and diverse landscapes, plays a crucial role in the global community through its economic contributions and diplomatic relations.\n",
      "Palestine, State of, known for its rich cultural heritage and diverse landscapes, plays a crucial role in the global community through its economic contributions and diplomatic relations.\n",
      "French Polynesia, known for its rich cultural heritage and diverse landscapes, plays a crucial role in the global community through its economic contributions and diplomatic relations.\n",
      "Qatar, known for its rich cultural heritage and diverse landscapes, plays a crucial role in the global community through its economic contributions and diplomatic relations.\n",
      "Réunion, known for its rich cultural heritage and diverse landscapes, plays a crucial role in the global community through its economic contributions and diplomatic relations.\n",
      "Romania, known for its rich cultural heritage and diverse landscapes, plays a crucial role in the global community through its economic contributions and diplomatic relations.\n",
      "Russian Federation, known for its rich cultural heritage and diverse landscapes, plays a crucial role in the global community through its economic contributions and diplomatic relations.\n",
      "Rwanda, known for its rich cultural heritage and diverse landscapes, plays a crucial role in the global community through its economic contributions and diplomatic relations.\n",
      "Saudi Arabia, known for its rich cultural heritage and diverse landscapes, plays a crucial role in the global community through its economic contributions and diplomatic relations.\n",
      "Sudan, known for its rich cultural heritage and diverse landscapes, plays a crucial role in the global community through its economic contributions and diplomatic relations.\n",
      "Senegal, known for its rich cultural heritage and diverse landscapes, plays a crucial role in the global community through its economic contributions and diplomatic relations.\n",
      "Singapore, known for its rich cultural heritage and diverse landscapes, plays a crucial role in the global community through its economic contributions and diplomatic relations.\n",
      "South Georgia and the South Sandwich Islands, known for its rich cultural heritage and diverse landscapes, plays a crucial role in the global community through its economic contributions and diplomatic relations.\n",
      "Saint Helena, Ascension and Tristan da Cunha, known for its rich cultural heritage and diverse landscapes, plays a crucial role in the global community through its economic contributions and diplomatic relations.\n",
      "Svalbard and Jan Mayen, known for its rich cultural heritage and diverse landscapes, plays a crucial role in the global community through its economic contributions and diplomatic relations.\n",
      "Solomon Islands, known for its rich cultural heritage and diverse landscapes, plays a crucial role in the global community through its economic contributions and diplomatic relations.\n",
      "Sierra Leone, known for its rich cultural heritage and diverse landscapes, plays a crucial role in the global community through its economic contributions and diplomatic relations.\n",
      "El Salvador, known for its rich cultural heritage and diverse landscapes, plays a crucial role in the global community through its economic contributions and diplomatic relations.\n",
      "San Marino, known for its rich cultural heritage and diverse landscapes, plays a crucial role in the global community through its economic contributions and diplomatic relations.\n",
      "Somalia, known for its rich cultural heritage and diverse landscapes, plays a crucial role in the global community through its economic contributions and diplomatic relations.\n",
      "Saint Pierre and Miquelon, known for its rich cultural heritage and diverse landscapes, plays a crucial role in the global community through its economic contributions and diplomatic relations.\n",
      "Serbia, known for its rich cultural heritage and diverse landscapes, plays a crucial role in the global community through its economic contributions and diplomatic relations.\n",
      "South Sudan, known for its rich cultural heritage and diverse landscapes, plays a crucial role in the global community through its economic contributions and diplomatic relations.\n",
      "Sao Tome and Principe, known for its rich cultural heritage and diverse landscapes, plays a crucial role in the global community through its economic contributions and diplomatic relations.\n",
      "Suriname, known for its rich cultural heritage and diverse landscapes, plays a crucial role in the global community through its economic contributions and diplomatic relations.\n",
      "Slovakia, known for its rich cultural heritage and diverse landscapes, plays a crucial role in the global community through its economic contributions and diplomatic relations.\n",
      "Slovenia, known for its rich cultural heritage and diverse landscapes, plays a crucial role in the global community through its economic contributions and diplomatic relations.\n",
      "Sweden, known for its rich cultural heritage and diverse landscapes, plays a crucial role in the global community through its economic contributions and diplomatic relations.\n",
      "Eswatini, known for its rich cultural heritage and diverse landscapes, plays a crucial role in the global community through its economic contributions and diplomatic relations.\n",
      "Sint Maarten (Dutch part), known for its rich cultural heritage and diverse landscapes, plays a crucial role in the global community through its economic contributions and diplomatic relations.\n",
      "Seychelles, known for its rich cultural heritage and diverse landscapes, plays a crucial role in the global community through its economic contributions and diplomatic relations.\n",
      "Syrian Arab Republic, known for its rich cultural heritage and diverse landscapes, plays a crucial role in the global community through its economic contributions and diplomatic relations.\n",
      "Turks and Caicos Islands, known for its rich cultural heritage and diverse landscapes, plays a crucial role in the global community through its economic contributions and diplomatic relations.\n",
      "Chad, known for its rich cultural heritage and diverse landscapes, plays a crucial role in the global community through its economic contributions and diplomatic relations.\n",
      "Togo, known for its rich cultural heritage and diverse landscapes, plays a crucial role in the global community through its economic contributions and diplomatic relations.\n",
      "Thailand, known for its rich cultural heritage and diverse landscapes, plays a crucial role in the global community through its economic contributions and diplomatic relations.\n",
      "Tajikistan, known for its rich cultural heritage and diverse landscapes, plays a crucial role in the global community through its economic contributions and diplomatic relations.\n",
      "Tokelau, known for its rich cultural heritage and diverse landscapes, plays a crucial role in the global community through its economic contributions and diplomatic relations.\n"
     ]
    },
    {
     "name": "stdout",
     "output_type": "stream",
     "text": [
      "Turkmenistan, known for its rich cultural heritage and diverse landscapes, plays a crucial role in the global community through its economic contributions and diplomatic relations.\n",
      "Timor-Leste, known for its rich cultural heritage and diverse landscapes, plays a crucial role in the global community through its economic contributions and diplomatic relations.\n",
      "Tonga, known for its rich cultural heritage and diverse landscapes, plays a crucial role in the global community through its economic contributions and diplomatic relations.\n",
      "Trinidad and Tobago, known for its rich cultural heritage and diverse landscapes, plays a crucial role in the global community through its economic contributions and diplomatic relations.\n",
      "Tunisia, known for its rich cultural heritage and diverse landscapes, plays a crucial role in the global community through its economic contributions and diplomatic relations.\n",
      "Turkey, known for its rich cultural heritage and diverse landscapes, plays a crucial role in the global community through its economic contributions and diplomatic relations.\n",
      "Tuvalu, known for its rich cultural heritage and diverse landscapes, plays a crucial role in the global community through its economic contributions and diplomatic relations.\n",
      "Taiwan, Province of China, known for its rich cultural heritage and diverse landscapes, plays a crucial role in the global community through its economic contributions and diplomatic relations.\n",
      "Tanzania, United Republic of, known for its rich cultural heritage and diverse landscapes, plays a crucial role in the global community through its economic contributions and diplomatic relations.\n",
      "Uganda, known for its rich cultural heritage and diverse landscapes, plays a crucial role in the global community through its economic contributions and diplomatic relations.\n",
      "Ukraine, known for its rich cultural heritage and diverse landscapes, plays a crucial role in the global community through its economic contributions and diplomatic relations.\n",
      "United States Minor Outlying Islands, known for its rich cultural heritage and diverse landscapes, plays a crucial role in the global community through its economic contributions and diplomatic relations.\n",
      "Uruguay, known for its rich cultural heritage and diverse landscapes, plays a crucial role in the global community through its economic contributions and diplomatic relations.\n",
      "United States, known for its rich cultural heritage and diverse landscapes, plays a crucial role in the global community through its economic contributions and diplomatic relations.\n",
      "Uzbekistan, known for its rich cultural heritage and diverse landscapes, plays a crucial role in the global community through its economic contributions and diplomatic relations.\n",
      "Holy See (Vatican City State), known for its rich cultural heritage and diverse landscapes, plays a crucial role in the global community through its economic contributions and diplomatic relations.\n",
      "Saint Vincent and the Grenadines, known for its rich cultural heritage and diverse landscapes, plays a crucial role in the global community through its economic contributions and diplomatic relations.\n",
      "Venezuela, Bolivarian Republic of, known for its rich cultural heritage and diverse landscapes, plays a crucial role in the global community through its economic contributions and diplomatic relations.\n",
      "Virgin Islands, British, known for its rich cultural heritage and diverse landscapes, plays a crucial role in the global community through its economic contributions and diplomatic relations.\n",
      "Virgin Islands, U.S., known for its rich cultural heritage and diverse landscapes, plays a crucial role in the global community through its economic contributions and diplomatic relations.\n",
      "Viet Nam, known for its rich cultural heritage and diverse landscapes, plays a crucial role in the global community through its economic contributions and diplomatic relations.\n",
      "Vanuatu, known for its rich cultural heritage and diverse landscapes, plays a crucial role in the global community through its economic contributions and diplomatic relations.\n",
      "Wallis and Futuna, known for its rich cultural heritage and diverse landscapes, plays a crucial role in the global community through its economic contributions and diplomatic relations.\n",
      "Samoa, known for its rich cultural heritage and diverse landscapes, plays a crucial role in the global community through its economic contributions and diplomatic relations.\n",
      "Yemen, known for its rich cultural heritage and diverse landscapes, plays a crucial role in the global community through its economic contributions and diplomatic relations.\n",
      "South Africa, known for its rich cultural heritage and diverse landscapes, plays a crucial role in the global community through its economic contributions and diplomatic relations.\n",
      "Zambia, known for its rich cultural heritage and diverse landscapes, plays a crucial role in the global community through its economic contributions and diplomatic relations.\n",
      "Zimbabwe, known for its rich cultural heritage and diverse landscapes, plays a crucial role in the global community through its economic contributions and diplomatic relations.\n"
     ]
    }
   ],
   "source": [
    "import umap\n",
    "import plotly.graph_objects as go\n",
    "from sklearn.preprocessing import StandardScaler\n",
    "\n",
    "code_to_country = {}\n",
    "\n",
    "def create_embeddings(embedding_string):\n",
    "    country_sentence = random.choice(country_sentences) if params[\"USE_VAR_SENT\"] else country_sentences[-1]\n",
    "    key = country_sentence.format(country=embedding_string) if params[\"USE_IN_SENTENCE\"] else embedding_string\n",
    "    print(key)\n",
    "    return sbert_model.encode(key)\n",
    "\n",
    "def add_embedding_col(row):\n",
    "    if params[\"INCLUDE_COUNTRY_NAMES\"]:\n",
    "        return create_embeddings(row['country'])\n",
    "    if params[\"INCLUDE_ALT_NAMES\"] and row['country'] in alt_names:\n",
    "        for alt_country_name in alt_names[row['country']]:\n",
    "            return create_embeddings(alt_country_name)\n",
    "    if params[\"INCLUDE_ABBREV\"]:\n",
    "        return create_embeddings(row['abb'])\n",
    "    return np.nan\n",
    "\n",
    "def full_country_code_map():\n",
    "    print(row)\n",
    "    organizations = {'EU': 'European Union'}\n",
    "    for country in pycountry.countries:\n",
    "        add_embedding_col(country)\n",
    "#     for org_abbreviation in organizations.keys():\n",
    "#         country_sentence = random.choice(country_sentences) if params[\"USE_VAR_SENT\"] else country_sentences[-1]\n",
    "#         key = country_sentence.format(country=organizations[org_abbreviation]) if params[\"USE_IN_SENTENCE\"] else organizations[org_abbreviation]\n",
    "#         code_to_country[key] = sbert_model.encode(key)\n",
    "#         if params[\"INCLUDE_ABBREV\"]:\n",
    "#             key = country_sentence.format(country=org_abbreviation) if params[\"USE_IN_SENTENCE\"] else org_abbreviation\n",
    "#             code_to_country[key] = sbert_model.encode(key)\n",
    "    return code_to_country\n",
    "\n",
    "country_names = [country.name for country in pycountry.countries]\n",
    "country_abbreviations = [country.alpha_2 for country in pycountry.countries]\n",
    "\n",
    "df = pd.DataFrame({'country': country_names, 'abb': country_abbreviations})\n",
    "df['region'] = df['country'].map(country_regions)\n",
    "df['embedding'] = df.apply(lambda row: add_embedding_col(row), axis=1)\n",
    "\n",
    "# full_code_map = full_country_code_map()\n",
    "# basic_map = full_country_code_map()\n",
    "\n",
    "# # Assuming code_map is your dictionary with keys being tooltip values and values being embeddings\n",
    "# keys = list(full_code_map.keys())\n",
    "values = np.array(list(df['embedding']))\n",
    "\n",
    "# Scale the features to have mean=0 and variance=1\n",
    "scaler = StandardScaler()\n",
    "scaled_values = scaler.fit_transform(values)\n",
    "\n",
    "# Reduce dimensions\n",
    "reducer = umap.UMAP(random_state=42)\n",
    "df[['x', 'y']] = reducer.fit_transform(scaled_values)"
   ]
  },
  {
   "cell_type": "code",
   "execution_count": 191,
   "id": "804d0e99",
   "metadata": {},
   "outputs": [
    {
     "data": {
      "text/html": [
       "<div>\n",
       "<style scoped>\n",
       "    .dataframe tbody tr th:only-of-type {\n",
       "        vertical-align: middle;\n",
       "    }\n",
       "\n",
       "    .dataframe tbody tr th {\n",
       "        vertical-align: top;\n",
       "    }\n",
       "\n",
       "    .dataframe thead th {\n",
       "        text-align: right;\n",
       "    }\n",
       "</style>\n",
       "<table border=\"1\" class=\"dataframe\">\n",
       "  <thead>\n",
       "    <tr style=\"text-align: right;\">\n",
       "      <th></th>\n",
       "      <th>country_1</th>\n",
       "      <th>abb_1</th>\n",
       "      <th>region_1</th>\n",
       "      <th>embedding_1</th>\n",
       "      <th>x_1</th>\n",
       "      <th>y_1</th>\n",
       "      <th>country_2</th>\n",
       "      <th>abb_2</th>\n",
       "      <th>region_2</th>\n",
       "      <th>embedding_2</th>\n",
       "      <th>x_2</th>\n",
       "      <th>y_2</th>\n",
       "    </tr>\n",
       "  </thead>\n",
       "  <tbody>\n",
       "    <tr>\n",
       "      <th>0</th>\n",
       "      <td>Aruba</td>\n",
       "      <td>AW</td>\n",
       "      <td>Caribbean</td>\n",
       "      <td>[-0.004982155, -0.004734951, 0.017782265, 0.00...</td>\n",
       "      <td>10.614923</td>\n",
       "      <td>16.355629</td>\n",
       "      <td>Afghanistan</td>\n",
       "      <td>AF</td>\n",
       "      <td>Central Asia</td>\n",
       "      <td>[-0.015105826, 0.044424586, 0.06507098, -0.020...</td>\n",
       "      <td>7.414345</td>\n",
       "      <td>16.946173</td>\n",
       "    </tr>\n",
       "    <tr>\n",
       "      <th>1</th>\n",
       "      <td>Aruba</td>\n",
       "      <td>AW</td>\n",
       "      <td>Caribbean</td>\n",
       "      <td>[-0.004982155, -0.004734951, 0.017782265, 0.00...</td>\n",
       "      <td>10.614923</td>\n",
       "      <td>16.355629</td>\n",
       "      <td>Angola</td>\n",
       "      <td>AO</td>\n",
       "      <td>Southern Africa</td>\n",
       "      <td>[-0.056833033, 0.031061675, 0.011969242, 0.001...</td>\n",
       "      <td>11.469713</td>\n",
       "      <td>17.676466</td>\n",
       "    </tr>\n",
       "    <tr>\n",
       "      <th>2</th>\n",
       "      <td>Aruba</td>\n",
       "      <td>AW</td>\n",
       "      <td>Caribbean</td>\n",
       "      <td>[-0.004982155, -0.004734951, 0.017782265, 0.00...</td>\n",
       "      <td>10.614923</td>\n",
       "      <td>16.355629</td>\n",
       "      <td>Anguilla</td>\n",
       "      <td>AI</td>\n",
       "      <td>Caribbean</td>\n",
       "      <td>[-0.0017360091, 0.007885989, -0.0054523596, -0...</td>\n",
       "      <td>9.587366</td>\n",
       "      <td>16.455708</td>\n",
       "    </tr>\n",
       "    <tr>\n",
       "      <th>3</th>\n",
       "      <td>Aruba</td>\n",
       "      <td>AW</td>\n",
       "      <td>Caribbean</td>\n",
       "      <td>[-0.004982155, -0.004734951, 0.017782265, 0.00...</td>\n",
       "      <td>10.614923</td>\n",
       "      <td>16.355629</td>\n",
       "      <td>Åland Islands</td>\n",
       "      <td>AX</td>\n",
       "      <td>Northern Europe</td>\n",
       "      <td>[0.023250932, -0.0011745989, 0.087990366, -0.0...</td>\n",
       "      <td>9.973738</td>\n",
       "      <td>13.486279</td>\n",
       "    </tr>\n",
       "    <tr>\n",
       "      <th>4</th>\n",
       "      <td>Aruba</td>\n",
       "      <td>AW</td>\n",
       "      <td>Caribbean</td>\n",
       "      <td>[-0.004982155, -0.004734951, 0.017782265, 0.00...</td>\n",
       "      <td>10.614923</td>\n",
       "      <td>16.355629</td>\n",
       "      <td>Albania</td>\n",
       "      <td>AL</td>\n",
       "      <td>Southern Europe</td>\n",
       "      <td>[-0.014711495, 0.041718543, 0.04756414, 0.0072...</td>\n",
       "      <td>7.067043</td>\n",
       "      <td>15.987216</td>\n",
       "    </tr>\n",
       "    <tr>\n",
       "      <th>...</th>\n",
       "      <td>...</td>\n",
       "      <td>...</td>\n",
       "      <td>...</td>\n",
       "      <td>...</td>\n",
       "      <td>...</td>\n",
       "      <td>...</td>\n",
       "      <td>...</td>\n",
       "      <td>...</td>\n",
       "      <td>...</td>\n",
       "      <td>...</td>\n",
       "      <td>...</td>\n",
       "      <td>...</td>\n",
       "    </tr>\n",
       "    <tr>\n",
       "      <th>30871</th>\n",
       "      <td>Yemen</td>\n",
       "      <td>YE</td>\n",
       "      <td>Middle East</td>\n",
       "      <td>[-0.019505518, 0.07125144, 0.06284102, -0.0599...</td>\n",
       "      <td>8.727551</td>\n",
       "      <td>18.426491</td>\n",
       "      <td>Zambia</td>\n",
       "      <td>ZM</td>\n",
       "      <td>Eastern Africa</td>\n",
       "      <td>[-0.012925643, 0.03482782, 0.0037540395, -0.04...</td>\n",
       "      <td>11.166730</td>\n",
       "      <td>17.311157</td>\n",
       "    </tr>\n",
       "    <tr>\n",
       "      <th>30872</th>\n",
       "      <td>Yemen</td>\n",
       "      <td>YE</td>\n",
       "      <td>Middle East</td>\n",
       "      <td>[-0.019505518, 0.07125144, 0.06284102, -0.0599...</td>\n",
       "      <td>8.727551</td>\n",
       "      <td>18.426491</td>\n",
       "      <td>Zimbabwe</td>\n",
       "      <td>ZW</td>\n",
       "      <td>Southern Africa</td>\n",
       "      <td>[-0.019231657, 0.03865679, 0.011267242, 0.0024...</td>\n",
       "      <td>10.977914</td>\n",
       "      <td>17.276011</td>\n",
       "    </tr>\n",
       "    <tr>\n",
       "      <th>30873</th>\n",
       "      <td>South Africa</td>\n",
       "      <td>ZA</td>\n",
       "      <td>Southern Africa</td>\n",
       "      <td>[-0.027318928, 0.020004649, 0.033093072, -0.04...</td>\n",
       "      <td>10.529353</td>\n",
       "      <td>17.732040</td>\n",
       "      <td>Zambia</td>\n",
       "      <td>ZM</td>\n",
       "      <td>Eastern Africa</td>\n",
       "      <td>[-0.012925643, 0.03482782, 0.0037540395, -0.04...</td>\n",
       "      <td>11.166730</td>\n",
       "      <td>17.311157</td>\n",
       "    </tr>\n",
       "    <tr>\n",
       "      <th>30874</th>\n",
       "      <td>South Africa</td>\n",
       "      <td>ZA</td>\n",
       "      <td>Southern Africa</td>\n",
       "      <td>[-0.027318928, 0.020004649, 0.033093072, -0.04...</td>\n",
       "      <td>10.529353</td>\n",
       "      <td>17.732040</td>\n",
       "      <td>Zimbabwe</td>\n",
       "      <td>ZW</td>\n",
       "      <td>Southern Africa</td>\n",
       "      <td>[-0.019231657, 0.03865679, 0.011267242, 0.0024...</td>\n",
       "      <td>10.977914</td>\n",
       "      <td>17.276011</td>\n",
       "    </tr>\n",
       "    <tr>\n",
       "      <th>30875</th>\n",
       "      <td>Zambia</td>\n",
       "      <td>ZM</td>\n",
       "      <td>Eastern Africa</td>\n",
       "      <td>[-0.012925643, 0.03482782, 0.0037540395, -0.04...</td>\n",
       "      <td>11.166730</td>\n",
       "      <td>17.311157</td>\n",
       "      <td>Zimbabwe</td>\n",
       "      <td>ZW</td>\n",
       "      <td>Southern Africa</td>\n",
       "      <td>[-0.019231657, 0.03865679, 0.011267242, 0.0024...</td>\n",
       "      <td>10.977914</td>\n",
       "      <td>17.276011</td>\n",
       "    </tr>\n",
       "  </tbody>\n",
       "</table>\n",
       "<p>30876 rows × 12 columns</p>\n",
       "</div>"
      ],
      "text/plain": [
       "          country_1 abb_1         region_1   \n",
       "0             Aruba    AW        Caribbean  \\\n",
       "1             Aruba    AW        Caribbean   \n",
       "2             Aruba    AW        Caribbean   \n",
       "3             Aruba    AW        Caribbean   \n",
       "4             Aruba    AW        Caribbean   \n",
       "...             ...   ...              ...   \n",
       "30871         Yemen    YE      Middle East   \n",
       "30872         Yemen    YE      Middle East   \n",
       "30873  South Africa    ZA  Southern Africa   \n",
       "30874  South Africa    ZA  Southern Africa   \n",
       "30875        Zambia    ZM   Eastern Africa   \n",
       "\n",
       "                                             embedding_1        x_1   \n",
       "0      [-0.004982155, -0.004734951, 0.017782265, 0.00...  10.614923  \\\n",
       "1      [-0.004982155, -0.004734951, 0.017782265, 0.00...  10.614923   \n",
       "2      [-0.004982155, -0.004734951, 0.017782265, 0.00...  10.614923   \n",
       "3      [-0.004982155, -0.004734951, 0.017782265, 0.00...  10.614923   \n",
       "4      [-0.004982155, -0.004734951, 0.017782265, 0.00...  10.614923   \n",
       "...                                                  ...        ...   \n",
       "30871  [-0.019505518, 0.07125144, 0.06284102, -0.0599...   8.727551   \n",
       "30872  [-0.019505518, 0.07125144, 0.06284102, -0.0599...   8.727551   \n",
       "30873  [-0.027318928, 0.020004649, 0.033093072, -0.04...  10.529353   \n",
       "30874  [-0.027318928, 0.020004649, 0.033093072, -0.04...  10.529353   \n",
       "30875  [-0.012925643, 0.03482782, 0.0037540395, -0.04...  11.166730   \n",
       "\n",
       "             y_1      country_2 abb_2         region_2   \n",
       "0      16.355629    Afghanistan    AF     Central Asia  \\\n",
       "1      16.355629         Angola    AO  Southern Africa   \n",
       "2      16.355629       Anguilla    AI        Caribbean   \n",
       "3      16.355629  Åland Islands    AX  Northern Europe   \n",
       "4      16.355629        Albania    AL  Southern Europe   \n",
       "...          ...            ...   ...              ...   \n",
       "30871  18.426491         Zambia    ZM   Eastern Africa   \n",
       "30872  18.426491       Zimbabwe    ZW  Southern Africa   \n",
       "30873  17.732040         Zambia    ZM   Eastern Africa   \n",
       "30874  17.732040       Zimbabwe    ZW  Southern Africa   \n",
       "30875  17.311157       Zimbabwe    ZW  Southern Africa   \n",
       "\n",
       "                                             embedding_2        x_2        y_2  \n",
       "0      [-0.015105826, 0.044424586, 0.06507098, -0.020...   7.414345  16.946173  \n",
       "1      [-0.056833033, 0.031061675, 0.011969242, 0.001...  11.469713  17.676466  \n",
       "2      [-0.0017360091, 0.007885989, -0.0054523596, -0...   9.587366  16.455708  \n",
       "3      [0.023250932, -0.0011745989, 0.087990366, -0.0...   9.973738  13.486279  \n",
       "4      [-0.014711495, 0.041718543, 0.04756414, 0.0072...   7.067043  15.987216  \n",
       "...                                                  ...        ...        ...  \n",
       "30871  [-0.012925643, 0.03482782, 0.0037540395, -0.04...  11.166730  17.311157  \n",
       "30872  [-0.019231657, 0.03865679, 0.011267242, 0.0024...  10.977914  17.276011  \n",
       "30873  [-0.012925643, 0.03482782, 0.0037540395, -0.04...  11.166730  17.311157  \n",
       "30874  [-0.019231657, 0.03865679, 0.011267242, 0.0024...  10.977914  17.276011  \n",
       "30875  [-0.019231657, 0.03865679, 0.011267242, 0.0024...  10.977914  17.276011  \n",
       "\n",
       "[30876 rows x 12 columns]"
      ]
     },
     "execution_count": 191,
     "metadata": {},
     "output_type": "execute_result"
    }
   ],
   "source": [
    "import pandas as pd\n",
    "import itertools\n",
    "\n",
    "pairs = list(itertools.combinations(df.index, 2))\n",
    "\n",
    "df1 = df.add_suffix('_1')\n",
    "df2 = df.add_suffix('_2')\n",
    "\n",
    "rows = []\n",
    "for pair in pairs:\n",
    "    row = pd.concat([df1.iloc[pair[0]], df2.iloc[pair[1]]])\n",
    "\n",
    "    rows.append(row)\n",
    "\n",
    "new_df = pd.DataFrame(rows)\n",
    "new_df\n"
   ]
  },
  {
   "cell_type": "code",
   "execution_count": 192,
   "id": "540c19b0",
   "metadata": {},
   "outputs": [],
   "source": [
    "all_regions = set(new_df['region_1']) | set(new_df['region_2'])\n",
    "region_embeddings = {}\n",
    "for region in all_regions:\n",
    "    region_embeddings[region] = sbert_model.encode(region)"
   ]
  },
  {
   "cell_type": "code",
   "execution_count": 193,
   "id": "c2551538",
   "metadata": {},
   "outputs": [
    {
     "name": "stderr",
     "output_type": "stream",
     "text": [
      "100%|███████████████████████████████████████████████████████████████████████████████| 30876/30876 [00:00<00:00, 48195.19it/s]\n",
      "100%|███████████████████████████████████████████████████████████████████████████████| 30876/30876 [00:00<00:00, 47997.17it/s]"
     ]
    },
    {
     "name": "stdout",
     "output_type": "stream",
     "text": [
      "Spearman Correlation: 0.28\n"
     ]
    },
    {
     "name": "stderr",
     "output_type": "stream",
     "text": [
      "\n"
     ]
    }
   ],
   "source": [
    "from scipy.spatial.distance import cosine\n",
    "from tqdm import tqdm\n",
    "tqdm.pandas()\n",
    "from sklearn.preprocessing import MinMaxScaler\n",
    "from scipy.stats import spearmanr\n",
    "\n",
    "scaler = MinMaxScaler()\n",
    "\n",
    "\n",
    "new_df['region_sim'] = new_df.progress_apply(lambda row: 1 - cosine(region_embeddings[row['region_1']], region_embeddings[row['region_2']]), axis=1)\n",
    "new_df['country_sim'] = new_df.progress_apply(lambda row: 1 - cosine(row['embedding_1'], row['embedding_2']), axis=1)\n",
    "new_df[['region_sim', 'country_sim']] = scaler.fit_transform(new_df[['region_sim', 'country_sim']])\n",
    "\n",
    "\n",
    "spearman_corr, _ = spearmanr(new_df['region_sim'], new_df['country_sim'])\n",
    "print(f\"Spearman Correlation: {spearman_corr:.2f}\")\n",
    "# country 0.32\n",
    "# country use in sent 0.28\n",
    "# country use in diff sentences 0.20\n",
    "# abbrev 0.01\n",
    "# abbrev use in sent 0.08\n",
    "# abbrev use in diff sentences 0.04\n",
    "\n",
    "# country vs abbrev 0.00\n",
    "# country vs abbrev 0.79\n"
   ]
  },
  {
   "cell_type": "code",
   "execution_count": 189,
   "id": "df521c2d",
   "metadata": {},
   "outputs": [
    {
     "name": "stdout",
     "output_type": "stream",
     "text": [
      "Spearman Correlation: 0.79\n"
     ]
    }
   ],
   "source": [
    "# abbrev_sim = new_df['country_sim']\n",
    "spearman_corr, _ = spearmanr(country_sim, new_df['country_sim'])\n",
    "print(f\"Spearman Correlation: {spearman_corr:.2f}\")\n"
   ]
  },
  {
   "cell_type": "code",
   "execution_count": 131,
   "id": "c99b7632",
   "metadata": {},
   "outputs": [
    {
     "data": {
      "application/vnd.plotly.v1+json": {
       "config": {
        "plotlyServerURL": "https://plot.ly"
       },
       "data": [
        {
         "marker": {
          "color": [
           "darkred",
           "darkred",
           "darkred",
           "darkred",
           "darkred",
           "darkred"
          ],
          "line": {
           "width": 2
          },
          "size": 10
         },
         "mode": "markers",
         "name": "North America",
         "showlegend": true,
         "text": [
          "Bermuda",
          "Canada",
          "Greenland",
          "Saint Pierre and Miquelon",
          "United States Minor Outlying Islands",
          "United States"
         ],
         "type": "scatter",
         "x": [
          9.737731,
          8.574432,
          8.703132,
          8.558372,
          9.978902,
          8.4757
         ],
         "y": [
          14.369464,
          16.491138,
          13.834189,
          14.937579,
          13.680237,
          16.53194
         ]
        },
        {
         "marker": {
          "color": [
           "brown",
           "brown",
           "brown",
           "brown",
           "brown",
           "brown",
           "brown",
           "brown"
          ],
          "line": {
           "width": 2
          },
          "size": 10
         },
         "mode": "markers",
         "name": "Central America",
         "showlegend": true,
         "text": [
          "Belize",
          "Costa Rica",
          "Guatemala",
          "Honduras",
          "Mexico",
          "Nicaragua",
          "Panama",
          "El Salvador"
         ],
         "type": "scatter",
         "x": [
          10.792526,
          10.943297,
          10.977299,
          10.940973,
          10.53435,
          10.81167,
          10.960272,
          10.801509
         ],
         "y": [
          15.566018,
          15.5755,
          15.75025,
          15.507183,
          15.776399,
          15.829693,
          15.655353,
          15.598136
         ]
        },
        {
         "marker": {
          "color": [
           "firebrick",
           "firebrick",
           "firebrick",
           "firebrick",
           "firebrick",
           "firebrick",
           "firebrick",
           "firebrick",
           "firebrick",
           "firebrick",
           "firebrick",
           "firebrick",
           "firebrick",
           "firebrick",
           "firebrick",
           "firebrick",
           "firebrick",
           "firebrick",
           "firebrick",
           "firebrick",
           "firebrick",
           "firebrick",
           "firebrick",
           "firebrick",
           "firebrick",
           "firebrick",
           "firebrick",
           "firebrick"
          ],
          "line": {
           "width": 2
          },
          "size": 10
         },
         "mode": "markers",
         "name": "Caribbean",
         "showlegend": true,
         "text": [
          "Aruba",
          "Anguilla",
          "Antigua and Barbuda",
          "Bonaire, Sint Eustatius and Saba",
          "Bahamas",
          "Saint Barthélemy",
          "Barbados",
          "Cuba",
          "Curaçao",
          "Cayman Islands",
          "Dominica",
          "Dominican Republic",
          "Guadeloupe",
          "Grenada",
          "Haiti",
          "Jamaica",
          "Saint Kitts and Nevis",
          "Saint Lucia",
          "Saint Martin (French part)",
          "Montserrat",
          "Martinique",
          "Puerto Rico",
          "Sint Maarten (Dutch part)",
          "Turks and Caicos Islands",
          "Trinidad and Tobago",
          "Saint Vincent and the Grenadines",
          "Virgin Islands, British",
          "Virgin Islands, U.S."
         ],
         "type": "scatter",
         "x": [
          10.6149235,
          9.587366,
          11.247256,
          10.034764,
          9.814016,
          8.519627,
          9.38662,
          9.433667,
          11.025955,
          9.7166605,
          9.476278,
          9.854042,
          11.021268,
          9.381267,
          9.096998,
          9.32339,
          8.580581,
          9.051906,
          8.607704,
          8.631089,
          9.02815,
          10.110759,
          9.651038,
          9.984609,
          9.572351,
          8.8173,
          9.63392,
          9.6912
         ],
         "y": [
          16.355629,
          16.455708,
          16.53625,
          17.89592,
          14.584839,
          15.0595875,
          14.609456,
          15.773948,
          16.350117,
          14.534072,
          15.247578,
          15.509012,
          16.553469,
          14.929763,
          15.051949,
          14.832223,
          16.079157,
          14.703395,
          15.006406,
          15.899142,
          14.730257,
          15.445417,
          17.761282,
          14.532108,
          15.259285,
          14.734447,
          13.943565,
          13.90818
         ]
        },
        {
         "marker": {
          "color": [
           "red",
           "red",
           "red",
           "red",
           "red",
           "red",
           "red",
           "red",
           "red",
           "red",
           "red",
           "red",
           "red",
           "red",
           "red"
          ],
          "line": {
           "width": 2
          },
          "size": 10
         },
         "mode": "markers",
         "name": "South America",
         "showlegend": true,
         "text": [
          "Argentina",
          "Bolivia, Plurinational State of",
          "Brazil",
          "Chile",
          "Colombia",
          "Ecuador",
          "Falkland Islands (Malvinas)",
          "French Guiana",
          "Guyana",
          "Peru",
          "Paraguay",
          "South Georgia and the South Sandwich Islands",
          "Suriname",
          "Uruguay",
          "Venezuela, Bolivarian Republic of"
         ],
         "type": "scatter",
         "x": [
          10.228155,
          10.172676,
          10.123908,
          9.967277,
          10.392011,
          10.284595,
          9.955591,
          9.405884,
          9.426913,
          10.293742,
          10.062981,
          10.023558,
          9.565668,
          10.183152,
          9.938325
         ],
         "y": [
          16.219635,
          16.155634,
          16.493227,
          16.023287,
          15.641132,
          16.001232,
          15.200332,
          15.505112,
          15.293875,
          16.040007,
          16.170343,
          16.929224,
          15.954943,
          16.124958,
          15.696433
         ]
        },
        {
         "marker": {
          "color": [
           "limegreen",
           "limegreen",
           "limegreen",
           "limegreen",
           "limegreen",
           "limegreen",
           "limegreen",
           "limegreen",
           "limegreen",
           "limegreen",
           "limegreen",
           "limegreen",
           "limegreen",
           "limegreen",
           "limegreen",
           "limegreen",
           "limegreen",
           "limegreen"
          ],
          "line": {
           "width": 2
          },
          "size": 10
         },
         "mode": "markers",
         "name": "Western Africa",
         "showlegend": true,
         "text": [
          "Benin",
          "Burkina Faso",
          "Côte d'Ivoire",
          "Cabo Verde",
          "Ghana",
          "Guinea",
          "Gambia",
          "Guinea-Bissau",
          "Liberia",
          "Mali",
          "Mauritania",
          "Niger",
          "Nigeria",
          "Senegal",
          "Saint Helena, Ascension and Tristan da Cunha",
          "Sierra Leone",
          "Sao Tome and Principe",
          "Togo"
         ],
         "type": "scatter",
         "x": [
          10.9325,
          11.34309,
          10.298729,
          11.143707,
          10.860145,
          11.683771,
          11.2189665,
          11.533073,
          11.320069,
          10.262363,
          9.860515,
          10.773238,
          10.7603655,
          10.323474,
          9.153691,
          11.405228,
          9.9891815,
          11.37717
         ],
         "y": [
          18.401913,
          18.234161,
          18.0055,
          16.32221,
          18.075182,
          17.348202,
          17.91825,
          17.686125,
          17.2868,
          18.445503,
          18.211094,
          18.232933,
          18.40108,
          18.217031,
          14.282718,
          17.214548,
          15.947684,
          17.966215
         ]
        },
        {
         "marker": {
          "color": [
           "darkgreen",
           "darkgreen",
           "darkgreen",
           "darkgreen",
           "darkgreen",
           "darkgreen",
           "darkgreen",
           "darkgreen",
           "darkgreen",
           "darkgreen",
           "darkgreen",
           "darkgreen",
           "darkgreen",
           "darkgreen",
           "darkgreen",
           "darkgreen",
           "darkgreen",
           "darkgreen",
           "darkgreen"
          ],
          "line": {
           "width": 2
          },
          "size": 10
         },
         "mode": "markers",
         "name": "Eastern Africa",
         "showlegend": true,
         "text": [
          "Burundi",
          "Comoros",
          "Djibouti",
          "Eritrea",
          "Ethiopia",
          "Kenya",
          "Madagascar",
          "Mozambique",
          "Mauritius",
          "Malawi",
          "Mayotte",
          "Réunion",
          "Rwanda",
          "Somalia",
          "South Sudan",
          "Seychelles",
          "Tanzania, United Republic of",
          "Uganda",
          "Zambia"
         ],
         "type": "scatter",
         "x": [
          11.400134,
          9.482216,
          9.322951,
          10.035678,
          10.138961,
          9.947466,
          10.721058,
          10.656082,
          9.645624,
          11.064153,
          8.764552,
          8.360524,
          11.417917,
          9.552138,
          10.374044,
          9.572552,
          10.986669,
          10.8583355,
          11.16673
         ],
         "y": [
          17.972107,
          16.581257,
          18.874214,
          17.679363,
          17.382576,
          18.071066,
          17.465172,
          17.217276,
          17.51791,
          17.403894,
          14.897115,
          16.609446,
          17.548832,
          18.275827,
          18.37619,
          17.063358,
          17.527802,
          17.577133,
          17.311157
         ]
        },
        {
         "marker": {
          "color": [
           "green",
           "green",
           "green",
           "green",
           "green",
           "green",
           "green"
          ],
          "line": {
           "width": 2
          },
          "size": 10
         },
         "mode": "markers",
         "name": "Southern Africa",
         "showlegend": true,
         "text": [
          "Angola",
          "Botswana",
          "Lesotho",
          "Namibia",
          "Eswatini",
          "South Africa",
          "Zimbabwe"
         ],
         "type": "scatter",
         "x": [
          11.469713,
          10.641709,
          10.941917,
          10.661867,
          10.553921,
          10.529353,
          10.977914
         ],
         "y": [
          17.676466,
          17.666199,
          17.098753,
          18.007729,
          16.9906,
          17.73204,
          17.27601
         ]
        },
        {
         "marker": {
          "color": [
           "forestgreen",
           "forestgreen",
           "forestgreen",
           "forestgreen",
           "forestgreen",
           "forestgreen",
           "forestgreen"
          ],
          "line": {
           "width": 2
          },
          "size": 10
         },
         "mode": "markers",
         "name": "Central Africa",
         "showlegend": true,
         "text": [
          "Central African Republic",
          "Cameroon",
          "Congo, The Democratic Republic of the",
          "Congo",
          "Gabon",
          "Equatorial Guinea",
          "Chad"
         ],
         "type": "scatter",
         "x": [
          11.024085,
          11.2113085,
          11.291436,
          11.146591,
          10.611167,
          11.214901,
          9.973333
         ],
         "y": [
          17.855026,
          17.987469,
          17.840927,
          17.592665,
          17.700031,
          17.726017,
          18.741405
         ]
        },
        {
         "marker": {
          "color": [
           "mediumaquamarine",
           "mediumaquamarine",
           "mediumaquamarine",
           "mediumaquamarine",
           "mediumaquamarine",
           "mediumaquamarine"
          ],
          "line": {
           "width": 2
          },
          "size": 10
         },
         "mode": "markers",
         "name": "Northern Africa",
         "showlegend": true,
         "text": [
          "Algeria",
          "Western Sahara",
          "Libya",
          "Morocco",
          "Sudan",
          "Tunisia"
         ],
         "type": "scatter",
         "x": [
          9.991612,
          10.20825,
          9.338925,
          9.724417,
          9.946974,
          9.668366
         ],
         "y": [
          18.63629,
          18.655588,
          18.797806,
          18.7347,
          18.660322,
          18.794214
         ]
        },
        {
         "marker": {
          "color": [
           "skyblue",
           "skyblue",
           "skyblue",
           "skyblue",
           "skyblue",
           "skyblue",
           "skyblue",
           "skyblue",
           "skyblue",
           "skyblue",
           "skyblue",
           "skyblue",
           "skyblue",
           "skyblue",
           "skyblue",
           "skyblue",
           "skyblue"
          ],
          "line": {
           "width": 2
          },
          "size": 10
         },
         "mode": "markers",
         "name": "Middle East",
         "showlegend": true,
         "text": [
          "United Arab Emirates",
          "Bahrain",
          "Cyprus",
          "Egypt",
          "Iran, Islamic Republic of",
          "Iraq",
          "Israel",
          "Jordan",
          "Kuwait",
          "Lebanon",
          "Oman",
          "Palestine, State of",
          "Qatar",
          "Saudi Arabia",
          "Syrian Arab Republic",
          "Turkey",
          "Yemen"
         ],
         "type": "scatter",
         "x": [
          8.864281,
          8.530763,
          7.741329,
          9.575726,
          6.8749166,
          8.318126,
          8.636266,
          8.491764,
          8.377741,
          8.817474,
          8.844073,
          8.685607,
          8.734484,
          8.44661,
          8.657153,
          7.4326615,
          8.7275505
         ],
         "y": [
          18.708696,
          18.414545,
          16.13629,
          18.606745,
          17.50237,
          18.530718,
          18.939169,
          18.841896,
          18.253437,
          18.510075,
          18.280252,
          18.956678,
          18.303865,
          18.561134,
          18.777391,
          16.33043,
          18.42649
         ]
        },
        {
         "marker": {
          "color": [
           "lightsteelblue",
           "lightsteelblue",
           "lightsteelblue",
           "lightsteelblue",
           "lightsteelblue",
           "lightsteelblue",
           "lightsteelblue",
           "lightsteelblue",
           "lightsteelblue",
           "lightsteelblue"
          ],
          "line": {
           "width": 2
          },
          "size": 10
         },
         "mode": "markers",
         "name": "Central Asia",
         "showlegend": true,
         "text": [
          "Afghanistan",
          "Armenia",
          "Azerbaijan",
          "Georgia",
          "Kazakhstan",
          "Kyrgyzstan",
          "Mongolia",
          "Tajikistan",
          "Turkmenistan",
          "Uzbekistan"
         ],
         "type": "scatter",
         "x": [
          7.414345,
          7.357281,
          6.6681266,
          7.8081098,
          6.7800417,
          7.0407944,
          7.115174,
          7.078869,
          7.072932,
          6.83218
         ],
         "y": [
          16.946173,
          16.803022,
          17.103838,
          16.69871,
          17.032043,
          17.220242,
          17.254002,
          17.21422,
          17.196312,
          17.186636
         ]
        },
        {
         "marker": {
          "color": [
           "midnightblue",
           "midnightblue",
           "midnightblue",
           "midnightblue",
           "midnightblue",
           "midnightblue",
           "midnightblue"
          ],
          "line": {
           "width": 2
          },
          "size": 10
         },
         "mode": "markers",
         "name": "South Asia",
         "showlegend": true,
         "text": [
          "Bangladesh",
          "Bhutan",
          "India",
          "Sri Lanka",
          "Maldives",
          "Nepal",
          "Pakistan"
         ],
         "type": "scatter",
         "x": [
          8.890739,
          7.4191756,
          8.745277,
          9.195391,
          9.533228,
          8.083982,
          7.9624743
         ],
         "y": [
          17.601683,
          17.612778,
          17.109472,
          15.188727,
          15.488123,
          17.908361,
          17.667809
         ]
        },
        {
         "marker": {
          "color": [
           "blue",
           "blue",
           "blue",
           "blue",
           "blue",
           "blue",
           "blue",
           "blue",
           "blue",
           "blue",
           "blue",
           "blue",
           "blue",
           "blue"
          ],
          "line": {
           "width": 2
          },
          "size": 10
         },
         "mode": "markers",
         "name": "Southeastern Asia",
         "showlegend": true,
         "text": [
          "Brunei Darussalam",
          "Hong Kong",
          "Indonesia",
          "Cambodia",
          "Lao People's Democratic Republic",
          "Macao",
          "Myanmar",
          "Malaysia",
          "Philippines",
          "Singapore",
          "Thailand",
          "Timor-Leste",
          "Taiwan, Province of China",
          "Viet Nam"
         ],
         "type": "scatter",
         "x": [
          8.98288,
          8.169656,
          8.57241,
          7.5783362,
          8.442656,
          10.755206,
          7.8458357,
          8.101979,
          9.2546015,
          8.03579,
          7.946003,
          9.269209,
          8.111599,
          11.612372
         ],
         "y": [
          17.935858,
          17.104876,
          16.990267,
          17.443808,
          17.428474,
          16.413982,
          17.3887,
          17.26238,
          15.989431,
          17.252636,
          17.51742,
          16.32296,
          17.12152,
          17.61593
         ]
        },
        {
         "marker": {
          "color": [
           "cyan",
           "cyan",
           "cyan",
           "cyan"
          ],
          "line": {
           "width": 2
          },
          "size": 10
         },
         "mode": "markers",
         "name": "Northeastern Asia",
         "showlegend": true,
         "text": [
          "China",
          "Japan",
          "Korea, Republic of",
          "Korea, Democratic People's Republic of"
         ],
         "type": "scatter",
         "x": [
          8.354316,
          8.4963255,
          8.003884,
          8.220627
         ],
         "y": [
          16.974785,
          17.071981,
          17.00506,
          17.180777
         ]
        },
        {
         "marker": {
          "color": [
           "purple",
           "purple",
           "purple",
           "purple",
           "purple",
           "purple",
           "purple",
           "purple",
           "purple",
           "purple",
           "purple",
           "purple",
           "purple",
           "purple",
           "purple",
           "purple"
          ],
          "line": {
           "width": 2
          },
          "size": 10
         },
         "mode": "markers",
         "name": "Northern Europe",
         "showlegend": true,
         "text": [
          "Åland Islands",
          "Denmark",
          "Estonia",
          "Finland",
          "Faroe Islands",
          "United Kingdom",
          "Guernsey",
          "Isle of Man",
          "Ireland",
          "Iceland",
          "Jersey",
          "Lithuania",
          "Latvia",
          "Norway",
          "Svalbard and Jan Mayen",
          "Sweden"
         ],
         "type": "scatter",
         "x": [
          9.973738,
          7.6835194,
          7.252862,
          7.5392084,
          10.138964,
          8.500988,
          9.599223,
          8.633185,
          8.390896,
          8.265863,
          7.3991985,
          6.9421887,
          7.154052,
          7.725968,
          7.9602036,
          7.656711
         ],
         "y": [
          13.486279,
          14.57087,
          14.73377,
          14.499994,
          13.605521,
          16.391697,
          14.406589,
          14.193438,
          14.231449,
          14.0402975,
          15.355273,
          15.365251,
          14.904573,
          14.438262,
          14.335626,
          14.4541
         ]
        },
        {
         "marker": {
          "color": [
           "violet",
           "violet",
           "violet",
           "violet",
           "violet",
           "violet",
           "violet",
           "violet",
           "violet",
           "violet",
           "violet",
           "violet",
           "violet",
           "violet",
           "violet",
           "violet"
          ],
          "line": {
           "width": 2
          },
          "size": 10
         },
         "mode": "markers",
         "name": "Southern Europe",
         "showlegend": true,
         "text": [
          "Albania",
          "Andorra",
          "Bosnia and Herzegovina",
          "Spain",
          "Gibraltar",
          "Greece",
          "Croatia",
          "Italy",
          "North Macedonia",
          "Malta",
          "Montenegro",
          "Portugal",
          "San Marino",
          "Serbia",
          "Slovenia",
          "Holy See (Vatican City State)"
         ],
         "type": "scatter",
         "x": [
          7.0670433,
          8.012569,
          6.592186,
          8.883998,
          9.498749,
          7.4793777,
          6.828591,
          8.115054,
          7.163946,
          7.8689804,
          7.089683,
          9.066156,
          8.246779,
          6.6790204,
          6.758235,
          8.524043
         ],
         "y": [
          15.987216,
          15.305081,
          15.618392,
          16.033058,
          18.72208,
          15.920615,
          15.22721,
          15.974396,
          15.810338,
          16.068232,
          15.635719,
          15.9655,
          15.771635,
          15.53423,
          15.468896,
          15.092951
         ]
        },
        {
         "marker": {
          "color": [
           "indigo",
           "indigo",
           "indigo",
           "indigo",
           "indigo",
           "indigo",
           "indigo",
           "indigo",
           "indigo",
           "indigo"
          ],
          "line": {
           "width": 2
          },
          "size": 10
         },
         "mode": "markers",
         "name": "Eastern Europe",
         "showlegend": true,
         "text": [
          "Bulgaria",
          "Belarus",
          "Czechia",
          "Hungary",
          "Moldova, Republic of",
          "Poland",
          "Romania",
          "Russian Federation",
          "Slovakia",
          "Ukraine"
         ],
         "type": "scatter",
         "x": [
          6.3940525,
          6.551116,
          6.653387,
          6.6749005,
          6.4189277,
          7.0303674,
          6.4366255,
          6.75546,
          6.71341,
          6.6334615
         ],
         "y": [
          15.632972,
          16.316853,
          15.238127,
          15.759943,
          15.91712,
          15.647948,
          15.808385,
          16.84862,
          15.395357,
          16.732685
         ]
        },
        {
         "marker": {
          "color": [
           "blueviolet",
           "blueviolet",
           "blueviolet",
           "blueviolet",
           "blueviolet",
           "blueviolet",
           "blueviolet",
           "blueviolet",
           "blueviolet"
          ],
          "line": {
           "width": 2
          },
          "size": 10
         },
         "mode": "markers",
         "name": "Western Europe",
         "showlegend": true,
         "text": [
          "Austria",
          "Belgium",
          "Switzerland",
          "Germany",
          "France",
          "Liechtenstein",
          "Luxembourg",
          "Monaco",
          "Netherlands"
         ],
         "type": "scatter",
         "x": [
          6.723161,
          8.214723,
          7.8791847,
          8.219726,
          8.659413,
          7.7479944,
          7.758349,
          7.9152637,
          7.705918
         ],
         "y": [
          15.3731165,
          15.366878,
          15.694284,
          15.676555,
          15.273965,
          15.504401,
          15.281147,
          15.967424,
          15.064434
         ]
        },
        {
         "marker": {
          "color": [
           "gold",
           "gold",
           "gold",
           "gold",
           "gold",
           "gold",
           "gold",
           "gold",
           "gold",
           "gold",
           "gold",
           "gold",
           "gold",
           "gold",
           "gold",
           "gold",
           "gold",
           "gold",
           "gold",
           "gold",
           "gold",
           "gold",
           "gold",
           "gold",
           "gold",
           "gold",
           "gold"
          ],
          "line": {
           "width": 2
          },
          "size": 10
         },
         "mode": "markers",
         "name": "Australia and Oceania",
         "showlegend": true,
         "text": [
          "American Samoa",
          "Australia",
          "Cocos (Keeling) Islands",
          "Cook Islands",
          "Christmas Island",
          "Fiji",
          "Micronesia, Federated States of",
          "Guam",
          "Kiribati",
          "Marshall Islands",
          "Northern Mariana Islands",
          "New Caledonia",
          "Norfolk Island",
          "Niue",
          "Nauru",
          "New Zealand",
          "Pitcairn",
          "Palau",
          "Papua New Guinea",
          "French Polynesia",
          "Solomon Islands",
          "Tokelau",
          "Tonga",
          "Tuvalu",
          "Vanuatu",
          "Wallis and Futuna",
          "Samoa"
         ],
         "type": "scatter",
         "x": [
          10.808332,
          9.236002,
          10.251876,
          10.053423,
          9.1362095,
          10.66103,
          10.523533,
          10.271117,
          9.038561,
          10.315008,
          10.187721,
          10.619843,
          9.272197,
          9.830802,
          9.757961,
          10.708076,
          9.025857,
          8.467327,
          10.543196,
          10.034328,
          10.442802,
          8.502604,
          10.599224,
          11.053699,
          9.766621,
          8.787125,
          10.81133
         ],
         "y": [
          14.398646,
          16.948053,
          14.590197,
          13.491227,
          13.674613,
          14.469993,
          14.15977,
          14.663988,
          17.44751,
          13.818498,
          14.055546,
          14.828742,
          13.871501,
          17.281044,
          17.363005,
          14.875343,
          16.248108,
          15.72107,
          14.997858,
          14.431267,
          13.955997,
          15.664602,
          14.359871,
          14.573492,
          14.767617,
          17.835835,
          14.631992
         ]
        },
        {
         "marker": {
          "color": [
           "white",
           "white",
           "white",
           "white"
          ],
          "line": {
           "width": 2
          },
          "size": 10
         },
         "mode": "markers",
         "name": "Antarctica",
         "showlegend": true,
         "text": [
          "Antarctica",
          "French Southern Territories",
          "Bouvet Island",
          "Heard Island and McDonald Islands"
         ],
         "type": "scatter",
         "x": [
          10.215327,
          9.03728,
          9.104163,
          10.119596
         ],
         "y": [
          17.139269,
          15.405714,
          14.263344,
          13.499198
         ]
        }
       ],
       "layout": {
        "template": {
         "data": {
          "bar": [
           {
            "error_x": {
             "color": "#2a3f5f"
            },
            "error_y": {
             "color": "#2a3f5f"
            },
            "marker": {
             "line": {
              "color": "#E5ECF6",
              "width": 0.5
             },
             "pattern": {
              "fillmode": "overlay",
              "size": 10,
              "solidity": 0.2
             }
            },
            "type": "bar"
           }
          ],
          "barpolar": [
           {
            "marker": {
             "line": {
              "color": "#E5ECF6",
              "width": 0.5
             },
             "pattern": {
              "fillmode": "overlay",
              "size": 10,
              "solidity": 0.2
             }
            },
            "type": "barpolar"
           }
          ],
          "carpet": [
           {
            "aaxis": {
             "endlinecolor": "#2a3f5f",
             "gridcolor": "white",
             "linecolor": "white",
             "minorgridcolor": "white",
             "startlinecolor": "#2a3f5f"
            },
            "baxis": {
             "endlinecolor": "#2a3f5f",
             "gridcolor": "white",
             "linecolor": "white",
             "minorgridcolor": "white",
             "startlinecolor": "#2a3f5f"
            },
            "type": "carpet"
           }
          ],
          "choropleth": [
           {
            "colorbar": {
             "outlinewidth": 0,
             "ticks": ""
            },
            "type": "choropleth"
           }
          ],
          "contour": [
           {
            "colorbar": {
             "outlinewidth": 0,
             "ticks": ""
            },
            "colorscale": [
             [
              0,
              "#0d0887"
             ],
             [
              0.1111111111111111,
              "#46039f"
             ],
             [
              0.2222222222222222,
              "#7201a8"
             ],
             [
              0.3333333333333333,
              "#9c179e"
             ],
             [
              0.4444444444444444,
              "#bd3786"
             ],
             [
              0.5555555555555556,
              "#d8576b"
             ],
             [
              0.6666666666666666,
              "#ed7953"
             ],
             [
              0.7777777777777778,
              "#fb9f3a"
             ],
             [
              0.8888888888888888,
              "#fdca26"
             ],
             [
              1,
              "#f0f921"
             ]
            ],
            "type": "contour"
           }
          ],
          "contourcarpet": [
           {
            "colorbar": {
             "outlinewidth": 0,
             "ticks": ""
            },
            "type": "contourcarpet"
           }
          ],
          "heatmap": [
           {
            "colorbar": {
             "outlinewidth": 0,
             "ticks": ""
            },
            "colorscale": [
             [
              0,
              "#0d0887"
             ],
             [
              0.1111111111111111,
              "#46039f"
             ],
             [
              0.2222222222222222,
              "#7201a8"
             ],
             [
              0.3333333333333333,
              "#9c179e"
             ],
             [
              0.4444444444444444,
              "#bd3786"
             ],
             [
              0.5555555555555556,
              "#d8576b"
             ],
             [
              0.6666666666666666,
              "#ed7953"
             ],
             [
              0.7777777777777778,
              "#fb9f3a"
             ],
             [
              0.8888888888888888,
              "#fdca26"
             ],
             [
              1,
              "#f0f921"
             ]
            ],
            "type": "heatmap"
           }
          ],
          "heatmapgl": [
           {
            "colorbar": {
             "outlinewidth": 0,
             "ticks": ""
            },
            "colorscale": [
             [
              0,
              "#0d0887"
             ],
             [
              0.1111111111111111,
              "#46039f"
             ],
             [
              0.2222222222222222,
              "#7201a8"
             ],
             [
              0.3333333333333333,
              "#9c179e"
             ],
             [
              0.4444444444444444,
              "#bd3786"
             ],
             [
              0.5555555555555556,
              "#d8576b"
             ],
             [
              0.6666666666666666,
              "#ed7953"
             ],
             [
              0.7777777777777778,
              "#fb9f3a"
             ],
             [
              0.8888888888888888,
              "#fdca26"
             ],
             [
              1,
              "#f0f921"
             ]
            ],
            "type": "heatmapgl"
           }
          ],
          "histogram": [
           {
            "marker": {
             "pattern": {
              "fillmode": "overlay",
              "size": 10,
              "solidity": 0.2
             }
            },
            "type": "histogram"
           }
          ],
          "histogram2d": [
           {
            "colorbar": {
             "outlinewidth": 0,
             "ticks": ""
            },
            "colorscale": [
             [
              0,
              "#0d0887"
             ],
             [
              0.1111111111111111,
              "#46039f"
             ],
             [
              0.2222222222222222,
              "#7201a8"
             ],
             [
              0.3333333333333333,
              "#9c179e"
             ],
             [
              0.4444444444444444,
              "#bd3786"
             ],
             [
              0.5555555555555556,
              "#d8576b"
             ],
             [
              0.6666666666666666,
              "#ed7953"
             ],
             [
              0.7777777777777778,
              "#fb9f3a"
             ],
             [
              0.8888888888888888,
              "#fdca26"
             ],
             [
              1,
              "#f0f921"
             ]
            ],
            "type": "histogram2d"
           }
          ],
          "histogram2dcontour": [
           {
            "colorbar": {
             "outlinewidth": 0,
             "ticks": ""
            },
            "colorscale": [
             [
              0,
              "#0d0887"
             ],
             [
              0.1111111111111111,
              "#46039f"
             ],
             [
              0.2222222222222222,
              "#7201a8"
             ],
             [
              0.3333333333333333,
              "#9c179e"
             ],
             [
              0.4444444444444444,
              "#bd3786"
             ],
             [
              0.5555555555555556,
              "#d8576b"
             ],
             [
              0.6666666666666666,
              "#ed7953"
             ],
             [
              0.7777777777777778,
              "#fb9f3a"
             ],
             [
              0.8888888888888888,
              "#fdca26"
             ],
             [
              1,
              "#f0f921"
             ]
            ],
            "type": "histogram2dcontour"
           }
          ],
          "mesh3d": [
           {
            "colorbar": {
             "outlinewidth": 0,
             "ticks": ""
            },
            "type": "mesh3d"
           }
          ],
          "parcoords": [
           {
            "line": {
             "colorbar": {
              "outlinewidth": 0,
              "ticks": ""
             }
            },
            "type": "parcoords"
           }
          ],
          "pie": [
           {
            "automargin": true,
            "type": "pie"
           }
          ],
          "scatter": [
           {
            "fillpattern": {
             "fillmode": "overlay",
             "size": 10,
             "solidity": 0.2
            },
            "type": "scatter"
           }
          ],
          "scatter3d": [
           {
            "line": {
             "colorbar": {
              "outlinewidth": 0,
              "ticks": ""
             }
            },
            "marker": {
             "colorbar": {
              "outlinewidth": 0,
              "ticks": ""
             }
            },
            "type": "scatter3d"
           }
          ],
          "scattercarpet": [
           {
            "marker": {
             "colorbar": {
              "outlinewidth": 0,
              "ticks": ""
             }
            },
            "type": "scattercarpet"
           }
          ],
          "scattergeo": [
           {
            "marker": {
             "colorbar": {
              "outlinewidth": 0,
              "ticks": ""
             }
            },
            "type": "scattergeo"
           }
          ],
          "scattergl": [
           {
            "marker": {
             "colorbar": {
              "outlinewidth": 0,
              "ticks": ""
             }
            },
            "type": "scattergl"
           }
          ],
          "scattermapbox": [
           {
            "marker": {
             "colorbar": {
              "outlinewidth": 0,
              "ticks": ""
             }
            },
            "type": "scattermapbox"
           }
          ],
          "scatterpolar": [
           {
            "marker": {
             "colorbar": {
              "outlinewidth": 0,
              "ticks": ""
             }
            },
            "type": "scatterpolar"
           }
          ],
          "scatterpolargl": [
           {
            "marker": {
             "colorbar": {
              "outlinewidth": 0,
              "ticks": ""
             }
            },
            "type": "scatterpolargl"
           }
          ],
          "scatterternary": [
           {
            "marker": {
             "colorbar": {
              "outlinewidth": 0,
              "ticks": ""
             }
            },
            "type": "scatterternary"
           }
          ],
          "surface": [
           {
            "colorbar": {
             "outlinewidth": 0,
             "ticks": ""
            },
            "colorscale": [
             [
              0,
              "#0d0887"
             ],
             [
              0.1111111111111111,
              "#46039f"
             ],
             [
              0.2222222222222222,
              "#7201a8"
             ],
             [
              0.3333333333333333,
              "#9c179e"
             ],
             [
              0.4444444444444444,
              "#bd3786"
             ],
             [
              0.5555555555555556,
              "#d8576b"
             ],
             [
              0.6666666666666666,
              "#ed7953"
             ],
             [
              0.7777777777777778,
              "#fb9f3a"
             ],
             [
              0.8888888888888888,
              "#fdca26"
             ],
             [
              1,
              "#f0f921"
             ]
            ],
            "type": "surface"
           }
          ],
          "table": [
           {
            "cells": {
             "fill": {
              "color": "#EBF0F8"
             },
             "line": {
              "color": "white"
             }
            },
            "header": {
             "fill": {
              "color": "#C8D4E3"
             },
             "line": {
              "color": "white"
             }
            },
            "type": "table"
           }
          ]
         },
         "layout": {
          "annotationdefaults": {
           "arrowcolor": "#2a3f5f",
           "arrowhead": 0,
           "arrowwidth": 1
          },
          "autotypenumbers": "strict",
          "coloraxis": {
           "colorbar": {
            "outlinewidth": 0,
            "ticks": ""
           }
          },
          "colorscale": {
           "diverging": [
            [
             0,
             "#8e0152"
            ],
            [
             0.1,
             "#c51b7d"
            ],
            [
             0.2,
             "#de77ae"
            ],
            [
             0.3,
             "#f1b6da"
            ],
            [
             0.4,
             "#fde0ef"
            ],
            [
             0.5,
             "#f7f7f7"
            ],
            [
             0.6,
             "#e6f5d0"
            ],
            [
             0.7,
             "#b8e186"
            ],
            [
             0.8,
             "#7fbc41"
            ],
            [
             0.9,
             "#4d9221"
            ],
            [
             1,
             "#276419"
            ]
           ],
           "sequential": [
            [
             0,
             "#0d0887"
            ],
            [
             0.1111111111111111,
             "#46039f"
            ],
            [
             0.2222222222222222,
             "#7201a8"
            ],
            [
             0.3333333333333333,
             "#9c179e"
            ],
            [
             0.4444444444444444,
             "#bd3786"
            ],
            [
             0.5555555555555556,
             "#d8576b"
            ],
            [
             0.6666666666666666,
             "#ed7953"
            ],
            [
             0.7777777777777778,
             "#fb9f3a"
            ],
            [
             0.8888888888888888,
             "#fdca26"
            ],
            [
             1,
             "#f0f921"
            ]
           ],
           "sequentialminus": [
            [
             0,
             "#0d0887"
            ],
            [
             0.1111111111111111,
             "#46039f"
            ],
            [
             0.2222222222222222,
             "#7201a8"
            ],
            [
             0.3333333333333333,
             "#9c179e"
            ],
            [
             0.4444444444444444,
             "#bd3786"
            ],
            [
             0.5555555555555556,
             "#d8576b"
            ],
            [
             0.6666666666666666,
             "#ed7953"
            ],
            [
             0.7777777777777778,
             "#fb9f3a"
            ],
            [
             0.8888888888888888,
             "#fdca26"
            ],
            [
             1,
             "#f0f921"
            ]
           ]
          },
          "colorway": [
           "#636efa",
           "#EF553B",
           "#00cc96",
           "#ab63fa",
           "#FFA15A",
           "#19d3f3",
           "#FF6692",
           "#B6E880",
           "#FF97FF",
           "#FECB52"
          ],
          "font": {
           "color": "#2a3f5f"
          },
          "geo": {
           "bgcolor": "white",
           "lakecolor": "white",
           "landcolor": "#E5ECF6",
           "showlakes": true,
           "showland": true,
           "subunitcolor": "white"
          },
          "hoverlabel": {
           "align": "left"
          },
          "hovermode": "closest",
          "mapbox": {
           "style": "light"
          },
          "paper_bgcolor": "white",
          "plot_bgcolor": "#E5ECF6",
          "polar": {
           "angularaxis": {
            "gridcolor": "white",
            "linecolor": "white",
            "ticks": ""
           },
           "bgcolor": "#E5ECF6",
           "radialaxis": {
            "gridcolor": "white",
            "linecolor": "white",
            "ticks": ""
           }
          },
          "scene": {
           "xaxis": {
            "backgroundcolor": "#E5ECF6",
            "gridcolor": "white",
            "gridwidth": 2,
            "linecolor": "white",
            "showbackground": true,
            "ticks": "",
            "zerolinecolor": "white"
           },
           "yaxis": {
            "backgroundcolor": "#E5ECF6",
            "gridcolor": "white",
            "gridwidth": 2,
            "linecolor": "white",
            "showbackground": true,
            "ticks": "",
            "zerolinecolor": "white"
           },
           "zaxis": {
            "backgroundcolor": "#E5ECF6",
            "gridcolor": "white",
            "gridwidth": 2,
            "linecolor": "white",
            "showbackground": true,
            "ticks": "",
            "zerolinecolor": "white"
           }
          },
          "shapedefaults": {
           "line": {
            "color": "#2a3f5f"
           }
          },
          "ternary": {
           "aaxis": {
            "gridcolor": "white",
            "linecolor": "white",
            "ticks": ""
           },
           "baxis": {
            "gridcolor": "white",
            "linecolor": "white",
            "ticks": ""
           },
           "bgcolor": "#E5ECF6",
           "caxis": {
            "gridcolor": "white",
            "linecolor": "white",
            "ticks": ""
           }
          },
          "title": {
           "x": 0.05
          },
          "xaxis": {
           "automargin": true,
           "gridcolor": "white",
           "linecolor": "white",
           "ticks": "",
           "title": {
            "standoff": 15
           },
           "zerolinecolor": "white",
           "zerolinewidth": 2
          },
          "yaxis": {
           "automargin": true,
           "gridcolor": "white",
           "linecolor": "white",
           "ticks": "",
           "title": {
            "standoff": 15
           },
           "zerolinecolor": "white",
           "zerolinewidth": 2
          }
         }
        },
        "title": {
         "text": "UMAP projection of the full_code_map",
         "x": 0.5
        }
       }
      },
      "text/html": [
       "<div>                            <div id=\"b7a07322-b6fe-42b7-bf81-f195c4cbd084\" class=\"plotly-graph-div\" style=\"height:525px; width:100%;\"></div>            <script type=\"text/javascript\">                require([\"plotly\"], function(Plotly) {                    window.PLOTLYENV=window.PLOTLYENV || {};                                    if (document.getElementById(\"b7a07322-b6fe-42b7-bf81-f195c4cbd084\")) {                    Plotly.newPlot(                        \"b7a07322-b6fe-42b7-bf81-f195c4cbd084\",                        [{\"marker\":{\"color\":[\"darkred\",\"darkred\",\"darkred\",\"darkred\",\"darkred\",\"darkred\"],\"line\":{\"width\":2},\"size\":10},\"mode\":\"markers\",\"name\":\"North America\",\"showlegend\":true,\"text\":[\"Bermuda\",\"Canada\",\"Greenland\",\"Saint Pierre and Miquelon\",\"United States Minor Outlying Islands\",\"United States\"],\"x\":[9.737731,8.574432,8.703132,8.558372,9.978902,8.4757],\"y\":[14.369464,16.491138,13.834189,14.937579,13.680237,16.53194],\"type\":\"scatter\"},{\"marker\":{\"color\":[\"brown\",\"brown\",\"brown\",\"brown\",\"brown\",\"brown\",\"brown\",\"brown\"],\"line\":{\"width\":2},\"size\":10},\"mode\":\"markers\",\"name\":\"Central America\",\"showlegend\":true,\"text\":[\"Belize\",\"Costa Rica\",\"Guatemala\",\"Honduras\",\"Mexico\",\"Nicaragua\",\"Panama\",\"El Salvador\"],\"x\":[10.792526,10.943297,10.977299,10.940973,10.53435,10.81167,10.960272,10.801509],\"y\":[15.566018,15.5755,15.75025,15.507183,15.776399,15.829693,15.655353,15.598136],\"type\":\"scatter\"},{\"marker\":{\"color\":[\"firebrick\",\"firebrick\",\"firebrick\",\"firebrick\",\"firebrick\",\"firebrick\",\"firebrick\",\"firebrick\",\"firebrick\",\"firebrick\",\"firebrick\",\"firebrick\",\"firebrick\",\"firebrick\",\"firebrick\",\"firebrick\",\"firebrick\",\"firebrick\",\"firebrick\",\"firebrick\",\"firebrick\",\"firebrick\",\"firebrick\",\"firebrick\",\"firebrick\",\"firebrick\",\"firebrick\",\"firebrick\"],\"line\":{\"width\":2},\"size\":10},\"mode\":\"markers\",\"name\":\"Caribbean\",\"showlegend\":true,\"text\":[\"Aruba\",\"Anguilla\",\"Antigua and Barbuda\",\"Bonaire, Sint Eustatius and Saba\",\"Bahamas\",\"Saint Barthélemy\",\"Barbados\",\"Cuba\",\"Curaçao\",\"Cayman Islands\",\"Dominica\",\"Dominican Republic\",\"Guadeloupe\",\"Grenada\",\"Haiti\",\"Jamaica\",\"Saint Kitts and Nevis\",\"Saint Lucia\",\"Saint Martin (French part)\",\"Montserrat\",\"Martinique\",\"Puerto Rico\",\"Sint Maarten (Dutch part)\",\"Turks and Caicos Islands\",\"Trinidad and Tobago\",\"Saint Vincent and the Grenadines\",\"Virgin Islands, British\",\"Virgin Islands, U.S.\"],\"x\":[10.6149235,9.587366,11.247256,10.034764,9.814016,8.519627,9.38662,9.433667,11.025955,9.7166605,9.476278,9.854042,11.021268,9.381267,9.096998,9.32339,8.580581,9.051906,8.607704,8.631089,9.02815,10.110759,9.651038,9.984609,9.572351,8.8173,9.63392,9.6912],\"y\":[16.355629,16.455708,16.53625,17.89592,14.584839,15.0595875,14.609456,15.773948,16.350117,14.534072,15.247578,15.509012,16.553469,14.929763,15.051949,14.832223,16.079157,14.703395,15.006406,15.899142,14.730257,15.445417,17.761282,14.532108,15.259285,14.734447,13.943565,13.90818],\"type\":\"scatter\"},{\"marker\":{\"color\":[\"red\",\"red\",\"red\",\"red\",\"red\",\"red\",\"red\",\"red\",\"red\",\"red\",\"red\",\"red\",\"red\",\"red\",\"red\"],\"line\":{\"width\":2},\"size\":10},\"mode\":\"markers\",\"name\":\"South America\",\"showlegend\":true,\"text\":[\"Argentina\",\"Bolivia, Plurinational State of\",\"Brazil\",\"Chile\",\"Colombia\",\"Ecuador\",\"Falkland Islands (Malvinas)\",\"French Guiana\",\"Guyana\",\"Peru\",\"Paraguay\",\"South Georgia and the South Sandwich Islands\",\"Suriname\",\"Uruguay\",\"Venezuela, Bolivarian Republic of\"],\"x\":[10.228155,10.172676,10.123908,9.967277,10.392011,10.284595,9.955591,9.405884,9.426913,10.293742,10.062981,10.023558,9.565668,10.183152,9.938325],\"y\":[16.219635,16.155634,16.493227,16.023287,15.641132,16.001232,15.200332,15.505112,15.293875,16.040007,16.170343,16.929224,15.954943,16.124958,15.696433],\"type\":\"scatter\"},{\"marker\":{\"color\":[\"limegreen\",\"limegreen\",\"limegreen\",\"limegreen\",\"limegreen\",\"limegreen\",\"limegreen\",\"limegreen\",\"limegreen\",\"limegreen\",\"limegreen\",\"limegreen\",\"limegreen\",\"limegreen\",\"limegreen\",\"limegreen\",\"limegreen\",\"limegreen\"],\"line\":{\"width\":2},\"size\":10},\"mode\":\"markers\",\"name\":\"Western Africa\",\"showlegend\":true,\"text\":[\"Benin\",\"Burkina Faso\",\"Côte d'Ivoire\",\"Cabo Verde\",\"Ghana\",\"Guinea\",\"Gambia\",\"Guinea-Bissau\",\"Liberia\",\"Mali\",\"Mauritania\",\"Niger\",\"Nigeria\",\"Senegal\",\"Saint Helena, Ascension and Tristan da Cunha\",\"Sierra Leone\",\"Sao Tome and Principe\",\"Togo\"],\"x\":[10.9325,11.34309,10.298729,11.143707,10.860145,11.683771,11.2189665,11.533073,11.320069,10.262363,9.860515,10.773238,10.7603655,10.323474,9.153691,11.405228,9.9891815,11.37717],\"y\":[18.401913,18.234161,18.0055,16.32221,18.075182,17.348202,17.91825,17.686125,17.2868,18.445503,18.211094,18.232933,18.40108,18.217031,14.282718,17.214548,15.947684,17.966215],\"type\":\"scatter\"},{\"marker\":{\"color\":[\"darkgreen\",\"darkgreen\",\"darkgreen\",\"darkgreen\",\"darkgreen\",\"darkgreen\",\"darkgreen\",\"darkgreen\",\"darkgreen\",\"darkgreen\",\"darkgreen\",\"darkgreen\",\"darkgreen\",\"darkgreen\",\"darkgreen\",\"darkgreen\",\"darkgreen\",\"darkgreen\",\"darkgreen\"],\"line\":{\"width\":2},\"size\":10},\"mode\":\"markers\",\"name\":\"Eastern Africa\",\"showlegend\":true,\"text\":[\"Burundi\",\"Comoros\",\"Djibouti\",\"Eritrea\",\"Ethiopia\",\"Kenya\",\"Madagascar\",\"Mozambique\",\"Mauritius\",\"Malawi\",\"Mayotte\",\"Réunion\",\"Rwanda\",\"Somalia\",\"South Sudan\",\"Seychelles\",\"Tanzania, United Republic of\",\"Uganda\",\"Zambia\"],\"x\":[11.400134,9.482216,9.322951,10.035678,10.138961,9.947466,10.721058,10.656082,9.645624,11.064153,8.764552,8.360524,11.417917,9.552138,10.374044,9.572552,10.986669,10.8583355,11.16673],\"y\":[17.972107,16.581257,18.874214,17.679363,17.382576,18.071066,17.465172,17.217276,17.51791,17.403894,14.897115,16.609446,17.548832,18.275827,18.37619,17.063358,17.527802,17.577133,17.311157],\"type\":\"scatter\"},{\"marker\":{\"color\":[\"green\",\"green\",\"green\",\"green\",\"green\",\"green\",\"green\"],\"line\":{\"width\":2},\"size\":10},\"mode\":\"markers\",\"name\":\"Southern Africa\",\"showlegend\":true,\"text\":[\"Angola\",\"Botswana\",\"Lesotho\",\"Namibia\",\"Eswatini\",\"South Africa\",\"Zimbabwe\"],\"x\":[11.469713,10.641709,10.941917,10.661867,10.553921,10.529353,10.977914],\"y\":[17.676466,17.666199,17.098753,18.007729,16.9906,17.73204,17.27601],\"type\":\"scatter\"},{\"marker\":{\"color\":[\"forestgreen\",\"forestgreen\",\"forestgreen\",\"forestgreen\",\"forestgreen\",\"forestgreen\",\"forestgreen\"],\"line\":{\"width\":2},\"size\":10},\"mode\":\"markers\",\"name\":\"Central Africa\",\"showlegend\":true,\"text\":[\"Central African Republic\",\"Cameroon\",\"Congo, The Democratic Republic of the\",\"Congo\",\"Gabon\",\"Equatorial Guinea\",\"Chad\"],\"x\":[11.024085,11.2113085,11.291436,11.146591,10.611167,11.214901,9.973333],\"y\":[17.855026,17.987469,17.840927,17.592665,17.700031,17.726017,18.741405],\"type\":\"scatter\"},{\"marker\":{\"color\":[\"mediumaquamarine\",\"mediumaquamarine\",\"mediumaquamarine\",\"mediumaquamarine\",\"mediumaquamarine\",\"mediumaquamarine\"],\"line\":{\"width\":2},\"size\":10},\"mode\":\"markers\",\"name\":\"Northern Africa\",\"showlegend\":true,\"text\":[\"Algeria\",\"Western Sahara\",\"Libya\",\"Morocco\",\"Sudan\",\"Tunisia\"],\"x\":[9.991612,10.20825,9.338925,9.724417,9.946974,9.668366],\"y\":[18.63629,18.655588,18.797806,18.7347,18.660322,18.794214],\"type\":\"scatter\"},{\"marker\":{\"color\":[\"skyblue\",\"skyblue\",\"skyblue\",\"skyblue\",\"skyblue\",\"skyblue\",\"skyblue\",\"skyblue\",\"skyblue\",\"skyblue\",\"skyblue\",\"skyblue\",\"skyblue\",\"skyblue\",\"skyblue\",\"skyblue\",\"skyblue\"],\"line\":{\"width\":2},\"size\":10},\"mode\":\"markers\",\"name\":\"Middle East\",\"showlegend\":true,\"text\":[\"United Arab Emirates\",\"Bahrain\",\"Cyprus\",\"Egypt\",\"Iran, Islamic Republic of\",\"Iraq\",\"Israel\",\"Jordan\",\"Kuwait\",\"Lebanon\",\"Oman\",\"Palestine, State of\",\"Qatar\",\"Saudi Arabia\",\"Syrian Arab Republic\",\"Turkey\",\"Yemen\"],\"x\":[8.864281,8.530763,7.741329,9.575726,6.8749166,8.318126,8.636266,8.491764,8.377741,8.817474,8.844073,8.685607,8.734484,8.44661,8.657153,7.4326615,8.7275505],\"y\":[18.708696,18.414545,16.13629,18.606745,17.50237,18.530718,18.939169,18.841896,18.253437,18.510075,18.280252,18.956678,18.303865,18.561134,18.777391,16.33043,18.42649],\"type\":\"scatter\"},{\"marker\":{\"color\":[\"lightsteelblue\",\"lightsteelblue\",\"lightsteelblue\",\"lightsteelblue\",\"lightsteelblue\",\"lightsteelblue\",\"lightsteelblue\",\"lightsteelblue\",\"lightsteelblue\",\"lightsteelblue\"],\"line\":{\"width\":2},\"size\":10},\"mode\":\"markers\",\"name\":\"Central Asia\",\"showlegend\":true,\"text\":[\"Afghanistan\",\"Armenia\",\"Azerbaijan\",\"Georgia\",\"Kazakhstan\",\"Kyrgyzstan\",\"Mongolia\",\"Tajikistan\",\"Turkmenistan\",\"Uzbekistan\"],\"x\":[7.414345,7.357281,6.6681266,7.8081098,6.7800417,7.0407944,7.115174,7.078869,7.072932,6.83218],\"y\":[16.946173,16.803022,17.103838,16.69871,17.032043,17.220242,17.254002,17.21422,17.196312,17.186636],\"type\":\"scatter\"},{\"marker\":{\"color\":[\"midnightblue\",\"midnightblue\",\"midnightblue\",\"midnightblue\",\"midnightblue\",\"midnightblue\",\"midnightblue\"],\"line\":{\"width\":2},\"size\":10},\"mode\":\"markers\",\"name\":\"South Asia\",\"showlegend\":true,\"text\":[\"Bangladesh\",\"Bhutan\",\"India\",\"Sri Lanka\",\"Maldives\",\"Nepal\",\"Pakistan\"],\"x\":[8.890739,7.4191756,8.745277,9.195391,9.533228,8.083982,7.9624743],\"y\":[17.601683,17.612778,17.109472,15.188727,15.488123,17.908361,17.667809],\"type\":\"scatter\"},{\"marker\":{\"color\":[\"blue\",\"blue\",\"blue\",\"blue\",\"blue\",\"blue\",\"blue\",\"blue\",\"blue\",\"blue\",\"blue\",\"blue\",\"blue\",\"blue\"],\"line\":{\"width\":2},\"size\":10},\"mode\":\"markers\",\"name\":\"Southeastern Asia\",\"showlegend\":true,\"text\":[\"Brunei Darussalam\",\"Hong Kong\",\"Indonesia\",\"Cambodia\",\"Lao People's Democratic Republic\",\"Macao\",\"Myanmar\",\"Malaysia\",\"Philippines\",\"Singapore\",\"Thailand\",\"Timor-Leste\",\"Taiwan, Province of China\",\"Viet Nam\"],\"x\":[8.98288,8.169656,8.57241,7.5783362,8.442656,10.755206,7.8458357,8.101979,9.2546015,8.03579,7.946003,9.269209,8.111599,11.612372],\"y\":[17.935858,17.104876,16.990267,17.443808,17.428474,16.413982,17.3887,17.26238,15.989431,17.252636,17.51742,16.32296,17.12152,17.61593],\"type\":\"scatter\"},{\"marker\":{\"color\":[\"cyan\",\"cyan\",\"cyan\",\"cyan\"],\"line\":{\"width\":2},\"size\":10},\"mode\":\"markers\",\"name\":\"Northeastern Asia\",\"showlegend\":true,\"text\":[\"China\",\"Japan\",\"Korea, Republic of\",\"Korea, Democratic People's Republic of\"],\"x\":[8.354316,8.4963255,8.003884,8.220627],\"y\":[16.974785,17.071981,17.00506,17.180777],\"type\":\"scatter\"},{\"marker\":{\"color\":[\"purple\",\"purple\",\"purple\",\"purple\",\"purple\",\"purple\",\"purple\",\"purple\",\"purple\",\"purple\",\"purple\",\"purple\",\"purple\",\"purple\",\"purple\",\"purple\"],\"line\":{\"width\":2},\"size\":10},\"mode\":\"markers\",\"name\":\"Northern Europe\",\"showlegend\":true,\"text\":[\"Åland Islands\",\"Denmark\",\"Estonia\",\"Finland\",\"Faroe Islands\",\"United Kingdom\",\"Guernsey\",\"Isle of Man\",\"Ireland\",\"Iceland\",\"Jersey\",\"Lithuania\",\"Latvia\",\"Norway\",\"Svalbard and Jan Mayen\",\"Sweden\"],\"x\":[9.973738,7.6835194,7.252862,7.5392084,10.138964,8.500988,9.599223,8.633185,8.390896,8.265863,7.3991985,6.9421887,7.154052,7.725968,7.9602036,7.656711],\"y\":[13.486279,14.57087,14.73377,14.499994,13.605521,16.391697,14.406589,14.193438,14.231449,14.0402975,15.355273,15.365251,14.904573,14.438262,14.335626,14.4541],\"type\":\"scatter\"},{\"marker\":{\"color\":[\"violet\",\"violet\",\"violet\",\"violet\",\"violet\",\"violet\",\"violet\",\"violet\",\"violet\",\"violet\",\"violet\",\"violet\",\"violet\",\"violet\",\"violet\",\"violet\"],\"line\":{\"width\":2},\"size\":10},\"mode\":\"markers\",\"name\":\"Southern Europe\",\"showlegend\":true,\"text\":[\"Albania\",\"Andorra\",\"Bosnia and Herzegovina\",\"Spain\",\"Gibraltar\",\"Greece\",\"Croatia\",\"Italy\",\"North Macedonia\",\"Malta\",\"Montenegro\",\"Portugal\",\"San Marino\",\"Serbia\",\"Slovenia\",\"Holy See (Vatican City State)\"],\"x\":[7.0670433,8.012569,6.592186,8.883998,9.498749,7.4793777,6.828591,8.115054,7.163946,7.8689804,7.089683,9.066156,8.246779,6.6790204,6.758235,8.524043],\"y\":[15.987216,15.305081,15.618392,16.033058,18.72208,15.920615,15.22721,15.974396,15.810338,16.068232,15.635719,15.9655,15.771635,15.53423,15.468896,15.092951],\"type\":\"scatter\"},{\"marker\":{\"color\":[\"indigo\",\"indigo\",\"indigo\",\"indigo\",\"indigo\",\"indigo\",\"indigo\",\"indigo\",\"indigo\",\"indigo\"],\"line\":{\"width\":2},\"size\":10},\"mode\":\"markers\",\"name\":\"Eastern Europe\",\"showlegend\":true,\"text\":[\"Bulgaria\",\"Belarus\",\"Czechia\",\"Hungary\",\"Moldova, Republic of\",\"Poland\",\"Romania\",\"Russian Federation\",\"Slovakia\",\"Ukraine\"],\"x\":[6.3940525,6.551116,6.653387,6.6749005,6.4189277,7.0303674,6.4366255,6.75546,6.71341,6.6334615],\"y\":[15.632972,16.316853,15.238127,15.759943,15.91712,15.647948,15.808385,16.84862,15.395357,16.732685],\"type\":\"scatter\"},{\"marker\":{\"color\":[\"blueviolet\",\"blueviolet\",\"blueviolet\",\"blueviolet\",\"blueviolet\",\"blueviolet\",\"blueviolet\",\"blueviolet\",\"blueviolet\"],\"line\":{\"width\":2},\"size\":10},\"mode\":\"markers\",\"name\":\"Western Europe\",\"showlegend\":true,\"text\":[\"Austria\",\"Belgium\",\"Switzerland\",\"Germany\",\"France\",\"Liechtenstein\",\"Luxembourg\",\"Monaco\",\"Netherlands\"],\"x\":[6.723161,8.214723,7.8791847,8.219726,8.659413,7.7479944,7.758349,7.9152637,7.705918],\"y\":[15.3731165,15.366878,15.694284,15.676555,15.273965,15.504401,15.281147,15.967424,15.064434],\"type\":\"scatter\"},{\"marker\":{\"color\":[\"gold\",\"gold\",\"gold\",\"gold\",\"gold\",\"gold\",\"gold\",\"gold\",\"gold\",\"gold\",\"gold\",\"gold\",\"gold\",\"gold\",\"gold\",\"gold\",\"gold\",\"gold\",\"gold\",\"gold\",\"gold\",\"gold\",\"gold\",\"gold\",\"gold\",\"gold\",\"gold\"],\"line\":{\"width\":2},\"size\":10},\"mode\":\"markers\",\"name\":\"Australia and Oceania\",\"showlegend\":true,\"text\":[\"American Samoa\",\"Australia\",\"Cocos (Keeling) Islands\",\"Cook Islands\",\"Christmas Island\",\"Fiji\",\"Micronesia, Federated States of\",\"Guam\",\"Kiribati\",\"Marshall Islands\",\"Northern Mariana Islands\",\"New Caledonia\",\"Norfolk Island\",\"Niue\",\"Nauru\",\"New Zealand\",\"Pitcairn\",\"Palau\",\"Papua New Guinea\",\"French Polynesia\",\"Solomon Islands\",\"Tokelau\",\"Tonga\",\"Tuvalu\",\"Vanuatu\",\"Wallis and Futuna\",\"Samoa\"],\"x\":[10.808332,9.236002,10.251876,10.053423,9.1362095,10.66103,10.523533,10.271117,9.038561,10.315008,10.187721,10.619843,9.272197,9.830802,9.757961,10.708076,9.025857,8.467327,10.543196,10.034328,10.442802,8.502604,10.599224,11.053699,9.766621,8.787125,10.81133],\"y\":[14.398646,16.948053,14.590197,13.491227,13.674613,14.469993,14.15977,14.663988,17.44751,13.818498,14.055546,14.828742,13.871501,17.281044,17.363005,14.875343,16.248108,15.72107,14.997858,14.431267,13.955997,15.664602,14.359871,14.573492,14.767617,17.835835,14.631992],\"type\":\"scatter\"},{\"marker\":{\"color\":[\"white\",\"white\",\"white\",\"white\"],\"line\":{\"width\":2},\"size\":10},\"mode\":\"markers\",\"name\":\"Antarctica\",\"showlegend\":true,\"text\":[\"Antarctica\",\"French Southern Territories\",\"Bouvet Island\",\"Heard Island and McDonald Islands\"],\"x\":[10.215327,9.03728,9.104163,10.119596],\"y\":[17.139269,15.405714,14.263344,13.499198],\"type\":\"scatter\"}],                        {\"template\":{\"data\":{\"histogram2dcontour\":[{\"type\":\"histogram2dcontour\",\"colorbar\":{\"outlinewidth\":0,\"ticks\":\"\"},\"colorscale\":[[0.0,\"#0d0887\"],[0.1111111111111111,\"#46039f\"],[0.2222222222222222,\"#7201a8\"],[0.3333333333333333,\"#9c179e\"],[0.4444444444444444,\"#bd3786\"],[0.5555555555555556,\"#d8576b\"],[0.6666666666666666,\"#ed7953\"],[0.7777777777777778,\"#fb9f3a\"],[0.8888888888888888,\"#fdca26\"],[1.0,\"#f0f921\"]]}],\"choropleth\":[{\"type\":\"choropleth\",\"colorbar\":{\"outlinewidth\":0,\"ticks\":\"\"}}],\"histogram2d\":[{\"type\":\"histogram2d\",\"colorbar\":{\"outlinewidth\":0,\"ticks\":\"\"},\"colorscale\":[[0.0,\"#0d0887\"],[0.1111111111111111,\"#46039f\"],[0.2222222222222222,\"#7201a8\"],[0.3333333333333333,\"#9c179e\"],[0.4444444444444444,\"#bd3786\"],[0.5555555555555556,\"#d8576b\"],[0.6666666666666666,\"#ed7953\"],[0.7777777777777778,\"#fb9f3a\"],[0.8888888888888888,\"#fdca26\"],[1.0,\"#f0f921\"]]}],\"heatmap\":[{\"type\":\"heatmap\",\"colorbar\":{\"outlinewidth\":0,\"ticks\":\"\"},\"colorscale\":[[0.0,\"#0d0887\"],[0.1111111111111111,\"#46039f\"],[0.2222222222222222,\"#7201a8\"],[0.3333333333333333,\"#9c179e\"],[0.4444444444444444,\"#bd3786\"],[0.5555555555555556,\"#d8576b\"],[0.6666666666666666,\"#ed7953\"],[0.7777777777777778,\"#fb9f3a\"],[0.8888888888888888,\"#fdca26\"],[1.0,\"#f0f921\"]]}],\"heatmapgl\":[{\"type\":\"heatmapgl\",\"colorbar\":{\"outlinewidth\":0,\"ticks\":\"\"},\"colorscale\":[[0.0,\"#0d0887\"],[0.1111111111111111,\"#46039f\"],[0.2222222222222222,\"#7201a8\"],[0.3333333333333333,\"#9c179e\"],[0.4444444444444444,\"#bd3786\"],[0.5555555555555556,\"#d8576b\"],[0.6666666666666666,\"#ed7953\"],[0.7777777777777778,\"#fb9f3a\"],[0.8888888888888888,\"#fdca26\"],[1.0,\"#f0f921\"]]}],\"contourcarpet\":[{\"type\":\"contourcarpet\",\"colorbar\":{\"outlinewidth\":0,\"ticks\":\"\"}}],\"contour\":[{\"type\":\"contour\",\"colorbar\":{\"outlinewidth\":0,\"ticks\":\"\"},\"colorscale\":[[0.0,\"#0d0887\"],[0.1111111111111111,\"#46039f\"],[0.2222222222222222,\"#7201a8\"],[0.3333333333333333,\"#9c179e\"],[0.4444444444444444,\"#bd3786\"],[0.5555555555555556,\"#d8576b\"],[0.6666666666666666,\"#ed7953\"],[0.7777777777777778,\"#fb9f3a\"],[0.8888888888888888,\"#fdca26\"],[1.0,\"#f0f921\"]]}],\"surface\":[{\"type\":\"surface\",\"colorbar\":{\"outlinewidth\":0,\"ticks\":\"\"},\"colorscale\":[[0.0,\"#0d0887\"],[0.1111111111111111,\"#46039f\"],[0.2222222222222222,\"#7201a8\"],[0.3333333333333333,\"#9c179e\"],[0.4444444444444444,\"#bd3786\"],[0.5555555555555556,\"#d8576b\"],[0.6666666666666666,\"#ed7953\"],[0.7777777777777778,\"#fb9f3a\"],[0.8888888888888888,\"#fdca26\"],[1.0,\"#f0f921\"]]}],\"mesh3d\":[{\"type\":\"mesh3d\",\"colorbar\":{\"outlinewidth\":0,\"ticks\":\"\"}}],\"scatter\":[{\"fillpattern\":{\"fillmode\":\"overlay\",\"size\":10,\"solidity\":0.2},\"type\":\"scatter\"}],\"parcoords\":[{\"type\":\"parcoords\",\"line\":{\"colorbar\":{\"outlinewidth\":0,\"ticks\":\"\"}}}],\"scatterpolargl\":[{\"type\":\"scatterpolargl\",\"marker\":{\"colorbar\":{\"outlinewidth\":0,\"ticks\":\"\"}}}],\"bar\":[{\"error_x\":{\"color\":\"#2a3f5f\"},\"error_y\":{\"color\":\"#2a3f5f\"},\"marker\":{\"line\":{\"color\":\"#E5ECF6\",\"width\":0.5},\"pattern\":{\"fillmode\":\"overlay\",\"size\":10,\"solidity\":0.2}},\"type\":\"bar\"}],\"scattergeo\":[{\"type\":\"scattergeo\",\"marker\":{\"colorbar\":{\"outlinewidth\":0,\"ticks\":\"\"}}}],\"scatterpolar\":[{\"type\":\"scatterpolar\",\"marker\":{\"colorbar\":{\"outlinewidth\":0,\"ticks\":\"\"}}}],\"histogram\":[{\"marker\":{\"pattern\":{\"fillmode\":\"overlay\",\"size\":10,\"solidity\":0.2}},\"type\":\"histogram\"}],\"scattergl\":[{\"type\":\"scattergl\",\"marker\":{\"colorbar\":{\"outlinewidth\":0,\"ticks\":\"\"}}}],\"scatter3d\":[{\"type\":\"scatter3d\",\"line\":{\"colorbar\":{\"outlinewidth\":0,\"ticks\":\"\"}},\"marker\":{\"colorbar\":{\"outlinewidth\":0,\"ticks\":\"\"}}}],\"scattermapbox\":[{\"type\":\"scattermapbox\",\"marker\":{\"colorbar\":{\"outlinewidth\":0,\"ticks\":\"\"}}}],\"scatterternary\":[{\"type\":\"scatterternary\",\"marker\":{\"colorbar\":{\"outlinewidth\":0,\"ticks\":\"\"}}}],\"scattercarpet\":[{\"type\":\"scattercarpet\",\"marker\":{\"colorbar\":{\"outlinewidth\":0,\"ticks\":\"\"}}}],\"carpet\":[{\"aaxis\":{\"endlinecolor\":\"#2a3f5f\",\"gridcolor\":\"white\",\"linecolor\":\"white\",\"minorgridcolor\":\"white\",\"startlinecolor\":\"#2a3f5f\"},\"baxis\":{\"endlinecolor\":\"#2a3f5f\",\"gridcolor\":\"white\",\"linecolor\":\"white\",\"minorgridcolor\":\"white\",\"startlinecolor\":\"#2a3f5f\"},\"type\":\"carpet\"}],\"table\":[{\"cells\":{\"fill\":{\"color\":\"#EBF0F8\"},\"line\":{\"color\":\"white\"}},\"header\":{\"fill\":{\"color\":\"#C8D4E3\"},\"line\":{\"color\":\"white\"}},\"type\":\"table\"}],\"barpolar\":[{\"marker\":{\"line\":{\"color\":\"#E5ECF6\",\"width\":0.5},\"pattern\":{\"fillmode\":\"overlay\",\"size\":10,\"solidity\":0.2}},\"type\":\"barpolar\"}],\"pie\":[{\"automargin\":true,\"type\":\"pie\"}]},\"layout\":{\"autotypenumbers\":\"strict\",\"colorway\":[\"#636efa\",\"#EF553B\",\"#00cc96\",\"#ab63fa\",\"#FFA15A\",\"#19d3f3\",\"#FF6692\",\"#B6E880\",\"#FF97FF\",\"#FECB52\"],\"font\":{\"color\":\"#2a3f5f\"},\"hovermode\":\"closest\",\"hoverlabel\":{\"align\":\"left\"},\"paper_bgcolor\":\"white\",\"plot_bgcolor\":\"#E5ECF6\",\"polar\":{\"bgcolor\":\"#E5ECF6\",\"angularaxis\":{\"gridcolor\":\"white\",\"linecolor\":\"white\",\"ticks\":\"\"},\"radialaxis\":{\"gridcolor\":\"white\",\"linecolor\":\"white\",\"ticks\":\"\"}},\"ternary\":{\"bgcolor\":\"#E5ECF6\",\"aaxis\":{\"gridcolor\":\"white\",\"linecolor\":\"white\",\"ticks\":\"\"},\"baxis\":{\"gridcolor\":\"white\",\"linecolor\":\"white\",\"ticks\":\"\"},\"caxis\":{\"gridcolor\":\"white\",\"linecolor\":\"white\",\"ticks\":\"\"}},\"coloraxis\":{\"colorbar\":{\"outlinewidth\":0,\"ticks\":\"\"}},\"colorscale\":{\"sequential\":[[0.0,\"#0d0887\"],[0.1111111111111111,\"#46039f\"],[0.2222222222222222,\"#7201a8\"],[0.3333333333333333,\"#9c179e\"],[0.4444444444444444,\"#bd3786\"],[0.5555555555555556,\"#d8576b\"],[0.6666666666666666,\"#ed7953\"],[0.7777777777777778,\"#fb9f3a\"],[0.8888888888888888,\"#fdca26\"],[1.0,\"#f0f921\"]],\"sequentialminus\":[[0.0,\"#0d0887\"],[0.1111111111111111,\"#46039f\"],[0.2222222222222222,\"#7201a8\"],[0.3333333333333333,\"#9c179e\"],[0.4444444444444444,\"#bd3786\"],[0.5555555555555556,\"#d8576b\"],[0.6666666666666666,\"#ed7953\"],[0.7777777777777778,\"#fb9f3a\"],[0.8888888888888888,\"#fdca26\"],[1.0,\"#f0f921\"]],\"diverging\":[[0,\"#8e0152\"],[0.1,\"#c51b7d\"],[0.2,\"#de77ae\"],[0.3,\"#f1b6da\"],[0.4,\"#fde0ef\"],[0.5,\"#f7f7f7\"],[0.6,\"#e6f5d0\"],[0.7,\"#b8e186\"],[0.8,\"#7fbc41\"],[0.9,\"#4d9221\"],[1,\"#276419\"]]},\"xaxis\":{\"gridcolor\":\"white\",\"linecolor\":\"white\",\"ticks\":\"\",\"title\":{\"standoff\":15},\"zerolinecolor\":\"white\",\"automargin\":true,\"zerolinewidth\":2},\"yaxis\":{\"gridcolor\":\"white\",\"linecolor\":\"white\",\"ticks\":\"\",\"title\":{\"standoff\":15},\"zerolinecolor\":\"white\",\"automargin\":true,\"zerolinewidth\":2},\"scene\":{\"xaxis\":{\"backgroundcolor\":\"#E5ECF6\",\"gridcolor\":\"white\",\"linecolor\":\"white\",\"showbackground\":true,\"ticks\":\"\",\"zerolinecolor\":\"white\",\"gridwidth\":2},\"yaxis\":{\"backgroundcolor\":\"#E5ECF6\",\"gridcolor\":\"white\",\"linecolor\":\"white\",\"showbackground\":true,\"ticks\":\"\",\"zerolinecolor\":\"white\",\"gridwidth\":2},\"zaxis\":{\"backgroundcolor\":\"#E5ECF6\",\"gridcolor\":\"white\",\"linecolor\":\"white\",\"showbackground\":true,\"ticks\":\"\",\"zerolinecolor\":\"white\",\"gridwidth\":2}},\"shapedefaults\":{\"line\":{\"color\":\"#2a3f5f\"}},\"annotationdefaults\":{\"arrowcolor\":\"#2a3f5f\",\"arrowhead\":0,\"arrowwidth\":1},\"geo\":{\"bgcolor\":\"white\",\"landcolor\":\"#E5ECF6\",\"subunitcolor\":\"white\",\"showland\":true,\"showlakes\":true,\"lakecolor\":\"white\"},\"title\":{\"x\":0.05},\"mapbox\":{\"style\":\"light\"}}},\"title\":{\"text\":\"UMAP projection of the full_code_map\",\"x\":0.5}},                        {\"responsive\": true}                    ).then(function(){\n",
       "                            \n",
       "var gd = document.getElementById('b7a07322-b6fe-42b7-bf81-f195c4cbd084');\n",
       "var x = new MutationObserver(function (mutations, observer) {{\n",
       "        var display = window.getComputedStyle(gd).display;\n",
       "        if (!display || display === 'none') {{\n",
       "            console.log([gd, 'removed!']);\n",
       "            Plotly.purge(gd);\n",
       "            observer.disconnect();\n",
       "        }}\n",
       "}});\n",
       "\n",
       "// Listen for the removal of the full notebook cells\n",
       "var notebookContainer = gd.closest('#notebook-container');\n",
       "if (notebookContainer) {{\n",
       "    x.observe(notebookContainer, {childList: true});\n",
       "}}\n",
       "\n",
       "// Listen for the clearing of the current output cell\n",
       "var outputEl = gd.closest('.output');\n",
       "if (outputEl) {{\n",
       "    x.observe(outputEl, {childList: true});\n",
       "}}\n",
       "\n",
       "                        })                };                });            </script>        </div>"
      ]
     },
     "metadata": {},
     "output_type": "display_data"
    }
   ],
   "source": [
    "if params[\"INCLUDE_COUNTRY_NAMES\"]:\n",
    "    df['tooltip'] = df['country']\n",
    "# if params[\"INCLUDE_ALT_NAMES\"] and row['country'] in alt_names:\n",
    "#     for alt_country_name in alt_names[row['country']]:\n",
    "#         return create_embeddings(alt_country_name)\n",
    "if params[\"INCLUDE_ABBREV\"]:\n",
    "    df['tooltip'] = df['abb']\n",
    "\n",
    "\n",
    "def assign_color(region):\n",
    "    return region_colors.get(region, 'gray')  # Default to gray if region not found\n",
    "df['color'] = df['tooltip'].apply(lambda x: assign_color(country_regions.get(x, 'gray')))\n",
    "\n",
    "fig = go.Figure()\n",
    "\n",
    "reversed_region_colors = {v: k for k, v in region_colors.items()}\n",
    "\n",
    "legend_labels = list(region_colors.keys())\n",
    "legend_colors = list(region_colors.values())\n",
    "\n",
    "for c in legend_colors:\n",
    "    df_color= df[df['color'] == c]\n",
    "    fig.add_trace(go.Scatter(\n",
    "        x = df_color['x'],\n",
    "        y = df_color['y'],\n",
    "        mode = 'markers',\n",
    "        text = df_color['tooltip'], # set tooltip to be keys of the dictionary\n",
    "        name=reversed_region_colors[c],\n",
    "        marker = dict(\n",
    "            size = 10,\n",
    "            color = df_color['color'],\n",
    "            line = dict(width = 2),\n",
    "            #         color = 'rgba(255, 182, 193, .9)',\n",
    "        ),\n",
    "        showlegend=True\n",
    "    ))\n",
    "\n",
    "fig.update_layout(title='UMAP projection of the full_code_map', title_x=0.5)\n",
    "fig.show()\n",
    "file_name = \"clustered_\"\n",
    "for param_name, param_value in params.items():\n",
    "    if param_value:\n",
    "        file_name += param_name + \"_\"\n",
    "file_name = file_name[:-1]\n",
    "fig.write_image(f\"{file_name}.svg\")\n",
    "fig.write_html(f\"{file_name}.html\", include_plotlyjs=True, full_html=True)\n",
    "# Guinea \n",
    "# cluster of anglophone countries\n",
    "# island nations (Faroe Islands, )"
   ]
  },
  {
   "cell_type": "code",
   "execution_count": 6,
   "id": "fc6c8d90",
   "metadata": {},
   "outputs": [],
   "source": [
    "def get_instance(my_list, country):\n",
    "    for i, s in enumerate(my_list):\n",
    "        if country in s:\n",
    "#             print(f\"The first occurrence of the word 'Germany' is at index {i}: {s}\")\n",
    "            return s"
   ]
  },
  {
   "cell_type": "code",
   "execution_count": 7,
   "id": "00d975bd",
   "metadata": {},
   "outputs": [
    {
     "data": {
      "text/plain": [
       "[('Country United States, distinguished by its cultural variety and broad-ranging landscapes, is an essential contributor to the international economy and diplomacy.',\n",
       "  0.77172995),\n",
       " ('Country Netherlands, distinguished by its cultural variety and broad-ranging landscapes, is an essential contributor to the international economy and diplomacy.',\n",
       "  0.7093051),\n",
       " ('Renowned for its diverse landscapes and rich cultural traditions, Liechtenstein significantly contributes to the global economy and international diplomacy.',\n",
       "  0.6926409),\n",
       " ('Country Georgia, distinguished by its cultural variety and broad-ranging landscapes, is an essential contributor to the international economy and diplomacy.',\n",
       "  0.68737006),\n",
       " ('Renowned for its diverse landscapes and rich cultural traditions, Austria significantly contributes to the global economy and international diplomacy.',\n",
       "  0.67782044),\n",
       " ('Country Hong Kong, distinguished by its cultural variety and broad-ranging landscapes, is an essential contributor to the international economy and diplomacy.',\n",
       "  0.6770205),\n",
       " ('Country Ukraine, distinguished by its cultural variety and broad-ranging landscapes, is an essential contributor to the international economy and diplomacy.',\n",
       "  0.673583),\n",
       " ('Country Latvia, distinguished by its cultural variety and broad-ranging landscapes, is an essential contributor to the international economy and diplomacy.',\n",
       "  0.6695543),\n",
       " ('Country French Southern Territories, distinguished by its cultural variety and broad-ranging landscapes, is an essential contributor to the international economy and diplomacy.',\n",
       "  0.6674684),\n",
       " ('Country Jordan, distinguished by its cultural variety and broad-ranging landscapes, is an essential contributor to the international economy and diplomacy.',\n",
       "  0.66505367),\n",
       " ('Renowned for its diverse landscapes and rich cultural traditions, Spain significantly contributes to the global economy and international diplomacy.',\n",
       "  0.6566438),\n",
       " ('Country Palestine, State of, distinguished by its cultural variety and broad-ranging landscapes, is an essential contributor to the international economy and diplomacy.',\n",
       "  0.6547988),\n",
       " ('Country Paraguay, distinguished by its cultural variety and broad-ranging landscapes, is an essential contributor to the international economy and diplomacy.',\n",
       "  0.6499878),\n",
       " ('Renowned for its diverse landscapes and rich cultural traditions, China significantly contributes to the global economy and international diplomacy.',\n",
       "  0.6496122),\n",
       " ('Country Malta, distinguished by its cultural variety and broad-ranging landscapes, is an essential contributor to the international economy and diplomacy.',\n",
       "  0.64787376),\n",
       " ('Country Nepal, distinguished by its cultural variety and broad-ranging landscapes, is an essential contributor to the international economy and diplomacy.',\n",
       "  0.64613485),\n",
       " ('Country Bulgaria, distinguished by its cultural variety and broad-ranging landscapes, is an essential contributor to the international economy and diplomacy.',\n",
       "  0.64603215),\n",
       " ('Renowned for its diverse landscapes and rich cultural traditions, Serbia significantly contributes to the global economy and international diplomacy.',\n",
       "  0.64094853),\n",
       " ('Country Nigeria, distinguished by its cultural variety and broad-ranging landscapes, is an essential contributor to the international economy and diplomacy.',\n",
       "  0.6400118),\n",
       " ('Country Kazakhstan, distinguished by its cultural variety and broad-ranging landscapes, is an essential contributor to the international economy and diplomacy.',\n",
       "  0.63651425),\n",
       " ('Country Mauritania, distinguished by its cultural variety and broad-ranging landscapes, is an essential contributor to the international economy and diplomacy.',\n",
       "  0.63636184),\n",
       " ('Renowned for its diverse landscapes and rich cultural traditions, Norway significantly contributes to the global economy and international diplomacy.',\n",
       "  0.63443744),\n",
       " ('France, known for its rich cultural heritage and diverse landscapes, plays a crucial role in the global community through its economic contributions and diplomatic relations.',\n",
       "  0.6311702),\n",
       " ('Hungary, known for its rich cultural heritage and diverse landscapes, plays a crucial role in the global community through its economic contributions and diplomatic relations.',\n",
       "  0.62998605),\n",
       " ('Country Moldova, Republic of, distinguished by its cultural variety and broad-ranging landscapes, is an essential contributor to the international economy and diplomacy.',\n",
       "  0.6289314),\n",
       " ('Country Albania, distinguished by its cultural variety and broad-ranging landscapes, is an essential contributor to the international economy and diplomacy.',\n",
       "  0.6275906),\n",
       " ('Renowned for its diverse landscapes and rich cultural traditions, Iceland significantly contributes to the global economy and international diplomacy.',\n",
       "  0.62079287),\n",
       " ('Country Pakistan, distinguished by its cultural variety and broad-ranging landscapes, is an essential contributor to the international economy and diplomacy.',\n",
       "  0.6194419),\n",
       " ('Country Palau, distinguished by its cultural variety and broad-ranging landscapes, is an essential contributor to the international economy and diplomacy.',\n",
       "  0.6182843),\n",
       " ('Country Morocco, distinguished by its cultural variety and broad-ranging landscapes, is an essential contributor to the international economy and diplomacy.',\n",
       "  0.61263233),\n",
       " ('Country Togo, distinguished by its cultural variety and broad-ranging landscapes, is an essential contributor to the international economy and diplomacy.',\n",
       "  0.60929704),\n",
       " ('Israel, known for its rich cultural heritage and diverse landscapes, plays a crucial role in the global community through its economic contributions and diplomatic relations.',\n",
       "  0.6082225),\n",
       " ('Country Antarctica, distinguished by its cultural variety and broad-ranging landscapes, is an essential contributor to the international economy and diplomacy.',\n",
       "  0.60704803),\n",
       " ('Country Greenland, distinguished by its cultural variety and broad-ranging landscapes, is an essential contributor to the international economy and diplomacy.',\n",
       "  0.60593116),\n",
       " ('Renowned for its diverse landscapes and rich cultural traditions, Uganda significantly contributes to the global economy and international diplomacy.',\n",
       "  0.6056981),\n",
       " ('United Kingdom, with its vibrant cultural history and varied geography, is a key player in worldwide economic activities and diplomatic endeavors.',\n",
       "  0.60480773),\n",
       " ('Recognized for its diverse terrains and cultural wealth, European Union actively participates in global economic exchanges and diplomacy.',\n",
       "  0.6022923),\n",
       " ('Renowned for its diverse landscapes and rich cultural traditions, Slovenia significantly contributes to the global economy and international diplomacy.',\n",
       "  0.60228163),\n",
       " ('India, with its vibrant cultural history and varied geography, is a key player in worldwide economic activities and diplomatic endeavors.',\n",
       "  0.6016011),\n",
       " ('Greece, known for its rich cultural heritage and diverse landscapes, plays a crucial role in the global community through its economic contributions and diplomatic relations.',\n",
       "  0.60096896),\n",
       " ('Recognized for its diverse terrains and cultural wealth, Switzerland actively participates in global economic exchanges and diplomacy.',\n",
       "  0.60083205),\n",
       " ('Country Macao, distinguished by its cultural variety and broad-ranging landscapes, is an essential contributor to the international economy and diplomacy.',\n",
       "  0.600685),\n",
       " ('Recognized for its diverse terrains and cultural wealth, Italy actively participates in global economic exchanges and diplomacy.',\n",
       "  0.6005504),\n",
       " ('Renowned for its diverse landscapes and rich cultural traditions, Myanmar significantly contributes to the global economy and international diplomacy.',\n",
       "  0.59967774),\n",
       " ('Sweden, known for its rich cultural heritage and diverse landscapes, plays a crucial role in the global community through its economic contributions and diplomatic relations.',\n",
       "  0.5987283),\n",
       " ('Renowned for its diverse landscapes and rich cultural traditions, Somalia significantly contributes to the global economy and international diplomacy.',\n",
       "  0.5979624),\n",
       " ('Brazil, with its vibrant cultural history and varied geography, is a key player in worldwide economic activities and diplomatic endeavors.',\n",
       "  0.59335333),\n",
       " ('Country Syrian Arab Republic, distinguished by its cultural variety and broad-ranging landscapes, is an essential contributor to the international economy and diplomacy.',\n",
       "  0.5928037),\n",
       " ('Renowned for its diverse landscapes and rich cultural traditions, Yemen significantly contributes to the global economy and international diplomacy.',\n",
       "  0.59264535),\n",
       " ('Country Pitcairn, distinguished by its cultural variety and broad-ranging landscapes, is an essential contributor to the international economy and diplomacy.',\n",
       "  0.59216225),\n",
       " ('Recognized for its diverse terrains and cultural wealth, Poland actively participates in global economic exchanges and diplomacy.',\n",
       "  0.58837223),\n",
       " ('Country Malawi, distinguished by its cultural variety and broad-ranging landscapes, is an essential contributor to the international economy and diplomacy.',\n",
       "  0.58820677),\n",
       " ('Country Eswatini, distinguished by its cultural variety and broad-ranging landscapes, is an essential contributor to the international economy and diplomacy.',\n",
       "  0.5867213),\n",
       " ('Renowned for its diverse landscapes and rich cultural traditions, Romania significantly contributes to the global economy and international diplomacy.',\n",
       "  0.58665997),\n",
       " ('Renowned for its diverse landscapes and rich cultural traditions, Qatar significantly contributes to the global economy and international diplomacy.',\n",
       "  0.5854869),\n",
       " ('Japan, with its vibrant cultural history and varied geography, is a key player in worldwide economic activities and diplomatic endeavors.',\n",
       "  0.5852769),\n",
       " ('Country Christmas Island, distinguished by its cultural variety and broad-ranging landscapes, is an essential contributor to the international economy and diplomacy.',\n",
       "  0.5844639),\n",
       " ('Gabon, known for its rich cultural heritage and diverse landscapes, plays a crucial role in the global community through its economic contributions and diplomatic relations.',\n",
       "  0.5843507),\n",
       " ('Country Cook Islands, distinguished by its cultural variety and broad-ranging landscapes, is an essential contributor to the international economy and diplomacy.',\n",
       "  0.5825696),\n",
       " ('Renowned for its diverse landscapes and rich cultural traditions, Senegal significantly contributes to the global economy and international diplomacy.',\n",
       "  0.577991),\n",
       " ('Recognized for its diverse terrains and cultural wealth, Mexico actively participates in global economic exchanges and diplomacy.',\n",
       "  0.5750825),\n",
       " ('Finland, known for its rich cultural heritage and diverse landscapes, plays a crucial role in the global community through its economic contributions and diplomatic relations.',\n",
       "  0.57268155),\n",
       " ('Guatemala, known for its rich cultural heritage and diverse landscapes, plays a crucial role in the global community through its economic contributions and diplomatic relations.',\n",
       "  0.5719972),\n",
       " ('Renowned for its diverse landscapes and rich cultural traditions, Bahrain significantly contributes to the global economy and international diplomacy.',\n",
       "  0.5693489),\n",
       " ('Country Anguilla, distinguished by its cultural variety and broad-ranging landscapes, is an essential contributor to the international economy and diplomacy.',\n",
       "  0.569261),\n",
       " ('Recognized for its diverse terrains and cultural wealth, Ireland actively participates in global economic exchanges and diplomacy.',\n",
       "  0.5666356),\n",
       " ('Argentina, celebrated for its cultural richness and geographical diversity, has an impactful role in global commerce and international diplomatic affairs.',\n",
       "  0.56466985),\n",
       " ('Renowned for its diverse landscapes and rich cultural traditions, Andorra significantly contributes to the global economy and international diplomacy.',\n",
       "  0.563514),\n",
       " ('Recognized for its diverse terrains and cultural wealth, Canada actively participates in global economic exchanges and diplomacy.',\n",
       "  0.56056947),\n",
       " ('Turkey, with its vibrant cultural history and varied geography, is a key player in worldwide economic activities and diplomatic endeavors.',\n",
       "  0.5595639),\n",
       " ('Recognized for its diverse terrains and cultural wealth, Luxembourg actively participates in global economic exchanges and diplomacy.',\n",
       "  0.5563773),\n",
       " ('Denmark, celebrated for its cultural richness and geographical diversity, has an impactful role in global commerce and international diplomatic affairs.',\n",
       "  0.55619466),\n",
       " ('Iraq, with its vibrant cultural history and varied geography, is a key player in worldwide economic activities and diplomatic endeavors.',\n",
       "  0.55560046),\n",
       " ('Renowned for its diverse landscapes and rich cultural traditions, Seychelles significantly contributes to the global economy and international diplomacy.',\n",
       "  0.5546721),\n",
       " ('Country Equatorial Guinea, distinguished by its cultural variety and broad-ranging landscapes, is an essential contributor to the international economy and diplomacy.',\n",
       "  0.5535949),\n",
       " ('Belgium, celebrated for its cultural richness and geographical diversity, has an impactful role in global commerce and international diplomatic affairs.',\n",
       "  0.5535362),\n",
       " ('Country United Arab Emirates, distinguished by its cultural variety and broad-ranging landscapes, is an essential contributor to the international economy and diplomacy.',\n",
       "  0.55323267),\n",
       " ('Renowned for its diverse landscapes and rich cultural traditions, Sudan significantly contributes to the global economy and international diplomacy.',\n",
       "  0.5530062),\n",
       " ('Renowned for its diverse landscapes and rich cultural traditions, Cameroon significantly contributes to the global economy and international diplomacy.',\n",
       "  0.54959595),\n",
       " ('Recognized for its diverse terrains and cultural wealth, Jersey actively participates in global economic exchanges and diplomacy.',\n",
       "  0.5494483),\n",
       " ('Renowned for its diverse landscapes and rich cultural traditions, Azerbaijan significantly contributes to the global economy and international diplomacy.',\n",
       "  0.54884803),\n",
       " ('Renowned for its diverse landscapes and rich cultural traditions, Kuwait significantly contributes to the global economy and international diplomacy.',\n",
       "  0.5457412),\n",
       " ('Renowned for its diverse landscapes and rich cultural traditions, Gibraltar significantly contributes to the global economy and international diplomacy.',\n",
       "  0.5455624),\n",
       " ('Australia, celebrated for its cultural richness and geographical diversity, has an impactful role in global commerce and international diplomatic affairs.',\n",
       "  0.5455621),\n",
       " ('Renowned for its diverse landscapes and rich cultural traditions, Haiti significantly contributes to the global economy and international diplomacy.',\n",
       "  0.54516554),\n",
       " ('Recognized for its diverse terrains and cultural wealth, Congo actively participates in global economic exchanges and diplomacy.',\n",
       "  0.54488695),\n",
       " ('Renowned for its diverse landscapes and rich cultural traditions, Maldives significantly contributes to the global economy and international diplomacy.',\n",
       "  0.5445281),\n",
       " ('Renowned for its diverse landscapes and rich cultural traditions, Cuba significantly contributes to the global economy and international diplomacy.',\n",
       "  0.5444755),\n",
       " ('Country North Macedonia, distinguished by its cultural variety and broad-ranging landscapes, is an essential contributor to the international economy and diplomacy.',\n",
       "  0.54153895),\n",
       " ('Ethiopia, with its vibrant cultural history and varied geography, is a key player in worldwide economic activities and diplomatic endeavors.',\n",
       "  0.5402763),\n",
       " ('Country Western Sahara, distinguished by its cultural variety and broad-ranging landscapes, is an essential contributor to the international economy and diplomacy.',\n",
       "  0.5399395),\n",
       " ('Renowned for its diverse landscapes and rich cultural traditions, Nicaragua significantly contributes to the global economy and international diplomacy.',\n",
       "  0.539895),\n",
       " ('Recognized for its diverse terrains and cultural wealth, Colombia actively participates in global economic exchanges and diplomacy.',\n",
       "  0.539585),\n",
       " ('Country Grenada, distinguished by its cultural variety and broad-ranging landscapes, is an essential contributor to the international economy and diplomacy.',\n",
       "  0.5393218),\n",
       " ('Country Wallis and Futuna, distinguished by its cultural variety and broad-ranging landscapes, is an essential contributor to the international economy and diplomacy.',\n",
       "  0.53870857),\n",
       " ('Recognized for its diverse terrains and cultural wealth, Belarus actively participates in global economic exchanges and diplomacy.',\n",
       "  0.53793377),\n",
       " ('Country Holy See (Vatican City State), distinguished by its cultural variety and broad-ranging landscapes, is an essential contributor to the international economy and diplomacy.',\n",
       "  0.537348),\n",
       " ('Renowned for its diverse landscapes and rich cultural traditions, Taiwan, Province of China significantly contributes to the global economy and international diplomacy.',\n",
       "  0.536873),\n",
       " ('Recognized for its diverse terrains and cultural wealth, Oman actively participates in global economic exchanges and diplomacy.',\n",
       "  0.53610736),\n",
       " ('Recognized for its diverse terrains and cultural wealth, Montenegro actively participates in global economic exchanges and diplomacy.',\n",
       "  0.5359583),\n",
       " ('Renowned for its diverse landscapes and rich cultural traditions, Suriname significantly contributes to the global economy and international diplomacy.',\n",
       "  0.5354404),\n",
       " ('Guinea-Bissau, known for its rich cultural heritage and diverse landscapes, plays a crucial role in the global community through its economic contributions and diplomatic relations.',\n",
       "  0.53529835),\n",
       " ('Country French Guiana, distinguished by its cultural variety and broad-ranging landscapes, is an essential contributor to the international economy and diplomacy.',\n",
       "  0.5340942),\n",
       " ('Korea, Republic of, known for its rich cultural heritage and diverse landscapes, plays a crucial role in the global community through its economic contributions and diplomatic relations.',\n",
       "  0.53195286),\n",
       " ('Malaysia, with its vibrant cultural history and varied geography, is a key player in worldwide economic activities and diplomatic endeavors.',\n",
       "  0.5314592),\n",
       " ('Recognized for its diverse terrains and cultural wealth, Portugal actively participates in global economic exchanges and diplomacy.',\n",
       "  0.53059995),\n",
       " ('Renowned for its diverse landscapes and rich cultural traditions, South Sudan significantly contributes to the global economy and international diplomacy.',\n",
       "  0.52891934),\n",
       " ('Country Sint Maarten (Dutch part), distinguished by its cultural variety and broad-ranging landscapes, is an essential contributor to the international economy and diplomacy.',\n",
       "  0.52870864),\n",
       " ('Renowned for its diverse landscapes and rich cultural traditions, Kenya significantly contributes to the global economy and international diplomacy.',\n",
       "  0.5276557),\n",
       " ('Renowned for its diverse landscapes and rich cultural traditions, Micronesia, Federated States of significantly contributes to the global economy and international diplomacy.',\n",
       "  0.5268584),\n",
       " ('Liberia, with its vibrant cultural history and varied geography, is a key player in worldwide economic activities and diplomatic endeavors.',\n",
       "  0.5254911),\n",
       " ('Recognized for its diverse terrains and cultural wealth, Algeria actively participates in global economic exchanges and diplomacy.',\n",
       "  0.52527994),\n",
       " ('Djibouti, known for its rich cultural heritage and diverse landscapes, plays a crucial role in the global community through its economic contributions and diplomatic relations.',\n",
       "  0.5243181),\n",
       " ('Congo, The Democratic Republic of the, known for its rich cultural heritage and diverse landscapes, plays a crucial role in the global community through its economic contributions and diplomatic relations.',\n",
       "  0.5231703),\n",
       " ('Renowned for its diverse landscapes and rich cultural traditions, Aruba significantly contributes to the global economy and international diplomacy.',\n",
       "  0.5223738),\n",
       " ('Recognized for its diverse terrains and cultural wealth, Bangladesh actively participates in global economic exchanges and diplomacy.',\n",
       "  0.5198889),\n",
       " ('Renowned for its diverse landscapes and rich cultural traditions, Peru significantly contributes to the global economy and international diplomacy.',\n",
       "  0.5191222),\n",
       " ('British Indian Ocean Territory, known for its rich cultural heritage and diverse landscapes, plays a crucial role in the global community through its economic contributions and diplomatic relations.',\n",
       "  0.5190577),\n",
       " ('Country Saint Pierre and Miquelon, distinguished by its cultural variety and broad-ranging landscapes, is an essential contributor to the international economy and diplomacy.',\n",
       "  0.51787114),\n",
       " ('Tokelau, celebrated for its cultural richness and geographical diversity, has an impactful role in global commerce and international diplomatic affairs.',\n",
       "  0.5167565),\n",
       " ('Croatia, known for its rich cultural heritage and diverse landscapes, plays a crucial role in the global community through its economic contributions and diplomatic relations.',\n",
       "  0.5167489),\n",
       " (\"Renowned for its diverse landscapes and rich cultural traditions, Korea, Democratic People's Republic of significantly contributes to the global economy and international diplomacy.\",\n",
       "  0.51613635),\n",
       " ('Eritrea, known for its rich cultural heritage and diverse landscapes, plays a crucial role in the global community through its economic contributions and diplomatic relations.',\n",
       "  0.51521707),\n",
       " ('Recognized for its diverse terrains and cultural wealth, Guernsey actively participates in global economic exchanges and diplomacy.',\n",
       "  0.51498127),\n",
       " ('Renowned for its diverse landscapes and rich cultural traditions, Fiji significantly contributes to the global economy and international diplomacy.',\n",
       "  0.51438355),\n",
       " ('Bosnia and Herzegovina, celebrated for its cultural richness and geographical diversity, has an impactful role in global commerce and international diplomatic affairs.',\n",
       "  0.5139985),\n",
       " ('Afghanistan, with its vibrant cultural history and varied geography, is a key player in worldwide economic activities and diplomatic endeavors.',\n",
       "  0.51311576),\n",
       " ('Tajikistan, known for its rich cultural heritage and diverse landscapes, plays a crucial role in the global community through its economic contributions and diplomatic relations.',\n",
       "  0.51188195),\n",
       " ('Recognized for its diverse terrains and cultural wealth, Belize actively participates in global economic exchanges and diplomacy.',\n",
       "  0.51136994),\n",
       " ('Recognized for its diverse terrains and cultural wealth, Montserrat actively participates in global economic exchanges and diplomacy.',\n",
       "  0.51045287),\n",
       " ('South Africa, with its vibrant cultural history and varied geography, is a key player in worldwide economic activities and diplomatic endeavors.',\n",
       "  0.5101013),\n",
       " ('Renowned for its diverse landscapes and rich cultural traditions, Dominican Republic significantly contributes to the global economy and international diplomacy.',\n",
       "  0.50987434),\n",
       " ('Country South Georgia and the South Sandwich Islands, distinguished by its cultural variety and broad-ranging landscapes, is an essential contributor to the international economy and diplomacy.',\n",
       "  0.509392),\n",
       " ('Marshall Islands, with its vibrant cultural history and varied geography, is a key player in worldwide economic activities and diplomatic endeavors.',\n",
       "  0.5064863),\n",
       " ('Country Saint Lucia, distinguished by its cultural variety and broad-ranging landscapes, is an essential contributor to the international economy and diplomacy.',\n",
       "  0.50619483),\n",
       " ('Chile, with its vibrant cultural history and varied geography, is a key player in worldwide economic activities and diplomatic endeavors.',\n",
       "  0.5025191),\n",
       " ('Slovakia, celebrated for its cultural richness and geographical diversity, has an impactful role in global commerce and international diplomatic affairs.',\n",
       "  0.50179607),\n",
       " ('Lithuania, celebrated for its cultural richness and geographical diversity, has an impactful role in global commerce and international diplomatic affairs.',\n",
       "  0.50149685),\n",
       " ('Uruguay, with its vibrant cultural history and varied geography, is a key player in worldwide economic activities and diplomatic endeavors.',\n",
       "  0.5012717),\n",
       " ('Tunisia, with its vibrant cultural history and varied geography, is a key player in worldwide economic activities and diplomatic endeavors.',\n",
       "  0.50107473),\n",
       " ('Kyrgyzstan, celebrated for its cultural richness and geographical diversity, has an impactful role in global commerce and international diplomatic affairs.',\n",
       "  0.5002494),\n",
       " ('Bolivia, Plurinational State of, known for its rich cultural heritage and diverse landscapes, plays a crucial role in the global community through its economic contributions and diplomatic relations.',\n",
       "  0.49999276),\n",
       " ('El Salvador, celebrated for its cultural richness and geographical diversity, has an impactful role in global commerce and international diplomatic affairs.',\n",
       "  0.49921995),\n",
       " ('Lebanon, with its vibrant cultural history and varied geography, is a key player in worldwide economic activities and diplomatic endeavors.',\n",
       "  0.49917823),\n",
       " ('Viet Nam, known for its rich cultural heritage and diverse landscapes, plays a crucial role in the global community through its economic contributions and diplomatic relations.',\n",
       "  0.4991727),\n",
       " ('San Marino, with its vibrant cultural history and varied geography, is a key player in worldwide economic activities and diplomatic endeavors.',\n",
       "  0.49851218),\n",
       " ('Russian Federation, known for its rich cultural heritage and diverse landscapes, plays a crucial role in the global community through its economic contributions and diplomatic relations.',\n",
       "  0.49799097),\n",
       " ('Renowned for its diverse landscapes and rich cultural traditions, Mayotte significantly contributes to the global economy and international diplomacy.',\n",
       "  0.49672398),\n",
       " ('Armenia, celebrated for its cultural richness and geographical diversity, has an impactful role in global commerce and international diplomatic affairs.',\n",
       "  0.4962883),\n",
       " ('Mongolia, with its vibrant cultural history and varied geography, is a key player in worldwide economic activities and diplomatic endeavors.',\n",
       "  0.49609727),\n",
       " (\"Recognized for its diverse terrains and cultural wealth, Côte d'Ivoire actively participates in global economic exchanges and diplomacy.\",\n",
       "  0.49396414),\n",
       " ('Burundi, with its vibrant cultural history and varied geography, is a key player in worldwide economic activities and diplomatic endeavors.',\n",
       "  0.4919541),\n",
       " ('Renowned for its diverse landscapes and rich cultural traditions, United States Minor Outlying Islands significantly contributes to the global economy and international diplomacy.',\n",
       "  0.4918796),\n",
       " ('Guinea, with its vibrant cultural history and varied geography, is a key player in worldwide economic activities and diplomatic endeavors.',\n",
       "  0.4915625),\n",
       " ('Recognized for its diverse terrains and cultural wealth, Namibia actively participates in global economic exchanges and diplomacy.',\n",
       "  0.49123815),\n",
       " ('New Zealand, known for its rich cultural heritage and diverse landscapes, plays a crucial role in the global community through its economic contributions and diplomatic relations.',\n",
       "  0.4900008),\n",
       " ('Estonia, celebrated for its cultural richness and geographical diversity, has an impactful role in global commerce and international diplomatic affairs.',\n",
       "  0.48899347),\n",
       " ('Renowned for its diverse landscapes and rich cultural traditions, Curaçao significantly contributes to the global economy and international diplomacy.',\n",
       "  0.48767808),\n",
       " ('Gambia, with its vibrant cultural history and varied geography, is a key player in worldwide economic activities and diplomatic endeavors.',\n",
       "  0.48760074),\n",
       " ('Recognized for its diverse terrains and cultural wealth, Zimbabwe actively participates in global economic exchanges and diplomacy.',\n",
       "  0.4873585),\n",
       " ('Recognized for its diverse terrains and cultural wealth, Mali actively participates in global economic exchanges and diplomacy.',\n",
       "  0.48634297),\n",
       " ('Ghana, with its vibrant cultural history and varied geography, is a key player in worldwide economic activities and diplomatic endeavors.',\n",
       "  0.48538482),\n",
       " ('Monaco, celebrated for its cultural richness and geographical diversity, has an impactful role in global commerce and international diplomatic affairs.',\n",
       "  0.48521316),\n",
       " ('Botswana, with its vibrant cultural history and varied geography, is a key player in worldwide economic activities and diplomatic endeavors.',\n",
       "  0.48505872),\n",
       " ('Åland Islands, known for its rich cultural heritage and diverse landscapes, plays a crucial role in the global community through its economic contributions and diplomatic relations.',\n",
       "  0.4847082),\n",
       " ('Niue, known for its rich cultural heritage and diverse landscapes, plays a crucial role in the global community through its economic contributions and diplomatic relations.',\n",
       "  0.48365888),\n",
       " ('Mozambique, with its vibrant cultural history and varied geography, is a key player in worldwide economic activities and diplomatic endeavors.',\n",
       "  0.4822365),\n",
       " ('Bermuda, with its vibrant cultural history and varied geography, is a key player in worldwide economic activities and diplomatic endeavors.',\n",
       "  0.47974157),\n",
       " ('Recognized for its diverse terrains and cultural wealth, Libya actively participates in global economic exchanges and diplomacy.',\n",
       "  0.47909594),\n",
       " ('Recognized for its diverse terrains and cultural wealth, Solomon Islands actively participates in global economic exchanges and diplomacy.',\n",
       "  0.47874242),\n",
       " ('Panama, with its vibrant cultural history and varied geography, is a key player in worldwide economic activities and diplomatic endeavors.',\n",
       "  0.4767086),\n",
       " ('Renowned for its diverse landscapes and rich cultural traditions, Isle of Man significantly contributes to the global economy and international diplomacy.',\n",
       "  0.47617602),\n",
       " ('Vanuatu, celebrated for its cultural richness and geographical diversity, has an impactful role in global commerce and international diplomatic affairs.',\n",
       "  0.4761677),\n",
       " ('Norfolk Island, known for its rich cultural heritage and diverse landscapes, plays a crucial role in the global community through its economic contributions and diplomatic relations.',\n",
       "  0.47556543),\n",
       " ('Country Svalbard and Jan Mayen, distinguished by its cultural variety and broad-ranging landscapes, is an essential contributor to the international economy and diplomacy.',\n",
       "  0.47433415),\n",
       " ('Renowned for its diverse landscapes and rich cultural traditions, Trinidad and Tobago significantly contributes to the global economy and international diplomacy.',\n",
       "  0.47381118),\n",
       " ('Honduras, with its vibrant cultural history and varied geography, is a key player in worldwide economic activities and diplomatic endeavors.',\n",
       "  0.47375304),\n",
       " ('Recognized for its diverse terrains and cultural wealth, Niger actively participates in global economic exchanges and diplomacy.',\n",
       "  0.47200716),\n",
       " ('Country Saint Vincent and the Grenadines, distinguished by its cultural variety and broad-ranging landscapes, is an essential contributor to the international economy and diplomacy.',\n",
       "  0.47153044),\n",
       " ('Martinique, known for its rich cultural heritage and diverse landscapes, plays a crucial role in the global community through its economic contributions and diplomatic relations.',\n",
       "  0.47124022),\n",
       " ('Iran, Islamic Republic of, known for its rich cultural heritage and diverse landscapes, plays a crucial role in the global community through its economic contributions and diplomatic relations.',\n",
       "  0.4695891),\n",
       " ('Cambodia, known for its rich cultural heritage and diverse landscapes, plays a crucial role in the global community through its economic contributions and diplomatic relations.',\n",
       "  0.4694935),\n",
       " ('Central African Republic, with its vibrant cultural history and varied geography, is a key player in worldwide economic activities and diplomatic endeavors.',\n",
       "  0.4678696),\n",
       " ('Recognized for its diverse terrains and cultural wealth, Zambia actively participates in global economic exchanges and diplomacy.',\n",
       "  0.46742353),\n",
       " ('Turkmenistan, with its vibrant cultural history and varied geography, is a key player in worldwide economic activities and diplomatic endeavors.',\n",
       "  0.46689355),\n",
       " ('Thailand, with its vibrant cultural history and varied geography, is a key player in worldwide economic activities and diplomatic endeavors.',\n",
       "  0.4656896),\n",
       " ('Recognized for its diverse terrains and cultural wealth, Comoros actively participates in global economic exchanges and diplomacy.',\n",
       "  0.4656437),\n",
       " ('Czechia, with its vibrant cultural history and varied geography, is a key player in worldwide economic activities and diplomatic endeavors.',\n",
       "  0.46491233),\n",
       " ('Recognized for its diverse terrains and cultural wealth, Turks and Caicos Islands actively participates in global economic exchanges and diplomacy.',\n",
       "  0.46369433),\n",
       " ('Recognized for its diverse terrains and cultural wealth, Sierra Leone actively participates in global economic exchanges and diplomacy.',\n",
       "  0.46294767),\n",
       " ('Recognized for its diverse terrains and cultural wealth, Benin actively participates in global economic exchanges and diplomacy.',\n",
       "  0.46141285),\n",
       " ('Recognized for its diverse terrains and cultural wealth, French Polynesia actively participates in global economic exchanges and diplomacy.',\n",
       "  0.45978585),\n",
       " ('Venezuela, Bolivarian Republic of, known for its rich cultural heritage and diverse landscapes, plays a crucial role in the global community through its economic contributions and diplomatic relations.',\n",
       "  0.45977813),\n",
       " ('Egypt, celebrated for its cultural richness and geographical diversity, has an impactful role in global commerce and international diplomatic affairs.',\n",
       "  0.45918822),\n",
       " ('Cyprus, with its vibrant cultural history and varied geography, is a key player in worldwide economic activities and diplomatic endeavors.',\n",
       "  0.45892102),\n",
       " ('Recognized for its diverse terrains and cultural wealth, Réunion actively participates in global economic exchanges and diplomacy.',\n",
       "  0.45792264),\n",
       " ('Rwanda, celebrated for its cultural richness and geographical diversity, has an impactful role in global commerce and international diplomatic affairs.',\n",
       "  0.45664078),\n",
       " ('Saudi Arabia, with its vibrant cultural history and varied geography, is a key player in worldwide economic activities and diplomatic endeavors.',\n",
       "  0.456179),\n",
       " ('Country Saint Helena, Ascension and Tristan da Cunha, distinguished by its cultural variety and broad-ranging landscapes, is an essential contributor to the international economy and diplomacy.',\n",
       "  0.4557414),\n",
       " ('Northern Mariana Islands, with its vibrant cultural history and varied geography, is a key player in worldwide economic activities and diplomatic endeavors.',\n",
       "  0.45547807),\n",
       " ('Saint Martin (French part), known for its rich cultural heritage and diverse landscapes, plays a crucial role in the global community through its economic contributions and diplomatic relations.',\n",
       "  0.45440072),\n",
       " ('Bhutan, celebrated for its cultural richness and geographical diversity, has an impactful role in global commerce and international diplomatic affairs.',\n",
       "  0.45199728),\n",
       " ('New Caledonia, known for its rich cultural heritage and diverse landscapes, plays a crucial role in the global community through its economic contributions and diplomatic relations.',\n",
       "  0.45159152),\n",
       " ('Guam, with its vibrant cultural history and varied geography, is a key player in worldwide economic activities and diplomatic endeavors.',\n",
       "  0.45116746),\n",
       " ('Chad, celebrated for its cultural richness and geographical diversity, has an impactful role in global commerce and international diplomatic affairs.',\n",
       "  0.4509306),\n",
       " ('Puerto Rico, with its vibrant cultural history and varied geography, is a key player in worldwide economic activities and diplomatic endeavors.',\n",
       "  0.45058072),\n",
       " ('Angola, celebrated for its cultural richness and geographical diversity, has an impactful role in global commerce and international diplomatic affairs.',\n",
       "  0.44889116),\n",
       " ('Ecuador, celebrated for its cultural richness and geographical diversity, has an impactful role in global commerce and international diplomatic affairs.',\n",
       "  0.44878513),\n",
       " ('Philippines, known for its rich cultural heritage and diverse landscapes, plays a crucial role in the global community through its economic contributions and diplomatic relations.',\n",
       "  0.44776657),\n",
       " ('Uzbekistan, with its vibrant cultural history and varied geography, is a key player in worldwide economic activities and diplomatic endeavors.',\n",
       "  0.44589508),\n",
       " ('Recognized for its diverse terrains and cultural wealth, Singapore actively participates in global economic exchanges and diplomacy.',\n",
       "  0.44400916),\n",
       " ('Nauru, known for its rich cultural heritage and diverse landscapes, plays a crucial role in the global community through its economic contributions and diplomatic relations.',\n",
       "  0.44271538),\n",
       " ('Guyana, known for its rich cultural heritage and diverse landscapes, plays a crucial role in the global community through its economic contributions and diplomatic relations.',\n",
       "  0.4410082),\n",
       " ('Recognized for its diverse terrains and cultural wealth, Brunei Darussalam actively participates in global economic exchanges and diplomacy.',\n",
       "  0.4406228),\n",
       " ('Indonesia, celebrated for its cultural richness and geographical diversity, has an impactful role in global commerce and international diplomatic affairs.',\n",
       "  0.4400741),\n",
       " ('Guadeloupe, celebrated for its cultural richness and geographical diversity, has an impactful role in global commerce and international diplomatic affairs.',\n",
       "  0.4322493),\n",
       " ('Burkina Faso, celebrated for its cultural richness and geographical diversity, has an impactful role in global commerce and international diplomatic affairs.',\n",
       "  0.43206578),\n",
       " ('Mauritius, celebrated for its cultural richness and geographical diversity, has an impactful role in global commerce and international diplomatic affairs.',\n",
       "  0.42825636),\n",
       " ('Bouvet Island, celebrated for its cultural richness and geographical diversity, has an impactful role in global commerce and international diplomatic affairs.',\n",
       "  0.42775986),\n",
       " ('Papua New Guinea, known for its rich cultural heritage and diverse landscapes, plays a crucial role in the global community through its economic contributions and diplomatic relations.',\n",
       "  0.42725274),\n",
       " ('Jamaica, with its vibrant cultural history and varied geography, is a key player in worldwide economic activities and diplomatic endeavors.',\n",
       "  0.42342812),\n",
       " ('Samoa, with its vibrant cultural history and varied geography, is a key player in worldwide economic activities and diplomatic endeavors.',\n",
       "  0.42066637),\n",
       " ('Madagascar, celebrated for its cultural richness and geographical diversity, has an impactful role in global commerce and international diplomatic affairs.',\n",
       "  0.4202375),\n",
       " ('Costa Rica, celebrated for its cultural richness and geographical diversity, has an impactful role in global commerce and international diplomatic affairs.',\n",
       "  0.41987237),\n",
       " ('Barbados, celebrated for its cultural richness and geographical diversity, has an impactful role in global commerce and international diplomatic affairs.',\n",
       "  0.4175834),\n",
       " ('Antigua and Barbuda, with its vibrant cultural history and varied geography, is a key player in worldwide economic activities and diplomatic endeavors.',\n",
       "  0.41570157),\n",
       " ('Heard Island and McDonald Islands, known for its rich cultural heritage and diverse landscapes, plays a crucial role in the global community through its economic contributions and diplomatic relations.',\n",
       "  0.41452402),\n",
       " ('Recognized for its diverse terrains and cultural wealth, Cayman Islands actively participates in global economic exchanges and diplomacy.',\n",
       "  0.41254503),\n",
       " ('Sri Lanka, with its vibrant cultural history and varied geography, is a key player in worldwide economic activities and diplomatic endeavors.',\n",
       "  0.41220546),\n",
       " ('Tanzania, United Republic of, celebrated for its cultural richness and geographical diversity, has an impactful role in global commerce and international diplomatic affairs.',\n",
       "  0.41094992),\n",
       " ('Recognized for its diverse terrains and cultural wealth, Tonga actively participates in global economic exchanges and diplomacy.',\n",
       "  0.409429),\n",
       " ('Timor-Leste, celebrated for its cultural richness and geographical diversity, has an impactful role in global commerce and international diplomatic affairs.',\n",
       "  0.4059777),\n",
       " ('Dominica, known for its rich cultural heritage and diverse landscapes, plays a crucial role in the global community through its economic contributions and diplomatic relations.',\n",
       "  0.40502724),\n",
       " ('Virgin Islands, British, celebrated for its cultural richness and geographical diversity, has an impactful role in global commerce and international diplomatic affairs.',\n",
       "  0.40357572),\n",
       " ('Renowned for its diverse landscapes and rich cultural traditions, Cabo Verde significantly contributes to the global economy and international diplomacy.',\n",
       "  0.40291202),\n",
       " ('Bahamas, celebrated for its cultural richness and geographical diversity, has an impactful role in global commerce and international diplomatic affairs.',\n",
       "  0.39717442),\n",
       " ('Saint Barthélemy, known for its rich cultural heritage and diverse landscapes, plays a crucial role in the global community through its economic contributions and diplomatic relations.',\n",
       "  0.39430338),\n",
       " ('Sao Tome and Principe, known for its rich cultural heritage and diverse landscapes, plays a crucial role in the global community through its economic contributions and diplomatic relations.',\n",
       "  0.39109898),\n",
       " ('American Samoa, celebrated for its cultural richness and geographical diversity, has an impactful role in global commerce and international diplomatic affairs.',\n",
       "  0.38828748),\n",
       " ('Faroe Islands, celebrated for its cultural richness and geographical diversity, has an impactful role in global commerce and international diplomatic affairs.',\n",
       "  0.3882432),\n",
       " ('Lesotho, celebrated for its cultural richness and geographical diversity, has an impactful role in global commerce and international diplomatic affairs.',\n",
       "  0.38572663),\n",
       " ('Kiribati, celebrated for its cultural richness and geographical diversity, has an impactful role in global commerce and international diplomatic affairs.',\n",
       "  0.375475),\n",
       " ('Saint Kitts and Nevis, known for its rich cultural heritage and diverse landscapes, plays a crucial role in the global community through its economic contributions and diplomatic relations.',\n",
       "  0.37317297),\n",
       " ('Virgin Islands, U.S., celebrated for its cultural richness and geographical diversity, has an impactful role in global commerce and international diplomatic affairs.',\n",
       "  0.3680072),\n",
       " ('Falkland Islands (Malvinas), known for its rich cultural heritage and diverse landscapes, plays a crucial role in the global community through its economic contributions and diplomatic relations.',\n",
       "  0.36324137),\n",
       " ('Tuvalu, celebrated for its cultural richness and geographical diversity, has an impactful role in global commerce and international diplomatic affairs.',\n",
       "  0.35062817),\n",
       " (\"Lao People's Democratic Republic, celebrated for its cultural richness and geographical diversity, has an impactful role in global commerce and international diplomatic affairs.\",\n",
       "  0.33367383),\n",
       " ('Cocos (Keeling) Islands, with its vibrant cultural history and varied geography, is a key player in worldwide economic activities and diplomatic endeavors.',\n",
       "  0.3027383),\n",
       " ('Bonaire, Sint Eustatius and Saba, celebrated for its cultural richness and geographical diversity, has an impactful role in global commerce and international diplomatic affairs.',\n",
       "  0.28250545)]"
      ]
     },
     "execution_count": 7,
     "metadata": {},
     "output_type": "execute_result"
    }
   ],
   "source": [
    "from sklearn.metrics.pairwise import cosine_similarity\n",
    "\n",
    "def get_similar_countries(input_country, country_embeddings_map):\n",
    "    input_embedding = country_embeddings_map[input_country]\n",
    "    similarities = []\n",
    "\n",
    "    for country, embedding in country_embeddings_map.items():\n",
    "        if country != input_country:\n",
    "            similarity = cosine_similarity([input_embedding], [embedding])[0][0]\n",
    "            similarities.append((country, similarity))\n",
    "\n",
    "    similarities.sort(key=lambda x: x[1], reverse=True)\n",
    "    return similarities\n",
    "\n",
    "# get_similar_countries('Spain',full_code_map)\n",
    "# get_similar_countries('Germany',full_code_map) # Brazil on top -> weird\n",
    "sample_country = 'Germany'\n",
    "get_similar_countries(get_instance(full_code_map.keys(), sample_country),full_code_map)\n"
   ]
  },
  {
   "cell_type": "code",
   "execution_count": 8,
   "id": "e6da22cb",
   "metadata": {},
   "outputs": [
    {
     "data": {
      "text/plain": [
       "[('Brazil', 0.75032216),\n",
       " ('Australia', 0.7128042),\n",
       " ('Hungary', 0.71068054),\n",
       " ('France', 0.7105622),\n",
       " ('Italy', 0.69976276),\n",
       " ('Argentina', 0.69256616),\n",
       " ('China', 0.687817),\n",
       " ('Switzerland', 0.68304527),\n",
       " ('Austria', 0.67751396),\n",
       " ('Poland', 0.66641295),\n",
       " ('Uruguay', 0.6624242),\n",
       " ('Japan', 0.65905976),\n",
       " ('India', 0.6556002),\n",
       " ('Serbia', 0.65311265),\n",
       " ('Spain', 0.6506178),\n",
       " ('Portugal', 0.64499927),\n",
       " ('Netherlands', 0.6447237),\n",
       " ('Israel', 0.64160764),\n",
       " ('Sweden', 0.6405072),\n",
       " ('United Kingdom', 0.63577926),\n",
       " ('Canada', 0.63351154),\n",
       " ('Mexico', 0.6318016),\n",
       " ('Croatia', 0.629905),\n",
       " ('Ukraine', 0.62434936),\n",
       " ('Colombia', 0.61816466),\n",
       " ('South Africa', 0.6141968),\n",
       " ('Belgium', 0.6095685),\n",
       " ('Slovenia', 0.6005312),\n",
       " ('Bulgaria', 0.6001044),\n",
       " ('Montenegro', 0.5933814),\n",
       " ('Ireland', 0.5933198),\n",
       " ('Saudi Arabia', 0.5897949),\n",
       " ('Slovakia', 0.5895902),\n",
       " ('El Salvador', 0.5849655),\n",
       " ('Norway', 0.5839568),\n",
       " ('Denmark', 0.5823003),\n",
       " ('Bosnia and Herzegovina', 0.5803698),\n",
       " ('Greece', 0.58033013),\n",
       " ('Iraq', 0.57887495),\n",
       " ('Belarus', 0.5724015),\n",
       " ('Tunisia', 0.5684028),\n",
       " ('Gabon', 0.5682167),\n",
       " ('Ecuador', 0.56746846),\n",
       " ('Malaysia', 0.5653016),\n",
       " ('United States', 0.56238127),\n",
       " ('Lithuania', 0.56213844),\n",
       " ('Somalia', 0.557482),\n",
       " ('Pakistan', 0.5542002),\n",
       " ('Kazakhstan', 0.5528743),\n",
       " ('Qatar', 0.551972),\n",
       " ('Paraguay', 0.5508255),\n",
       " ('Ghana', 0.5488034),\n",
       " ('Liechtenstein', 0.545941),\n",
       " ('Egypt', 0.5431661),\n",
       " ('Turkey', 0.5423226),\n",
       " ('Finland', 0.5391774),\n",
       " ('European Union', 0.534226),\n",
       " ('Afghanistan', 0.5319033),\n",
       " ('Ethiopia', 0.53128195),\n",
       " ('Mongolia', 0.5311955),\n",
       " ('Yemen', 0.53026795),\n",
       " ('Iceland', 0.52904993),\n",
       " ('Togo', 0.5210475),\n",
       " ('Morocco', 0.5179135),\n",
       " ('Algeria', 0.51715666),\n",
       " ('Guinea-Bissau', 0.5149652),\n",
       " ('Azerbaijan', 0.513546),\n",
       " ('Trinidad and Tobago', 0.5131967),\n",
       " ('Gibraltar', 0.50888824),\n",
       " ('Chile', 0.5051981),\n",
       " ('Bangladesh', 0.5048398),\n",
       " ('Georgia', 0.504324),\n",
       " ('Latvia', 0.5033299),\n",
       " ('Zimbabwe', 0.50315225),\n",
       " ('Cuba', 0.5011095),\n",
       " ('Hong Kong', 0.5000499),\n",
       " ('Cameroon', 0.49989673),\n",
       " ('Korea, Republic of', 0.4988523),\n",
       " ('Lebanon', 0.4970314),\n",
       " ('Puerto Rico', 0.49691045),\n",
       " ('Guatemala', 0.49324822),\n",
       " ('Senegal', 0.49188352),\n",
       " ('New Zealand', 0.4918547),\n",
       " ('San Marino', 0.49067032),\n",
       " ('Thailand', 0.48549265),\n",
       " ('Luxembourg', 0.48491627),\n",
       " ('Liberia', 0.48396486),\n",
       " ('Botswana', 0.4795918),\n",
       " ('Kyrgyzstan', 0.47886494),\n",
       " ('Albania', 0.47758707),\n",
       " ('Bahrain', 0.47498837),\n",
       " ('Moldova, Republic of', 0.47479936),\n",
       " ('Uganda', 0.4731478),\n",
       " ('Libya', 0.47275335),\n",
       " ('Central African Republic', 0.4676488),\n",
       " ('Philippines', 0.46474633),\n",
       " ('Kenya', 0.46158558),\n",
       " ('United Arab Emirates', 0.46004978),\n",
       " ('Czechia', 0.4581226),\n",
       " ('Mozambique', 0.4527598),\n",
       " ('Estonia', 0.45162868),\n",
       " ('Angola', 0.45159692),\n",
       " ('Sri Lanka', 0.4498924),\n",
       " ('Romania', 0.44132218),\n",
       " ('Namibia', 0.4403304),\n",
       " ('Mali', 0.43954957),\n",
       " ('Tanzania, United Republic of', 0.43941683),\n",
       " ('Taiwan, Province of China', 0.43905914),\n",
       " ('Dominican Republic', 0.4366542),\n",
       " ('Armenia', 0.43173012),\n",
       " ('Congo', 0.43145075),\n",
       " ('Nigeria', 0.43101397),\n",
       " ('Indonesia', 0.4305176),\n",
       " ('Monaco', 0.42935738),\n",
       " ('Turkmenistan', 0.427064),\n",
       " ('Costa Rica', 0.42637348),\n",
       " ('Mauritania', 0.42473257),\n",
       " ('Haiti', 0.42332894),\n",
       " ('North Macedonia', 0.42318255),\n",
       " ('Myanmar', 0.4204651),\n",
       " ('Malta', 0.42046142),\n",
       " ('Andorra', 0.4197086),\n",
       " ('Congo, The Democratic Republic of the', 0.41665563),\n",
       " ('Benin', 0.41123697),\n",
       " ('Bhutan', 0.4111952),\n",
       " ('Fiji', 0.40946713),\n",
       " ('Peru', 0.40829515),\n",
       " ('Antarctica', 0.40776962),\n",
       " ('Jordan', 0.4036987),\n",
       " ('South Sudan', 0.40362114),\n",
       " ('Oman', 0.4031838),\n",
       " ('Nepal', 0.40294325),\n",
       " ('Kuwait', 0.4022246),\n",
       " ('Burkina Faso', 0.4021374),\n",
       " ('Nicaragua', 0.4019793),\n",
       " ('Singapore', 0.4005947),\n",
       " (\"Côte d'Ivoire\", 0.400545),\n",
       " ('Guinea', 0.39989832),\n",
       " ('Rwanda', 0.3997494),\n",
       " ('Cambodia', 0.3990315),\n",
       " ('Sudan', 0.3985647),\n",
       " ('Burundi', 0.39541277),\n",
       " ('Cyprus', 0.39500237),\n",
       " ('Honduras', 0.3924828),\n",
       " ('Panama', 0.39230356),\n",
       " ('Uzbekistan', 0.39098543),\n",
       " ('Palestine, State of', 0.38960728),\n",
       " ('Niger', 0.38742483),\n",
       " ('Malawi', 0.38653186),\n",
       " ('Virgin Islands, British', 0.38542113),\n",
       " ('Belize', 0.38433713),\n",
       " ('Jersey', 0.38242832),\n",
       " ('Gambia', 0.38130796),\n",
       " ('Vanuatu', 0.38041836),\n",
       " ('Guernsey', 0.38033247),\n",
       " ('Syrian Arab Republic', 0.3803163),\n",
       " ('Western Sahara', 0.38010645),\n",
       " ('Iran, Islamic Republic of', 0.3798874),\n",
       " ('Bahamas', 0.37899965),\n",
       " ('Venezuela, Bolivarian Republic of', 0.37840593),\n",
       " ('Zambia', 0.37830502),\n",
       " ('French Guiana', 0.37695116),\n",
       " ('Lesotho', 0.3767214),\n",
       " ('Seychelles', 0.37595117),\n",
       " ('Jamaica', 0.37269294),\n",
       " ('Greenland', 0.36873242),\n",
       " ('Barbados', 0.3637213),\n",
       " ('Mauritius', 0.362822),\n",
       " ('American Samoa', 0.36255217),\n",
       " (\"Korea, Democratic People's Republic of\", 0.3621173),\n",
       " ('Equatorial Guinea', 0.36021286),\n",
       " ('Samoa', 0.3595274),\n",
       " ('Madagascar', 0.35645792),\n",
       " ('Viet Nam', 0.354792),\n",
       " ('Sierra Leone', 0.35326916),\n",
       " ('French Southern Territories', 0.3476695),\n",
       " ('Guadeloupe', 0.3464101),\n",
       " ('Russian Federation', 0.34277996),\n",
       " ('Maldives', 0.3361126),\n",
       " ('Brunei Darussalam', 0.33565354),\n",
       " ('Suriname', 0.33234298),\n",
       " ('Tajikistan', 0.3297344),\n",
       " ('Holy See (Vatican City State)', 0.32950687),\n",
       " ('Eritrea', 0.328995),\n",
       " ('Guam', 0.32829878),\n",
       " ('Bermuda', 0.32552737),\n",
       " ('Antigua and Barbuda', 0.32192227),\n",
       " ('Tokelau', 0.31305546),\n",
       " ('Aruba', 0.30721638),\n",
       " ('Virgin Islands, U.S.', 0.30609858),\n",
       " ('Solomon Islands', 0.30574483),\n",
       " ('Guyana', 0.30284235),\n",
       " ('Martinique', 0.29541117),\n",
       " ('Northern Mariana Islands', 0.2855808),\n",
       " ('Nauru', 0.2829153),\n",
       " ('Falkland Islands (Malvinas)', 0.2799424),\n",
       " ('Grenada', 0.27943683),\n",
       " ('Tonga', 0.2776516),\n",
       " ('Isle of Man', 0.27690208),\n",
       " ('Sint Maarten (Dutch part)', 0.2754578),\n",
       " ('Palau', 0.27322167),\n",
       " ('New Caledonia', 0.26591814),\n",
       " ('Turks and Caicos Islands', 0.26573968),\n",
       " ('Bolivia, Plurinational State of', 0.26359096),\n",
       " ('Timor-Leste', 0.26092938),\n",
       " ('Christmas Island', 0.257725),\n",
       " ('Dominica', 0.25463516),\n",
       " ('Cayman Islands', 0.2515753),\n",
       " ('Marshall Islands', 0.24620306),\n",
       " ('French Polynesia', 0.24273503),\n",
       " ('South Georgia and the South Sandwich Islands', 0.24144633),\n",
       " ('Saint Pierre and Miquelon', 0.23496637),\n",
       " ('Svalbard and Jan Mayen', 0.2339735),\n",
       " ('Micronesia, Federated States of', 0.2331273),\n",
       " ('Saint Martin (French part)', 0.22908035),\n",
       " ('Djibouti', 0.22840166),\n",
       " ('Saint Lucia', 0.22631809),\n",
       " ('Chad', 0.22616126),\n",
       " ('Papua New Guinea', 0.2247962),\n",
       " ('Eswatini', 0.22001371),\n",
       " ('British Indian Ocean Territory', 0.21772921),\n",
       " ('Comoros', 0.21412414),\n",
       " ('Anguilla', 0.21215938),\n",
       " ('Réunion', 0.21073426),\n",
       " ('Norfolk Island', 0.20786388),\n",
       " ('Åland Islands', 0.20784186),\n",
       " ('Montserrat', 0.20352235),\n",
       " ('Curaçao', 0.20193219),\n",
       " ('Pitcairn', 0.20105249),\n",
       " ('Saint Kitts and Nevis', 0.19100308),\n",
       " ('Macao', 0.18951418),\n",
       " ('Bouvet Island', 0.18812081),\n",
       " ('Faroe Islands', 0.1708278),\n",
       " ('Tuvalu', 0.16017674),\n",
       " ('Sao Tome and Principe', 0.1599319),\n",
       " ('Niue', 0.15907818),\n",
       " ('Kiribati', 0.14526899),\n",
       " ('Cook Islands', 0.14214809),\n",
       " ('Mayotte', 0.13321579),\n",
       " ('Bonaire, Sint Eustatius and Saba', 0.13188492),\n",
       " (\"Lao People's Democratic Republic\", 0.12942648),\n",
       " ('Heard Island and McDonald Islands', 0.12278319),\n",
       " ('Saint Vincent and the Grenadines', 0.11899626),\n",
       " ('Saint Barthélemy', 0.11746827),\n",
       " ('Wallis and Futuna', 0.10653873),\n",
       " ('Cabo Verde', 0.09853097),\n",
       " ('United States Minor Outlying Islands', 0.09276773),\n",
       " ('Cocos (Keeling) Islands', 0.08211484),\n",
       " ('Saint Helena, Ascension and Tristan da Cunha', 0.07226257)]"
      ]
     },
     "execution_count": 8,
     "metadata": {},
     "output_type": "execute_result"
    }
   ],
   "source": [
    "country_map = full_country_code_map()\n",
    "get_similar_countries(sample_country,country_map)\n",
    "# How to evaluate robustness??"
   ]
  },
  {
   "cell_type": "code",
   "execution_count": null,
   "id": "8d9686b6",
   "metadata": {},
   "outputs": [],
   "source": []
  }
 ],
 "metadata": {
  "kernelspec": {
   "display_name": "Python 3 (ipykernel)",
   "language": "python",
   "name": "python3"
  },
  "language_info": {
   "codemirror_mode": {
    "name": "ipython",
    "version": 3
   },
   "file_extension": ".py",
   "mimetype": "text/x-python",
   "name": "python",
   "nbconvert_exporter": "python",
   "pygments_lexer": "ipython3",
   "version": "3.9.16"
  }
 },
 "nbformat": 4,
 "nbformat_minor": 5
}
